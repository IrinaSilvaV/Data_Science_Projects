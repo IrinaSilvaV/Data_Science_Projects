{
 "cells": [
  {
   "cell_type": "markdown",
   "id": "0d631e15",
   "metadata": {},
   "source": [
    "# Выбор локации для скважины"
   ]
  },
  {
   "cell_type": "markdown",
   "id": "a9efc056",
   "metadata": {},
   "source": [
    "**Цель проекта** - выбор локации для новой скважины на основе данных из трёх регионов.\n"
   ]
  },
  {
   "cell_type": "markdown",
   "id": "bd573327",
   "metadata": {},
   "source": [
    "Построим модель машинного обучения, которая поможет определить регион, где добыча принесёт наибольшую прибыль. Проанализируем возможную прибыль и риски техникой *Bootstrap.*\n",
    "\n",
    "Шаги для выбора локации:\n",
    "\n",
    "- В избранном регионе ищут месторождения, для каждого определяют значения признаков;\n",
    "- Строят модель и оценивают объём запасов;\n",
    "- Выбирают месторождения с самым высокими оценками значений. Количество месторождений зависит от бюджета компании и стоимости разработки одной скважины;\n",
    "- Прибыль равна суммарной прибыли отобранных месторождений."
   ]
  },
  {
   "cell_type": "markdown",
   "id": "6b10140e",
   "metadata": {},
   "source": [
    "**Описание данных**"
   ]
  },
  {
   "cell_type": "markdown",
   "id": "9920c752",
   "metadata": {},
   "source": [
    "`id` — уникальный идентификатор скважины;<br>\n",
    "`f0, f1, f2` — три признака точек (неважно, что они означают, но сами признаки значимы);<br>\n",
    "`product` — объём запасов в скважине (тыс. баррелей)."
   ]
  },
  {
   "cell_type": "markdown",
   "id": "78a22a08",
   "metadata": {},
   "source": [
    "## Загрузка и подготовка данных"
   ]
  },
  {
   "cell_type": "code",
   "execution_count": 1,
   "id": "c1868d66",
   "metadata": {},
   "outputs": [],
   "source": [
    "import pandas as pd                     # импорт библиотек\n",
    "import numpy as np\n",
    "from sklearn.model_selection import train_test_split\n",
    "from sklearn.linear_model import LinearRegression\n",
    "from sklearn.metrics import accuracy_score, mean_squared_error, r2_score \n",
    "import sweetviz as sv\n",
    "import warnings\n",
    "warnings.filterwarnings('ignore')\n",
    "from scipy import stats as st"
   ]
  },
  {
   "cell_type": "code",
   "execution_count": 2,
   "id": "4530b21a",
   "metadata": {},
   "outputs": [],
   "source": [
    "try:\n",
    "    df0 = pd.read_csv('/datasets/geo_data_0.csv') # чтение файла с данными и сохранение в df0\n",
    "except:\n",
    "    df0 = pd.read_csv('C:\\\\Users\\\\User\\\\Downloads\\\\geo_data_0.csv')"
   ]
  },
  {
   "cell_type": "code",
   "execution_count": 3,
   "id": "cd92cee0",
   "metadata": {},
   "outputs": [],
   "source": [
    "try:\n",
    "    df1 = pd.read_csv('/datasets/geo_data_1.csv') # чтение файла с данными и сохранение в df1\n",
    "except:\n",
    "    df1 = pd.read_csv('C:\\\\Users\\\\User\\\\Downloads\\\\geo_data_1.csv')"
   ]
  },
  {
   "cell_type": "code",
   "execution_count": 4,
   "id": "0a2e576f",
   "metadata": {},
   "outputs": [],
   "source": [
    "try:\n",
    "    df2 = pd.read_csv('/datasets/geo_data_2.csv') # чтение файла с данными и сохранение в df2\n",
    "except:\n",
    "    df2 = pd.read_csv('C:\\\\Users\\\\User\\\\Downloads\\\\geo_data_2.csv')"
   ]
  },
  {
   "cell_type": "code",
   "execution_count": 5,
   "id": "969a053f",
   "metadata": {},
   "outputs": [
    {
     "data": {
      "text/html": [
       "<div>\n",
       "<style scoped>\n",
       "    .dataframe tbody tr th:only-of-type {\n",
       "        vertical-align: middle;\n",
       "    }\n",
       "\n",
       "    .dataframe tbody tr th {\n",
       "        vertical-align: top;\n",
       "    }\n",
       "\n",
       "    .dataframe thead th {\n",
       "        text-align: right;\n",
       "    }\n",
       "</style>\n",
       "<table border=\"1\" class=\"dataframe\">\n",
       "  <thead>\n",
       "    <tr style=\"text-align: right;\">\n",
       "      <th></th>\n",
       "      <th>id</th>\n",
       "      <th>f0</th>\n",
       "      <th>f1</th>\n",
       "      <th>f2</th>\n",
       "      <th>product</th>\n",
       "    </tr>\n",
       "  </thead>\n",
       "  <tbody>\n",
       "    <tr>\n",
       "      <th>0</th>\n",
       "      <td>txEyH</td>\n",
       "      <td>0.705745</td>\n",
       "      <td>-0.497823</td>\n",
       "      <td>1.221170</td>\n",
       "      <td>105.280062</td>\n",
       "    </tr>\n",
       "    <tr>\n",
       "      <th>1</th>\n",
       "      <td>2acmU</td>\n",
       "      <td>1.334711</td>\n",
       "      <td>-0.340164</td>\n",
       "      <td>4.365080</td>\n",
       "      <td>73.037750</td>\n",
       "    </tr>\n",
       "    <tr>\n",
       "      <th>2</th>\n",
       "      <td>409Wp</td>\n",
       "      <td>1.022732</td>\n",
       "      <td>0.151990</td>\n",
       "      <td>1.419926</td>\n",
       "      <td>85.265647</td>\n",
       "    </tr>\n",
       "    <tr>\n",
       "      <th>3</th>\n",
       "      <td>iJLyR</td>\n",
       "      <td>-0.032172</td>\n",
       "      <td>0.139033</td>\n",
       "      <td>2.978566</td>\n",
       "      <td>168.620776</td>\n",
       "    </tr>\n",
       "    <tr>\n",
       "      <th>4</th>\n",
       "      <td>Xdl7t</td>\n",
       "      <td>1.988431</td>\n",
       "      <td>0.155413</td>\n",
       "      <td>4.751769</td>\n",
       "      <td>154.036647</td>\n",
       "    </tr>\n",
       "    <tr>\n",
       "      <th>...</th>\n",
       "      <td>...</td>\n",
       "      <td>...</td>\n",
       "      <td>...</td>\n",
       "      <td>...</td>\n",
       "      <td>...</td>\n",
       "    </tr>\n",
       "    <tr>\n",
       "      <th>99995</th>\n",
       "      <td>DLsed</td>\n",
       "      <td>0.971957</td>\n",
       "      <td>0.370953</td>\n",
       "      <td>6.075346</td>\n",
       "      <td>110.744026</td>\n",
       "    </tr>\n",
       "    <tr>\n",
       "      <th>99996</th>\n",
       "      <td>QKivN</td>\n",
       "      <td>1.392429</td>\n",
       "      <td>-0.382606</td>\n",
       "      <td>1.273912</td>\n",
       "      <td>122.346843</td>\n",
       "    </tr>\n",
       "    <tr>\n",
       "      <th>99997</th>\n",
       "      <td>3rnvd</td>\n",
       "      <td>1.029585</td>\n",
       "      <td>0.018787</td>\n",
       "      <td>-1.348308</td>\n",
       "      <td>64.375443</td>\n",
       "    </tr>\n",
       "    <tr>\n",
       "      <th>99998</th>\n",
       "      <td>7kl59</td>\n",
       "      <td>0.998163</td>\n",
       "      <td>-0.528582</td>\n",
       "      <td>1.583869</td>\n",
       "      <td>74.040764</td>\n",
       "    </tr>\n",
       "    <tr>\n",
       "      <th>99999</th>\n",
       "      <td>1CWhH</td>\n",
       "      <td>1.764754</td>\n",
       "      <td>-0.266417</td>\n",
       "      <td>5.722849</td>\n",
       "      <td>149.633246</td>\n",
       "    </tr>\n",
       "  </tbody>\n",
       "</table>\n",
       "<p>100000 rows × 5 columns</p>\n",
       "</div>"
      ],
      "text/plain": [
       "          id        f0        f1        f2     product\n",
       "0      txEyH  0.705745 -0.497823  1.221170  105.280062\n",
       "1      2acmU  1.334711 -0.340164  4.365080   73.037750\n",
       "2      409Wp  1.022732  0.151990  1.419926   85.265647\n",
       "3      iJLyR -0.032172  0.139033  2.978566  168.620776\n",
       "4      Xdl7t  1.988431  0.155413  4.751769  154.036647\n",
       "...      ...       ...       ...       ...         ...\n",
       "99995  DLsed  0.971957  0.370953  6.075346  110.744026\n",
       "99996  QKivN  1.392429 -0.382606  1.273912  122.346843\n",
       "99997  3rnvd  1.029585  0.018787 -1.348308   64.375443\n",
       "99998  7kl59  0.998163 -0.528582  1.583869   74.040764\n",
       "99999  1CWhH  1.764754 -0.266417  5.722849  149.633246\n",
       "\n",
       "[100000 rows x 5 columns]"
      ]
     },
     "execution_count": 5,
     "metadata": {},
     "output_type": "execute_result"
    }
   ],
   "source": [
    "df0"
   ]
  },
  {
   "cell_type": "code",
   "execution_count": 6,
   "id": "7572a74e",
   "metadata": {},
   "outputs": [
    {
     "data": {
      "text/html": [
       "<div>\n",
       "<style scoped>\n",
       "    .dataframe tbody tr th:only-of-type {\n",
       "        vertical-align: middle;\n",
       "    }\n",
       "\n",
       "    .dataframe tbody tr th {\n",
       "        vertical-align: top;\n",
       "    }\n",
       "\n",
       "    .dataframe thead th {\n",
       "        text-align: right;\n",
       "    }\n",
       "</style>\n",
       "<table border=\"1\" class=\"dataframe\">\n",
       "  <thead>\n",
       "    <tr style=\"text-align: right;\">\n",
       "      <th></th>\n",
       "      <th>id</th>\n",
       "      <th>f0</th>\n",
       "      <th>f1</th>\n",
       "      <th>f2</th>\n",
       "      <th>product</th>\n",
       "    </tr>\n",
       "  </thead>\n",
       "  <tbody>\n",
       "    <tr>\n",
       "      <th>0</th>\n",
       "      <td>kBEdx</td>\n",
       "      <td>-15.001348</td>\n",
       "      <td>-8.276000</td>\n",
       "      <td>-0.005876</td>\n",
       "      <td>3.179103</td>\n",
       "    </tr>\n",
       "    <tr>\n",
       "      <th>1</th>\n",
       "      <td>62mP7</td>\n",
       "      <td>14.272088</td>\n",
       "      <td>-3.475083</td>\n",
       "      <td>0.999183</td>\n",
       "      <td>26.953261</td>\n",
       "    </tr>\n",
       "    <tr>\n",
       "      <th>2</th>\n",
       "      <td>vyE1P</td>\n",
       "      <td>6.263187</td>\n",
       "      <td>-5.948386</td>\n",
       "      <td>5.001160</td>\n",
       "      <td>134.766305</td>\n",
       "    </tr>\n",
       "    <tr>\n",
       "      <th>3</th>\n",
       "      <td>KcrkZ</td>\n",
       "      <td>-13.081196</td>\n",
       "      <td>-11.506057</td>\n",
       "      <td>4.999415</td>\n",
       "      <td>137.945408</td>\n",
       "    </tr>\n",
       "    <tr>\n",
       "      <th>4</th>\n",
       "      <td>AHL4O</td>\n",
       "      <td>12.702195</td>\n",
       "      <td>-8.147433</td>\n",
       "      <td>5.004363</td>\n",
       "      <td>134.766305</td>\n",
       "    </tr>\n",
       "    <tr>\n",
       "      <th>...</th>\n",
       "      <td>...</td>\n",
       "      <td>...</td>\n",
       "      <td>...</td>\n",
       "      <td>...</td>\n",
       "      <td>...</td>\n",
       "    </tr>\n",
       "    <tr>\n",
       "      <th>99995</th>\n",
       "      <td>QywKC</td>\n",
       "      <td>9.535637</td>\n",
       "      <td>-6.878139</td>\n",
       "      <td>1.998296</td>\n",
       "      <td>53.906522</td>\n",
       "    </tr>\n",
       "    <tr>\n",
       "      <th>99996</th>\n",
       "      <td>ptvty</td>\n",
       "      <td>-10.160631</td>\n",
       "      <td>-12.558096</td>\n",
       "      <td>5.005581</td>\n",
       "      <td>137.945408</td>\n",
       "    </tr>\n",
       "    <tr>\n",
       "      <th>99997</th>\n",
       "      <td>09gWa</td>\n",
       "      <td>-7.378891</td>\n",
       "      <td>-3.084104</td>\n",
       "      <td>4.998651</td>\n",
       "      <td>137.945408</td>\n",
       "    </tr>\n",
       "    <tr>\n",
       "      <th>99998</th>\n",
       "      <td>rqwUm</td>\n",
       "      <td>0.665714</td>\n",
       "      <td>-6.152593</td>\n",
       "      <td>1.000146</td>\n",
       "      <td>30.132364</td>\n",
       "    </tr>\n",
       "    <tr>\n",
       "      <th>99999</th>\n",
       "      <td>relB0</td>\n",
       "      <td>-3.426139</td>\n",
       "      <td>-7.794274</td>\n",
       "      <td>-0.003299</td>\n",
       "      <td>3.179103</td>\n",
       "    </tr>\n",
       "  </tbody>\n",
       "</table>\n",
       "<p>100000 rows × 5 columns</p>\n",
       "</div>"
      ],
      "text/plain": [
       "          id         f0         f1        f2     product\n",
       "0      kBEdx -15.001348  -8.276000 -0.005876    3.179103\n",
       "1      62mP7  14.272088  -3.475083  0.999183   26.953261\n",
       "2      vyE1P   6.263187  -5.948386  5.001160  134.766305\n",
       "3      KcrkZ -13.081196 -11.506057  4.999415  137.945408\n",
       "4      AHL4O  12.702195  -8.147433  5.004363  134.766305\n",
       "...      ...        ...        ...       ...         ...\n",
       "99995  QywKC   9.535637  -6.878139  1.998296   53.906522\n",
       "99996  ptvty -10.160631 -12.558096  5.005581  137.945408\n",
       "99997  09gWa  -7.378891  -3.084104  4.998651  137.945408\n",
       "99998  rqwUm   0.665714  -6.152593  1.000146   30.132364\n",
       "99999  relB0  -3.426139  -7.794274 -0.003299    3.179103\n",
       "\n",
       "[100000 rows x 5 columns]"
      ]
     },
     "execution_count": 6,
     "metadata": {},
     "output_type": "execute_result"
    }
   ],
   "source": [
    "df1"
   ]
  },
  {
   "cell_type": "code",
   "execution_count": 7,
   "id": "7913c0f5",
   "metadata": {},
   "outputs": [
    {
     "data": {
      "text/html": [
       "<div>\n",
       "<style scoped>\n",
       "    .dataframe tbody tr th:only-of-type {\n",
       "        vertical-align: middle;\n",
       "    }\n",
       "\n",
       "    .dataframe tbody tr th {\n",
       "        vertical-align: top;\n",
       "    }\n",
       "\n",
       "    .dataframe thead th {\n",
       "        text-align: right;\n",
       "    }\n",
       "</style>\n",
       "<table border=\"1\" class=\"dataframe\">\n",
       "  <thead>\n",
       "    <tr style=\"text-align: right;\">\n",
       "      <th></th>\n",
       "      <th>id</th>\n",
       "      <th>f0</th>\n",
       "      <th>f1</th>\n",
       "      <th>f2</th>\n",
       "      <th>product</th>\n",
       "    </tr>\n",
       "  </thead>\n",
       "  <tbody>\n",
       "    <tr>\n",
       "      <th>0</th>\n",
       "      <td>fwXo0</td>\n",
       "      <td>-1.146987</td>\n",
       "      <td>0.963328</td>\n",
       "      <td>-0.828965</td>\n",
       "      <td>27.758673</td>\n",
       "    </tr>\n",
       "    <tr>\n",
       "      <th>1</th>\n",
       "      <td>WJtFt</td>\n",
       "      <td>0.262778</td>\n",
       "      <td>0.269839</td>\n",
       "      <td>-2.530187</td>\n",
       "      <td>56.069697</td>\n",
       "    </tr>\n",
       "    <tr>\n",
       "      <th>2</th>\n",
       "      <td>ovLUW</td>\n",
       "      <td>0.194587</td>\n",
       "      <td>0.289035</td>\n",
       "      <td>-5.586433</td>\n",
       "      <td>62.871910</td>\n",
       "    </tr>\n",
       "    <tr>\n",
       "      <th>3</th>\n",
       "      <td>q6cA6</td>\n",
       "      <td>2.236060</td>\n",
       "      <td>-0.553760</td>\n",
       "      <td>0.930038</td>\n",
       "      <td>114.572842</td>\n",
       "    </tr>\n",
       "    <tr>\n",
       "      <th>4</th>\n",
       "      <td>WPMUX</td>\n",
       "      <td>-0.515993</td>\n",
       "      <td>1.716266</td>\n",
       "      <td>5.899011</td>\n",
       "      <td>149.600746</td>\n",
       "    </tr>\n",
       "    <tr>\n",
       "      <th>...</th>\n",
       "      <td>...</td>\n",
       "      <td>...</td>\n",
       "      <td>...</td>\n",
       "      <td>...</td>\n",
       "      <td>...</td>\n",
       "    </tr>\n",
       "    <tr>\n",
       "      <th>99995</th>\n",
       "      <td>4GxBu</td>\n",
       "      <td>-1.777037</td>\n",
       "      <td>1.125220</td>\n",
       "      <td>6.263374</td>\n",
       "      <td>172.327046</td>\n",
       "    </tr>\n",
       "    <tr>\n",
       "      <th>99996</th>\n",
       "      <td>YKFjq</td>\n",
       "      <td>-1.261523</td>\n",
       "      <td>-0.894828</td>\n",
       "      <td>2.524545</td>\n",
       "      <td>138.748846</td>\n",
       "    </tr>\n",
       "    <tr>\n",
       "      <th>99997</th>\n",
       "      <td>tKPY3</td>\n",
       "      <td>-1.199934</td>\n",
       "      <td>-2.957637</td>\n",
       "      <td>5.219411</td>\n",
       "      <td>157.080080</td>\n",
       "    </tr>\n",
       "    <tr>\n",
       "      <th>99998</th>\n",
       "      <td>nmxp2</td>\n",
       "      <td>-2.419896</td>\n",
       "      <td>2.417221</td>\n",
       "      <td>-5.548444</td>\n",
       "      <td>51.795253</td>\n",
       "    </tr>\n",
       "    <tr>\n",
       "      <th>99999</th>\n",
       "      <td>V9kWn</td>\n",
       "      <td>-2.551421</td>\n",
       "      <td>-2.025625</td>\n",
       "      <td>6.090891</td>\n",
       "      <td>102.775767</td>\n",
       "    </tr>\n",
       "  </tbody>\n",
       "</table>\n",
       "<p>100000 rows × 5 columns</p>\n",
       "</div>"
      ],
      "text/plain": [
       "          id        f0        f1        f2     product\n",
       "0      fwXo0 -1.146987  0.963328 -0.828965   27.758673\n",
       "1      WJtFt  0.262778  0.269839 -2.530187   56.069697\n",
       "2      ovLUW  0.194587  0.289035 -5.586433   62.871910\n",
       "3      q6cA6  2.236060 -0.553760  0.930038  114.572842\n",
       "4      WPMUX -0.515993  1.716266  5.899011  149.600746\n",
       "...      ...       ...       ...       ...         ...\n",
       "99995  4GxBu -1.777037  1.125220  6.263374  172.327046\n",
       "99996  YKFjq -1.261523 -0.894828  2.524545  138.748846\n",
       "99997  tKPY3 -1.199934 -2.957637  5.219411  157.080080\n",
       "99998  nmxp2 -2.419896  2.417221 -5.548444   51.795253\n",
       "99999  V9kWn -2.551421 -2.025625  6.090891  102.775767\n",
       "\n",
       "[100000 rows x 5 columns]"
      ]
     },
     "execution_count": 7,
     "metadata": {},
     "output_type": "execute_result"
    }
   ],
   "source": [
    "df2"
   ]
  },
  {
   "cell_type": "code",
   "execution_count": 8,
   "id": "6dc55db9",
   "metadata": {},
   "outputs": [],
   "source": [
    "df0.drop(['id'], axis = 1, inplace = True) # удаление колонки id в df0"
   ]
  },
  {
   "cell_type": "code",
   "execution_count": 9,
   "id": "9741b8a2",
   "metadata": {},
   "outputs": [],
   "source": [
    "df1.drop(['id'], axis = 1, inplace = True) # удаление колонки id в df1"
   ]
  },
  {
   "cell_type": "code",
   "execution_count": 10,
   "id": "11fe6202",
   "metadata": {},
   "outputs": [],
   "source": [
    "df2.drop(['id'], axis = 1, inplace = True) # удаление колонки id в df2 "
   ]
  },
  {
   "cell_type": "code",
   "execution_count": 11,
   "id": "c743fc72",
   "metadata": {},
   "outputs": [],
   "source": [
    "report0 = sv.analyze([df0 ,'DF0'])\n",
    "report0.show_html('common analysis.html')"
   ]
  },
  {
   "cell_type": "code",
   "execution_count": 12,
   "id": "54013042",
   "metadata": {},
   "outputs": [],
   "source": [
    "report1 = sv.analyze([df1 ,'DF1'])\n",
    "report1.show_html('common analysis.html')"
   ]
  },
  {
   "cell_type": "code",
   "execution_count": 13,
   "id": "1d0d6cc9",
   "metadata": {},
   "outputs": [],
   "source": [
    "report2 = sv.analyze([df2 ,'DF2'])\n",
    "report2.show_html('common analysis.html')"
   ]
  },
  {
   "cell_type": "markdown",
   "id": "8ccbb584",
   "metadata": {},
   "source": [
    "- Пропусков и дубликатов в данных нет. \n",
    "- Колонка id удалена, так как не нужна для обучения модели."
   ]
  },
  {
   "cell_type": "markdown",
   "id": "9d7940c5",
   "metadata": {},
   "source": [
    "## Обучение и проверка модели"
   ]
  },
  {
   "cell_type": "markdown",
   "id": "61897c90",
   "metadata": {},
   "source": [
    "#### Модель для первого региона"
   ]
  },
  {
   "cell_type": "code",
   "execution_count": 14,
   "id": "9b9438de",
   "metadata": {},
   "outputs": [],
   "source": [
    "df0_train, df0_valid = train_test_split(df0, test_size=0.25, random_state=12345)\n",
    "\n",
    "features_train = df0_train.drop(['product'], axis=1)     # признаки для обучающей выборки                        \n",
    "target_train = df0_train['product']                      # целевой признак для обучающей выборки   \n",
    "\n",
    "features_valid = df0_valid.drop(['product'], axis=1)     # признаки для валидационной выборки \n",
    "target_valid = df0_valid['product']                      # целевой признак для валидационной выборки "
   ]
  },
  {
   "cell_type": "code",
   "execution_count": 15,
   "id": "7a24f85d",
   "metadata": {},
   "outputs": [],
   "source": [
    "def mean_well (features_train, target_train, features_valid, target_valid):\n",
    "    model = LinearRegression().fit(features_train, target_train)\n",
    "    predictions = model.predict(features_valid)\n",
    "    rmse = mean_squared_error(target_valid, predictions)**0.5\n",
    "    mean = predictions.mean()\n",
    "    return print(\"Средний запас предсказанного сырья:\",mean, \"RMSE\", rmse)"
   ]
  },
  {
   "cell_type": "code",
   "execution_count": 16,
   "id": "4451dbf9",
   "metadata": {},
   "outputs": [],
   "source": [
    "model_df0 = LinearRegression().fit(features_train, target_train)  \n",
    "predictions_df0 = model_df0.predict(features_valid) # сохранение predictions_df0 для будущих расчетов"
   ]
  },
  {
   "cell_type": "code",
   "execution_count": 17,
   "id": "8ea52e41",
   "metadata": {},
   "outputs": [
    {
     "name": "stdout",
     "output_type": "stream",
     "text": [
      "Средний запас предсказанного сырья: 92.59256778438035 RMSE 37.5794217150813\n"
     ]
    }
   ],
   "source": [
    "mean_well(features_train, target_train, features_valid, target_valid)"
   ]
  },
  {
   "cell_type": "code",
   "execution_count": 18,
   "id": "52f3c533",
   "metadata": {},
   "outputs": [
    {
     "data": {
      "text/plain": [
       "92.49999999999974"
      ]
     },
     "execution_count": 18,
     "metadata": {},
     "output_type": "execute_result"
    }
   ],
   "source": [
    "df0['product'].mean()"
   ]
  },
  {
   "cell_type": "markdown",
   "id": "cb030746",
   "metadata": {},
   "source": [
    "#### Модель для второго региона"
   ]
  },
  {
   "cell_type": "code",
   "execution_count": 19,
   "id": "cd45b65d",
   "metadata": {},
   "outputs": [],
   "source": [
    "df1_train, df1_valid = train_test_split(df1, test_size=0.25, random_state=12345)\n",
    "\n",
    "features_train_df1 = df1_train.drop(['product'], axis=1)     # признаки для обучающей выборки                        \n",
    "target_train_df1 = df1_train['product']                      # целевой признак для обучающей выборки   \n",
    "\n",
    "features_valid_df1 = df1_valid.drop(['product'], axis=1)     # признаки для валидационной выборки \n",
    "target_valid_df1 = df1_valid['product']                      # целевой признак для валидационной выборки "
   ]
  },
  {
   "cell_type": "code",
   "execution_count": 20,
   "id": "893357b8",
   "metadata": {},
   "outputs": [],
   "source": [
    "model_df1 = LinearRegression().fit(features_train_df1, target_train_df1)\n",
    "predictions_df1 = model_df1.predict(features_valid_df1) # сохранение predictions_df1 для будущих расчетов"
   ]
  },
  {
   "cell_type": "code",
   "execution_count": 21,
   "id": "36d9a8e3",
   "metadata": {},
   "outputs": [
    {
     "name": "stdout",
     "output_type": "stream",
     "text": [
      "Средний запас предсказанного сырья: 68.72854689544602 RMSE 0.893099286775617\n"
     ]
    }
   ],
   "source": [
    "mean_well(features_train_df1, target_train_df1, features_valid_df1, target_valid_df1)"
   ]
  },
  {
   "cell_type": "code",
   "execution_count": 22,
   "id": "c10e7ae3",
   "metadata": {},
   "outputs": [
    {
     "data": {
      "text/plain": [
       "68.82500000002561"
      ]
     },
     "execution_count": 22,
     "metadata": {},
     "output_type": "execute_result"
    }
   ],
   "source": [
    "df1['product'].mean() # средний запас сырья в регионе 2"
   ]
  },
  {
   "cell_type": "markdown",
   "id": "f7ec0c1b",
   "metadata": {},
   "source": [
    "#### Модель для третьего региона"
   ]
  },
  {
   "cell_type": "code",
   "execution_count": 23,
   "id": "bd989f7d",
   "metadata": {},
   "outputs": [],
   "source": [
    "df2_train, df2_valid = train_test_split(df2, test_size=0.25, random_state=12345)\n",
    "\n",
    "features_train_df2 = df2_train.drop(['product'], axis=1)     # признаки для обучающей выборки                        \n",
    "target_train_df2 = df2_train['product']                      # целевой признак для обучающей выборки   \n",
    "\n",
    "features_valid_df2 = df2_valid.drop(['product'], axis=1)     # признаки для валидационной выборки \n",
    "target_valid_df2 = df2_valid['product']                      # целевой признак для валидационной выборки "
   ]
  },
  {
   "cell_type": "code",
   "execution_count": 24,
   "id": "83820fb2",
   "metadata": {},
   "outputs": [],
   "source": [
    "model_df2 = LinearRegression().fit(features_train_df2, target_train_df2)\n",
    "predictions_df2 = model_df2.predict(features_valid_df2) # сохранение predictions_df2 для будущих расчетов"
   ]
  },
  {
   "cell_type": "code",
   "execution_count": 25,
   "id": "ce732023",
   "metadata": {},
   "outputs": [
    {
     "name": "stdout",
     "output_type": "stream",
     "text": [
      "Средний запас предсказанного сырья: 94.96504596800489 RMSE 40.02970873393434\n"
     ]
    }
   ],
   "source": [
    "mean_well(features_train_df2, target_train_df2, features_valid_df2, target_valid_df2)"
   ]
  },
  {
   "cell_type": "code",
   "execution_count": 26,
   "id": "e268a036",
   "metadata": {},
   "outputs": [
    {
     "data": {
      "text/plain": [
       "95.00000000000041"
      ]
     },
     "execution_count": 26,
     "metadata": {},
     "output_type": "execute_result"
    }
   ],
   "source": [
    "df2['product'].mean()  # средний запас сырья в регионе 3"
   ]
  },
  {
   "cell_type": "markdown",
   "id": "ca8a4b0e",
   "metadata": {},
   "source": [
    "| Регионы    |  Средний запас сырья | Средний запас предсказанного сырья  |  RMSE | \n",
    "|:------------- |:---------------:| :------------- |:---------------:|\n",
    "| Регион 1     | 92.5                            | 92.59                     | 37.57        | \n",
    "| Регион 2     | 68                           | 68.72                     | 0.89        | \n",
    "| Регион 3     | 95                           | 94.96                    | 40.02        | "
   ]
  },
  {
   "cell_type": "markdown",
   "id": "5d370f10",
   "metadata": {},
   "source": [
    "- В регионе 1 средний запас предсказанного сырья: 92.59,  RMSE 37.57\n",
    "- В регионе 2 средний запас предсказанного сырья: 68.72,  RMSE 0.89\n",
    "- В регионе 3 средний запас предсказанного сырья: 94.96,  RMSE 40.02 <br>\n",
    "В регионах 1 и 3 средний запас предсказанного сырья достаточно высокий, но RMSE так же достаточно высок. Модель плохо предсказывает запас сырья. Для региона 2 модель лучше предсказывает запасы сырья, но средний запас предсказаного сырья в регионе 2 намного меньше, чем в регионах 1 и 3."
   ]
  },
  {
   "cell_type": "markdown",
   "id": "5e57ef92",
   "metadata": {},
   "source": [
    "## Подготовка к расчёту прибыли"
   ]
  },
  {
   "cell_type": "code",
   "execution_count": 27,
   "id": "31a566dd",
   "metadata": {},
   "outputs": [],
   "source": [
    "BUDGET = 10 ** 10   # сохранение значений в отдельные переменные\n",
    "INCOME = 450000\n",
    "WELLS = 500\n",
    "SELECTED_WELLS = 200"
   ]
  },
  {
   "cell_type": "code",
   "execution_count": 28,
   "id": "7cf8dd4d",
   "metadata": {},
   "outputs": [],
   "source": [
    "breakeven_point = BUDGET / (INCOME * 200)"
   ]
  },
  {
   "cell_type": "code",
   "execution_count": 29,
   "id": "85170bf3",
   "metadata": {},
   "outputs": [
    {
     "data": {
      "text/plain": [
       "111.11111111111111"
      ]
     },
     "execution_count": 29,
     "metadata": {},
     "output_type": "execute_result"
    }
   ],
   "source": [
    "breakeven_point # минимальный объем баррелей нефти для безубыточной разработки"
   ]
  },
  {
   "cell_type": "code",
   "execution_count": 30,
   "id": "0213231d",
   "metadata": {},
   "outputs": [
    {
     "name": "stdout",
     "output_type": "stream",
     "text": [
      "Средний запас в первом регионе 92.49999999999974\n",
      "Средний запас во втором регионе 68.82500000002561\n",
      "Средний запас в третьем регионе 95.00000000000041\n"
     ]
    }
   ],
   "source": [
    "print(\"Средний запас в первом регионе\", df0['product'].mean())\n",
    "print(\"Средний запас во втором регионе\", df1['product'].mean())\n",
    "print(\"Средний запас в третьем регионе\", df2['product'].mean())"
   ]
  },
  {
   "cell_type": "markdown",
   "id": "a9398954",
   "metadata": {},
   "source": [
    "Средний запас во всех регионах меньше, чем минимальный запас необходимый для безубыточной разработки."
   ]
  },
  {
   "cell_type": "markdown",
   "id": "dbdf51c7",
   "metadata": {},
   "source": [
    "## Расчёт прибыли и рисков "
   ]
  },
  {
   "cell_type": "code",
   "execution_count": 31,
   "id": "a15afa5f",
   "metadata": {},
   "outputs": [],
   "source": [
    "target_0 = pd.Series(target_valid).reset_index(drop=True)\n",
    "target_1 = pd.Series(target_valid_df1).reset_index(drop=True)\n",
    "target_2 = pd.Series(target_valid_df2).reset_index(drop=True)"
   ]
  },
  {
   "cell_type": "code",
   "execution_count": 32,
   "id": "a69696cb",
   "metadata": {},
   "outputs": [],
   "source": [
    "predict_0 = pd.Series(*predictions_df0.reshape(1,-1))\n",
    "predict_1 = pd.Series(*predictions_df1.reshape(1,-1))\n",
    "predict_2 = pd.Series(*predictions_df2.reshape(1,-1))"
   ]
  },
  {
   "cell_type": "code",
   "execution_count": 33,
   "id": "cece2269",
   "metadata": {},
   "outputs": [],
   "source": [
    "def revenue(target, predictions, selected_count):                    # функция для расчета прибыли\n",
    "    predictions_sorted = predictions.sort_values(ascending=False)\n",
    "    selected = target.loc[predictions_sorted.index][:selected_count]\n",
    "    \n",
    "    result = selected.sum() * INCOME - BUDGET\n",
    "    \n",
    "    return result"
   ]
  },
  {
   "cell_type": "code",
   "execution_count": 34,
   "id": "c6c367df",
   "metadata": {},
   "outputs": [
    {
     "data": {
      "text/plain": [
       "3320826043.1398506"
      ]
     },
     "execution_count": 34,
     "metadata": {},
     "output_type": "execute_result"
    }
   ],
   "source": [
    "revenue(target_0, predict_0, SELECTED_WELLS) # прибыль в регионе 1"
   ]
  },
  {
   "cell_type": "code",
   "execution_count": 35,
   "id": "8e15b9e7",
   "metadata": {},
   "outputs": [
    {
     "data": {
      "text/plain": [
       "2415086696.681511"
      ]
     },
     "execution_count": 35,
     "metadata": {},
     "output_type": "execute_result"
    }
   ],
   "source": [
    "revenue(target_1, predict_1, SELECTED_WELLS) # прибыль в регионе 2"
   ]
  },
  {
   "cell_type": "code",
   "execution_count": 36,
   "id": "b234423b",
   "metadata": {},
   "outputs": [
    {
     "data": {
      "text/plain": [
       "2710349963.5998325"
      ]
     },
     "execution_count": 36,
     "metadata": {},
     "output_type": "execute_result"
    }
   ],
   "source": [
    "revenue(target_2, predict_2, SELECTED_WELLS) # прибыль в регионе 3"
   ]
  },
  {
   "cell_type": "code",
   "execution_count": 37,
   "id": "6327b8e2",
   "metadata": {},
   "outputs": [],
   "source": [
    "state = np.random.RandomState(12345)\n",
    "def risks (target, predict, WELLS, SELECTED_WELLS):\n",
    "\n",
    "    values = []\n",
    "    for i in range(1000):\n",
    "        target_subsample = target.sample(n=WELLS, replace=True, random_state=state)\n",
    "        probs_subsample = predict[target_subsample.index]\n",
    "\n",
    "        values.append(revenue(target_subsample, probs_subsample, SELECTED_WELLS))\n",
    "\n",
    "    values = pd.Series(values)\n",
    "\n",
    "    mean = values.mean()\n",
    "    \n",
    "    lower = values.quantile(0.025)\n",
    "    upper = values.quantile(0.975)\n",
    "\n",
    "    loss_count = 0\n",
    "    for i in values :\n",
    "        if i < 0 :\n",
    "            loss_count += 1\n",
    "    loss_rate = loss_count / 1000 * 100  \n",
    "     \n",
    "    return print('Доверительный интервал, min: {:,.2f}'.format(lower),\n",
    "                 'Доверительный интервал, max: {:,.2f}'.format(upper),\n",
    "                 \"Средняя прибыль: {:,.2f}\".format(mean), \"Риск убытков, %\", loss_rate, sep=\"\\n\")"
   ]
  },
  {
   "cell_type": "code",
   "execution_count": 38,
   "id": "1e949869",
   "metadata": {},
   "outputs": [
    {
     "name": "stdout",
     "output_type": "stream",
     "text": [
      "Доверительный интервал, min: -102,090,094.84\n",
      "Доверительный интервал, max: 947,976,353.36\n",
      "Средняя прибыль: 425,938,526.91\n",
      "Риск убытков, %\n",
      "6.0\n"
     ]
    }
   ],
   "source": [
    "risks(target_0, predict_0, WELLS, SELECTED_WELLS)"
   ]
  },
  {
   "cell_type": "code",
   "execution_count": 39,
   "id": "4e153247",
   "metadata": {},
   "outputs": [
    {
     "name": "stdout",
     "output_type": "stream",
     "text": [
      "Доверительный интервал, min: 128,123,231.43\n",
      "Доверительный интервал, max: 953,612,982.07\n",
      "Средняя прибыль: 518,259,493.70\n",
      "Риск убытков, %\n",
      "0.3\n"
     ]
    }
   ],
   "source": [
    "risks(target_1, predict_1, WELLS, SELECTED_WELLS)"
   ]
  },
  {
   "cell_type": "code",
   "execution_count": 40,
   "id": "74a2df47",
   "metadata": {},
   "outputs": [
    {
     "name": "stdout",
     "output_type": "stream",
     "text": [
      "Доверительный интервал, min: -115,852,609.16\n",
      "Доверительный интервал, max: 989,629,939.84\n",
      "Средняя прибыль: 420,194,005.34\n",
      "Риск убытков, %\n",
      "6.2\n"
     ]
    }
   ],
   "source": [
    "risks(target_2, predict_2, WELLS, SELECTED_WELLS)"
   ]
  },
  {
   "cell_type": "markdown",
   "id": "bff93051",
   "metadata": {},
   "source": [
    "Самая высокая средняя прибыль 518 млн.руб. и самый низкий риск убытков 0,3% получается для региона 2. Рекомендую второй регион для разработки."
   ]
  }
 ],
 "metadata": {
  "kernelspec": {
   "display_name": "Python 3 (ipykernel)",
   "language": "python",
   "name": "python3"
  },
  "language_info": {
   "codemirror_mode": {
    "name": "ipython",
    "version": 3
   },
   "file_extension": ".py",
   "mimetype": "text/x-python",
   "name": "python",
   "nbconvert_exporter": "python",
   "pygments_lexer": "ipython3",
   "version": "3.9.12"
  },
  "toc": {
   "base_numbering": 1,
   "nav_menu": {},
   "number_sections": true,
   "sideBar": true,
   "skip_h1_title": false,
   "title_cell": "Table of Contents",
   "title_sidebar": "Contents",
   "toc_cell": false,
   "toc_position": {
    "height": "calc(100% - 180px)",
    "left": "10px",
    "top": "150px",
    "width": "341.319px"
   },
   "toc_section_display": true,
   "toc_window_display": true
  }
 },
 "nbformat": 4,
 "nbformat_minor": 5
}
