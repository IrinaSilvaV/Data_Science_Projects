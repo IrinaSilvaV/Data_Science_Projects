{
 "cells": [
  {
   "cell_type": "markdown",
   "id": "952d0fef",
   "metadata": {},
   "source": [
    "# Исследование данных о продажах игр"
   ]
  },
  {
   "cell_type": "markdown",
   "id": "7623140b",
   "metadata": {},
   "source": [
    "**Цель исследования** — выявить определяющие успешность игры закономерности, чтобы сделать ставку на потенциально популярный продукт и спланировать рекламные кампании."
   ]
  },
  {
   "cell_type": "markdown",
   "id": "4d8f1dbd",
   "metadata": {},
   "source": [
    "### Описание данных"
   ]
  },
  {
   "cell_type": "markdown",
   "id": "ddb6fb8c",
   "metadata": {},
   "source": [
    "`Name` — название игры<br>\n",
    "`Platform` — платформа<br>\n",
    "`Year_of_Release` — год выпуска<br>\n",
    "`Genre` — жанр игры<br>\n",
    "`NA_sales` — продажи в Северной Америке (миллионы проданных копий)<br>\n",
    "`EU_sales`— продажи в Европе (миллионы проданных копий)<br>\n",
    "`JP_sales` — продажи в Японии (миллионы проданных копий)<br>\n",
    "`Other_sales` — продажи в других странах (миллионы проданных копий)<br>\n",
    "`Critic_Score` — оценка критиков (максимум 100)<br>\n",
    "`User_Score` — оценка пользователей (максимум 10)<br>\n",
    "`Rating` — рейтинг от организации ESRB (англ. Entertainment Software Rating Board). Эта ассоциация определяет рейтинг компьютерных игр и присваивает им подходящую возрастную категорию."
   ]
  },
  {
   "cell_type": "code",
   "execution_count": 1,
   "id": "d2543caa",
   "metadata": {},
   "outputs": [],
   "source": [
    "import pandas as pd                     # импорт библиотек\n",
    "import numpy as np\n",
    "from scipy import stats as st\n",
    "import seaborn as sns\n",
    "from matplotlib import pyplot as plt"
   ]
  },
  {
   "cell_type": "code",
   "execution_count": 2,
   "id": "ffbc62f6",
   "metadata": {},
   "outputs": [],
   "source": [
    "try:\n",
    "    games = pd.read_csv('/datasets/games.csv') # чтение файла с данными и сохранение в games\n",
    "except:\n",
    "    games = pd.read_csv('C:\\\\Users\\\\User\\\\Downloads\\\\Games csv.csv')"
   ]
  },
  {
   "cell_type": "code",
   "execution_count": 3,
   "id": "cdd533c7",
   "metadata": {},
   "outputs": [
    {
     "data": {
      "text/html": [
       "<div>\n",
       "<style scoped>\n",
       "    .dataframe tbody tr th:only-of-type {\n",
       "        vertical-align: middle;\n",
       "    }\n",
       "\n",
       "    .dataframe tbody tr th {\n",
       "        vertical-align: top;\n",
       "    }\n",
       "\n",
       "    .dataframe thead th {\n",
       "        text-align: right;\n",
       "    }\n",
       "</style>\n",
       "<table border=\"1\" class=\"dataframe\">\n",
       "  <thead>\n",
       "    <tr style=\"text-align: right;\">\n",
       "      <th></th>\n",
       "      <th>Name</th>\n",
       "      <th>Platform</th>\n",
       "      <th>Year_of_Release</th>\n",
       "      <th>Genre</th>\n",
       "      <th>NA_sales</th>\n",
       "      <th>EU_sales</th>\n",
       "      <th>JP_sales</th>\n",
       "      <th>Other_sales</th>\n",
       "      <th>Critic_Score</th>\n",
       "      <th>User_Score</th>\n",
       "      <th>Rating</th>\n",
       "    </tr>\n",
       "  </thead>\n",
       "  <tbody>\n",
       "    <tr>\n",
       "      <th>0</th>\n",
       "      <td>Wii Sports</td>\n",
       "      <td>Wii</td>\n",
       "      <td>2006.0</td>\n",
       "      <td>Sports</td>\n",
       "      <td>41.36</td>\n",
       "      <td>28.96</td>\n",
       "      <td>3.77</td>\n",
       "      <td>8.45</td>\n",
       "      <td>76.0</td>\n",
       "      <td>8</td>\n",
       "      <td>E</td>\n",
       "    </tr>\n",
       "    <tr>\n",
       "      <th>1</th>\n",
       "      <td>Super Mario Bros.</td>\n",
       "      <td>NES</td>\n",
       "      <td>1985.0</td>\n",
       "      <td>Platform</td>\n",
       "      <td>29.08</td>\n",
       "      <td>3.58</td>\n",
       "      <td>6.81</td>\n",
       "      <td>0.77</td>\n",
       "      <td>NaN</td>\n",
       "      <td>NaN</td>\n",
       "      <td>NaN</td>\n",
       "    </tr>\n",
       "    <tr>\n",
       "      <th>2</th>\n",
       "      <td>Mario Kart Wii</td>\n",
       "      <td>Wii</td>\n",
       "      <td>2008.0</td>\n",
       "      <td>Racing</td>\n",
       "      <td>15.68</td>\n",
       "      <td>12.76</td>\n",
       "      <td>3.79</td>\n",
       "      <td>3.29</td>\n",
       "      <td>82.0</td>\n",
       "      <td>8.3</td>\n",
       "      <td>E</td>\n",
       "    </tr>\n",
       "    <tr>\n",
       "      <th>3</th>\n",
       "      <td>Wii Sports Resort</td>\n",
       "      <td>Wii</td>\n",
       "      <td>2009.0</td>\n",
       "      <td>Sports</td>\n",
       "      <td>15.61</td>\n",
       "      <td>10.93</td>\n",
       "      <td>3.28</td>\n",
       "      <td>2.95</td>\n",
       "      <td>80.0</td>\n",
       "      <td>8</td>\n",
       "      <td>E</td>\n",
       "    </tr>\n",
       "    <tr>\n",
       "      <th>4</th>\n",
       "      <td>Pokemon Red/Pokemon Blue</td>\n",
       "      <td>GB</td>\n",
       "      <td>1996.0</td>\n",
       "      <td>Role-Playing</td>\n",
       "      <td>11.27</td>\n",
       "      <td>8.89</td>\n",
       "      <td>10.22</td>\n",
       "      <td>1.00</td>\n",
       "      <td>NaN</td>\n",
       "      <td>NaN</td>\n",
       "      <td>NaN</td>\n",
       "    </tr>\n",
       "    <tr>\n",
       "      <th>...</th>\n",
       "      <td>...</td>\n",
       "      <td>...</td>\n",
       "      <td>...</td>\n",
       "      <td>...</td>\n",
       "      <td>...</td>\n",
       "      <td>...</td>\n",
       "      <td>...</td>\n",
       "      <td>...</td>\n",
       "      <td>...</td>\n",
       "      <td>...</td>\n",
       "      <td>...</td>\n",
       "    </tr>\n",
       "    <tr>\n",
       "      <th>16710</th>\n",
       "      <td>Samurai Warriors: Sanada Maru</td>\n",
       "      <td>PS3</td>\n",
       "      <td>2016.0</td>\n",
       "      <td>Action</td>\n",
       "      <td>0.00</td>\n",
       "      <td>0.00</td>\n",
       "      <td>0.01</td>\n",
       "      <td>0.00</td>\n",
       "      <td>NaN</td>\n",
       "      <td>NaN</td>\n",
       "      <td>NaN</td>\n",
       "    </tr>\n",
       "    <tr>\n",
       "      <th>16711</th>\n",
       "      <td>LMA Manager 2007</td>\n",
       "      <td>X360</td>\n",
       "      <td>2006.0</td>\n",
       "      <td>Sports</td>\n",
       "      <td>0.00</td>\n",
       "      <td>0.01</td>\n",
       "      <td>0.00</td>\n",
       "      <td>0.00</td>\n",
       "      <td>NaN</td>\n",
       "      <td>NaN</td>\n",
       "      <td>NaN</td>\n",
       "    </tr>\n",
       "    <tr>\n",
       "      <th>16712</th>\n",
       "      <td>Haitaka no Psychedelica</td>\n",
       "      <td>PSV</td>\n",
       "      <td>2016.0</td>\n",
       "      <td>Adventure</td>\n",
       "      <td>0.00</td>\n",
       "      <td>0.00</td>\n",
       "      <td>0.01</td>\n",
       "      <td>0.00</td>\n",
       "      <td>NaN</td>\n",
       "      <td>NaN</td>\n",
       "      <td>NaN</td>\n",
       "    </tr>\n",
       "    <tr>\n",
       "      <th>16713</th>\n",
       "      <td>Spirits &amp; Spells</td>\n",
       "      <td>GBA</td>\n",
       "      <td>2003.0</td>\n",
       "      <td>Platform</td>\n",
       "      <td>0.01</td>\n",
       "      <td>0.00</td>\n",
       "      <td>0.00</td>\n",
       "      <td>0.00</td>\n",
       "      <td>NaN</td>\n",
       "      <td>NaN</td>\n",
       "      <td>NaN</td>\n",
       "    </tr>\n",
       "    <tr>\n",
       "      <th>16714</th>\n",
       "      <td>Winning Post 8 2016</td>\n",
       "      <td>PSV</td>\n",
       "      <td>2016.0</td>\n",
       "      <td>Simulation</td>\n",
       "      <td>0.00</td>\n",
       "      <td>0.00</td>\n",
       "      <td>0.01</td>\n",
       "      <td>0.00</td>\n",
       "      <td>NaN</td>\n",
       "      <td>NaN</td>\n",
       "      <td>NaN</td>\n",
       "    </tr>\n",
       "  </tbody>\n",
       "</table>\n",
       "<p>16715 rows × 11 columns</p>\n",
       "</div>"
      ],
      "text/plain": [
       "                                Name Platform  Year_of_Release         Genre  \\\n",
       "0                         Wii Sports      Wii           2006.0        Sports   \n",
       "1                  Super Mario Bros.      NES           1985.0      Platform   \n",
       "2                     Mario Kart Wii      Wii           2008.0        Racing   \n",
       "3                  Wii Sports Resort      Wii           2009.0        Sports   \n",
       "4           Pokemon Red/Pokemon Blue       GB           1996.0  Role-Playing   \n",
       "...                              ...      ...              ...           ...   \n",
       "16710  Samurai Warriors: Sanada Maru      PS3           2016.0        Action   \n",
       "16711               LMA Manager 2007     X360           2006.0        Sports   \n",
       "16712        Haitaka no Psychedelica      PSV           2016.0     Adventure   \n",
       "16713               Spirits & Spells      GBA           2003.0      Platform   \n",
       "16714            Winning Post 8 2016      PSV           2016.0    Simulation   \n",
       "\n",
       "       NA_sales  EU_sales  JP_sales  Other_sales  Critic_Score User_Score  \\\n",
       "0         41.36     28.96      3.77         8.45          76.0          8   \n",
       "1         29.08      3.58      6.81         0.77           NaN        NaN   \n",
       "2         15.68     12.76      3.79         3.29          82.0        8.3   \n",
       "3         15.61     10.93      3.28         2.95          80.0          8   \n",
       "4         11.27      8.89     10.22         1.00           NaN        NaN   \n",
       "...         ...       ...       ...          ...           ...        ...   \n",
       "16710      0.00      0.00      0.01         0.00           NaN        NaN   \n",
       "16711      0.00      0.01      0.00         0.00           NaN        NaN   \n",
       "16712      0.00      0.00      0.01         0.00           NaN        NaN   \n",
       "16713      0.01      0.00      0.00         0.00           NaN        NaN   \n",
       "16714      0.00      0.00      0.01         0.00           NaN        NaN   \n",
       "\n",
       "      Rating  \n",
       "0          E  \n",
       "1        NaN  \n",
       "2          E  \n",
       "3          E  \n",
       "4        NaN  \n",
       "...      ...  \n",
       "16710    NaN  \n",
       "16711    NaN  \n",
       "16712    NaN  \n",
       "16713    NaN  \n",
       "16714    NaN  \n",
       "\n",
       "[16715 rows x 11 columns]"
      ]
     },
     "execution_count": 3,
     "metadata": {},
     "output_type": "execute_result"
    }
   ],
   "source": [
    "games"
   ]
  },
  {
   "cell_type": "code",
   "execution_count": 4,
   "id": "ac15587a",
   "metadata": {},
   "outputs": [
    {
     "name": "stdout",
     "output_type": "stream",
     "text": [
      "<class 'pandas.core.frame.DataFrame'>\n",
      "RangeIndex: 16715 entries, 0 to 16714\n",
      "Data columns (total 11 columns):\n",
      " #   Column           Non-Null Count  Dtype  \n",
      "---  ------           --------------  -----  \n",
      " 0   Name             16713 non-null  object \n",
      " 1   Platform         16715 non-null  object \n",
      " 2   Year_of_Release  16446 non-null  float64\n",
      " 3   Genre            16713 non-null  object \n",
      " 4   NA_sales         16715 non-null  float64\n",
      " 5   EU_sales         16715 non-null  float64\n",
      " 6   JP_sales         16715 non-null  float64\n",
      " 7   Other_sales      16715 non-null  float64\n",
      " 8   Critic_Score     8137 non-null   float64\n",
      " 9   User_Score       10014 non-null  object \n",
      " 10  Rating           9949 non-null   object \n",
      "dtypes: float64(6), object(5)\n",
      "memory usage: 1.4+ MB\n"
     ]
    }
   ],
   "source": [
    "games.info()"
   ]
  },
  {
   "cell_type": "markdown",
   "id": "4c6e6790",
   "metadata": {},
   "source": [
    "В таблице 16715 строк. Пропущенны значения в столбцах Name, Year_of_Release, Genre, User_Score, Rating. <br>\n",
    "Столбец Year_of_Release нужно привести к типу datetime,  User_Score к float.<br>\n",
    "Названия с столбцов необходимо привести к snake_case."
   ]
  },
  {
   "cell_type": "code",
   "execution_count": 5,
   "id": "43e94b36",
   "metadata": {},
   "outputs": [
    {
     "data": {
      "text/html": [
       "<style  type=\"text/css\" >\n",
       "#T_8b50c_row0_col0{\n",
       "            background-color:  #b40426;\n",
       "            color:  #f1f1f1;\n",
       "        }#T_8b50c_row1_col0{\n",
       "            background-color:  #f08a6c;\n",
       "            color:  #000000;\n",
       "        }#T_8b50c_row2_col0{\n",
       "            background-color:  #f18d6f;\n",
       "            color:  #000000;\n",
       "        }#T_8b50c_row3_col0{\n",
       "            background-color:  #445acc;\n",
       "            color:  #f1f1f1;\n",
       "        }#T_8b50c_row4_col0,#T_8b50c_row5_col0,#T_8b50c_row6_col0,#T_8b50c_row7_col0,#T_8b50c_row8_col0,#T_8b50c_row9_col0,#T_8b50c_row10_col0{\n",
       "            background-color:  #3b4cc0;\n",
       "            color:  #f1f1f1;\n",
       "        }</style><table id=\"T_8b50c_\" ><thead>    <tr>        <th class=\"blank level0\" ></th>        <th class=\"col_heading level0 col0\" >0</th>    </tr></thead><tbody>\n",
       "                <tr>\n",
       "                        <th id=\"T_8b50c_level0_row0\" class=\"row_heading level0 row0\" >Critic_Score</th>\n",
       "                        <td id=\"T_8b50c_row0_col0\" class=\"data row0 col0\" >51.320000</td>\n",
       "            </tr>\n",
       "            <tr>\n",
       "                        <th id=\"T_8b50c_level0_row1\" class=\"row_heading level0 row1\" >Rating</th>\n",
       "                        <td id=\"T_8b50c_row1_col0\" class=\"data row1 col0\" >40.480000</td>\n",
       "            </tr>\n",
       "            <tr>\n",
       "                        <th id=\"T_8b50c_level0_row2\" class=\"row_heading level0 row2\" >User_Score</th>\n",
       "                        <td id=\"T_8b50c_row2_col0\" class=\"data row2 col0\" >40.090000</td>\n",
       "            </tr>\n",
       "            <tr>\n",
       "                        <th id=\"T_8b50c_level0_row3\" class=\"row_heading level0 row3\" >Year_of_Release</th>\n",
       "                        <td id=\"T_8b50c_row3_col0\" class=\"data row3 col0\" >1.610000</td>\n",
       "            </tr>\n",
       "            <tr>\n",
       "                        <th id=\"T_8b50c_level0_row4\" class=\"row_heading level0 row4\" >Genre</th>\n",
       "                        <td id=\"T_8b50c_row4_col0\" class=\"data row4 col0\" >0.010000</td>\n",
       "            </tr>\n",
       "            <tr>\n",
       "                        <th id=\"T_8b50c_level0_row5\" class=\"row_heading level0 row5\" >Name</th>\n",
       "                        <td id=\"T_8b50c_row5_col0\" class=\"data row5 col0\" >0.010000</td>\n",
       "            </tr>\n",
       "            <tr>\n",
       "                        <th id=\"T_8b50c_level0_row6\" class=\"row_heading level0 row6\" >Other_sales</th>\n",
       "                        <td id=\"T_8b50c_row6_col0\" class=\"data row6 col0\" >0.000000</td>\n",
       "            </tr>\n",
       "            <tr>\n",
       "                        <th id=\"T_8b50c_level0_row7\" class=\"row_heading level0 row7\" >JP_sales</th>\n",
       "                        <td id=\"T_8b50c_row7_col0\" class=\"data row7 col0\" >0.000000</td>\n",
       "            </tr>\n",
       "            <tr>\n",
       "                        <th id=\"T_8b50c_level0_row8\" class=\"row_heading level0 row8\" >EU_sales</th>\n",
       "                        <td id=\"T_8b50c_row8_col0\" class=\"data row8 col0\" >0.000000</td>\n",
       "            </tr>\n",
       "            <tr>\n",
       "                        <th id=\"T_8b50c_level0_row9\" class=\"row_heading level0 row9\" >NA_sales</th>\n",
       "                        <td id=\"T_8b50c_row9_col0\" class=\"data row9 col0\" >0.000000</td>\n",
       "            </tr>\n",
       "            <tr>\n",
       "                        <th id=\"T_8b50c_level0_row10\" class=\"row_heading level0 row10\" >Platform</th>\n",
       "                        <td id=\"T_8b50c_row10_col0\" class=\"data row10 col0\" >0.000000</td>\n",
       "            </tr>\n",
       "    </tbody></table>"
      ],
      "text/plain": [
       "<pandas.io.formats.style.Styler at 0x7f9f415e1e50>"
      ]
     },
     "execution_count": 5,
     "metadata": {},
     "output_type": "execute_result"
    }
   ],
   "source": [
    "pd.DataFrame(games.isna().mean().round(4)*100).sort_values(by=0)[::-1].style.background_gradient('coolwarm')\n",
    "# процент пропущенных значений по столбцам"
   ]
  },
  {
   "cell_type": "code",
   "execution_count": 6,
   "id": "ae6fdd26",
   "metadata": {},
   "outputs": [],
   "source": [
    "games.columns = games.columns.str.lower()"
   ]
  },
  {
   "cell_type": "code",
   "execution_count": 7,
   "id": "bd241283",
   "metadata": {},
   "outputs": [
    {
     "data": {
      "text/html": [
       "<div>\n",
       "<style scoped>\n",
       "    .dataframe tbody tr th:only-of-type {\n",
       "        vertical-align: middle;\n",
       "    }\n",
       "\n",
       "    .dataframe tbody tr th {\n",
       "        vertical-align: top;\n",
       "    }\n",
       "\n",
       "    .dataframe thead th {\n",
       "        text-align: right;\n",
       "    }\n",
       "</style>\n",
       "<table border=\"1\" class=\"dataframe\">\n",
       "  <thead>\n",
       "    <tr style=\"text-align: right;\">\n",
       "      <th></th>\n",
       "      <th>name</th>\n",
       "      <th>platform</th>\n",
       "      <th>year_of_release</th>\n",
       "      <th>genre</th>\n",
       "      <th>na_sales</th>\n",
       "      <th>eu_sales</th>\n",
       "      <th>jp_sales</th>\n",
       "      <th>other_sales</th>\n",
       "      <th>critic_score</th>\n",
       "      <th>user_score</th>\n",
       "      <th>rating</th>\n",
       "    </tr>\n",
       "  </thead>\n",
       "  <tbody>\n",
       "    <tr>\n",
       "      <th>0</th>\n",
       "      <td>Wii Sports</td>\n",
       "      <td>Wii</td>\n",
       "      <td>2006.0</td>\n",
       "      <td>Sports</td>\n",
       "      <td>41.36</td>\n",
       "      <td>28.96</td>\n",
       "      <td>3.77</td>\n",
       "      <td>8.45</td>\n",
       "      <td>76.0</td>\n",
       "      <td>8</td>\n",
       "      <td>E</td>\n",
       "    </tr>\n",
       "  </tbody>\n",
       "</table>\n",
       "</div>"
      ],
      "text/plain": [
       "         name platform  year_of_release   genre  na_sales  eu_sales  jp_sales  \\\n",
       "0  Wii Sports      Wii           2006.0  Sports     41.36     28.96      3.77   \n",
       "\n",
       "   other_sales  critic_score user_score rating  \n",
       "0         8.45          76.0          8      E  "
      ]
     },
     "execution_count": 7,
     "metadata": {},
     "output_type": "execute_result"
    }
   ],
   "source": [
    "games.head(1)"
   ]
  },
  {
   "cell_type": "code",
   "execution_count": 8,
   "id": "29ecae82",
   "metadata": {},
   "outputs": [
    {
     "data": {
      "text/plain": [
       "0"
      ]
     },
     "execution_count": 8,
     "metadata": {},
     "output_type": "execute_result"
    }
   ],
   "source": [
    "games.duplicated().sum()   # проверка на отсутствие явных дубликатов"
   ]
  },
  {
   "cell_type": "markdown",
   "id": "1310c55e",
   "metadata": {},
   "source": [
    "### Обработка пропусков"
   ]
  },
  {
   "cell_type": "code",
   "execution_count": 9,
   "id": "31243e90",
   "metadata": {},
   "outputs": [],
   "source": [
    "games = games.dropna(subset=['year_of_release']) # удаляение строки с пропуском в year_of_release"
   ]
  },
  {
   "cell_type": "markdown",
   "id": "b81fe014",
   "metadata": {},
   "source": [
    "Аббревиатура tbd переводится как to be decided or to be determined. Используется когда что-то ещё не решено (будет определено позднее, уточняется).<br> В games 2376 строк с такой оценкой от пользователя. Предполагаю, tbd значит, что пользователь ещё не поставил игре оценку. Заменим их на Nan.<br> Считаю, что заполнять пропуски в столбцах critic_score, rating и user_score не нужно. Пропусков слишком много и \"придуманные\" данные сильно исказят картину. Заполним их специальными значениями.\n"
   ]
  },
  {
   "cell_type": "code",
   "execution_count": 10,
   "id": "d9fa6515",
   "metadata": {},
   "outputs": [],
   "source": [
    "import warnings\n",
    "warnings.filterwarnings(\"ignore\")"
   ]
  },
  {
   "cell_type": "code",
   "execution_count": 11,
   "id": "9916e66d",
   "metadata": {},
   "outputs": [],
   "source": [
    "games.loc[games['user_score'] == 'tbd','user_score'] = np.nan # замена tbd на nan"
   ]
  },
  {
   "cell_type": "code",
   "execution_count": 12,
   "id": "c2f667ca",
   "metadata": {},
   "outputs": [],
   "source": [
    "# Замена пропущенных значений специальными.Столбец rating имеет\n",
    "# тип данных object, поэтому его заменяем на no_rating тоже object.\n",
    "# в столбцах user_score и critic_score пропуски заменяем на -1.\n",
    "games['rating'] = games['rating'].fillna('no_rating') \n",
    "games['user_score'] = games['user_score'].fillna(-1) \n",
    "games['critic_score'] = games['critic_score'].fillna(-1)"
   ]
  },
  {
   "cell_type": "code",
   "execution_count": 13,
   "id": "9374ba1c",
   "metadata": {},
   "outputs": [],
   "source": [
    "games['year_of_release'] = games['year_of_release'].astype('int') # приведение данных с столбце \n",
    "                                                                  # year_of_release к типу int."
   ]
  },
  {
   "cell_type": "code",
   "execution_count": 14,
   "id": "2520f925",
   "metadata": {},
   "outputs": [],
   "source": [
    "games['user_score'] = games['user_score'].astype('float') # приведение данных в столбце user_score \n",
    "                                                          # к типу float."
   ]
  },
  {
   "cell_type": "markdown",
   "id": "a4f2997d",
   "metadata": {},
   "source": [
    "### Исследовательский анализ данных"
   ]
  },
  {
   "cell_type": "code",
   "execution_count": 15,
   "id": "d8c8cf4a",
   "metadata": {},
   "outputs": [],
   "source": [
    "games['total_sales'] = games['na_sales'] + games['eu_sales'] + games['jp_sales'] + games['other_sales']\n",
    "# добавляем столбец с продажами по всем регионам"
   ]
  },
  {
   "cell_type": "code",
   "execution_count": 16,
   "id": "22f73502",
   "metadata": {},
   "outputs": [
    {
     "data": {
      "image/png": "[encoded data removed]",
      "text/plain": [
       "<Figure size 1080x360 with 1 Axes>"
      ]
     },
     "metadata": {
      "needs_background": "light"
     },
     "output_type": "display_data"
    }
   ],
   "source": [
    "games.plot(kind='hist', y = 'year_of_release',bins=74, grid=True,\n",
    "           title='Распределение выпусков игр по годам' , xlabel='год', figsize=(15,5)); "
   ]
  },
  {
   "cell_type": "markdown",
   "id": "e447728d",
   "metadata": {},
   "source": [
    "С 1986 года выпуск игр с небольшими перепадами, но растет и достигает пика в 1400 выпущенных игр в 2008 и 2009 году. Далее следует спад. В 2016 году количество выпущенных игр около 500. <br>"
   ]
  },
  {
   "cell_type": "code",
   "execution_count": 17,
   "id": "96e5bd08",
   "metadata": {},
   "outputs": [
    {
     "data": {
      "text/plain": [
       "platform\n",
       "PS2     1233.56\n",
       "X360     961.24\n",
       "PS3      931.34\n",
       "Wii      891.18\n",
       "DS       802.78\n",
       "PS       727.58\n",
       "PS4      314.14\n",
       "GBA      312.88\n",
       "PSP      289.53\n",
       "3DS      257.81\n",
       "PC       255.76\n",
       "GB       254.43\n",
       "XB       251.57\n",
       "NES      251.05\n",
       "N64      218.01\n",
       "SNES     200.04\n",
       "GC       196.73\n",
       "XOne     159.32\n",
       "2600      86.48\n",
       "WiiU      82.19\n",
       "Name: total_sales, dtype: float64"
      ]
     },
     "execution_count": 17,
     "metadata": {},
     "output_type": "execute_result"
    }
   ],
   "source": [
    "games.groupby('platform')['total_sales'].sum().sort_values(ascending=False).head(20) \n",
    "# находим платформы с наибольшими суммарными продажами "
   ]
  },
  {
   "cell_type": "code",
   "execution_count": 18,
   "id": "2fb25f6b",
   "metadata": {},
   "outputs": [
    {
     "data": {
      "image/png": "[encoded data removed]",
      "text/plain": [
       "<Figure size 1080x360 with 1 Axes>"
      ]
     },
     "metadata": {
      "needs_background": "light"
     },
     "output_type": "display_data"
    }
   ],
   "source": [
    "for platform in ['PS2', 'DS', 'PS3', 'Wii', 'X360', 'PS',]:\n",
    "    games.query('platform == @platform')['year_of_release'].hist(bins=30, alpha=0.5, figsize=(15,5))\n",
    "    plt.legend(['PS2', 'DS', 'PS3', 'Wii', 'X360', 'PS',])"
   ]
  },
  {
   "cell_type": "markdown",
   "id": "6ed33d10",
   "metadata": {},
   "source": [
    "Платформа PS появилась в 1994, её перестали выпускать в 2003 - 9 лет. <br>\n",
    "Платформа X360 выпускалась с 2005 по 2016 - 11 лет. <br>\n",
    "Платформа Wii выпускалась с 2006 по 2016 - 10 лет.<br>\n",
    "Платформа PS3 выпускалась с 2006 по 2016 - 10 лет. <br>\n",
    "Платформа DS вышла в 1985, но данные по ней вдимо начали собираться только с 2003. В 2013 на неё вышли последние игры.<br>\n",
    "Платформа PS2 выпускалась с 2000 по 2011 - 11 лет.<br>\n",
    "Средняя продолжительность существования платформы равна десяти годам."
   ]
  },
  {
   "cell_type": "code",
   "execution_count": 19,
   "id": "75d4196c",
   "metadata": {},
   "outputs": [],
   "source": [
    "games_2 = games.loc[games['year_of_release'] > 2013]#создание датафрейма в который входят только \n",
    "                                                             # данные за актуальный период"
   ]
  },
  {
   "cell_type": "code",
   "execution_count": 20,
   "id": "45186aa9",
   "metadata": {},
   "outputs": [
    {
     "data": {
      "text/plain": [
       "platform\n",
       "PS4     288.15\n",
       "XOne    140.36\n",
       "3DS      86.68\n",
       "PS3      68.18\n",
       "X360     48.22\n",
       "WiiU     42.98\n",
       "PC       27.05\n",
       "PSV      22.40\n",
       "Wii       5.07\n",
       "PSP       0.36\n",
       "Name: total_sales, dtype: float64"
      ]
     },
     "execution_count": 20,
     "metadata": {},
     "output_type": "execute_result"
    }
   ],
   "source": [
    "games_2.groupby('platform')['total_sales'].sum().sort_values(ascending=False) # находим платформы\n",
    "                                                # с наибольшими суммарными продажами c 2013 года. "
   ]
  },
  {
   "cell_type": "markdown",
   "id": "b34f0ac3",
   "metadata": {},
   "source": [
    "Самое большое количество проданных копий у платформы PS4 - 288 млн.копий, у XOne - 140 млн.копий, у 3DS - 86 млн.копий, у PS3 - 68 млн.копий, X360 - 48 млн.копий, WiiU - 42 млн.копий."
   ]
  },
  {
   "cell_type": "code",
   "execution_count": 21,
   "id": "ba417127",
   "metadata": {},
   "outputs": [],
   "source": [
    "df_filter = games_2['platform']. isin (['PS4', 'XOne', '3DS', 'PS3', 'X360', 'WiiU']) \n",
    "games_2 = games_2[df_filter] # отберем данные по самым продаваемым платформам "
   ]
  },
  {
   "cell_type": "code",
   "execution_count": 22,
   "id": "0ea5adda",
   "metadata": {},
   "outputs": [],
   "source": [
    "PS4_pivot = games_2[games_2['platform'] == 'PS4'].pivot_table(index=['year_of_release'],\n",
    "            values='total_sales', aggfunc=['sum']) \n",
    "XOne_pivot = games_2[games_2['platform'] == 'XOne'].pivot_table(index=['year_of_release'],\n",
    "             values='total_sales', aggfunc=['sum'])\n",
    "DS_pivot = games_2[games_2['platform'] == '3DS'].pivot_table(index=['year_of_release'],\n",
    "            values='total_sales', aggfunc=['sum'])\n",
    "PS3_pivot = games_2[games_2['platform'] == 'PS3'].pivot_table(index=['year_of_release'],\n",
    "            values='total_sales', aggfunc=['sum'])\n",
    "X360_pivot = games_2[games_2['platform'] == 'X360'].pivot_table(index=['year_of_release'],\n",
    "            values='total_sales', aggfunc=['sum'])\n",
    "WiiU_pivot = games_2[games_2['platform'] == 'WiiU'].pivot_table(index=['year_of_release'],\n",
    "            values='total_sales', aggfunc=['sum'])\n",
    "# сводные таблицы для визуализации продаж по платформам"
   ]
  },
  {
   "cell_type": "code",
   "execution_count": 23,
   "id": "b9c21c03",
   "metadata": {},
   "outputs": [
    {
     "data": {
      "image/png": "[encoded data removed]",
      "text/plain": [
       "<Figure size 720x360 with 1 Axes>"
      ]
     },
     "metadata": {
      "needs_background": "light"
     },
     "output_type": "display_data"
    }
   ],
   "source": [
    "plt.figure(figsize=(10, 5))\n",
    "plt.grid(True)\n",
    "plt.plot(PS4_pivot)\n",
    "plt.plot(XOne_pivot)\n",
    "plt.plot(DS_pivot)\n",
    "plt.plot(PS3_pivot)\n",
    "plt.plot(X360_pivot)\n",
    "plt.plot(WiiU_pivot)\n",
    "plt.legend(['PS4', 'XOne', '3DS', 'PS3', 'X360', 'WiiU']) \n",
    "plt.ylabel('Объем продаж, млн.копий')\n",
    "plt.xlabel('Год')\n",
    "plt.title('Продажи по платформам');"
   ]
  },
  {
   "cell_type": "markdown",
   "id": "846e79fe",
   "metadata": {},
   "source": [
    "У всех популярных платформ продажи падают. Как и весь рынок игр."
   ]
  },
  {
   "cell_type": "code",
   "execution_count": 24,
   "id": "84c0c028",
   "metadata": {},
   "outputs": [
    {
     "data": {
      "text/plain": [
       "(0.0, 2.0)"
      ]
     },
     "execution_count": 24,
     "metadata": {},
     "output_type": "execute_result"
    },
    {
     "data": {
      "image/png": "[encoded data removed]",
      "text/plain": [
       "<Figure size 432x288 with 1 Axes>"
      ]
     },
     "metadata": {
      "needs_background": "light"
     },
     "output_type": "display_data"
    }
   ],
   "source": [
    "games_2[games_2['platform'] == 'PS4'].plot(kind='box', y='total_sales', grid=True\n",
    "    , title='Диаграмма размаха по платформе PS4')# Диаграмма размаха по платформе PS4\n",
    "plt.ylim(0, 2) # ограничение по оси y для большей наглядности"
   ]
  },
  {
   "cell_type": "markdown",
   "id": "cea81c7b",
   "metadata": {},
   "source": [
    "Среднее значение глобальных продаж составляет 0.76 млн.копий, медиана меньше 0.25 млн.копий."
   ]
  },
  {
   "cell_type": "code",
   "execution_count": 25,
   "id": "486cb3d0",
   "metadata": {},
   "outputs": [
    {
     "data": {
      "text/plain": [
       "(0.0, 2.0)"
      ]
     },
     "execution_count": 25,
     "metadata": {},
     "output_type": "execute_result"
    },
    {
     "data": {
      "image/png": "[encoded data removed]",
      "text/plain": [
       "<Figure size 432x288 with 1 Axes>"
      ]
     },
     "metadata": {
      "needs_background": "light"
     },
     "output_type": "display_data"
    }
   ],
   "source": [
    "games_2[games_2['platform'] == 'XOne'].plot(kind='box', y='total_sales', grid=True\n",
    "    , title='Диаграмма размаха по платформе XOne')# Диаграмма размаха по платформе XOne\n",
    "plt.ylim(0, 2) # ограничение по оси y для большей наглядности."
   ]
  },
  {
   "cell_type": "markdown",
   "id": "e699224b",
   "metadata": {},
   "source": [
    "Среднее значение глобальных продаж составляет 0.16 млн.копий, медиана меньше 0.25 млн.копий."
   ]
  },
  {
   "cell_type": "code",
   "execution_count": 26,
   "id": "89fcacc7",
   "metadata": {},
   "outputs": [
    {
     "data": {
      "text/plain": [
       "(0.0, 1.0)"
      ]
     },
     "execution_count": 26,
     "metadata": {},
     "output_type": "execute_result"
    },
    {
     "data": {
      "image/png": "[encoded data removed]",
      "text/plain": [
       "<Figure size 432x288 with 1 Axes>"
      ]
     },
     "metadata": {
      "needs_background": "light"
     },
     "output_type": "display_data"
    }
   ],
   "source": [
    "games_2[games_2['platform'] == '3DS'].plot(kind='box', y='total_sales', grid=True\n",
    "    , title='Диаграмма размаха по платформе 3DS')# Диаграмма размаха по платформе 3DS\n",
    "plt.ylim(0, 1) # ограничение по оси y для большей наглядности."
   ]
  },
  {
   "cell_type": "markdown",
   "id": "e7cb9f5a",
   "metadata": {},
   "source": [
    "Среднее значение глобальных продаж составляет 0.40 млн.копий, медиана меньше 0.2 млн.копий."
   ]
  },
  {
   "cell_type": "code",
   "execution_count": 27,
   "id": "3884afdd",
   "metadata": {},
   "outputs": [
    {
     "data": {
      "text/plain": [
       "(0.0, 2.0)"
      ]
     },
     "execution_count": 27,
     "metadata": {},
     "output_type": "execute_result"
    },
    {
     "data": {
      "image/png": "[encoded data removed]",
      "text/plain": [
       "<Figure size 432x288 with 1 Axes>"
      ]
     },
     "metadata": {
      "needs_background": "light"
     },
     "output_type": "display_data"
    }
   ],
   "source": [
    "games_2[games_2['platform'] == 'X360'].plot(kind='box', y='total_sales', grid=True\n",
    "    , title='Диаграмма размаха по платформе X360')# Диаграмма размаха по платформе X360\n",
    "plt.ylim(0, 2) # ограничение по оси y для большей наглядности."
   ]
  },
  {
   "cell_type": "markdown",
   "id": "73d18a74",
   "metadata": {},
   "source": [
    "Среднее значение глобальных продаж составляет 0.40 млн.копий, медиана меньше 0.25 млн.копий"
   ]
  },
  {
   "cell_type": "code",
   "execution_count": 28,
   "id": "45a3a303",
   "metadata": {},
   "outputs": [
    {
     "data": {
      "text/plain": [
       "(0.0, 1.0)"
      ]
     },
     "execution_count": 28,
     "metadata": {},
     "output_type": "execute_result"
    },
    {
     "data": {
      "image/png": "[encoded data removed]",
      "text/plain": [
       "<Figure size 432x288 with 1 Axes>"
      ]
     },
     "metadata": {
      "needs_background": "light"
     },
     "output_type": "display_data"
    }
   ],
   "source": [
    "games_2[games_2['platform'] == 'PS3'].plot(kind='box', y='total_sales', grid=True\n",
    "    , title='Диаграмма размаха по платформе PS3')# Диаграмма размаха по платформе PS3\n",
    "plt.ylim(0, 1) # ограничение по оси y для большей наглядности."
   ]
  },
  {
   "cell_type": "markdown",
   "id": "1b0062cc",
   "metadata": {},
   "source": [
    "Среднее значение глобальных продаж составляет 0.31 млн.копий, медиана меньше 0.20 млн.копий"
   ]
  },
  {
   "cell_type": "code",
   "execution_count": 29,
   "id": "fa5cf558",
   "metadata": {},
   "outputs": [
    {
     "data": {
      "text/plain": [
       "(0.0, 2.0)"
      ]
     },
     "execution_count": 29,
     "metadata": {},
     "output_type": "execute_result"
    },
    {
     "data": {
      "image/png": "[encoded data removed]",
      "text/plain": [
       "<Figure size 432x288 with 1 Axes>"
      ]
     },
     "metadata": {
      "needs_background": "light"
     },
     "output_type": "display_data"
    }
   ],
   "source": [
    "games_2[games_2['platform'] == 'WiiU'].plot(kind='box', y='total_sales', grid=True\n",
    "    , title='Диаграмма размаха по платформе WiiU')# Диаграмма размаха по платформе WiiU\n",
    "plt.ylim(0, 2) # ограничение по оси y для большей наглядности."
   ]
  },
  {
   "cell_type": "markdown",
   "id": "c9ab642e",
   "metadata": {},
   "source": [
    "Среднее значение глобальных продаж составляет 0.58 млн.копий, медиана меньше 0.25 млн.копий"
   ]
  },
  {
   "cell_type": "markdown",
   "id": "03845c1d",
   "metadata": {},
   "source": [
    "Среднее значение глобальных продаж составляет 0.55 млн.копий, медиана 0.14 млн.копий."
   ]
  },
  {
   "cell_type": "markdown",
   "id": "6c29a3dc",
   "metadata": {},
   "source": [
    "#### Диаграмма рассеяния"
   ]
  },
  {
   "cell_type": "markdown",
   "id": "de124411",
   "metadata": {},
   "source": [
    "Для этой диаграммы возьмем данные по PS4 - платформе лидирующей по глобальным продажам в выборке с 2013 года."
   ]
  },
  {
   "cell_type": "code",
   "execution_count": 30,
   "id": "3e3ddbc9",
   "metadata": {},
   "outputs": [],
   "source": [
    "games_PS4 = games_2[(games_2['platform'] == 'PS4') & (games_2['critic_score'] > 0)].copy()"
   ]
  },
  {
   "cell_type": "code",
   "execution_count": 31,
   "id": "2bb02e69",
   "metadata": {},
   "outputs": [
    {
     "data": {
      "image/png": "[encoded data removed]",
      "text/plain": [
       "<Figure size 1080x360 with 1 Axes>"
      ]
     },
     "metadata": {
      "needs_background": "light"
     },
     "output_type": "display_data"
    }
   ],
   "source": [
    "f, ax = plt.subplots(figsize=(15, 5))\n",
    "sns.scatterplot(data=games_PS4, x=\"critic_score\", y=\"total_sales\"\n",
    "    , hue=\"critic_score\").axes.set_title(\"Зависимость продаж от оценки критиков\", fontsize=16);"
   ]
  },
  {
   "cell_type": "code",
   "execution_count": 32,
   "id": "70e6b8ac",
   "metadata": {},
   "outputs": [
    {
     "name": "stdout",
     "output_type": "stream",
     "text": [
      "0.40266141068104083\n"
     ]
    }
   ],
   "source": [
    "print(games_PS4['total_sales'].corr(games_PS4['critic_score'])) # найдём коэффициент корреляции"
   ]
  },
  {
   "cell_type": "markdown",
   "id": "fc3d2400",
   "metadata": {},
   "source": [
    "В среднем с увеличением оценки критиков растут и продажи игр. Исходя из коэффициента корреляции можно сделать вывод, что связь меджу оценкой критиков и продажами есть, но не выраженная."
   ]
  },
  {
   "cell_type": "code",
   "execution_count": 33,
   "id": "52380280",
   "metadata": {},
   "outputs": [],
   "source": [
    "games_PS4_user_score = games_2[(games_2['platform'] == 'PS4') & (games_2['user_score'] > 0)].copy()"
   ]
  },
  {
   "cell_type": "code",
   "execution_count": 34,
   "id": "c00d3a09",
   "metadata": {},
   "outputs": [
    {
     "data": {
      "image/png": "[encoded data removed]",
      "text/plain": [
       "<Figure size 1080x360 with 1 Axes>"
      ]
     },
     "metadata": {
      "needs_background": "light"
     },
     "output_type": "display_data"
    }
   ],
   "source": [
    "f, ax = plt.subplots(figsize=(15,5))\n",
    "sns.scatterplot(data=games_PS4_user_score, x=\"user_score\", y=\"total_sales\"\n",
    "    , hue=\"user_score\").axes.set_title(\"Зависимость продаж от оценки пользователей\", fontsize=16);"
   ]
  },
  {
   "cell_type": "code",
   "execution_count": 35,
   "id": "304815c3",
   "metadata": {},
   "outputs": [
    {
     "name": "stdout",
     "output_type": "stream",
     "text": [
      "-0.040131589472697356\n"
     ]
    }
   ],
   "source": [
    "print(games_PS4_user_score['total_sales'].astype('float64').corr(\n",
    "    games_PS4_user_score['user_score'].astype('float64')))\n",
    " # найдём коэффициент корреляции"
   ]
  },
  {
   "cell_type": "markdown",
   "id": "72d73de5",
   "metadata": {},
   "source": [
    "Зависимости между оценкой пользователей и продажами нет."
   ]
  },
  {
   "cell_type": "markdown",
   "id": "44ab0428",
   "metadata": {},
   "source": [
    "Посчитаем корреляцию для платформ XOne, 3DS, PS3, X360, WiiU."
   ]
  },
  {
   "cell_type": "code",
   "execution_count": 36,
   "id": "a56017b5",
   "metadata": {},
   "outputs": [
    {
     "name": "stdout",
     "output_type": "stream",
     "text": [
      "Коэффициент корреляции оценки критиков для XOne: 0.42867694370333226\n"
     ]
    }
   ],
   "source": [
    "games_XOne = games_2[(games_2['platform'] == 'XOne') & (games_2['critic_score'] > 0)].copy()\n",
    "print('Коэффициент корреляции оценки критиков для XOne:'\n",
    "      ,games_XOne['total_sales'].corr(games_XOne['critic_score'])) \n",
    "# найдём коэффициент корреляции"
   ]
  },
  {
   "cell_type": "code",
   "execution_count": 37,
   "id": "f65b0cc9",
   "metadata": {},
   "outputs": [
    {
     "name": "stdout",
     "output_type": "stream",
     "text": [
      "Коэффициент корреляции оценки пользователей для XOne: 0.007395767292791306\n"
     ]
    }
   ],
   "source": [
    "games_XOne_user_score = games_2[(games_2['platform'] == 'XOne') & (games_2['user_score'] > 0)].copy()\n",
    "print('Коэффициент корреляции оценки пользователей для XOne:'\n",
    "      ,games_XOne['total_sales'].corr(games_XOne['user_score'])) \n",
    "# найдём коэффициент корреляции"
   ]
  },
  {
   "cell_type": "code",
   "execution_count": 38,
   "id": "6bc9ffef",
   "metadata": {},
   "outputs": [
    {
     "name": "stdout",
     "output_type": "stream",
     "text": [
      "Коэффициент корреляции оценки критиков для для 3DS: 0.31411749286905105\n"
     ]
    }
   ],
   "source": [
    "games_3DS = games_2[(games_2['platform'] == '3DS') & (games_2['critic_score'] > 0)].copy()\n",
    "print('Коэффициент корреляции оценки критиков для для 3DS:'\n",
    "      ,games_3DS['total_sales'].corr(games_3DS['critic_score'])) \n",
    "# найдём коэффициент корреляции"
   ]
  },
  {
   "cell_type": "code",
   "execution_count": 39,
   "id": "61a21097",
   "metadata": {},
   "outputs": [
    {
     "name": "stdout",
     "output_type": "stream",
     "text": [
      "Коэффициент корреляции оценки пользователей для 3DS: 0.2151932718527028\n"
     ]
    }
   ],
   "source": [
    "games_3DS = games_2[(games_2['platform'] == '3DS') & (games_2['user_score'] > 0)].copy()\n",
    "print('Коэффициент корреляции оценки пользователей для 3DS:'\n",
    "      ,games_3DS['total_sales'].corr(games_3DS['user_score'])) \n",
    "# найдём коэффициент корреляции"
   ]
  },
  {
   "cell_type": "code",
   "execution_count": 40,
   "id": "39fdbc61",
   "metadata": {},
   "outputs": [
    {
     "name": "stdout",
     "output_type": "stream",
     "text": [
      "Коэффициент корреляции оценки критиков для PS3: 0.44657460493190704\n"
     ]
    }
   ],
   "source": [
    "games_PS3 = games_2[(games_2['platform'] == 'PS3') & (games_2['critic_score'] > 0)].copy()\n",
    "print('Коэффициент корреляции оценки критиков для PS3:'\n",
    "      ,games_PS3['total_sales'].corr(games_PS3['critic_score'])) \n",
    "# найдём коэффициент корреляции"
   ]
  },
  {
   "cell_type": "code",
   "execution_count": 41,
   "id": "68f2c24c",
   "metadata": {},
   "outputs": [
    {
     "name": "stdout",
     "output_type": "stream",
     "text": [
      "Коэффициент корреляции оценки пользователей для PS3: -0.16676141347662116\n"
     ]
    }
   ],
   "source": [
    "games_PS3 = games_2[(games_2['platform'] == 'PS3') & (games_2['user_score'] > 0)].copy()\n",
    "print('Коэффициент корреляции оценки пользователей для PS3:'\n",
    "      ,games_PS3['total_sales'].corr(games_PS3['user_score']))\n",
    " # найдём коэффициент корреляции"
   ]
  },
  {
   "cell_type": "code",
   "execution_count": 42,
   "id": "4e5e2911",
   "metadata": {},
   "outputs": [
    {
     "name": "stdout",
     "output_type": "stream",
     "text": [
      "Коэффициент корреляции оценки критиков для X360: 0.5257228356581523\n"
     ]
    }
   ],
   "source": [
    "games_X360 = games_2[(games_2['platform'] == 'X360') & (games_2['critic_score'] > 0)].copy()\n",
    "print('Коэффициент корреляции оценки критиков для X360:'\n",
    "      ,games_X360['total_sales'].corr(games_X360['critic_score'])) \n",
    "# найдём коэффициент корреляции"
   ]
  },
  {
   "cell_type": "code",
   "execution_count": 43,
   "id": "e2629989",
   "metadata": {},
   "outputs": [
    {
     "name": "stdout",
     "output_type": "stream",
     "text": [
      "Коэффициент корреляции оценки пользователей для X360: -0.138444570945665\n"
     ]
    }
   ],
   "source": [
    "games_X360 = games_2[(games_2['platform'] == 'X360') & (games_2['user_score'] > 0)].copy()\n",
    "print('Коэффициент корреляции оценки пользователей для X360:'\n",
    "      ,games_X360['total_sales'].corr(games_X360['user_score']))\n",
    " # найдём коэффициент корреляции"
   ]
  },
  {
   "cell_type": "code",
   "execution_count": 44,
   "id": "3c142b82",
   "metadata": {},
   "outputs": [
    {
     "name": "stdout",
     "output_type": "stream",
     "text": [
      "Коэффициент корреляции оценки критиков для WiiU: 0.370201412480884\n"
     ]
    }
   ],
   "source": [
    "games_WiiU = games_2[(games_2['platform'] == 'WiiU') & (games_2['critic_score'] > 0)].copy()\n",
    "print('Коэффициент корреляции оценки критиков для WiiU:'\n",
    "      ,games_WiiU['total_sales'].corr(games_WiiU['critic_score'])) \n",
    "# найдём коэффициент корреляции"
   ]
  },
  {
   "cell_type": "code",
   "execution_count": 45,
   "id": "4e512bd4",
   "metadata": {},
   "outputs": [
    {
     "name": "stdout",
     "output_type": "stream",
     "text": [
      "Коэффициент корреляции оценки пользователей для WiiU: 0.4079264579217078\n"
     ]
    }
   ],
   "source": [
    "games_WiiU = games_2[(games_2['platform'] == 'WiiU') & (games_2['user_score'] > 0)].copy()\n",
    "print('Коэффициент корреляции оценки пользователей для WiiU:'\n",
    "      ,games_WiiU['total_sales'].corr(games_WiiU['user_score']))\n",
    " # найдём коэффициент корреляции"
   ]
  },
  {
   "cell_type": "markdown",
   "id": "0454fb56",
   "metadata": {},
   "source": [
    "По всем платформам оценка критиков сильнее влияет на продажи, чем оценка пользователей. Самая высокая корреляция у платформы PS3."
   ]
  },
  {
   "cell_type": "markdown",
   "id": "30423983",
   "metadata": {},
   "source": [
    "#### Распределение игр по жанрам"
   ]
  },
  {
   "cell_type": "code",
   "execution_count": 46,
   "id": "cdda846b",
   "metadata": {},
   "outputs": [
    {
     "data": {
      "image/png": "[encoded data removed]",
      "text/plain": [
       "<Figure size 1080x360 with 1 Axes>"
      ]
     },
     "metadata": {
      "needs_background": "light"
     },
     "output_type": "display_data"
    }
   ],
   "source": [
    "pivot_count = games_2.pivot_table(index = 'genre', values = 'total_sales', aggfunc = ['count'])\n",
    "pivot_count.plot(kind='bar', y='count', figsize = (15, 5), ylabel = 'шт',\n",
    "                 xlabel='жанр', title='Количество игр', color = 'g');"
   ]
  },
  {
   "cell_type": "markdown",
   "id": "dae3f3e5",
   "metadata": {},
   "source": [
    "Больше всего игр выпускают в жанре Action, Role-Playing, Sports и Shooter,  меньше всего игр в жанре Strategy, Simulation, Puzzle. "
   ]
  },
  {
   "cell_type": "code",
   "execution_count": 47,
   "id": "f77d2a8a",
   "metadata": {},
   "outputs": [
    {
     "data": {
      "image/png": "[encoded data removed]",
      "text/plain": [
       "<Figure size 1080x360 with 1 Axes>"
      ]
     },
     "metadata": {
      "needs_background": "light"
     },
     "output_type": "display_data"
    }
   ],
   "source": [
    "pivot = games_2.pivot_table(index = 'genre', values = 'total_sales', aggfunc = ['median'])\n",
    "pivot.plot(kind='bar', y='median', figsize = (15, 5), ylabel = 'млн.копий', xlabel='жанр'\n",
    "           , title='Продажи игр по жанрам', color = 'g');"
   ]
  },
  {
   "cell_type": "markdown",
   "id": "a63577fe",
   "metadata": {},
   "source": [
    "Стабильно приносят высокий доход игры в жанре Shooter и Sports."
   ]
  },
  {
   "cell_type": "markdown",
   "id": "408808fa",
   "metadata": {},
   "source": [
    "Можно выделить игры в жанре Shooter. Количественно их не очень много, но они продаются большим количеством копий. \n"
   ]
  },
  {
   "cell_type": "markdown",
   "id": "9ce79885",
   "metadata": {},
   "source": [
    "####  Портрет пользователя для каждого региона"
   ]
  },
  {
   "cell_type": "code",
   "execution_count": 48,
   "id": "3ae591c9",
   "metadata": {},
   "outputs": [
    {
     "data": {
      "image/png": "[encoded data removed]",
      "text/plain": [
       "<Figure size 720x360 with 1 Axes>"
      ]
     },
     "metadata": {
      "needs_background": "light"
     },
     "output_type": "display_data"
    },
    {
     "data": {
      "image/png": "[encoded data removed]",
      "text/plain": [
       "<Figure size 720x360 with 1 Axes>"
      ]
     },
     "metadata": {
      "needs_background": "light"
     },
     "output_type": "display_data"
    },
    {
     "data": {
      "image/png": "[encoded data removed]",
      "text/plain": [
       "<Figure size 720x360 with 1 Axes>"
      ]
     },
     "metadata": {
      "needs_background": "light"
     },
     "output_type": "display_data"
    }
   ],
   "source": [
    "games_2.groupby(by='genre').agg({'jp_sales':'sum'}).sort_values(by='jp_sales'\n",
    ", ascending=False).head(5).plot(kind='bar', figsize=(10,5), ylabel='млн.копий',\n",
    "xlabel='жанр', color = 'b');\n",
    "games_2.groupby(by='genre').agg({'eu_sales':'sum'}).sort_values(by='eu_sales',\n",
    "ascending=False).head(5).plot(kind='bar', figsize=(10,5), ylabel='млн.копий',\n",
    "xlabel='жанр', color = 'b');\n",
    "games_2.groupby(by='genre').agg({'na_sales':'sum'}).sort_values(by='na_sales',\n",
    "ascending=False).head(5).plot(kind='bar', figsize=(10,5), ylabel='млн.копий',\n",
    "xlabel='жанр', color = 'b');"
   ]
  },
  {
   "cell_type": "markdown",
   "id": "313f1875",
   "metadata": {},
   "source": [
    "Рынок игр в Японии сильно отличается от рынка Северной Америки и Европы. Самыми популярными играми в Японии являются игры в жанре role-playing. Далее идут action, fighting, shooter и misc. \n",
    "В Северное Америке и в Европе похожие рынки игр. В топ-4 входят одинаковые жанры. Но в Европе больше любят racing, а в Северной Америке misc. "
   ]
  },
  {
   "cell_type": "code",
   "execution_count": 49,
   "id": "ef811b1d",
   "metadata": {},
   "outputs": [
    {
     "data": {
      "image/png": "[encoded data removed]",
      "text/plain": [
       "<Figure size 720x360 with 1 Axes>"
      ]
     },
     "metadata": {
      "needs_background": "light"
     },
     "output_type": "display_data"
    },
    {
     "data": {
      "image/png": "[encoded data removed]",
      "text/plain": [
       "<Figure size 720x360 with 1 Axes>"
      ]
     },
     "metadata": {
      "needs_background": "light"
     },
     "output_type": "display_data"
    },
    {
     "data": {
      "image/png": "[encoded data removed]",
      "text/plain": [
       "<Figure size 720x360 with 1 Axes>"
      ]
     },
     "metadata": {
      "needs_background": "light"
     },
     "output_type": "display_data"
    }
   ],
   "source": [
    "games_2.groupby(by='platform').agg({'jp_sales':'sum'}).sort_values(by='jp_sales', ascending=False\n",
    "    ).head(5).plot(kind='bar', figsize=(10,5), ylabel='млн.копий', xlabel='жанр', color = 'm');\n",
    "games_2.groupby(by='platform').agg({'eu_sales':'sum'}).sort_values(by='eu_sales', ascending=False\n",
    "    ).head(5).plot(kind='bar', figsize=(10,5), ylabel='млн.копий', xlabel='жанр', color = 'm');\n",
    "games_2.groupby(by='platform').agg({'na_sales':'sum'}).sort_values(by='na_sales', ascending=False\n",
    "    ).head(5).plot(kind='bar' , figsize=(10,5), ylabel='млн.копий', xlabel='жанр', color = 'm');"
   ]
  },
  {
   "cell_type": "markdown",
   "id": "7f4d13b0",
   "metadata": {},
   "source": [
    "В топе Северной Америки и Европы одни и те же платформы. Немного по-разному расположены по местам. <br>\n",
    "В Японии представлена приставка WIIU, которая не попала в топ-5 Северной Америки и Европы. Х360 не попала в топ в Японии."
   ]
  },
  {
   "cell_type": "code",
   "execution_count": 50,
   "id": "2773bd69",
   "metadata": {},
   "outputs": [],
   "source": [
    "# games_rating = games_2[(games_2['rating'] != 'no_rating')].copy() # фильтруем по играм с рейтингом"
   ]
  },
  {
   "cell_type": "code",
   "execution_count": 51,
   "id": "a8927282",
   "metadata": {},
   "outputs": [
    {
     "data": {
      "image/png": "[encoded data removed]",
      "text/plain": [
       "<Figure size 720x360 with 1 Axes>"
      ]
     },
     "metadata": {
      "needs_background": "light"
     },
     "output_type": "display_data"
    },
    {
     "data": {
      "image/png": "[encoded data removed]",
      "text/plain": [
       "<Figure size 720x360 with 1 Axes>"
      ]
     },
     "metadata": {
      "needs_background": "light"
     },
     "output_type": "display_data"
    },
    {
     "data": {
      "image/png": "[encoded data removed]",
      "text/plain": [
       "<Figure size 720x360 with 1 Axes>"
      ]
     },
     "metadata": {
      "needs_background": "light"
     },
     "output_type": "display_data"
    }
   ],
   "source": [
    "games_2.groupby(by='rating').agg({'jp_sales':'sum'}).sort_values(by='jp_sales', ascending=False\n",
    "    ).head(5).plot(kind='bar', figsize=(10,5), ylabel='млн.копий', xlabel='Рейтинг', color = 'r',\n",
    "    title='Продажи в Японии');\n",
    "games_2.groupby(by='rating').agg({'eu_sales':'sum'}).sort_values(by='eu_sales', ascending=False\n",
    "    ).head(5).plot(kind='bar' , figsize=(10,5), ylabel='млн.копий', xlabel='Рейтинг', color = 'r',\n",
    "    title='Продажи в Европе');\n",
    "games_2.groupby(by='rating').agg({'na_sales':'sum'}).sort_values(by='na_sales', ascending=False\n",
    "    ).head(5).plot(kind='bar', figsize=(10,5), ylabel='млн.копий', xlabel='Рейтинг', color = 'r', \n",
    "    title='Продажи в Северной Америке');"
   ]
  },
  {
   "cell_type": "markdown",
   "id": "45ad1fb3",
   "metadata": {},
   "source": [
    "Игры без рейтинга входят в топ самых продаваемых во всех рассматриваемых регионах. В Японии на первом месте, в Северной Америке на втором, в Европе на третьем. Игры с рейтингом M (\"Для взрослых\") лидируют в топе Северной Америки и Европы.\n"
   ]
  },
  {
   "cell_type": "markdown",
   "id": "5258abc5",
   "metadata": {},
   "source": [
    "### Проверка гипотез"
   ]
  },
  {
   "cell_type": "markdown",
   "id": "4e6f5df5",
   "metadata": {},
   "source": [
    "#### Гипотеза 1"
   ]
  },
  {
   "cell_type": "markdown",
   "id": "e0c95759",
   "metadata": {},
   "source": [
    "H₀ - cредние пользовательские рейтинги платформ Xbox One и PC одинаковые.<br>\n",
    "H₁ - cредние пользовательские рейтинги платформ Xbox One и PC различаются."
   ]
  },
  {
   "cell_type": "code",
   "execution_count": 52,
   "id": "b7441df0",
   "metadata": {},
   "outputs": [],
   "source": [
    "games_3 = games.loc[games['year_of_release'] > 2013]"
   ]
  },
  {
   "cell_type": "code",
   "execution_count": 53,
   "id": "ada168fb",
   "metadata": {},
   "outputs": [
    {
     "name": "stdout",
     "output_type": "stream",
     "text": [
      "p-значение: 0.11601398086668827\n",
      "Не получилось отвергнуть нулевую гипотезу\n"
     ]
    }
   ],
   "source": [
    "XOne = games_3[(games_3['platform'] == 'XOne') & (games_3['user_score'] > 0)]['user_score']\n",
    "PC = games_3[(games_3['platform'] == 'PC') & (games_3['user_score'] > 0)]['user_score']\n",
    "alpha = .05\n",
    "\n",
    "results = st.ttest_ind(\n",
    "    XOne, \n",
    "    PC, \n",
    "    equal_var=False)\n",
    "\n",
    "print('p-значение:', results.pvalue)\n",
    "\n",
    "if (results.pvalue < alpha):\n",
    "    print(\"Отвергаем нулевую гипотезу\")\n",
    "else:\n",
    "    print(\"Не получилось отвергнуть нулевую гипотезу\")"
   ]
  },
  {
   "cell_type": "markdown",
   "id": "889022b7",
   "metadata": {},
   "source": [
    "Верной следует считать гипотезу о том, что cредние пользовательские рейтинги платформ Xbox One и PC одинаковые."
   ]
  },
  {
   "cell_type": "markdown",
   "id": "4c5dc0e8",
   "metadata": {},
   "source": [
    "#### Гипотеза 2"
   ]
  },
  {
   "cell_type": "markdown",
   "id": "b164a692",
   "metadata": {},
   "source": [
    "H₀ - средние пользовательские рейтинги жанров Action и Sports одинаковые.<br>\n",
    "H₁ - средние пользовательские рейтинги жанров Action и Sports различаются."
   ]
  },
  {
   "cell_type": "code",
   "execution_count": 54,
   "id": "05fbe9d3",
   "metadata": {},
   "outputs": [
    {
     "name": "stdout",
     "output_type": "stream",
     "text": [
      "p-значение: 1.1825550382644557e-14\n",
      "Отвергаем нулевую гипотезу\n"
     ]
    }
   ],
   "source": [
    "Action = games_3[(games_3['genre'] == 'Action') & (games_3['user_score'] > 0)]['user_score']\n",
    "Sports = games_3[(games_3['genre'] == 'Sports') & (games_3['user_score'] > 0)]['user_score']\n",
    "alpha = .05\n",
    "\n",
    "results = st.ttest_ind(\n",
    "    Action, \n",
    "    Sports, \n",
    "    equal_var=False)\n",
    "\n",
    "print('p-значение:', results.pvalue)\n",
    "\n",
    "if (results.pvalue < alpha):\n",
    "    print(\"Отвергаем нулевую гипотезу\")\n",
    "else:\n",
    "    print(\"Не получилось отвергнуть нулевую гипотезу\")"
   ]
  },
  {
   "cell_type": "markdown",
   "id": "5b19b054",
   "metadata": {},
   "source": [
    "У нас нет оснований утверждать, что средние пользовательские рейтинги жанров Action и Sports одинаковые. Средние пользовательские рейтинги жанров Action и Sports различаются."
   ]
  },
  {
   "cell_type": "markdown",
   "id": "2f92d901",
   "metadata": {},
   "source": [
    "### Общий вывод"
   ]
  },
  {
   "cell_type": "markdown",
   "id": "e2c1794b",
   "metadata": {},
   "source": [
    "Для выявления определяющих успешность игры закономерностей было проведено исследование данных о продажах игр до 2016 года в Европе, Северной Америке и Японии. Данные до 2013 года из исследования убрали, чтобы устаревшая информация не искажала результаты исследования."
   ]
  },
  {
   "cell_type": "markdown",
   "id": "9989d8c9",
   "metadata": {},
   "source": [
    "В целом весь рынок игровой индустрии показывает спад, поэтому особенно важно сделать ставку на самые продаваемые игры."
   ]
  },
  {
   "cell_type": "markdown",
   "id": "34e12c9f",
   "metadata": {},
   "source": [
    "По исследованным данным можно сделать вывод о том, что одну стратегию для разных рынков использовать нельзя. Стратегии для Европы и Северной Америки можно объединить из-за схожести предпочтений пользователей, однако для Японии рекомендации будут отличаться.\n",
    "\n",
    "__Япония:__<br>\n",
    "\n",
    "Интернет-магазину Стримчик для продажи игр в Японии следует сделать ставку на игры в жанре role-playing, action, fighting, shooter выходящих на платформе 3DS без жанра.<br>\n",
    "\n",
    "__Северная Америка и Европа:__<br>\n",
    "\n",
    "В Северной Америке и Европе хорошо продаются игры в жанрах Shooter, Action и Sports на платформах PS4 и XOne с рейтингом M (\"Для взрослых\")<br>"
   ]
  }
 ],
 "metadata": {
  "ExecuteTimeLog": [
   {
    "duration": 1812,
    "start_time": "2022-04-06T17:41:55.164Z"
   },
   {
    "duration": 230,
    "start_time": "2022-04-06T17:41:56.979Z"
   },
   {
    "duration": 0,
    "start_time": "2022-04-06T17:41:57.214Z"
   },
   {
    "duration": 0,
    "start_time": "2022-04-06T17:41:57.216Z"
   },
   {
    "duration": 0,
    "start_time": "2022-04-06T17:41:57.217Z"
   },
   {
    "duration": 0,
    "start_time": "2022-04-06T17:41:57.219Z"
   },
   {
    "duration": 0,
    "start_time": "2022-04-06T17:41:57.221Z"
   },
   {
    "duration": 0,
    "start_time": "2022-04-06T17:41:57.222Z"
   },
   {
    "duration": 0,
    "start_time": "2022-04-06T17:41:57.224Z"
   },
   {
    "duration": 0,
    "start_time": "2022-04-06T17:41:57.226Z"
   },
   {
    "duration": 0,
    "start_time": "2022-04-06T17:41:57.228Z"
   },
   {
    "duration": 1,
    "start_time": "2022-04-06T17:41:57.229Z"
   },
   {
    "duration": 0,
    "start_time": "2022-04-06T17:41:57.231Z"
   },
   {
    "duration": 0,
    "start_time": "2022-04-06T17:41:57.233Z"
   },
   {
    "duration": 0,
    "start_time": "2022-04-06T17:41:57.235Z"
   },
   {
    "duration": 0,
    "start_time": "2022-04-06T17:41:57.274Z"
   },
   {
    "duration": 0,
    "start_time": "2022-04-06T17:41:57.276Z"
   },
   {
    "duration": 0,
    "start_time": "2022-04-06T17:41:57.277Z"
   },
   {
    "duration": 0,
    "start_time": "2022-04-06T17:41:57.279Z"
   },
   {
    "duration": 0,
    "start_time": "2022-04-06T17:41:57.281Z"
   },
   {
    "duration": 0,
    "start_time": "2022-04-06T17:41:57.283Z"
   },
   {
    "duration": 0,
    "start_time": "2022-04-06T17:41:57.284Z"
   },
   {
    "duration": 0,
    "start_time": "2022-04-06T17:41:57.286Z"
   },
   {
    "duration": 0,
    "start_time": "2022-04-06T17:41:57.288Z"
   },
   {
    "duration": 0,
    "start_time": "2022-04-06T17:41:57.289Z"
   },
   {
    "duration": 0,
    "start_time": "2022-04-06T17:41:57.291Z"
   },
   {
    "duration": 0,
    "start_time": "2022-04-06T17:41:57.292Z"
   },
   {
    "duration": 0,
    "start_time": "2022-04-06T17:41:57.293Z"
   },
   {
    "duration": 0,
    "start_time": "2022-04-06T17:41:57.295Z"
   },
   {
    "duration": 0,
    "start_time": "2022-04-06T17:41:57.296Z"
   },
   {
    "duration": 0,
    "start_time": "2022-04-06T17:41:57.297Z"
   },
   {
    "duration": 0,
    "start_time": "2022-04-06T17:41:57.299Z"
   },
   {
    "duration": 0,
    "start_time": "2022-04-06T17:41:57.300Z"
   },
   {
    "duration": 0,
    "start_time": "2022-04-06T17:41:57.301Z"
   },
   {
    "duration": 0,
    "start_time": "2022-04-06T17:41:57.304Z"
   },
   {
    "duration": 0,
    "start_time": "2022-04-06T17:41:57.306Z"
   },
   {
    "duration": 0,
    "start_time": "2022-04-06T17:41:57.307Z"
   },
   {
    "duration": 0,
    "start_time": "2022-04-06T17:41:57.309Z"
   },
   {
    "duration": 0,
    "start_time": "2022-04-06T17:41:57.374Z"
   },
   {
    "duration": 0,
    "start_time": "2022-04-06T17:41:57.376Z"
   },
   {
    "duration": 0,
    "start_time": "2022-04-06T17:41:57.377Z"
   },
   {
    "duration": 0,
    "start_time": "2022-04-06T17:41:57.379Z"
   },
   {
    "duration": 0,
    "start_time": "2022-04-06T17:41:57.382Z"
   },
   {
    "duration": 0,
    "start_time": "2022-04-06T17:41:57.384Z"
   },
   {
    "duration": 0,
    "start_time": "2022-04-06T17:41:57.386Z"
   },
   {
    "duration": 0,
    "start_time": "2022-04-06T17:41:57.388Z"
   },
   {
    "duration": 0,
    "start_time": "2022-04-06T17:41:57.390Z"
   },
   {
    "duration": 0,
    "start_time": "2022-04-06T17:41:57.392Z"
   },
   {
    "duration": 1583,
    "start_time": "2022-04-06T17:42:39.704Z"
   },
   {
    "duration": 153,
    "start_time": "2022-04-06T17:42:41.290Z"
   },
   {
    "duration": 0,
    "start_time": "2022-04-06T17:42:41.447Z"
   },
   {
    "duration": 0,
    "start_time": "2022-04-06T17:42:41.449Z"
   },
   {
    "duration": 0,
    "start_time": "2022-04-06T17:42:41.450Z"
   },
   {
    "duration": 0,
    "start_time": "2022-04-06T17:42:41.451Z"
   },
   {
    "duration": 0,
    "start_time": "2022-04-06T17:42:41.452Z"
   },
   {
    "duration": 0,
    "start_time": "2022-04-06T17:42:41.453Z"
   },
   {
    "duration": 0,
    "start_time": "2022-04-06T17:42:41.455Z"
   },
   {
    "duration": 0,
    "start_time": "2022-04-06T17:42:41.456Z"
   },
   {
    "duration": 0,
    "start_time": "2022-04-06T17:42:41.457Z"
   },
   {
    "duration": 0,
    "start_time": "2022-04-06T17:42:41.458Z"
   },
   {
    "duration": 0,
    "start_time": "2022-04-06T17:42:41.473Z"
   },
   {
    "duration": 0,
    "start_time": "2022-04-06T17:42:41.475Z"
   },
   {
    "duration": 0,
    "start_time": "2022-04-06T17:42:41.476Z"
   },
   {
    "duration": 0,
    "start_time": "2022-04-06T17:42:41.478Z"
   },
   {
    "duration": 0,
    "start_time": "2022-04-06T17:42:41.479Z"
   },
   {
    "duration": 0,
    "start_time": "2022-04-06T17:42:41.480Z"
   },
   {
    "duration": 0,
    "start_time": "2022-04-06T17:42:41.481Z"
   },
   {
    "duration": 0,
    "start_time": "2022-04-06T17:42:41.483Z"
   },
   {
    "duration": 0,
    "start_time": "2022-04-06T17:42:41.484Z"
   },
   {
    "duration": 0,
    "start_time": "2022-04-06T17:42:41.485Z"
   },
   {
    "duration": 0,
    "start_time": "2022-04-06T17:42:41.486Z"
   },
   {
    "duration": 0,
    "start_time": "2022-04-06T17:42:41.487Z"
   },
   {
    "duration": 0,
    "start_time": "2022-04-06T17:42:41.488Z"
   },
   {
    "duration": 0,
    "start_time": "2022-04-06T17:42:41.490Z"
   },
   {
    "duration": 0,
    "start_time": "2022-04-06T17:42:41.491Z"
   },
   {
    "duration": 0,
    "start_time": "2022-04-06T17:42:41.493Z"
   },
   {
    "duration": 0,
    "start_time": "2022-04-06T17:42:41.494Z"
   },
   {
    "duration": 0,
    "start_time": "2022-04-06T17:42:41.495Z"
   },
   {
    "duration": 0,
    "start_time": "2022-04-06T17:42:41.496Z"
   },
   {
    "duration": 0,
    "start_time": "2022-04-06T17:42:41.497Z"
   },
   {
    "duration": 0,
    "start_time": "2022-04-06T17:42:41.498Z"
   },
   {
    "duration": 0,
    "start_time": "2022-04-06T17:42:41.499Z"
   },
   {
    "duration": 0,
    "start_time": "2022-04-06T17:42:41.500Z"
   },
   {
    "duration": 0,
    "start_time": "2022-04-06T17:42:41.502Z"
   },
   {
    "duration": 0,
    "start_time": "2022-04-06T17:42:41.503Z"
   },
   {
    "duration": 0,
    "start_time": "2022-04-06T17:42:41.504Z"
   },
   {
    "duration": 0,
    "start_time": "2022-04-06T17:42:41.505Z"
   },
   {
    "duration": 0,
    "start_time": "2022-04-06T17:42:41.506Z"
   },
   {
    "duration": 0,
    "start_time": "2022-04-06T17:42:41.507Z"
   },
   {
    "duration": 0,
    "start_time": "2022-04-06T17:42:41.509Z"
   },
   {
    "duration": 1,
    "start_time": "2022-04-06T17:42:41.573Z"
   },
   {
    "duration": 0,
    "start_time": "2022-04-06T17:42:41.575Z"
   },
   {
    "duration": 0,
    "start_time": "2022-04-06T17:42:41.577Z"
   },
   {
    "duration": 0,
    "start_time": "2022-04-06T17:42:41.578Z"
   },
   {
    "duration": 0,
    "start_time": "2022-04-06T17:42:41.579Z"
   },
   {
    "duration": 0,
    "start_time": "2022-04-06T17:42:41.580Z"
   },
   {
    "duration": 1505,
    "start_time": "2022-04-06T17:44:38.552Z"
   },
   {
    "duration": 124,
    "start_time": "2022-04-06T17:44:40.060Z"
   },
   {
    "duration": 38,
    "start_time": "2022-04-06T17:44:40.187Z"
   },
   {
    "duration": 45,
    "start_time": "2022-04-06T17:44:40.229Z"
   },
   {
    "duration": 97,
    "start_time": "2022-04-06T17:44:40.277Z"
   },
   {
    "duration": 8,
    "start_time": "2022-04-06T17:44:40.376Z"
   },
   {
    "duration": 20,
    "start_time": "2022-04-06T17:44:40.387Z"
   },
   {
    "duration": 30,
    "start_time": "2022-04-06T17:44:40.410Z"
   },
   {
    "duration": 38,
    "start_time": "2022-04-06T17:44:40.442Z"
   },
   {
    "duration": 8,
    "start_time": "2022-04-06T17:44:40.484Z"
   },
   {
    "duration": 12,
    "start_time": "2022-04-06T17:44:40.494Z"
   },
   {
    "duration": 13,
    "start_time": "2022-04-06T17:44:40.508Z"
   },
   {
    "duration": 13,
    "start_time": "2022-04-06T17:44:40.523Z"
   },
   {
    "duration": 16,
    "start_time": "2022-04-06T17:44:40.538Z"
   },
   {
    "duration": 601,
    "start_time": "2022-04-06T17:44:40.574Z"
   },
   {
    "duration": 11,
    "start_time": "2022-04-06T17:44:41.177Z"
   },
   {
    "duration": 787,
    "start_time": "2022-04-06T17:44:41.190Z"
   },
   {
    "duration": 7,
    "start_time": "2022-04-06T17:44:41.979Z"
   },
   {
    "duration": 12,
    "start_time": "2022-04-06T17:44:41.988Z"
   },
   {
    "duration": 7,
    "start_time": "2022-04-06T17:44:42.002Z"
   },
   {
    "duration": 76,
    "start_time": "2022-04-06T17:44:42.011Z"
   },
   {
    "duration": 309,
    "start_time": "2022-04-06T17:44:42.090Z"
   },
   {
    "duration": 209,
    "start_time": "2022-04-06T17:44:42.402Z"
   },
   {
    "duration": 204,
    "start_time": "2022-04-06T17:44:42.613Z"
   },
   {
    "duration": 311,
    "start_time": "2022-04-06T17:44:42.819Z"
   },
   {
    "duration": 243,
    "start_time": "2022-04-06T17:44:43.133Z"
   },
   {
    "duration": 8,
    "start_time": "2022-04-06T17:44:43.378Z"
   },
   {
    "duration": 499,
    "start_time": "2022-04-06T17:44:43.392Z"
   },
   {
    "duration": 6,
    "start_time": "2022-04-06T17:44:43.893Z"
   },
   {
    "duration": 9,
    "start_time": "2022-04-06T17:44:43.902Z"
   },
   {
    "duration": 516,
    "start_time": "2022-04-06T17:44:43.914Z"
   },
   {
    "duration": 7,
    "start_time": "2022-04-06T17:44:44.432Z"
   },
   {
    "duration": 10,
    "start_time": "2022-04-06T17:44:44.441Z"
   },
   {
    "duration": 23,
    "start_time": "2022-04-06T17:44:44.453Z"
   },
   {
    "duration": 14,
    "start_time": "2022-04-06T17:44:44.479Z"
   },
   {
    "duration": 12,
    "start_time": "2022-04-06T17:44:44.495Z"
   },
   {
    "duration": 12,
    "start_time": "2022-04-06T17:44:44.509Z"
   },
   {
    "duration": 9,
    "start_time": "2022-04-06T17:44:44.523Z"
   },
   {
    "duration": 363,
    "start_time": "2022-04-06T17:44:44.534Z"
   },
   {
    "duration": 353,
    "start_time": "2022-04-06T17:44:44.900Z"
   },
   {
    "duration": 732,
    "start_time": "2022-04-06T17:44:45.255Z"
   },
   {
    "duration": 1062,
    "start_time": "2022-04-06T17:44:45.990Z"
   },
   {
    "duration": 21,
    "start_time": "2022-04-06T17:44:47.054Z"
   },
   {
    "duration": 1147,
    "start_time": "2022-04-06T17:44:47.078Z"
   },
   {
    "duration": 19,
    "start_time": "2022-04-06T17:44:48.228Z"
   },
   {
    "duration": 40,
    "start_time": "2022-04-06T17:44:48.251Z"
   },
   {
    "duration": 4,
    "start_time": "2022-04-06T17:44:48.294Z"
   },
   {
    "duration": 7,
    "start_time": "2022-04-06T17:44:48.300Z"
   },
   {
    "duration": 1702,
    "start_time": "2022-04-06T18:13:33.168Z"
   },
   {
    "duration": 301,
    "start_time": "2022-04-06T18:13:34.875Z"
   },
   {
    "duration": 0,
    "start_time": "2022-04-06T18:13:35.180Z"
   },
   {
    "duration": 0,
    "start_time": "2022-04-06T18:13:35.182Z"
   },
   {
    "duration": 0,
    "start_time": "2022-04-06T18:13:35.183Z"
   },
   {
    "duration": 0,
    "start_time": "2022-04-06T18:13:35.185Z"
   },
   {
    "duration": 0,
    "start_time": "2022-04-06T18:13:35.186Z"
   },
   {
    "duration": 0,
    "start_time": "2022-04-06T18:13:35.188Z"
   },
   {
    "duration": 0,
    "start_time": "2022-04-06T18:13:35.189Z"
   },
   {
    "duration": 0,
    "start_time": "2022-04-06T18:13:35.190Z"
   },
   {
    "duration": 0,
    "start_time": "2022-04-06T18:13:35.192Z"
   },
   {
    "duration": 0,
    "start_time": "2022-04-06T18:13:35.193Z"
   },
   {
    "duration": 0,
    "start_time": "2022-04-06T18:13:35.194Z"
   },
   {
    "duration": 0,
    "start_time": "2022-04-06T18:13:35.196Z"
   },
   {
    "duration": 0,
    "start_time": "2022-04-06T18:13:35.197Z"
   },
   {
    "duration": 0,
    "start_time": "2022-04-06T18:13:35.198Z"
   },
   {
    "duration": 0,
    "start_time": "2022-04-06T18:13:35.199Z"
   },
   {
    "duration": 0,
    "start_time": "2022-04-06T18:13:35.201Z"
   },
   {
    "duration": 0,
    "start_time": "2022-04-06T18:13:35.202Z"
   },
   {
    "duration": 0,
    "start_time": "2022-04-06T18:13:35.204Z"
   },
   {
    "duration": 0,
    "start_time": "2022-04-06T18:13:35.205Z"
   },
   {
    "duration": 0,
    "start_time": "2022-04-06T18:13:35.206Z"
   },
   {
    "duration": 0,
    "start_time": "2022-04-06T18:13:35.208Z"
   },
   {
    "duration": 0,
    "start_time": "2022-04-06T18:13:35.209Z"
   },
   {
    "duration": 0,
    "start_time": "2022-04-06T18:13:35.211Z"
   },
   {
    "duration": 0,
    "start_time": "2022-04-06T18:13:35.212Z"
   },
   {
    "duration": 0,
    "start_time": "2022-04-06T18:13:35.213Z"
   },
   {
    "duration": 0,
    "start_time": "2022-04-06T18:13:35.214Z"
   },
   {
    "duration": 0,
    "start_time": "2022-04-06T18:13:35.216Z"
   },
   {
    "duration": 0,
    "start_time": "2022-04-06T18:13:35.217Z"
   },
   {
    "duration": 0,
    "start_time": "2022-04-06T18:13:35.274Z"
   },
   {
    "duration": 0,
    "start_time": "2022-04-06T18:13:35.275Z"
   },
   {
    "duration": 0,
    "start_time": "2022-04-06T18:13:35.277Z"
   },
   {
    "duration": 0,
    "start_time": "2022-04-06T18:13:35.278Z"
   },
   {
    "duration": 0,
    "start_time": "2022-04-06T18:13:35.280Z"
   },
   {
    "duration": 0,
    "start_time": "2022-04-06T18:13:35.281Z"
   },
   {
    "duration": 0,
    "start_time": "2022-04-06T18:13:35.282Z"
   },
   {
    "duration": 0,
    "start_time": "2022-04-06T18:13:35.284Z"
   },
   {
    "duration": 0,
    "start_time": "2022-04-06T18:13:35.285Z"
   },
   {
    "duration": 0,
    "start_time": "2022-04-06T18:13:35.286Z"
   },
   {
    "duration": 0,
    "start_time": "2022-04-06T18:13:35.288Z"
   },
   {
    "duration": 0,
    "start_time": "2022-04-06T18:13:35.289Z"
   },
   {
    "duration": 0,
    "start_time": "2022-04-06T18:13:35.291Z"
   },
   {
    "duration": 0,
    "start_time": "2022-04-06T18:13:35.292Z"
   },
   {
    "duration": 0,
    "start_time": "2022-04-06T18:13:35.294Z"
   },
   {
    "duration": 0,
    "start_time": "2022-04-06T18:13:35.295Z"
   },
   {
    "duration": 0,
    "start_time": "2022-04-06T18:13:35.296Z"
   },
   {
    "duration": 0,
    "start_time": "2022-04-06T18:13:35.298Z"
   },
   {
    "duration": 4,
    "start_time": "2022-04-07T08:30:57.736Z"
   },
   {
    "duration": 82,
    "start_time": "2022-04-07T08:30:57.759Z"
   },
   {
    "duration": 46,
    "start_time": "2022-04-07T08:30:57.852Z"
   },
   {
    "duration": 64,
    "start_time": "2022-04-07T08:30:57.901Z"
   },
   {
    "duration": 148,
    "start_time": "2022-04-07T08:30:57.968Z"
   },
   {
    "duration": 8,
    "start_time": "2022-04-07T08:30:58.119Z"
   },
   {
    "duration": 41,
    "start_time": "2022-04-07T08:30:58.129Z"
   },
   {
    "duration": 33,
    "start_time": "2022-04-07T08:30:58.173Z"
   },
   {
    "duration": 40,
    "start_time": "2022-04-07T08:30:58.209Z"
   },
   {
    "duration": 9,
    "start_time": "2022-04-07T08:30:58.253Z"
   },
   {
    "duration": 14,
    "start_time": "2022-04-07T08:30:58.266Z"
   },
   {
    "duration": 17,
    "start_time": "2022-04-07T08:30:58.283Z"
   },
   {
    "duration": 14,
    "start_time": "2022-04-07T08:30:58.303Z"
   },
   {
    "duration": 9,
    "start_time": "2022-04-07T08:30:58.347Z"
   },
   {
    "duration": 543,
    "start_time": "2022-04-07T08:30:58.364Z"
   },
   {
    "duration": 13,
    "start_time": "2022-04-07T08:30:58.910Z"
   },
   {
    "duration": 917,
    "start_time": "2022-04-07T08:30:58.926Z"
   },
   {
    "duration": 9,
    "start_time": "2022-04-07T08:30:59.846Z"
   },
   {
    "duration": 19,
    "start_time": "2022-04-07T08:30:59.858Z"
   },
   {
    "duration": 11,
    "start_time": "2022-04-07T08:30:59.879Z"
   },
   {
    "duration": 87,
    "start_time": "2022-04-07T08:30:59.892Z"
   },
   {
    "duration": 326,
    "start_time": "2022-04-07T08:30:59.982Z"
   },
   {
    "duration": 224,
    "start_time": "2022-04-07T08:31:00.311Z"
   },
   {
    "duration": 220,
    "start_time": "2022-04-07T08:31:00.537Z"
   },
   {
    "duration": 340,
    "start_time": "2022-04-07T08:31:00.761Z"
   },
   {
    "duration": 224,
    "start_time": "2022-04-07T08:31:01.103Z"
   },
   {
    "duration": 18,
    "start_time": "2022-04-07T08:31:01.329Z"
   },
   {
    "duration": 581,
    "start_time": "2022-04-07T08:31:01.351Z"
   },
   {
    "duration": 11,
    "start_time": "2022-04-07T08:31:01.935Z"
   },
   {
    "duration": 22,
    "start_time": "2022-04-07T08:31:01.949Z"
   },
   {
    "duration": 587,
    "start_time": "2022-04-07T08:31:01.973Z"
   },
   {
    "duration": 9,
    "start_time": "2022-04-07T08:31:02.563Z"
   },
   {
    "duration": 17,
    "start_time": "2022-04-07T08:31:02.574Z"
   },
   {
    "duration": 12,
    "start_time": "2022-04-07T08:31:02.593Z"
   },
   {
    "duration": 18,
    "start_time": "2022-04-07T08:31:02.608Z"
   },
   {
    "duration": 19,
    "start_time": "2022-04-07T08:31:02.647Z"
   },
   {
    "duration": 24,
    "start_time": "2022-04-07T08:31:02.668Z"
   },
   {
    "duration": 15,
    "start_time": "2022-04-07T08:31:02.694Z"
   },
   {
    "duration": 439,
    "start_time": "2022-04-07T08:31:02.711Z"
   },
   {
    "duration": 458,
    "start_time": "2022-04-07T08:31:03.155Z"
   },
   {
    "duration": 745,
    "start_time": "2022-04-07T08:31:03.616Z"
   },
   {
    "duration": 758,
    "start_time": "2022-04-07T08:31:04.370Z"
   },
   {
    "duration": 14,
    "start_time": "2022-04-07T08:31:05.131Z"
   },
   {
    "duration": 899,
    "start_time": "2022-04-07T08:31:05.149Z"
   },
   {
    "duration": 19,
    "start_time": "2022-04-07T08:31:06.050Z"
   },
   {
    "duration": 16,
    "start_time": "2022-04-07T08:31:06.071Z"
   },
   {
    "duration": 3,
    "start_time": "2022-04-07T08:31:06.089Z"
   },
   {
    "duration": 12,
    "start_time": "2022-04-07T08:31:06.094Z"
   },
   {
    "duration": 4,
    "start_time": "2022-04-07T08:33:51.957Z"
   },
   {
    "duration": 18,
    "start_time": "2022-04-07T08:33:52.108Z"
   },
   {
    "duration": 23,
    "start_time": "2022-04-07T08:33:52.261Z"
   },
   {
    "duration": 10,
    "start_time": "2022-04-07T08:33:56.558Z"
   },
   {
    "duration": 67,
    "start_time": "2022-04-07T08:33:56.571Z"
   },
   {
    "duration": 33,
    "start_time": "2022-04-07T08:33:56.649Z"
   },
   {
    "duration": 28,
    "start_time": "2022-04-07T08:33:56.686Z"
   },
   {
    "duration": 32,
    "start_time": "2022-04-07T08:33:56.748Z"
   },
   {
    "duration": 4,
    "start_time": "2022-04-07T08:33:56.782Z"
   },
   {
    "duration": 7,
    "start_time": "2022-04-07T08:33:56.789Z"
   },
   {
    "duration": 65,
    "start_time": "2022-04-07T08:33:56.798Z"
   },
   {
    "duration": 25,
    "start_time": "2022-04-07T08:33:56.866Z"
   },
   {
    "duration": 9,
    "start_time": "2022-04-07T08:33:56.895Z"
   },
   {
    "duration": 40,
    "start_time": "2022-04-07T08:33:56.906Z"
   },
   {
    "duration": 13,
    "start_time": "2022-04-07T08:33:56.949Z"
   },
   {
    "duration": 10,
    "start_time": "2022-04-07T08:33:56.964Z"
   },
   {
    "duration": 8,
    "start_time": "2022-04-07T08:33:56.976Z"
   },
   {
    "duration": 9,
    "start_time": "2022-04-07T08:33:56.987Z"
   },
   {
    "duration": 558,
    "start_time": "2022-04-07T08:33:56.999Z"
   },
   {
    "duration": 12,
    "start_time": "2022-04-07T08:33:57.559Z"
   },
   {
    "duration": 839,
    "start_time": "2022-04-07T08:33:57.573Z"
   },
   {
    "duration": 7,
    "start_time": "2022-04-07T08:33:58.415Z"
   },
   {
    "duration": 33,
    "start_time": "2022-04-07T08:33:58.424Z"
   },
   {
    "duration": 16,
    "start_time": "2022-04-07T08:33:58.460Z"
   },
   {
    "duration": 44,
    "start_time": "2022-04-07T08:33:58.479Z"
   },
   {
    "duration": 348,
    "start_time": "2022-04-07T08:33:58.525Z"
   },
   {
    "duration": 212,
    "start_time": "2022-04-07T08:33:58.876Z"
   },
   {
    "duration": 223,
    "start_time": "2022-04-07T08:33:59.090Z"
   },
   {
    "duration": 219,
    "start_time": "2022-04-07T08:33:59.315Z"
   },
   {
    "duration": 215,
    "start_time": "2022-04-07T08:33:59.536Z"
   },
   {
    "duration": 8,
    "start_time": "2022-04-07T08:33:59.759Z"
   },
   {
    "duration": 631,
    "start_time": "2022-04-07T08:33:59.769Z"
   },
   {
    "duration": 6,
    "start_time": "2022-04-07T08:34:00.402Z"
   },
   {
    "duration": 12,
    "start_time": "2022-04-07T08:34:00.410Z"
   },
   {
    "duration": 511,
    "start_time": "2022-04-07T08:34:00.443Z"
   },
   {
    "duration": 7,
    "start_time": "2022-04-07T08:34:00.959Z"
   },
   {
    "duration": 19,
    "start_time": "2022-04-07T08:34:00.969Z"
   },
   {
    "duration": 22,
    "start_time": "2022-04-07T08:34:00.990Z"
   },
   {
    "duration": 43,
    "start_time": "2022-04-07T08:34:01.014Z"
   },
   {
    "duration": 37,
    "start_time": "2022-04-07T08:34:01.061Z"
   },
   {
    "duration": 31,
    "start_time": "2022-04-07T08:34:01.100Z"
   },
   {
    "duration": 36,
    "start_time": "2022-04-07T08:34:01.133Z"
   },
   {
    "duration": 388,
    "start_time": "2022-04-07T08:34:01.171Z"
   },
   {
    "duration": 372,
    "start_time": "2022-04-07T08:34:01.562Z"
   },
   {
    "duration": 718,
    "start_time": "2022-04-07T08:34:01.936Z"
   },
   {
    "duration": 749,
    "start_time": "2022-04-07T08:34:02.657Z"
   },
   {
    "duration": 7,
    "start_time": "2022-04-07T08:34:03.408Z"
   },
   {
    "duration": 773,
    "start_time": "2022-04-07T08:34:03.418Z"
   },
   {
    "duration": 17,
    "start_time": "2022-04-07T08:34:04.194Z"
   },
   {
    "duration": 45,
    "start_time": "2022-04-07T08:34:04.214Z"
   },
   {
    "duration": 5,
    "start_time": "2022-04-07T08:34:04.261Z"
   },
   {
    "duration": 8,
    "start_time": "2022-04-07T08:34:04.268Z"
   },
   {
    "duration": 8,
    "start_time": "2022-04-07T08:38:36.870Z"
   },
   {
    "duration": 11,
    "start_time": "2022-04-07T08:38:42.117Z"
   },
   {
    "duration": 180,
    "start_time": "2022-04-07T08:43:45.559Z"
   },
   {
    "duration": 66,
    "start_time": "2022-04-07T08:44:09.597Z"
   },
   {
    "duration": 332,
    "start_time": "2022-04-07T08:44:28.237Z"
   },
   {
    "duration": 11,
    "start_time": "2022-04-07T08:44:51.671Z"
   },
   {
    "duration": 8,
    "start_time": "2022-04-07T08:44:52.124Z"
   },
   {
    "duration": 216,
    "start_time": "2022-04-07T08:44:52.289Z"
   },
   {
    "duration": 387,
    "start_time": "2022-04-07T08:44:52.508Z"
   },
   {
    "duration": 246,
    "start_time": "2022-04-07T08:44:52.897Z"
   },
   {
    "duration": 408,
    "start_time": "2022-04-07T08:45:48.196Z"
   },
   {
    "duration": 348,
    "start_time": "2022-04-07T08:46:25.565Z"
   },
   {
    "duration": 252,
    "start_time": "2022-04-07T08:47:08.702Z"
   },
   {
    "duration": 212,
    "start_time": "2022-04-07T08:47:24.677Z"
   },
   {
    "duration": 195,
    "start_time": "2022-04-07T08:47:49.931Z"
   },
   {
    "duration": 194,
    "start_time": "2022-04-07T08:48:00.716Z"
   },
   {
    "duration": 239,
    "start_time": "2022-04-07T08:48:26.237Z"
   },
   {
    "duration": 197,
    "start_time": "2022-04-07T08:48:31.531Z"
   },
   {
    "duration": 181,
    "start_time": "2022-04-07T08:48:55.293Z"
   },
   {
    "duration": 337,
    "start_time": "2022-04-07T08:48:59.812Z"
   },
   {
    "duration": 177,
    "start_time": "2022-04-07T08:49:10.460Z"
   },
   {
    "duration": 190,
    "start_time": "2022-04-07T08:49:36.246Z"
   },
   {
    "duration": 200,
    "start_time": "2022-04-07T08:49:39.982Z"
   },
   {
    "duration": 7,
    "start_time": "2022-04-07T08:50:25.377Z"
   },
   {
    "duration": 510,
    "start_time": "2022-04-07T08:50:25.676Z"
   },
   {
    "duration": 6,
    "start_time": "2022-04-07T08:50:48.830Z"
   },
   {
    "duration": 512,
    "start_time": "2022-04-07T08:50:48.987Z"
   },
   {
    "duration": 5,
    "start_time": "2022-04-07T08:50:49.503Z"
   },
   {
    "duration": 8,
    "start_time": "2022-04-07T08:51:29.821Z"
   },
   {
    "duration": 475,
    "start_time": "2022-04-07T08:51:29.989Z"
   },
   {
    "duration": 7,
    "start_time": "2022-04-07T08:51:30.467Z"
   },
   {
    "duration": 297,
    "start_time": "2022-04-07T08:51:52.158Z"
   },
   {
    "duration": 0,
    "start_time": "2022-04-07T08:51:52.458Z"
   },
   {
    "duration": 8,
    "start_time": "2022-04-07T08:51:59.292Z"
   },
   {
    "duration": 542,
    "start_time": "2022-04-07T08:51:59.440Z"
   },
   {
    "duration": 6,
    "start_time": "2022-04-07T08:51:59.985Z"
   },
   {
    "duration": 8,
    "start_time": "2022-04-07T08:52:15.857Z"
   },
   {
    "duration": 12,
    "start_time": "2022-04-07T08:56:31.411Z"
   },
   {
    "duration": 8,
    "start_time": "2022-04-07T08:57:15.661Z"
   },
   {
    "duration": 9,
    "start_time": "2022-04-07T08:57:58.970Z"
   },
   {
    "duration": 8,
    "start_time": "2022-04-07T08:58:27.566Z"
   },
   {
    "duration": 10,
    "start_time": "2022-04-07T08:59:22.121Z"
   },
   {
    "duration": 12,
    "start_time": "2022-04-07T08:59:38.281Z"
   },
   {
    "duration": 10,
    "start_time": "2022-04-07T09:00:18.557Z"
   },
   {
    "duration": 9,
    "start_time": "2022-04-07T09:00:44.573Z"
   },
   {
    "duration": 8,
    "start_time": "2022-04-07T09:01:20.811Z"
   },
   {
    "duration": 9,
    "start_time": "2022-04-07T09:01:46.135Z"
   },
   {
    "duration": 383,
    "start_time": "2022-04-07T09:02:51.460Z"
   },
   {
    "duration": 349,
    "start_time": "2022-04-07T09:03:05.415Z"
   },
   {
    "duration": 3163,
    "start_time": "2022-04-07T09:05:12.372Z"
   },
   {
    "duration": 717,
    "start_time": "2022-04-07T09:05:31.219Z"
   },
   {
    "duration": 755,
    "start_time": "2022-04-07T09:07:53.979Z"
   },
   {
    "duration": 748,
    "start_time": "2022-04-07T09:09:02.007Z"
   },
   {
    "duration": 803,
    "start_time": "2022-04-07T09:09:23.214Z"
   },
   {
    "duration": 857,
    "start_time": "2022-04-07T09:10:09.651Z"
   },
   {
    "duration": 721,
    "start_time": "2022-04-07T09:10:43.975Z"
   },
   {
    "duration": 1283,
    "start_time": "2022-04-07T09:47:19.489Z"
   },
   {
    "duration": 689,
    "start_time": "2022-04-07T09:48:23.269Z"
   },
   {
    "duration": 467,
    "start_time": "2022-04-07T10:03:00.671Z"
   },
   {
    "duration": 181,
    "start_time": "2022-04-07T10:10:41.784Z"
   },
   {
    "duration": 181,
    "start_time": "2022-04-07T10:11:25.709Z"
   },
   {
    "duration": 17,
    "start_time": "2022-04-07T10:18:38.214Z"
   },
   {
    "duration": 8,
    "start_time": "2022-04-07T10:19:10.570Z"
   },
   {
    "duration": 9,
    "start_time": "2022-04-07T10:19:57.810Z"
   },
   {
    "duration": 9,
    "start_time": "2022-04-07T10:20:33.650Z"
   },
   {
    "duration": 8,
    "start_time": "2022-04-07T10:21:30.723Z"
   },
   {
    "duration": 7,
    "start_time": "2022-04-07T10:21:43.670Z"
   },
   {
    "duration": 7,
    "start_time": "2022-04-07T10:21:59.500Z"
   },
   {
    "duration": 8,
    "start_time": "2022-04-07T10:22:50.173Z"
   },
   {
    "duration": 175,
    "start_time": "2022-04-07T10:23:29.732Z"
   },
   {
    "duration": 10,
    "start_time": "2022-04-07T10:24:04.793Z"
   },
   {
    "duration": 6,
    "start_time": "2022-04-07T10:25:40.323Z"
   },
   {
    "duration": 7,
    "start_time": "2022-04-07T10:25:48.127Z"
   },
   {
    "duration": 372,
    "start_time": "2022-04-07T10:30:38.354Z"
   },
   {
    "duration": 337,
    "start_time": "2022-04-07T10:30:49.696Z"
   },
   {
    "duration": 31,
    "start_time": "2022-04-07T10:34:27.266Z"
   },
   {
    "duration": 33,
    "start_time": "2022-04-07T10:35:49.281Z"
   },
   {
    "duration": 38,
    "start_time": "2022-04-07T10:36:48.671Z"
   },
   {
    "duration": 71,
    "start_time": "2022-04-07T10:38:08.502Z"
   },
   {
    "duration": 73,
    "start_time": "2022-04-07T10:38:18.269Z"
   },
   {
    "duration": 56,
    "start_time": "2022-04-07T10:38:39.194Z"
   },
   {
    "duration": 40,
    "start_time": "2022-04-07T10:40:36.886Z"
   },
   {
    "duration": 4,
    "start_time": "2022-04-07T10:42:57.648Z"
   },
   {
    "duration": 176,
    "start_time": "2022-04-07T10:44:00.049Z"
   },
   {
    "duration": 20,
    "start_time": "2022-04-07T10:46:45.457Z"
   },
   {
    "duration": 28,
    "start_time": "2022-04-07T10:46:58.991Z"
   },
   {
    "duration": 36,
    "start_time": "2022-04-07T10:47:11.850Z"
   },
   {
    "duration": 38,
    "start_time": "2022-04-07T10:47:38.830Z"
   },
   {
    "duration": 39,
    "start_time": "2022-04-07T10:47:57.529Z"
   },
   {
    "duration": 41,
    "start_time": "2022-04-07T10:48:10.845Z"
   },
   {
    "duration": 40,
    "start_time": "2022-04-07T10:48:21.128Z"
   },
   {
    "duration": 38,
    "start_time": "2022-04-07T10:48:37.837Z"
   },
   {
    "duration": 39,
    "start_time": "2022-04-07T10:48:50.109Z"
   },
   {
    "duration": 42,
    "start_time": "2022-04-07T10:49:19.237Z"
   },
   {
    "duration": 39,
    "start_time": "2022-04-07T10:49:26.252Z"
   },
   {
    "duration": 209,
    "start_time": "2022-04-07T10:51:41.661Z"
   },
   {
    "duration": 47,
    "start_time": "2022-04-07T10:54:02.044Z"
   },
   {
    "duration": 11,
    "start_time": "2022-04-07T10:54:18.862Z"
   },
   {
    "duration": 9,
    "start_time": "2022-04-07T10:54:48.796Z"
   },
   {
    "duration": 6,
    "start_time": "2022-04-07T10:54:55.831Z"
   },
   {
    "duration": 6,
    "start_time": "2022-04-07T10:55:07.083Z"
   },
   {
    "duration": 6,
    "start_time": "2022-04-07T10:55:19.925Z"
   },
   {
    "duration": 45,
    "start_time": "2022-04-07T10:55:59.925Z"
   },
   {
    "duration": 16,
    "start_time": "2022-04-07T10:56:10.716Z"
   },
   {
    "duration": 2730,
    "start_time": "2022-04-07T10:58:08.675Z"
   },
   {
    "duration": 13,
    "start_time": "2022-04-07T10:58:19.819Z"
   },
   {
    "duration": 37,
    "start_time": "2022-04-07T10:58:32.218Z"
   },
   {
    "duration": 8,
    "start_time": "2022-04-07T11:05:06.811Z"
   },
   {
    "duration": 6,
    "start_time": "2022-04-07T11:06:08.899Z"
   },
   {
    "duration": 56,
    "start_time": "2022-04-07T11:06:09.296Z"
   },
   {
    "duration": 210,
    "start_time": "2022-04-07T11:06:13.433Z"
   },
   {
    "duration": 32,
    "start_time": "2022-04-07T11:06:32.463Z"
   },
   {
    "duration": 6,
    "start_time": "2022-04-07T11:07:19.786Z"
   },
   {
    "duration": 61,
    "start_time": "2022-04-07T11:07:20.112Z"
   },
   {
    "duration": 200,
    "start_time": "2022-04-07T11:07:20.470Z"
   },
   {
    "duration": 6,
    "start_time": "2022-04-07T11:08:17.317Z"
   },
   {
    "duration": 58,
    "start_time": "2022-04-07T11:08:17.657Z"
   },
   {
    "duration": 197,
    "start_time": "2022-04-07T11:08:26.826Z"
   },
   {
    "duration": 6,
    "start_time": "2022-04-07T11:08:59.074Z"
   },
   {
    "duration": 58,
    "start_time": "2022-04-07T11:08:59.213Z"
   },
   {
    "duration": 298,
    "start_time": "2022-04-07T11:08:59.352Z"
   },
   {
    "duration": 6,
    "start_time": "2022-04-07T11:09:41.112Z"
   },
   {
    "duration": 57,
    "start_time": "2022-04-07T11:09:41.288Z"
   },
   {
    "duration": 207,
    "start_time": "2022-04-07T11:09:41.449Z"
   },
   {
    "duration": 6,
    "start_time": "2022-04-07T11:09:56.080Z"
   },
   {
    "duration": 56,
    "start_time": "2022-04-07T11:09:56.240Z"
   },
   {
    "duration": 190,
    "start_time": "2022-04-07T11:09:56.400Z"
   },
   {
    "duration": 6,
    "start_time": "2022-04-07T11:10:17.414Z"
   },
   {
    "duration": 58,
    "start_time": "2022-04-07T11:10:17.576Z"
   },
   {
    "duration": 202,
    "start_time": "2022-04-07T11:10:17.837Z"
   },
   {
    "duration": 4,
    "start_time": "2022-04-07T11:11:10.733Z"
   },
   {
    "duration": 78,
    "start_time": "2022-04-07T11:11:10.743Z"
   },
   {
    "duration": 32,
    "start_time": "2022-04-07T11:11:10.824Z"
   },
   {
    "duration": 21,
    "start_time": "2022-04-07T11:11:10.858Z"
   },
   {
    "duration": 22,
    "start_time": "2022-04-07T11:11:10.883Z"
   },
   {
    "duration": 4,
    "start_time": "2022-04-07T11:11:10.943Z"
   },
   {
    "duration": 21,
    "start_time": "2022-04-07T11:11:10.950Z"
   },
   {
    "duration": 25,
    "start_time": "2022-04-07T11:11:10.973Z"
   },
   {
    "duration": 9,
    "start_time": "2022-04-07T11:11:11.001Z"
   },
   {
    "duration": 8,
    "start_time": "2022-04-07T11:11:11.043Z"
   },
   {
    "duration": 13,
    "start_time": "2022-04-07T11:11:11.055Z"
   },
   {
    "duration": 6,
    "start_time": "2022-04-07T11:11:11.071Z"
   },
   {
    "duration": 8,
    "start_time": "2022-04-07T11:11:11.080Z"
   },
   {
    "duration": 53,
    "start_time": "2022-04-07T11:11:11.091Z"
   },
   {
    "duration": 482,
    "start_time": "2022-04-07T11:11:11.147Z"
   },
   {
    "duration": 18,
    "start_time": "2022-04-07T11:11:11.632Z"
   },
   {
    "duration": 715,
    "start_time": "2022-04-07T11:11:11.653Z"
   },
   {
    "duration": 6,
    "start_time": "2022-04-07T11:11:12.371Z"
   },
   {
    "duration": 13,
    "start_time": "2022-04-07T11:11:12.380Z"
   },
   {
    "duration": 7,
    "start_time": "2022-04-07T11:11:12.395Z"
   },
   {
    "duration": 91,
    "start_time": "2022-04-07T11:11:12.404Z"
   },
   {
    "duration": 327,
    "start_time": "2022-04-07T11:11:12.497Z"
   },
   {
    "duration": 197,
    "start_time": "2022-04-07T11:11:12.826Z"
   },
   {
    "duration": 290,
    "start_time": "2022-04-07T11:11:13.025Z"
   },
   {
    "duration": 182,
    "start_time": "2022-04-07T11:11:13.318Z"
   },
   {
    "duration": 203,
    "start_time": "2022-04-07T11:11:13.505Z"
   },
   {
    "duration": 175,
    "start_time": "2022-04-07T11:11:13.710Z"
   },
   {
    "duration": 195,
    "start_time": "2022-04-07T11:11:13.887Z"
   },
   {
    "duration": 6,
    "start_time": "2022-04-07T11:11:14.085Z"
   },
   {
    "duration": 460,
    "start_time": "2022-04-07T11:11:14.094Z"
   },
   {
    "duration": 6,
    "start_time": "2022-04-07T11:11:14.556Z"
   },
   {
    "duration": 9,
    "start_time": "2022-04-07T11:11:14.565Z"
   },
   {
    "duration": 512,
    "start_time": "2022-04-07T11:11:14.576Z"
   },
   {
    "duration": 7,
    "start_time": "2022-04-07T11:11:15.090Z"
   },
   {
    "duration": 17,
    "start_time": "2022-04-07T11:11:15.099Z"
   },
   {
    "duration": 32,
    "start_time": "2022-04-07T11:11:15.118Z"
   },
   {
    "duration": 18,
    "start_time": "2022-04-07T11:11:15.152Z"
   },
   {
    "duration": 21,
    "start_time": "2022-04-07T11:11:15.173Z"
   },
   {
    "duration": 19,
    "start_time": "2022-04-07T11:11:15.196Z"
   },
   {
    "duration": 23,
    "start_time": "2022-04-07T11:11:15.217Z"
   },
   {
    "duration": 9,
    "start_time": "2022-04-07T11:11:15.243Z"
   },
   {
    "duration": 19,
    "start_time": "2022-04-07T11:11:15.254Z"
   },
   {
    "duration": 32,
    "start_time": "2022-04-07T11:11:15.275Z"
   },
   {
    "duration": 37,
    "start_time": "2022-04-07T11:11:15.310Z"
   },
   {
    "duration": 312,
    "start_time": "2022-04-07T11:11:15.350Z"
   },
   {
    "duration": 334,
    "start_time": "2022-04-07T11:11:15.665Z"
   },
   {
    "duration": 677,
    "start_time": "2022-04-07T11:11:16.001Z"
   },
   {
    "duration": 729,
    "start_time": "2022-04-07T11:11:16.681Z"
   },
   {
    "duration": 3,
    "start_time": "2022-04-07T11:11:17.412Z"
   },
   {
    "duration": 656,
    "start_time": "2022-04-07T11:11:17.417Z"
   },
   {
    "duration": 15,
    "start_time": "2022-04-07T11:11:18.075Z"
   },
   {
    "duration": 15,
    "start_time": "2022-04-07T11:11:18.093Z"
   },
   {
    "duration": 33,
    "start_time": "2022-04-07T11:11:18.110Z"
   },
   {
    "duration": 14,
    "start_time": "2022-04-07T11:11:18.145Z"
   },
   {
    "duration": 6,
    "start_time": "2022-04-07T11:12:28.167Z"
   },
   {
    "duration": 14,
    "start_time": "2022-04-07T11:12:28.289Z"
   },
   {
    "duration": 12,
    "start_time": "2022-04-07T11:12:53.683Z"
   },
   {
    "duration": 685,
    "start_time": "2022-04-07T11:24:48.225Z"
   },
   {
    "duration": 647,
    "start_time": "2022-04-07T11:25:03.170Z"
   },
   {
    "duration": 19,
    "start_time": "2022-04-07T11:31:04.756Z"
   },
   {
    "duration": 15,
    "start_time": "2022-04-07T11:31:14.907Z"
   },
   {
    "duration": 5,
    "start_time": "2022-04-07T12:30:30.576Z"
   },
   {
    "duration": 83,
    "start_time": "2022-04-07T12:30:30.585Z"
   },
   {
    "duration": 38,
    "start_time": "2022-04-07T12:30:30.671Z"
   },
   {
    "duration": 25,
    "start_time": "2022-04-07T12:30:30.744Z"
   },
   {
    "duration": 69,
    "start_time": "2022-04-07T12:30:30.774Z"
   },
   {
    "duration": 6,
    "start_time": "2022-04-07T12:30:30.846Z"
   },
   {
    "duration": 40,
    "start_time": "2022-04-07T12:30:30.855Z"
   },
   {
    "duration": 47,
    "start_time": "2022-04-07T12:30:30.897Z"
   },
   {
    "duration": 11,
    "start_time": "2022-04-07T12:30:30.947Z"
   },
   {
    "duration": 20,
    "start_time": "2022-04-07T12:30:30.961Z"
   },
   {
    "duration": 21,
    "start_time": "2022-04-07T12:30:30.987Z"
   },
   {
    "duration": 18,
    "start_time": "2022-04-07T12:30:31.011Z"
   },
   {
    "duration": 21,
    "start_time": "2022-04-07T12:30:31.031Z"
   },
   {
    "duration": 23,
    "start_time": "2022-04-07T12:30:31.055Z"
   },
   {
    "duration": 19,
    "start_time": "2022-04-07T12:30:31.080Z"
   },
   {
    "duration": 463,
    "start_time": "2022-04-07T12:30:31.102Z"
   },
   {
    "duration": 14,
    "start_time": "2022-04-07T12:30:31.568Z"
   },
   {
    "duration": 933,
    "start_time": "2022-04-07T12:30:31.585Z"
   },
   {
    "duration": 6,
    "start_time": "2022-04-07T12:30:32.521Z"
   },
   {
    "duration": 10,
    "start_time": "2022-04-07T12:30:32.543Z"
   },
   {
    "duration": 9,
    "start_time": "2022-04-07T12:30:32.555Z"
   },
   {
    "duration": 77,
    "start_time": "2022-04-07T12:30:32.566Z"
   },
   {
    "duration": 327,
    "start_time": "2022-04-07T12:30:32.645Z"
   },
   {
    "duration": 197,
    "start_time": "2022-04-07T12:30:32.974Z"
   },
   {
    "duration": 201,
    "start_time": "2022-04-07T12:30:33.173Z"
   },
   {
    "duration": 175,
    "start_time": "2022-04-07T12:30:33.376Z"
   },
   {
    "duration": 196,
    "start_time": "2022-04-07T12:30:33.553Z"
   },
   {
    "duration": 175,
    "start_time": "2022-04-07T12:30:33.751Z"
   },
   {
    "duration": 202,
    "start_time": "2022-04-07T12:30:33.933Z"
   },
   {
    "duration": 11,
    "start_time": "2022-04-07T12:30:34.137Z"
   },
   {
    "duration": 432,
    "start_time": "2022-04-07T12:30:34.151Z"
   },
   {
    "duration": 7,
    "start_time": "2022-04-07T12:30:34.585Z"
   },
   {
    "duration": 9,
    "start_time": "2022-04-07T12:30:34.595Z"
   },
   {
    "duration": 481,
    "start_time": "2022-04-07T12:30:34.606Z"
   },
   {
    "duration": 7,
    "start_time": "2022-04-07T12:30:35.089Z"
   },
   {
    "duration": 12,
    "start_time": "2022-04-07T12:30:35.098Z"
   },
   {
    "duration": 38,
    "start_time": "2022-04-07T12:30:35.113Z"
   },
   {
    "duration": 8,
    "start_time": "2022-04-07T12:30:35.154Z"
   },
   {
    "duration": 10,
    "start_time": "2022-04-07T12:30:35.164Z"
   },
   {
    "duration": 9,
    "start_time": "2022-04-07T12:30:35.176Z"
   },
   {
    "duration": 13,
    "start_time": "2022-04-07T12:30:35.187Z"
   },
   {
    "duration": 43,
    "start_time": "2022-04-07T12:30:35.202Z"
   },
   {
    "duration": 10,
    "start_time": "2022-04-07T12:30:35.247Z"
   },
   {
    "duration": 10,
    "start_time": "2022-04-07T12:30:35.260Z"
   },
   {
    "duration": 15,
    "start_time": "2022-04-07T12:30:35.273Z"
   },
   {
    "duration": 437,
    "start_time": "2022-04-07T12:30:35.291Z"
   },
   {
    "duration": 343,
    "start_time": "2022-04-07T12:30:35.730Z"
   },
   {
    "duration": 676,
    "start_time": "2022-04-07T12:30:36.075Z"
   },
   {
    "duration": 634,
    "start_time": "2022-04-07T12:30:36.753Z"
   },
   {
    "duration": 3,
    "start_time": "2022-04-07T12:30:37.389Z"
   },
   {
    "duration": 682,
    "start_time": "2022-04-07T12:30:37.395Z"
   },
   {
    "duration": 7,
    "start_time": "2022-04-07T12:30:38.080Z"
   },
   {
    "duration": 13,
    "start_time": "2022-04-07T12:30:38.089Z"
   },
   {
    "duration": 44,
    "start_time": "2022-04-07T12:30:38.105Z"
   },
   {
    "duration": 6,
    "start_time": "2022-04-07T12:30:38.152Z"
   },
   {
    "duration": 8,
    "start_time": "2022-04-07T12:30:38.160Z"
   },
   {
    "duration": 33,
    "start_time": "2022-04-07T12:33:53.653Z"
   },
   {
    "duration": 19,
    "start_time": "2022-04-07T12:34:03.636Z"
   },
   {
    "duration": 10,
    "start_time": "2022-04-07T12:35:14.508Z"
   },
   {
    "duration": 10,
    "start_time": "2022-04-07T12:35:18.948Z"
   },
   {
    "duration": 4,
    "start_time": "2022-04-07T12:36:28.314Z"
   },
   {
    "duration": 9,
    "start_time": "2022-04-07T12:36:28.787Z"
   },
   {
    "duration": 310,
    "start_time": "2022-04-07T12:36:53.252Z"
   },
   {
    "duration": 307,
    "start_time": "2022-04-07T12:36:59.685Z"
   },
   {
    "duration": 1456,
    "start_time": "2022-04-07T12:39:19.280Z"
   },
   {
    "duration": 7,
    "start_time": "2022-04-07T12:39:31.455Z"
   },
   {
    "duration": 19,
    "start_time": "2022-04-07T12:39:42.132Z"
   },
   {
    "duration": 4,
    "start_time": "2022-04-07T12:40:21.656Z"
   },
   {
    "duration": 54,
    "start_time": "2022-04-07T12:40:21.662Z"
   },
   {
    "duration": 33,
    "start_time": "2022-04-07T12:40:21.719Z"
   },
   {
    "duration": 39,
    "start_time": "2022-04-07T12:40:21.754Z"
   },
   {
    "duration": 48,
    "start_time": "2022-04-07T12:40:21.797Z"
   },
   {
    "duration": 5,
    "start_time": "2022-04-07T12:40:21.848Z"
   },
   {
    "duration": 27,
    "start_time": "2022-04-07T12:40:21.855Z"
   },
   {
    "duration": 62,
    "start_time": "2022-04-07T12:40:21.884Z"
   },
   {
    "duration": 6,
    "start_time": "2022-04-07T12:40:21.948Z"
   },
   {
    "duration": 14,
    "start_time": "2022-04-07T12:40:21.956Z"
   },
   {
    "duration": 5,
    "start_time": "2022-04-07T12:40:21.974Z"
   },
   {
    "duration": 16,
    "start_time": "2022-04-07T12:40:21.981Z"
   },
   {
    "duration": 17,
    "start_time": "2022-04-07T12:40:21.999Z"
   },
   {
    "duration": 26,
    "start_time": "2022-04-07T12:40:22.018Z"
   },
   {
    "duration": 8,
    "start_time": "2022-04-07T12:40:22.046Z"
   },
   {
    "duration": 8,
    "start_time": "2022-04-07T12:40:22.055Z"
   },
   {
    "duration": 540,
    "start_time": "2022-04-07T12:40:22.065Z"
   },
   {
    "duration": 13,
    "start_time": "2022-04-07T12:40:22.607Z"
   },
   {
    "duration": 725,
    "start_time": "2022-04-07T12:40:22.622Z"
   },
   {
    "duration": 7,
    "start_time": "2022-04-07T12:40:23.349Z"
   },
   {
    "duration": 19,
    "start_time": "2022-04-07T12:40:23.358Z"
   },
   {
    "duration": 8,
    "start_time": "2022-04-07T12:40:23.379Z"
   },
   {
    "duration": 89,
    "start_time": "2022-04-07T12:40:23.389Z"
   },
   {
    "duration": 329,
    "start_time": "2022-04-07T12:40:23.480Z"
   },
   {
    "duration": 194,
    "start_time": "2022-04-07T12:40:23.811Z"
   },
   {
    "duration": 190,
    "start_time": "2022-04-07T12:40:24.008Z"
   },
   {
    "duration": 176,
    "start_time": "2022-04-07T12:40:24.200Z"
   },
   {
    "duration": 203,
    "start_time": "2022-04-07T12:40:24.378Z"
   },
   {
    "duration": 179,
    "start_time": "2022-04-07T12:40:24.586Z"
   },
   {
    "duration": 202,
    "start_time": "2022-04-07T12:40:24.767Z"
   },
   {
    "duration": 6,
    "start_time": "2022-04-07T12:40:24.971Z"
   },
   {
    "duration": 543,
    "start_time": "2022-04-07T12:40:24.979Z"
   },
   {
    "duration": 5,
    "start_time": "2022-04-07T12:40:25.524Z"
   },
   {
    "duration": 16,
    "start_time": "2022-04-07T12:40:25.531Z"
   },
   {
    "duration": 462,
    "start_time": "2022-04-07T12:40:25.549Z"
   },
   {
    "duration": 6,
    "start_time": "2022-04-07T12:40:26.013Z"
   },
   {
    "duration": 26,
    "start_time": "2022-04-07T12:40:26.021Z"
   },
   {
    "duration": 9,
    "start_time": "2022-04-07T12:40:26.050Z"
   },
   {
    "duration": 11,
    "start_time": "2022-04-07T12:40:26.062Z"
   },
   {
    "duration": 17,
    "start_time": "2022-04-07T12:40:26.075Z"
   },
   {
    "duration": 11,
    "start_time": "2022-04-07T12:40:26.095Z"
   },
   {
    "duration": 42,
    "start_time": "2022-04-07T12:40:26.108Z"
   },
   {
    "duration": 9,
    "start_time": "2022-04-07T12:40:26.152Z"
   },
   {
    "duration": 10,
    "start_time": "2022-04-07T12:40:26.163Z"
   },
   {
    "duration": 9,
    "start_time": "2022-04-07T12:40:26.175Z"
   },
   {
    "duration": 13,
    "start_time": "2022-04-07T12:40:26.186Z"
   },
   {
    "duration": 373,
    "start_time": "2022-04-07T12:40:26.201Z"
   },
   {
    "duration": 323,
    "start_time": "2022-04-07T12:40:26.576Z"
   },
   {
    "duration": 716,
    "start_time": "2022-04-07T12:40:26.901Z"
   },
   {
    "duration": 665,
    "start_time": "2022-04-07T12:40:27.619Z"
   },
   {
    "duration": 4,
    "start_time": "2022-04-07T12:40:28.286Z"
   },
   {
    "duration": 686,
    "start_time": "2022-04-07T12:40:28.292Z"
   },
   {
    "duration": 7,
    "start_time": "2022-04-07T12:40:28.981Z"
   },
   {
    "duration": 18,
    "start_time": "2022-04-07T12:40:28.990Z"
   },
   {
    "duration": 37,
    "start_time": "2022-04-07T12:40:29.010Z"
   },
   {
    "duration": 3,
    "start_time": "2022-04-07T12:40:29.049Z"
   },
   {
    "duration": 8,
    "start_time": "2022-04-07T12:40:29.054Z"
   },
   {
    "duration": 32,
    "start_time": "2022-04-07T12:42:31.722Z"
   },
   {
    "duration": 1438,
    "start_time": "2022-04-07T12:44:08.489Z"
   },
   {
    "duration": 0,
    "start_time": "2022-04-07T12:44:09.929Z"
   },
   {
    "duration": 0,
    "start_time": "2022-04-07T12:44:09.931Z"
   },
   {
    "duration": 3,
    "start_time": "2022-04-07T12:44:27.390Z"
   },
   {
    "duration": 72,
    "start_time": "2022-04-07T12:44:27.396Z"
   },
   {
    "duration": 29,
    "start_time": "2022-04-07T12:44:27.471Z"
   },
   {
    "duration": 48,
    "start_time": "2022-04-07T12:44:27.502Z"
   },
   {
    "duration": 22,
    "start_time": "2022-04-07T12:44:27.553Z"
   },
   {
    "duration": 8,
    "start_time": "2022-04-07T12:44:27.577Z"
   },
   {
    "duration": 58,
    "start_time": "2022-04-07T12:44:27.587Z"
   },
   {
    "duration": 33,
    "start_time": "2022-04-07T12:44:27.647Z"
   },
   {
    "duration": 27,
    "start_time": "2022-04-07T12:44:27.683Z"
   },
   {
    "duration": 5,
    "start_time": "2022-04-07T12:44:27.712Z"
   },
   {
    "duration": 9,
    "start_time": "2022-04-07T12:44:27.721Z"
   },
   {
    "duration": 17,
    "start_time": "2022-04-07T12:44:27.732Z"
   },
   {
    "duration": 7,
    "start_time": "2022-04-07T12:44:27.752Z"
   },
   {
    "duration": 8,
    "start_time": "2022-04-07T12:44:27.761Z"
   },
   {
    "duration": 8,
    "start_time": "2022-04-07T12:44:27.771Z"
   },
   {
    "duration": 542,
    "start_time": "2022-04-07T12:44:27.781Z"
   },
   {
    "duration": 20,
    "start_time": "2022-04-07T12:44:28.325Z"
   },
   {
    "duration": 728,
    "start_time": "2022-04-07T12:44:28.347Z"
   },
   {
    "duration": 6,
    "start_time": "2022-04-07T12:44:29.077Z"
   },
   {
    "duration": 19,
    "start_time": "2022-04-07T12:44:29.085Z"
   },
   {
    "duration": 12,
    "start_time": "2022-04-07T12:44:29.106Z"
   },
   {
    "duration": 81,
    "start_time": "2022-04-07T12:44:29.119Z"
   },
   {
    "duration": 347,
    "start_time": "2022-04-07T12:44:29.202Z"
   },
   {
    "duration": 208,
    "start_time": "2022-04-07T12:44:29.552Z"
   },
   {
    "duration": 194,
    "start_time": "2022-04-07T12:44:29.763Z"
   },
   {
    "duration": 184,
    "start_time": "2022-04-07T12:44:29.959Z"
   },
   {
    "duration": 199,
    "start_time": "2022-04-07T12:44:30.146Z"
   },
   {
    "duration": 178,
    "start_time": "2022-04-07T12:44:30.348Z"
   },
   {
    "duration": 197,
    "start_time": "2022-04-07T12:44:30.532Z"
   },
   {
    "duration": 15,
    "start_time": "2022-04-07T12:44:30.731Z"
   },
   {
    "duration": 566,
    "start_time": "2022-04-07T12:44:30.749Z"
   },
   {
    "duration": 6,
    "start_time": "2022-04-07T12:44:31.318Z"
   },
   {
    "duration": 111,
    "start_time": "2022-04-07T12:44:31.327Z"
   },
   {
    "duration": 565,
    "start_time": "2022-04-07T12:44:31.440Z"
   },
   {
    "duration": 7,
    "start_time": "2022-04-07T12:44:32.008Z"
   },
   {
    "duration": 67,
    "start_time": "2022-04-07T12:44:32.017Z"
   },
   {
    "duration": 22,
    "start_time": "2022-04-07T12:44:32.087Z"
   },
   {
    "duration": 17,
    "start_time": "2022-04-07T12:44:32.111Z"
   },
   {
    "duration": 15,
    "start_time": "2022-04-07T12:44:32.130Z"
   },
   {
    "duration": 9,
    "start_time": "2022-04-07T12:44:32.147Z"
   },
   {
    "duration": 12,
    "start_time": "2022-04-07T12:44:32.158Z"
   },
   {
    "duration": 15,
    "start_time": "2022-04-07T12:44:32.173Z"
   },
   {
    "duration": 14,
    "start_time": "2022-04-07T12:44:32.190Z"
   },
   {
    "duration": 14,
    "start_time": "2022-04-07T12:44:32.207Z"
   },
   {
    "duration": 25,
    "start_time": "2022-04-07T12:44:32.223Z"
   },
   {
    "duration": 430,
    "start_time": "2022-04-07T12:44:32.250Z"
   },
   {
    "duration": 342,
    "start_time": "2022-04-07T12:44:32.684Z"
   },
   {
    "duration": 667,
    "start_time": "2022-04-07T12:44:33.028Z"
   },
   {
    "duration": 638,
    "start_time": "2022-04-07T12:44:33.697Z"
   },
   {
    "duration": 4,
    "start_time": "2022-04-07T12:44:34.343Z"
   },
   {
    "duration": 709,
    "start_time": "2022-04-07T12:44:34.350Z"
   },
   {
    "duration": 8,
    "start_time": "2022-04-07T12:44:35.061Z"
   },
   {
    "duration": 40,
    "start_time": "2022-04-07T12:44:35.071Z"
   },
   {
    "duration": 74,
    "start_time": "2022-04-07T12:44:35.113Z"
   },
   {
    "duration": 61,
    "start_time": "2022-04-07T12:44:35.190Z"
   },
   {
    "duration": 38,
    "start_time": "2022-04-07T12:44:35.253Z"
   },
   {
    "duration": 1592,
    "start_time": "2022-04-07T13:20:25.259Z"
   },
   {
    "duration": 70,
    "start_time": "2022-04-07T13:20:26.853Z"
   },
   {
    "duration": 42,
    "start_time": "2022-04-07T13:20:26.926Z"
   },
   {
    "duration": 19,
    "start_time": "2022-04-07T13:20:26.971Z"
   },
   {
    "duration": 104,
    "start_time": "2022-04-07T13:20:26.992Z"
   },
   {
    "duration": 3,
    "start_time": "2022-04-07T13:20:27.099Z"
   },
   {
    "duration": 40,
    "start_time": "2022-04-07T13:20:27.104Z"
   },
   {
    "duration": 24,
    "start_time": "2022-04-07T13:20:27.146Z"
   },
   {
    "duration": 10,
    "start_time": "2022-04-07T13:20:27.173Z"
   },
   {
    "duration": 6,
    "start_time": "2022-04-07T13:20:27.187Z"
   },
   {
    "duration": 11,
    "start_time": "2022-04-07T13:20:27.195Z"
   },
   {
    "duration": 45,
    "start_time": "2022-04-07T13:20:27.208Z"
   },
   {
    "duration": 6,
    "start_time": "2022-04-07T13:20:27.255Z"
   },
   {
    "duration": 12,
    "start_time": "2022-04-07T13:20:27.263Z"
   },
   {
    "duration": 6,
    "start_time": "2022-04-07T13:20:27.277Z"
   },
   {
    "duration": 493,
    "start_time": "2022-04-07T13:20:27.285Z"
   },
   {
    "duration": 12,
    "start_time": "2022-04-07T13:20:27.780Z"
   },
   {
    "duration": 729,
    "start_time": "2022-04-07T13:20:27.794Z"
   },
   {
    "duration": 6,
    "start_time": "2022-04-07T13:20:28.525Z"
   },
   {
    "duration": 10,
    "start_time": "2022-04-07T13:20:28.543Z"
   },
   {
    "duration": 7,
    "start_time": "2022-04-07T13:20:28.555Z"
   },
   {
    "duration": 81,
    "start_time": "2022-04-07T13:20:28.564Z"
   },
   {
    "duration": 336,
    "start_time": "2022-04-07T13:20:28.647Z"
   },
   {
    "duration": 210,
    "start_time": "2022-04-07T13:20:28.985Z"
   },
   {
    "duration": 200,
    "start_time": "2022-04-07T13:20:29.198Z"
   },
   {
    "duration": 261,
    "start_time": "2022-04-07T13:20:29.401Z"
   },
   {
    "duration": 197,
    "start_time": "2022-04-07T13:20:29.664Z"
   },
   {
    "duration": 181,
    "start_time": "2022-04-07T13:20:29.866Z"
   },
   {
    "duration": 198,
    "start_time": "2022-04-07T13:20:30.050Z"
   },
   {
    "duration": 6,
    "start_time": "2022-04-07T13:20:30.250Z"
   },
   {
    "duration": 470,
    "start_time": "2022-04-07T13:20:30.259Z"
   },
   {
    "duration": 14,
    "start_time": "2022-04-07T13:20:30.731Z"
   },
   {
    "duration": 27,
    "start_time": "2022-04-07T13:20:30.748Z"
   },
   {
    "duration": 477,
    "start_time": "2022-04-07T13:20:30.777Z"
   },
   {
    "duration": 6,
    "start_time": "2022-04-07T13:20:31.257Z"
   },
   {
    "duration": 18,
    "start_time": "2022-04-07T13:20:31.265Z"
   },
   {
    "duration": 17,
    "start_time": "2022-04-07T13:20:31.285Z"
   },
   {
    "duration": 12,
    "start_time": "2022-04-07T13:20:31.304Z"
   },
   {
    "duration": 35,
    "start_time": "2022-04-07T13:20:31.318Z"
   },
   {
    "duration": 17,
    "start_time": "2022-04-07T13:20:31.355Z"
   },
   {
    "duration": 15,
    "start_time": "2022-04-07T13:20:31.375Z"
   },
   {
    "duration": 12,
    "start_time": "2022-04-07T13:20:31.392Z"
   },
   {
    "duration": 14,
    "start_time": "2022-04-07T13:20:31.407Z"
   },
   {
    "duration": 10,
    "start_time": "2022-04-07T13:20:31.444Z"
   },
   {
    "duration": 15,
    "start_time": "2022-04-07T13:20:31.456Z"
   },
   {
    "duration": 353,
    "start_time": "2022-04-07T13:20:31.473Z"
   },
   {
    "duration": 341,
    "start_time": "2022-04-07T13:20:31.829Z"
   },
   {
    "duration": 679,
    "start_time": "2022-04-07T13:20:32.172Z"
   },
   {
    "duration": 718,
    "start_time": "2022-04-07T13:20:32.853Z"
   },
   {
    "duration": 3,
    "start_time": "2022-04-07T13:20:33.574Z"
   },
   {
    "duration": 666,
    "start_time": "2022-04-07T13:20:33.579Z"
   },
   {
    "duration": 6,
    "start_time": "2022-04-07T13:20:34.247Z"
   },
   {
    "duration": 13,
    "start_time": "2022-04-07T13:20:34.255Z"
   },
   {
    "duration": 16,
    "start_time": "2022-04-07T13:20:34.270Z"
   },
   {
    "duration": 5,
    "start_time": "2022-04-07T13:20:34.288Z"
   },
   {
    "duration": 9,
    "start_time": "2022-04-07T13:20:34.295Z"
   },
   {
    "duration": 1704,
    "start_time": "2022-04-07T16:27:41.691Z"
   },
   {
    "duration": 51,
    "start_time": "2022-04-07T16:27:43.398Z"
   },
   {
    "duration": 39,
    "start_time": "2022-04-07T16:27:43.452Z"
   },
   {
    "duration": 20,
    "start_time": "2022-04-07T16:27:43.494Z"
   },
   {
    "duration": 101,
    "start_time": "2022-04-07T16:27:43.516Z"
   },
   {
    "duration": 5,
    "start_time": "2022-04-07T16:27:43.619Z"
   },
   {
    "duration": 20,
    "start_time": "2022-04-07T16:27:43.625Z"
   },
   {
    "duration": 46,
    "start_time": "2022-04-07T16:27:43.647Z"
   },
   {
    "duration": 9,
    "start_time": "2022-04-07T16:27:43.695Z"
   },
   {
    "duration": 3,
    "start_time": "2022-04-07T16:27:43.707Z"
   },
   {
    "duration": 8,
    "start_time": "2022-04-07T16:27:43.712Z"
   },
   {
    "duration": 10,
    "start_time": "2022-04-07T16:27:43.722Z"
   },
   {
    "duration": 40,
    "start_time": "2022-04-07T16:27:43.734Z"
   },
   {
    "duration": 11,
    "start_time": "2022-04-07T16:27:43.776Z"
   },
   {
    "duration": 17,
    "start_time": "2022-04-07T16:27:43.790Z"
   },
   {
    "duration": 470,
    "start_time": "2022-04-07T16:27:43.809Z"
   },
   {
    "duration": 11,
    "start_time": "2022-04-07T16:27:44.281Z"
   },
   {
    "duration": 733,
    "start_time": "2022-04-07T16:27:44.295Z"
   },
   {
    "duration": 6,
    "start_time": "2022-04-07T16:27:45.030Z"
   },
   {
    "duration": 14,
    "start_time": "2022-04-07T16:27:45.039Z"
   },
   {
    "duration": 5,
    "start_time": "2022-04-07T16:27:45.074Z"
   },
   {
    "duration": 64,
    "start_time": "2022-04-07T16:27:45.082Z"
   },
   {
    "duration": 358,
    "start_time": "2022-04-07T16:27:45.148Z"
   },
   {
    "duration": 211,
    "start_time": "2022-04-07T16:27:45.509Z"
   },
   {
    "duration": 207,
    "start_time": "2022-04-07T16:27:45.723Z"
   },
   {
    "duration": 258,
    "start_time": "2022-04-07T16:27:45.932Z"
   },
   {
    "duration": 204,
    "start_time": "2022-04-07T16:27:46.192Z"
   },
   {
    "duration": 180,
    "start_time": "2022-04-07T16:27:46.402Z"
   },
   {
    "duration": 201,
    "start_time": "2022-04-07T16:27:46.584Z"
   },
   {
    "duration": 6,
    "start_time": "2022-04-07T16:27:46.787Z"
   },
   {
    "duration": 461,
    "start_time": "2022-04-07T16:27:46.795Z"
   },
   {
    "duration": 16,
    "start_time": "2022-04-07T16:27:47.258Z"
   },
   {
    "duration": 5,
    "start_time": "2022-04-07T16:27:47.276Z"
   },
   {
    "duration": 480,
    "start_time": "2022-04-07T16:27:47.283Z"
   },
   {
    "duration": 11,
    "start_time": "2022-04-07T16:27:47.765Z"
   },
   {
    "duration": 9,
    "start_time": "2022-04-07T16:27:47.778Z"
   },
   {
    "duration": 8,
    "start_time": "2022-04-07T16:27:47.789Z"
   },
   {
    "duration": 7,
    "start_time": "2022-04-07T16:27:47.799Z"
   },
   {
    "duration": 8,
    "start_time": "2022-04-07T16:27:47.808Z"
   },
   {
    "duration": 55,
    "start_time": "2022-04-07T16:27:47.819Z"
   },
   {
    "duration": 10,
    "start_time": "2022-04-07T16:27:47.876Z"
   },
   {
    "duration": 8,
    "start_time": "2022-04-07T16:27:47.888Z"
   },
   {
    "duration": 9,
    "start_time": "2022-04-07T16:27:47.897Z"
   },
   {
    "duration": 7,
    "start_time": "2022-04-07T16:27:47.908Z"
   },
   {
    "duration": 10,
    "start_time": "2022-04-07T16:27:47.917Z"
   },
   {
    "duration": 365,
    "start_time": "2022-04-07T16:27:47.929Z"
   },
   {
    "duration": 348,
    "start_time": "2022-04-07T16:27:48.296Z"
   },
   {
    "duration": 720,
    "start_time": "2022-04-07T16:27:48.646Z"
   },
   {
    "duration": 722,
    "start_time": "2022-04-07T16:27:49.369Z"
   },
   {
    "duration": 4,
    "start_time": "2022-04-07T16:27:50.094Z"
   },
   {
    "duration": 692,
    "start_time": "2022-04-07T16:27:50.101Z"
   },
   {
    "duration": 6,
    "start_time": "2022-04-07T16:27:50.795Z"
   },
   {
    "duration": 29,
    "start_time": "2022-04-07T16:27:50.803Z"
   },
   {
    "duration": 21,
    "start_time": "2022-04-07T16:27:50.834Z"
   },
   {
    "duration": 15,
    "start_time": "2022-04-07T16:27:50.857Z"
   },
   {
    "duration": 24,
    "start_time": "2022-04-07T16:27:50.874Z"
   },
   {
    "duration": 1088,
    "start_time": "2022-04-07T17:13:17.673Z"
   },
   {
    "duration": 40,
    "start_time": "2022-04-07T17:13:18.763Z"
   },
   {
    "duration": 22,
    "start_time": "2022-04-07T17:13:18.804Z"
   },
   {
    "duration": 12,
    "start_time": "2022-04-07T17:13:18.828Z"
   },
   {
    "duration": 53,
    "start_time": "2022-04-07T17:13:18.841Z"
   },
   {
    "duration": 3,
    "start_time": "2022-04-07T17:13:18.896Z"
   },
   {
    "duration": 25,
    "start_time": "2022-04-07T17:13:18.900Z"
   },
   {
    "duration": 30,
    "start_time": "2022-04-07T17:13:18.926Z"
   },
   {
    "duration": 11,
    "start_time": "2022-04-07T17:13:18.958Z"
   },
   {
    "duration": 13,
    "start_time": "2022-04-07T17:13:18.971Z"
   },
   {
    "duration": 18,
    "start_time": "2022-04-07T17:13:18.986Z"
   },
   {
    "duration": 20,
    "start_time": "2022-04-07T17:13:19.005Z"
   },
   {
    "duration": 16,
    "start_time": "2022-04-07T17:13:19.027Z"
   },
   {
    "duration": 36,
    "start_time": "2022-04-07T17:13:19.044Z"
   },
   {
    "duration": 23,
    "start_time": "2022-04-07T17:13:19.081Z"
   },
   {
    "duration": 257,
    "start_time": "2022-04-07T17:13:19.106Z"
   },
   {
    "duration": 8,
    "start_time": "2022-04-07T17:13:19.365Z"
   },
   {
    "duration": 411,
    "start_time": "2022-04-07T17:13:19.374Z"
   },
   {
    "duration": 4,
    "start_time": "2022-04-07T17:13:19.787Z"
   },
   {
    "duration": 15,
    "start_time": "2022-04-07T17:13:19.793Z"
   },
   {
    "duration": 12,
    "start_time": "2022-04-07T17:13:19.810Z"
   },
   {
    "duration": 46,
    "start_time": "2022-04-07T17:13:19.824Z"
   },
   {
    "duration": 192,
    "start_time": "2022-04-07T17:13:19.871Z"
   },
   {
    "duration": 111,
    "start_time": "2022-04-07T17:13:20.064Z"
   },
   {
    "duration": 114,
    "start_time": "2022-04-07T17:13:20.176Z"
   },
   {
    "duration": 180,
    "start_time": "2022-04-07T17:13:20.291Z"
   },
   {
    "duration": 112,
    "start_time": "2022-04-07T17:13:20.473Z"
   },
   {
    "duration": 102,
    "start_time": "2022-04-07T17:13:20.588Z"
   },
   {
    "duration": 108,
    "start_time": "2022-04-07T17:13:20.692Z"
   },
   {
    "duration": 4,
    "start_time": "2022-04-07T17:13:20.802Z"
   },
   {
    "duration": 261,
    "start_time": "2022-04-07T17:13:20.808Z"
   },
   {
    "duration": 4,
    "start_time": "2022-04-07T17:13:21.070Z"
   },
   {
    "duration": 17,
    "start_time": "2022-04-07T17:13:21.076Z"
   },
   {
    "duration": 272,
    "start_time": "2022-04-07T17:13:21.094Z"
   },
   {
    "duration": 4,
    "start_time": "2022-04-07T17:13:21.367Z"
   },
   {
    "duration": 15,
    "start_time": "2022-04-07T17:13:21.373Z"
   },
   {
    "duration": 15,
    "start_time": "2022-04-07T17:13:21.389Z"
   },
   {
    "duration": 25,
    "start_time": "2022-04-07T17:13:21.405Z"
   },
   {
    "duration": 19,
    "start_time": "2022-04-07T17:13:21.431Z"
   },
   {
    "duration": 6,
    "start_time": "2022-04-07T17:13:21.452Z"
   },
   {
    "duration": 9,
    "start_time": "2022-04-07T17:13:21.460Z"
   },
   {
    "duration": 7,
    "start_time": "2022-04-07T17:13:21.470Z"
   },
   {
    "duration": 12,
    "start_time": "2022-04-07T17:13:21.478Z"
   },
   {
    "duration": 7,
    "start_time": "2022-04-07T17:13:21.491Z"
   },
   {
    "duration": 6,
    "start_time": "2022-04-07T17:13:21.499Z"
   },
   {
    "duration": 174,
    "start_time": "2022-04-07T17:13:21.507Z"
   },
   {
    "duration": 183,
    "start_time": "2022-04-07T17:13:21.682Z"
   },
   {
    "duration": 379,
    "start_time": "2022-04-07T17:13:21.866Z"
   },
   {
    "duration": 436,
    "start_time": "2022-04-07T17:13:22.246Z"
   },
   {
    "duration": 2,
    "start_time": "2022-04-07T17:13:22.684Z"
   },
   {
    "duration": 364,
    "start_time": "2022-04-07T17:13:22.688Z"
   },
   {
    "duration": 11,
    "start_time": "2022-04-07T17:13:23.054Z"
   },
   {
    "duration": 8,
    "start_time": "2022-04-07T17:13:23.067Z"
   },
   {
    "duration": 8,
    "start_time": "2022-04-07T17:13:23.076Z"
   },
   {
    "duration": 4,
    "start_time": "2022-04-07T17:13:23.085Z"
   },
   {
    "duration": 6,
    "start_time": "2022-04-07T17:13:23.091Z"
   },
   {
    "duration": 20,
    "start_time": "2022-04-07T17:22:03.982Z"
   },
   {
    "duration": 5,
    "start_time": "2022-04-07T17:22:18.222Z"
   },
   {
    "duration": 20,
    "start_time": "2022-04-07T17:25:44.605Z"
   },
   {
    "duration": 5,
    "start_time": "2022-04-07T17:25:52.259Z"
   },
   {
    "duration": 4,
    "start_time": "2022-04-07T17:26:17.497Z"
   },
   {
    "duration": 7,
    "start_time": "2022-04-07T17:26:17.848Z"
   },
   {
    "duration": 7,
    "start_time": "2022-04-07T17:26:25.173Z"
   },
   {
    "duration": 9,
    "start_time": "2022-04-07T17:27:30.036Z"
   },
   {
    "duration": 18,
    "start_time": "2022-04-07T17:35:57.693Z"
   },
   {
    "duration": 8,
    "start_time": "2022-04-07T17:36:16.267Z"
   },
   {
    "duration": 8,
    "start_time": "2022-04-07T17:37:17.103Z"
   },
   {
    "duration": 9,
    "start_time": "2022-04-07T17:37:24.785Z"
   },
   {
    "duration": 6,
    "start_time": "2022-04-07T17:37:41.757Z"
   },
   {
    "duration": 4,
    "start_time": "2022-04-07T17:37:56.177Z"
   },
   {
    "duration": 8,
    "start_time": "2022-04-07T17:37:57.982Z"
   },
   {
    "duration": 7,
    "start_time": "2022-04-07T17:38:11.363Z"
   },
   {
    "duration": 8,
    "start_time": "2022-04-07T17:38:19.651Z"
   },
   {
    "duration": 4,
    "start_time": "2022-04-07T17:39:29.680Z"
   },
   {
    "duration": 8,
    "start_time": "2022-04-07T17:39:29.983Z"
   },
   {
    "duration": 1174,
    "start_time": "2022-04-07T17:43:27.621Z"
   },
   {
    "duration": 37,
    "start_time": "2022-04-07T17:43:28.797Z"
   },
   {
    "duration": 32,
    "start_time": "2022-04-07T17:43:28.835Z"
   },
   {
    "duration": 14,
    "start_time": "2022-04-07T17:43:28.869Z"
   },
   {
    "duration": 60,
    "start_time": "2022-04-07T17:43:28.885Z"
   },
   {
    "duration": 3,
    "start_time": "2022-04-07T17:43:28.947Z"
   },
   {
    "duration": 10,
    "start_time": "2022-04-07T17:43:28.963Z"
   },
   {
    "duration": 25,
    "start_time": "2022-04-07T17:43:28.975Z"
   },
   {
    "duration": 6,
    "start_time": "2022-04-07T17:43:29.002Z"
   },
   {
    "duration": 18,
    "start_time": "2022-04-07T17:43:29.010Z"
   },
   {
    "duration": 16,
    "start_time": "2022-04-07T17:43:29.029Z"
   },
   {
    "duration": 19,
    "start_time": "2022-04-07T17:43:29.047Z"
   },
   {
    "duration": 26,
    "start_time": "2022-04-07T17:43:29.067Z"
   },
   {
    "duration": 19,
    "start_time": "2022-04-07T17:43:29.094Z"
   },
   {
    "duration": 7,
    "start_time": "2022-04-07T17:43:29.114Z"
   },
   {
    "duration": 271,
    "start_time": "2022-04-07T17:43:29.123Z"
   },
   {
    "duration": 8,
    "start_time": "2022-04-07T17:43:29.396Z"
   },
   {
    "duration": 437,
    "start_time": "2022-04-07T17:43:29.405Z"
   },
   {
    "duration": 4,
    "start_time": "2022-04-07T17:43:29.843Z"
   },
   {
    "duration": 18,
    "start_time": "2022-04-07T17:43:29.848Z"
   },
   {
    "duration": 4,
    "start_time": "2022-04-07T17:43:29.867Z"
   },
   {
    "duration": 49,
    "start_time": "2022-04-07T17:43:29.872Z"
   },
   {
    "duration": 197,
    "start_time": "2022-04-07T17:43:29.923Z"
   },
   {
    "duration": 143,
    "start_time": "2022-04-07T17:43:30.122Z"
   },
   {
    "duration": 120,
    "start_time": "2022-04-07T17:43:30.266Z"
   },
   {
    "duration": 220,
    "start_time": "2022-04-07T17:43:30.388Z"
   },
   {
    "duration": 142,
    "start_time": "2022-04-07T17:43:30.610Z"
   },
   {
    "duration": 95,
    "start_time": "2022-04-07T17:43:30.762Z"
   },
   {
    "duration": 110,
    "start_time": "2022-04-07T17:43:30.863Z"
   },
   {
    "duration": 5,
    "start_time": "2022-04-07T17:43:30.974Z"
   },
   {
    "duration": 401,
    "start_time": "2022-04-07T17:43:30.981Z"
   },
   {
    "duration": 4,
    "start_time": "2022-04-07T17:43:31.384Z"
   },
   {
    "duration": 12,
    "start_time": "2022-04-07T17:43:31.389Z"
   },
   {
    "duration": 273,
    "start_time": "2022-04-07T17:43:31.403Z"
   },
   {
    "duration": 5,
    "start_time": "2022-04-07T17:43:31.677Z"
   },
   {
    "duration": 10,
    "start_time": "2022-04-07T17:43:31.683Z"
   },
   {
    "duration": 21,
    "start_time": "2022-04-07T17:43:31.694Z"
   },
   {
    "duration": 9,
    "start_time": "2022-04-07T17:43:31.717Z"
   },
   {
    "duration": 23,
    "start_time": "2022-04-07T17:43:31.728Z"
   },
   {
    "duration": 21,
    "start_time": "2022-04-07T17:43:31.753Z"
   },
   {
    "duration": 19,
    "start_time": "2022-04-07T17:43:31.776Z"
   },
   {
    "duration": 12,
    "start_time": "2022-04-07T17:43:31.797Z"
   },
   {
    "duration": 22,
    "start_time": "2022-04-07T17:43:31.811Z"
   },
   {
    "duration": 9,
    "start_time": "2022-04-07T17:43:31.834Z"
   },
   {
    "duration": 34,
    "start_time": "2022-04-07T17:43:31.845Z"
   },
   {
    "duration": 296,
    "start_time": "2022-04-07T17:43:31.881Z"
   },
   {
    "duration": 201,
    "start_time": "2022-04-07T17:43:32.179Z"
   },
   {
    "duration": 494,
    "start_time": "2022-04-07T17:43:32.381Z"
   },
   {
    "duration": 444,
    "start_time": "2022-04-07T17:43:32.877Z"
   },
   {
    "duration": 2,
    "start_time": "2022-04-07T17:43:33.323Z"
   },
   {
    "duration": 370,
    "start_time": "2022-04-07T17:43:33.326Z"
   },
   {
    "duration": 3,
    "start_time": "2022-04-07T17:43:33.698Z"
   },
   {
    "duration": 8,
    "start_time": "2022-04-07T17:43:33.703Z"
   },
   {
    "duration": 7,
    "start_time": "2022-04-07T17:43:33.712Z"
   },
   {
    "duration": 4,
    "start_time": "2022-04-07T17:43:33.720Z"
   },
   {
    "duration": 7,
    "start_time": "2022-04-07T17:43:33.725Z"
   },
   {
    "duration": 53,
    "start_time": "2022-04-08T06:02:14.711Z"
   },
   {
    "duration": 1303,
    "start_time": "2022-04-08T06:06:02.549Z"
   },
   {
    "duration": 42,
    "start_time": "2022-04-08T06:06:03.855Z"
   },
   {
    "duration": 27,
    "start_time": "2022-04-08T06:06:03.899Z"
   },
   {
    "duration": 14,
    "start_time": "2022-04-08T06:06:03.928Z"
   },
   {
    "duration": 72,
    "start_time": "2022-04-08T06:06:03.944Z"
   },
   {
    "duration": 3,
    "start_time": "2022-04-08T06:06:04.018Z"
   },
   {
    "duration": 14,
    "start_time": "2022-04-08T06:06:04.023Z"
   },
   {
    "duration": 19,
    "start_time": "2022-04-08T06:06:04.038Z"
   },
   {
    "duration": 7,
    "start_time": "2022-04-08T06:06:04.058Z"
   },
   {
    "duration": 2,
    "start_time": "2022-04-08T06:06:04.068Z"
   },
   {
    "duration": 39,
    "start_time": "2022-04-08T06:06:04.072Z"
   },
   {
    "duration": 7,
    "start_time": "2022-04-08T06:06:04.112Z"
   },
   {
    "duration": 9,
    "start_time": "2022-04-08T06:06:04.121Z"
   },
   {
    "duration": 6,
    "start_time": "2022-04-08T06:06:04.132Z"
   },
   {
    "duration": 8,
    "start_time": "2022-04-08T06:06:04.139Z"
   },
   {
    "duration": 322,
    "start_time": "2022-04-08T06:06:04.149Z"
   },
   {
    "duration": 9,
    "start_time": "2022-04-08T06:06:04.473Z"
   },
   {
    "duration": 497,
    "start_time": "2022-04-08T06:06:04.483Z"
   },
   {
    "duration": 4,
    "start_time": "2022-04-08T06:06:04.982Z"
   },
   {
    "duration": 21,
    "start_time": "2022-04-08T06:06:04.988Z"
   },
   {
    "duration": 5,
    "start_time": "2022-04-08T06:06:05.010Z"
   },
   {
    "duration": 46,
    "start_time": "2022-04-08T06:06:05.016Z"
   },
   {
    "duration": 235,
    "start_time": "2022-04-08T06:06:05.064Z"
   },
   {
    "duration": 129,
    "start_time": "2022-04-08T06:06:05.309Z"
   },
   {
    "duration": 134,
    "start_time": "2022-04-08T06:06:05.440Z"
   },
   {
    "duration": 205,
    "start_time": "2022-04-08T06:06:05.576Z"
   },
   {
    "duration": 141,
    "start_time": "2022-04-08T06:06:05.783Z"
   },
   {
    "duration": 121,
    "start_time": "2022-04-08T06:06:05.928Z"
   },
   {
    "duration": 134,
    "start_time": "2022-04-08T06:06:06.050Z"
   },
   {
    "duration": 5,
    "start_time": "2022-04-08T06:06:06.185Z"
   },
   {
    "duration": 301,
    "start_time": "2022-04-08T06:06:06.192Z"
   },
   {
    "duration": 14,
    "start_time": "2022-04-08T06:06:06.495Z"
   },
   {
    "duration": 6,
    "start_time": "2022-04-08T06:06:06.511Z"
   },
   {
    "duration": 319,
    "start_time": "2022-04-08T06:06:06.519Z"
   },
   {
    "duration": 5,
    "start_time": "2022-04-08T06:06:06.840Z"
   },
   {
    "duration": 8,
    "start_time": "2022-04-08T06:06:06.847Z"
   },
   {
    "duration": 7,
    "start_time": "2022-04-08T06:06:06.857Z"
   },
   {
    "duration": 7,
    "start_time": "2022-04-08T06:06:06.866Z"
   },
   {
    "duration": 35,
    "start_time": "2022-04-08T06:06:06.874Z"
   },
   {
    "duration": 7,
    "start_time": "2022-04-08T06:06:06.911Z"
   },
   {
    "duration": 7,
    "start_time": "2022-04-08T06:06:06.919Z"
   },
   {
    "duration": 8,
    "start_time": "2022-04-08T06:06:06.927Z"
   },
   {
    "duration": 6,
    "start_time": "2022-04-08T06:06:06.936Z"
   },
   {
    "duration": 6,
    "start_time": "2022-04-08T06:06:06.944Z"
   },
   {
    "duration": 7,
    "start_time": "2022-04-08T06:06:06.952Z"
   },
   {
    "duration": 238,
    "start_time": "2022-04-08T06:06:06.960Z"
   },
   {
    "duration": 217,
    "start_time": "2022-04-08T06:06:07.208Z"
   },
   {
    "duration": 429,
    "start_time": "2022-04-08T06:06:07.426Z"
   },
   {
    "duration": 479,
    "start_time": "2022-04-08T06:06:07.857Z"
   },
   {
    "duration": 2,
    "start_time": "2022-04-08T06:06:08.338Z"
   },
   {
    "duration": 450,
    "start_time": "2022-04-08T06:06:08.342Z"
   },
   {
    "duration": 4,
    "start_time": "2022-04-08T06:06:08.794Z"
   },
   {
    "duration": 7,
    "start_time": "2022-04-08T06:06:08.808Z"
   },
   {
    "duration": 12,
    "start_time": "2022-04-08T06:06:08.817Z"
   },
   {
    "duration": 3,
    "start_time": "2022-04-08T06:06:08.830Z"
   },
   {
    "duration": 6,
    "start_time": "2022-04-08T06:06:08.834Z"
   },
   {
    "duration": 7,
    "start_time": "2022-04-08T06:19:19.846Z"
   },
   {
    "duration": 5,
    "start_time": "2022-04-08T06:19:40.518Z"
   },
   {
    "duration": 5,
    "start_time": "2022-04-08T06:19:54.431Z"
   },
   {
    "duration": 89,
    "start_time": "2022-04-08T06:22:57.714Z"
   },
   {
    "duration": 9,
    "start_time": "2022-04-08T06:26:03.947Z"
   },
   {
    "duration": 8,
    "start_time": "2022-04-08T06:26:10.527Z"
   },
   {
    "duration": 1151,
    "start_time": "2022-04-08T06:32:30.702Z"
   },
   {
    "duration": 38,
    "start_time": "2022-04-08T06:32:31.855Z"
   },
   {
    "duration": 30,
    "start_time": "2022-04-08T06:32:31.895Z"
   },
   {
    "duration": 14,
    "start_time": "2022-04-08T06:32:31.927Z"
   },
   {
    "duration": 71,
    "start_time": "2022-04-08T06:32:31.943Z"
   },
   {
    "duration": 4,
    "start_time": "2022-04-08T06:32:32.016Z"
   },
   {
    "duration": 16,
    "start_time": "2022-04-08T06:32:32.021Z"
   },
   {
    "duration": 19,
    "start_time": "2022-04-08T06:32:32.039Z"
   },
   {
    "duration": 6,
    "start_time": "2022-04-08T06:32:32.059Z"
   },
   {
    "duration": 2,
    "start_time": "2022-04-08T06:32:32.068Z"
   },
   {
    "duration": 6,
    "start_time": "2022-04-08T06:32:32.072Z"
   },
   {
    "duration": 29,
    "start_time": "2022-04-08T06:32:32.080Z"
   },
   {
    "duration": 8,
    "start_time": "2022-04-08T06:32:32.111Z"
   },
   {
    "duration": 6,
    "start_time": "2022-04-08T06:32:32.121Z"
   },
   {
    "duration": 11,
    "start_time": "2022-04-08T06:32:32.129Z"
   },
   {
    "duration": 300,
    "start_time": "2022-04-08T06:32:32.141Z"
   },
   {
    "duration": 9,
    "start_time": "2022-04-08T06:32:32.443Z"
   },
   {
    "duration": 482,
    "start_time": "2022-04-08T06:32:32.453Z"
   },
   {
    "duration": 5,
    "start_time": "2022-04-08T06:32:32.936Z"
   },
   {
    "duration": 9,
    "start_time": "2022-04-08T06:32:32.943Z"
   },
   {
    "duration": 4,
    "start_time": "2022-04-08T06:32:32.954Z"
   },
   {
    "duration": 60,
    "start_time": "2022-04-08T06:32:32.960Z"
   },
   {
    "duration": 220,
    "start_time": "2022-04-08T06:32:33.022Z"
   },
   {
    "duration": 134,
    "start_time": "2022-04-08T06:32:33.243Z"
   },
   {
    "duration": 131,
    "start_time": "2022-04-08T06:32:33.378Z"
   },
   {
    "duration": 183,
    "start_time": "2022-04-08T06:32:33.510Z"
   },
   {
    "duration": 139,
    "start_time": "2022-04-08T06:32:33.694Z"
   },
   {
    "duration": 116,
    "start_time": "2022-04-08T06:32:33.836Z"
   },
   {
    "duration": 128,
    "start_time": "2022-04-08T06:32:33.954Z"
   },
   {
    "duration": 5,
    "start_time": "2022-04-08T06:32:34.084Z"
   },
   {
    "duration": 291,
    "start_time": "2022-04-08T06:32:34.091Z"
   },
   {
    "duration": 4,
    "start_time": "2022-04-08T06:32:34.384Z"
   },
   {
    "duration": 19,
    "start_time": "2022-04-08T06:32:34.390Z"
   },
   {
    "duration": 310,
    "start_time": "2022-04-08T06:32:34.411Z"
   },
   {
    "duration": 4,
    "start_time": "2022-04-08T06:32:34.723Z"
   },
   {
    "duration": 6,
    "start_time": "2022-04-08T06:32:34.729Z"
   },
   {
    "duration": 6,
    "start_time": "2022-04-08T06:32:34.737Z"
   },
   {
    "duration": 6,
    "start_time": "2022-04-08T06:32:34.744Z"
   },
   {
    "duration": 5,
    "start_time": "2022-04-08T06:32:34.752Z"
   },
   {
    "duration": 10,
    "start_time": "2022-04-08T06:32:34.759Z"
   },
   {
    "duration": 41,
    "start_time": "2022-04-08T06:32:34.771Z"
   },
   {
    "duration": 7,
    "start_time": "2022-04-08T06:32:34.814Z"
   },
   {
    "duration": 9,
    "start_time": "2022-04-08T06:32:34.823Z"
   },
   {
    "duration": 7,
    "start_time": "2022-04-08T06:32:34.833Z"
   },
   {
    "duration": 6,
    "start_time": "2022-04-08T06:32:34.842Z"
   },
   {
    "duration": 246,
    "start_time": "2022-04-08T06:32:34.850Z"
   },
   {
    "duration": 233,
    "start_time": "2022-04-08T06:32:35.098Z"
   },
   {
    "duration": 449,
    "start_time": "2022-04-08T06:32:35.333Z"
   },
   {
    "duration": 501,
    "start_time": "2022-04-08T06:32:35.784Z"
   },
   {
    "duration": 2,
    "start_time": "2022-04-08T06:32:36.288Z"
   },
   {
    "duration": 453,
    "start_time": "2022-04-08T06:32:36.292Z"
   },
   {
    "duration": 5,
    "start_time": "2022-04-08T06:32:36.747Z"
   },
   {
    "duration": 9,
    "start_time": "2022-04-08T06:32:36.754Z"
   },
   {
    "duration": 10,
    "start_time": "2022-04-08T06:32:36.765Z"
   },
   {
    "duration": 4,
    "start_time": "2022-04-08T06:32:36.776Z"
   },
   {
    "duration": 5,
    "start_time": "2022-04-08T06:32:36.809Z"
   },
   {
    "duration": 2045,
    "start_time": "2022-04-08T10:51:35.322Z"
   },
   {
    "duration": 74,
    "start_time": "2022-04-08T10:51:37.370Z"
   },
   {
    "duration": 39,
    "start_time": "2022-04-08T10:51:37.446Z"
   },
   {
    "duration": 32,
    "start_time": "2022-04-08T10:51:37.487Z"
   },
   {
    "duration": 100,
    "start_time": "2022-04-08T10:51:37.521Z"
   },
   {
    "duration": 4,
    "start_time": "2022-04-08T10:51:37.624Z"
   },
   {
    "duration": 47,
    "start_time": "2022-04-08T10:51:37.630Z"
   },
   {
    "duration": 41,
    "start_time": "2022-04-08T10:51:37.679Z"
   },
   {
    "duration": 10,
    "start_time": "2022-04-08T10:51:37.722Z"
   },
   {
    "duration": 27,
    "start_time": "2022-04-08T10:51:37.736Z"
   },
   {
    "duration": 38,
    "start_time": "2022-04-08T10:51:37.766Z"
   },
   {
    "duration": 22,
    "start_time": "2022-04-08T10:51:37.807Z"
   },
   {
    "duration": 33,
    "start_time": "2022-04-08T10:51:37.832Z"
   },
   {
    "duration": 19,
    "start_time": "2022-04-08T10:51:37.867Z"
   },
   {
    "duration": 10,
    "start_time": "2022-04-08T10:51:37.889Z"
   },
   {
    "duration": 496,
    "start_time": "2022-04-08T10:51:37.902Z"
   },
   {
    "duration": 16,
    "start_time": "2022-04-08T10:51:38.401Z"
   },
   {
    "duration": 1120,
    "start_time": "2022-04-08T10:51:38.420Z"
   },
   {
    "duration": 7,
    "start_time": "2022-04-08T10:51:39.543Z"
   },
   {
    "duration": 29,
    "start_time": "2022-04-08T10:51:39.552Z"
   },
   {
    "duration": 62,
    "start_time": "2022-04-08T10:51:39.584Z"
   },
   {
    "duration": 118,
    "start_time": "2022-04-08T10:51:39.649Z"
   },
   {
    "duration": 339,
    "start_time": "2022-04-08T10:51:39.770Z"
   },
   {
    "duration": 271,
    "start_time": "2022-04-08T10:51:40.111Z"
   },
   {
    "duration": 272,
    "start_time": "2022-04-08T10:51:40.385Z"
   },
   {
    "duration": 269,
    "start_time": "2022-04-08T10:51:40.660Z"
   },
   {
    "duration": 200,
    "start_time": "2022-04-08T10:51:40.932Z"
   },
   {
    "duration": 191,
    "start_time": "2022-04-08T10:51:41.142Z"
   },
   {
    "duration": 261,
    "start_time": "2022-04-08T10:51:41.342Z"
   },
   {
    "duration": 8,
    "start_time": "2022-04-08T10:51:41.606Z"
   },
   {
    "duration": 659,
    "start_time": "2022-04-08T10:51:41.616Z"
   },
   {
    "duration": 6,
    "start_time": "2022-04-08T10:51:42.278Z"
   },
   {
    "duration": 11,
    "start_time": "2022-04-08T10:51:42.286Z"
   },
   {
    "duration": 655,
    "start_time": "2022-04-08T10:51:42.299Z"
   },
   {
    "duration": 7,
    "start_time": "2022-04-08T10:51:42.957Z"
   },
   {
    "duration": 19,
    "start_time": "2022-04-08T10:51:42.967Z"
   },
   {
    "duration": 21,
    "start_time": "2022-04-08T10:51:42.989Z"
   },
   {
    "duration": 34,
    "start_time": "2022-04-08T10:51:43.012Z"
   },
   {
    "duration": 8,
    "start_time": "2022-04-08T10:51:43.049Z"
   },
   {
    "duration": 17,
    "start_time": "2022-04-08T10:51:43.060Z"
   },
   {
    "duration": 19,
    "start_time": "2022-04-08T10:51:43.080Z"
   },
   {
    "duration": 42,
    "start_time": "2022-04-08T10:51:43.102Z"
   },
   {
    "duration": 12,
    "start_time": "2022-04-08T10:51:43.147Z"
   },
   {
    "duration": 10,
    "start_time": "2022-04-08T10:51:43.161Z"
   },
   {
    "duration": 10,
    "start_time": "2022-04-08T10:51:43.173Z"
   },
   {
    "duration": 362,
    "start_time": "2022-04-08T10:51:43.186Z"
   },
   {
    "duration": 484,
    "start_time": "2022-04-08T10:51:43.551Z"
   },
   {
    "duration": 971,
    "start_time": "2022-04-08T10:51:44.038Z"
   },
   {
    "duration": 1012,
    "start_time": "2022-04-08T10:51:45.011Z"
   },
   {
    "duration": 4,
    "start_time": "2022-04-08T10:51:46.026Z"
   },
   {
    "duration": 1004,
    "start_time": "2022-04-08T10:51:46.043Z"
   },
   {
    "duration": 7,
    "start_time": "2022-04-08T10:51:47.050Z"
   },
   {
    "duration": 15,
    "start_time": "2022-04-08T10:51:47.059Z"
   },
   {
    "duration": 17,
    "start_time": "2022-04-08T10:51:47.077Z"
   },
   {
    "duration": 46,
    "start_time": "2022-04-08T10:51:47.097Z"
   },
   {
    "duration": 9,
    "start_time": "2022-04-08T10:51:47.147Z"
   },
   {
    "duration": 1668,
    "start_time": "2022-04-08T10:54:57.755Z"
   },
   {
    "duration": 68,
    "start_time": "2022-04-08T10:54:59.426Z"
   },
   {
    "duration": 36,
    "start_time": "2022-04-08T10:54:59.496Z"
   },
   {
    "duration": 26,
    "start_time": "2022-04-08T10:54:59.535Z"
   },
   {
    "duration": 94,
    "start_time": "2022-04-08T10:54:59.564Z"
   },
   {
    "duration": 4,
    "start_time": "2022-04-08T10:54:59.661Z"
   },
   {
    "duration": 82,
    "start_time": "2022-04-08T10:54:59.667Z"
   },
   {
    "duration": 28,
    "start_time": "2022-04-08T10:54:59.752Z"
   },
   {
    "duration": 10,
    "start_time": "2022-04-08T10:54:59.783Z"
   },
   {
    "duration": 10,
    "start_time": "2022-04-08T10:54:59.797Z"
   },
   {
    "duration": 35,
    "start_time": "2022-04-08T10:54:59.809Z"
   },
   {
    "duration": 10,
    "start_time": "2022-04-08T10:54:59.847Z"
   },
   {
    "duration": 12,
    "start_time": "2022-04-08T10:54:59.860Z"
   },
   {
    "duration": 10,
    "start_time": "2022-04-08T10:54:59.875Z"
   },
   {
    "duration": 13,
    "start_time": "2022-04-08T10:54:59.888Z"
   },
   {
    "duration": 498,
    "start_time": "2022-04-08T10:54:59.903Z"
   },
   {
    "duration": 13,
    "start_time": "2022-04-08T10:55:00.404Z"
   },
   {
    "duration": 753,
    "start_time": "2022-04-08T10:55:00.442Z"
   },
   {
    "duration": 7,
    "start_time": "2022-04-08T10:55:01.198Z"
   },
   {
    "duration": 68,
    "start_time": "2022-04-08T10:55:01.207Z"
   },
   {
    "duration": 54,
    "start_time": "2022-04-08T10:55:01.278Z"
   },
   {
    "duration": 225,
    "start_time": "2022-04-08T10:55:01.337Z"
   },
   {
    "duration": 554,
    "start_time": "2022-04-08T10:55:01.565Z"
   },
   {
    "duration": 391,
    "start_time": "2022-04-08T10:55:02.122Z"
   },
   {
    "duration": 244,
    "start_time": "2022-04-08T10:55:02.515Z"
   },
   {
    "duration": 272,
    "start_time": "2022-04-08T10:55:02.761Z"
   },
   {
    "duration": 262,
    "start_time": "2022-04-08T10:55:03.044Z"
   },
   {
    "duration": 243,
    "start_time": "2022-04-08T10:55:03.314Z"
   },
   {
    "duration": 283,
    "start_time": "2022-04-08T10:55:03.560Z"
   },
   {
    "duration": 8,
    "start_time": "2022-04-08T10:55:03.846Z"
   },
   {
    "duration": 479,
    "start_time": "2022-04-08T10:55:03.856Z"
   },
   {
    "duration": 6,
    "start_time": "2022-04-08T10:55:04.338Z"
   },
   {
    "duration": 76,
    "start_time": "2022-04-08T10:55:04.347Z"
   },
   {
    "duration": 607,
    "start_time": "2022-04-08T10:55:04.426Z"
   },
   {
    "duration": 11,
    "start_time": "2022-04-08T10:55:05.035Z"
   },
   {
    "duration": 12,
    "start_time": "2022-04-08T10:55:05.049Z"
   },
   {
    "duration": 15,
    "start_time": "2022-04-08T10:55:05.063Z"
   },
   {
    "duration": 18,
    "start_time": "2022-04-08T10:55:05.081Z"
   },
   {
    "duration": 47,
    "start_time": "2022-04-08T10:55:05.101Z"
   },
   {
    "duration": 12,
    "start_time": "2022-04-08T10:55:05.151Z"
   },
   {
    "duration": 13,
    "start_time": "2022-04-08T10:55:05.166Z"
   },
   {
    "duration": 15,
    "start_time": "2022-04-08T10:55:05.182Z"
   },
   {
    "duration": 49,
    "start_time": "2022-04-08T10:55:05.199Z"
   },
   {
    "duration": 11,
    "start_time": "2022-04-08T10:55:05.251Z"
   },
   {
    "duration": 32,
    "start_time": "2022-04-08T10:55:05.265Z"
   },
   {
    "duration": 337,
    "start_time": "2022-04-08T10:55:05.300Z"
   },
   {
    "duration": 435,
    "start_time": "2022-04-08T10:55:05.639Z"
   },
   {
    "duration": 730,
    "start_time": "2022-04-08T10:55:06.077Z"
   },
   {
    "duration": 859,
    "start_time": "2022-04-08T10:55:06.810Z"
   },
   {
    "duration": 6,
    "start_time": "2022-04-08T10:55:07.672Z"
   },
   {
    "duration": 818,
    "start_time": "2022-04-08T10:55:07.681Z"
   },
   {
    "duration": 7,
    "start_time": "2022-04-08T10:55:08.502Z"
   },
   {
    "duration": 33,
    "start_time": "2022-04-08T10:55:08.512Z"
   },
   {
    "duration": 15,
    "start_time": "2022-04-08T10:55:08.548Z"
   },
   {
    "duration": 12,
    "start_time": "2022-04-08T10:55:08.566Z"
   },
   {
    "duration": 15,
    "start_time": "2022-04-08T10:55:08.581Z"
   }
  ],
  "kernelspec": {
   "display_name": "Python 3 (ipykernel)",
   "language": "python",
   "name": "python3"
  },
  "language_info": {
   "codemirror_mode": {
    "name": "ipython",
    "version": 3
   },
   "file_extension": ".py",
   "mimetype": "text/x-python",
   "name": "python",
   "nbconvert_exporter": "python",
   "pygments_lexer": "ipython3",
   "version": "3.9.12"
  },
  "toc": {
   "base_numbering": 1,
   "nav_menu": {},
   "number_sections": true,
   "sideBar": true,
   "skip_h1_title": true,
   "title_cell": "Table of Contents",
   "title_sidebar": "Contents",
   "toc_cell": false,
   "toc_position": {
    "height": "calc(100% - 180px)",
    "left": "10px",
    "top": "150px",
    "width": "228px"
   },
   "toc_section_display": true,
   "toc_window_display": true
  }
 },
 "nbformat": 4,
 "nbformat_minor": 5
}
