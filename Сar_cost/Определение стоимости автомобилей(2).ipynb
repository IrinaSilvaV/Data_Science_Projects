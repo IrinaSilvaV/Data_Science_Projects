{
 "cells": [
  {
   "cell_type": "markdown",
   "metadata": {},
   "source": [
    "# Определение стоимости автомобилей"
   ]
  },
  {
   "cell_type": "markdown",
   "metadata": {},
   "source": [
    "Необходимо построить модель для определения стоимости автомобилей на основе исторических данных: технические характеристики, комплектации и цены автомобилей."
   ]
  },
  {
   "cell_type": "markdown",
   "metadata": {},
   "source": [
    "\n",
    "Заказчику важны:\n",
    "\n",
    "- качество предсказания;\n",
    "- скорость предсказания;\n",
    "- время обучения."
   ]
  },
  {
   "cell_type": "markdown",
   "metadata": {},
   "source": [
    "**Признаки**<br>\n",
    "`DateCrawled` — дата скачивания анкеты из базы<br>\n",
    "`VehicleType` — тип автомобильного кузова<br>\n",
    "`RegistrationYear` — год регистрации автомобиля<br>\n",
    "`Gearbox` — тип коробки передач<br>\n",
    "`Power` — мощность (л. с.)<br>\n",
    "`Model` — модель автомобиля<br>\n",
    "`Kilometer` — пробег (км)<br>\n",
    "`RegistrationMonth` — месяц регистрации автомобиля<br>\n",
    "`FuelType` — тип топлива<br>\n",
    "`Brand` — марка автомобиля<br>\n",
    "`NotRepaired` — была машина в ремонте или нет<br>\n",
    "`DateCreated` — дата создания анкеты<br>\n",
    "`NumberOfPictures` — количество фотографий автомобиля<br>\n",
    "`PostalCode` — почтовый индекс владельца анкеты (пользователя)<br>\n",
    "`LastSeen` — дата последней активности пользователя<br><br>\n",
    "**Целевой признак**<br>\n",
    "`Price` — цена (евро)"
   ]
  },
  {
   "cell_type": "code",
   "execution_count": 1,
   "metadata": {},
   "outputs": [],
   "source": [
    "import pandas as pd                     # импорт библиотек\n",
    "import numpy as np\n",
    "from sklearn.linear_model import LinearRegression\n",
    "# import sweetviz as sv\n",
    "import warnings\n",
    "warnings.filterwarnings('ignore')\n",
    "from sklearn.metrics import mean_squared_error\n",
    "from matplotlib import pyplot as plt\n",
    "from sklearn.ensemble import RandomForestRegressor\n",
    "from sklearn.dummy import DummyRegressor\n",
    "from sklearn.model_selection import GridSearchCV, cross_val_score, train_test_split\n",
    "%matplotlib inline\n",
    "import lightgbm\n",
    "from sklearn.preprocessing import OrdinalEncoder"
   ]
  },
  {
   "cell_type": "markdown",
   "metadata": {},
   "source": [
    "## Подготовка данных"
   ]
  },
  {
   "cell_type": "code",
   "execution_count": 2,
   "metadata": {},
   "outputs": [],
   "source": [
    "try:\n",
    "    data = pd.read_csv('/datasets/autos.csv') # чтение файла с данными и сохранение в df0\n",
    "except:\n",
    "    data = pd.read_csv('C:\\\\Users\\\\User\\\\Downloads\\\\autos.csv')"
   ]
  },
  {
   "cell_type": "code",
   "execution_count": 3,
   "metadata": {},
   "outputs": [],
   "source": [
    "report = sv.analyze([df ,'DF0'])\n",
    "report.show_html('common analysis.html')"
   ]
  },
  {
   "cell_type": "code",
   "execution_count": 4,
   "metadata": {},
   "outputs": [
    {
     "data": {
      "text/html": [
       "<div>\n",
       "<style scoped>\n",
       "    .dataframe tbody tr th:only-of-type {\n",
       "        vertical-align: middle;\n",
       "    }\n",
       "\n",
       "    .dataframe tbody tr th {\n",
       "        vertical-align: top;\n",
       "    }\n",
       "\n",
       "    .dataframe thead th {\n",
       "        text-align: right;\n",
       "    }\n",
       "</style>\n",
       "<table border=\"1\" class=\"dataframe\">\n",
       "  <thead>\n",
       "    <tr style=\"text-align: right;\">\n",
       "      <th></th>\n",
       "      <th>DateCrawled</th>\n",
       "      <th>Price</th>\n",
       "      <th>VehicleType</th>\n",
       "      <th>RegistrationYear</th>\n",
       "      <th>Gearbox</th>\n",
       "      <th>Power</th>\n",
       "      <th>Model</th>\n",
       "      <th>Kilometer</th>\n",
       "      <th>RegistrationMonth</th>\n",
       "      <th>FuelType</th>\n",
       "      <th>Brand</th>\n",
       "      <th>NotRepaired</th>\n",
       "      <th>DateCreated</th>\n",
       "      <th>NumberOfPictures</th>\n",
       "      <th>PostalCode</th>\n",
       "      <th>LastSeen</th>\n",
       "    </tr>\n",
       "  </thead>\n",
       "  <tbody>\n",
       "    <tr>\n",
       "      <th>0</th>\n",
       "      <td>2016-03-24 11:52:17</td>\n",
       "      <td>480</td>\n",
       "      <td>NaN</td>\n",
       "      <td>1993</td>\n",
       "      <td>manual</td>\n",
       "      <td>0</td>\n",
       "      <td>golf</td>\n",
       "      <td>150000</td>\n",
       "      <td>0</td>\n",
       "      <td>petrol</td>\n",
       "      <td>volkswagen</td>\n",
       "      <td>NaN</td>\n",
       "      <td>2016-03-24 00:00:00</td>\n",
       "      <td>0</td>\n",
       "      <td>70435</td>\n",
       "      <td>2016-04-07 03:16:57</td>\n",
       "    </tr>\n",
       "    <tr>\n",
       "      <th>1</th>\n",
       "      <td>2016-03-24 10:58:45</td>\n",
       "      <td>18300</td>\n",
       "      <td>coupe</td>\n",
       "      <td>2011</td>\n",
       "      <td>manual</td>\n",
       "      <td>190</td>\n",
       "      <td>NaN</td>\n",
       "      <td>125000</td>\n",
       "      <td>5</td>\n",
       "      <td>gasoline</td>\n",
       "      <td>audi</td>\n",
       "      <td>yes</td>\n",
       "      <td>2016-03-24 00:00:00</td>\n",
       "      <td>0</td>\n",
       "      <td>66954</td>\n",
       "      <td>2016-04-07 01:46:50</td>\n",
       "    </tr>\n",
       "    <tr>\n",
       "      <th>2</th>\n",
       "      <td>2016-03-14 12:52:21</td>\n",
       "      <td>9800</td>\n",
       "      <td>suv</td>\n",
       "      <td>2004</td>\n",
       "      <td>auto</td>\n",
       "      <td>163</td>\n",
       "      <td>grand</td>\n",
       "      <td>125000</td>\n",
       "      <td>8</td>\n",
       "      <td>gasoline</td>\n",
       "      <td>jeep</td>\n",
       "      <td>NaN</td>\n",
       "      <td>2016-03-14 00:00:00</td>\n",
       "      <td>0</td>\n",
       "      <td>90480</td>\n",
       "      <td>2016-04-05 12:47:46</td>\n",
       "    </tr>\n",
       "    <tr>\n",
       "      <th>3</th>\n",
       "      <td>2016-03-17 16:54:04</td>\n",
       "      <td>1500</td>\n",
       "      <td>small</td>\n",
       "      <td>2001</td>\n",
       "      <td>manual</td>\n",
       "      <td>75</td>\n",
       "      <td>golf</td>\n",
       "      <td>150000</td>\n",
       "      <td>6</td>\n",
       "      <td>petrol</td>\n",
       "      <td>volkswagen</td>\n",
       "      <td>no</td>\n",
       "      <td>2016-03-17 00:00:00</td>\n",
       "      <td>0</td>\n",
       "      <td>91074</td>\n",
       "      <td>2016-03-17 17:40:17</td>\n",
       "    </tr>\n",
       "    <tr>\n",
       "      <th>4</th>\n",
       "      <td>2016-03-31 17:25:20</td>\n",
       "      <td>3600</td>\n",
       "      <td>small</td>\n",
       "      <td>2008</td>\n",
       "      <td>manual</td>\n",
       "      <td>69</td>\n",
       "      <td>fabia</td>\n",
       "      <td>90000</td>\n",
       "      <td>7</td>\n",
       "      <td>gasoline</td>\n",
       "      <td>skoda</td>\n",
       "      <td>no</td>\n",
       "      <td>2016-03-31 00:00:00</td>\n",
       "      <td>0</td>\n",
       "      <td>60437</td>\n",
       "      <td>2016-04-06 10:17:21</td>\n",
       "    </tr>\n",
       "  </tbody>\n",
       "</table>\n",
       "</div>"
      ],
      "text/plain": [
       "           DateCrawled  Price VehicleType  RegistrationYear Gearbox  Power  \\\n",
       "0  2016-03-24 11:52:17    480         NaN              1993  manual      0   \n",
       "1  2016-03-24 10:58:45  18300       coupe              2011  manual    190   \n",
       "2  2016-03-14 12:52:21   9800         suv              2004    auto    163   \n",
       "3  2016-03-17 16:54:04   1500       small              2001  manual     75   \n",
       "4  2016-03-31 17:25:20   3600       small              2008  manual     69   \n",
       "\n",
       "   Model  Kilometer  RegistrationMonth  FuelType       Brand NotRepaired  \\\n",
       "0   golf     150000                  0    petrol  volkswagen         NaN   \n",
       "1    NaN     125000                  5  gasoline        audi         yes   \n",
       "2  grand     125000                  8  gasoline        jeep         NaN   \n",
       "3   golf     150000                  6    petrol  volkswagen          no   \n",
       "4  fabia      90000                  7  gasoline       skoda          no   \n",
       "\n",
       "           DateCreated  NumberOfPictures  PostalCode             LastSeen  \n",
       "0  2016-03-24 00:00:00                 0       70435  2016-04-07 03:16:57  \n",
       "1  2016-03-24 00:00:00                 0       66954  2016-04-07 01:46:50  \n",
       "2  2016-03-14 00:00:00                 0       90480  2016-04-05 12:47:46  \n",
       "3  2016-03-17 00:00:00                 0       91074  2016-03-17 17:40:17  \n",
       "4  2016-03-31 00:00:00                 0       60437  2016-04-06 10:17:21  "
      ]
     },
     "execution_count": 4,
     "metadata": {},
     "output_type": "execute_result"
    }
   ],
   "source": [
    "data.head(5)"
   ]
  },
  {
   "cell_type": "code",
   "execution_count": 5,
   "metadata": {
    "scrolled": true
   },
   "outputs": [
    {
     "name": "stdout",
     "output_type": "stream",
     "text": [
      "<class 'pandas.core.frame.DataFrame'>\n",
      "RangeIndex: 354369 entries, 0 to 354368\n",
      "Data columns (total 16 columns):\n",
      " #   Column             Non-Null Count   Dtype \n",
      "---  ------             --------------   ----- \n",
      " 0   DateCrawled        354369 non-null  object\n",
      " 1   Price              354369 non-null  int64 \n",
      " 2   VehicleType        316879 non-null  object\n",
      " 3   RegistrationYear   354369 non-null  int64 \n",
      " 4   Gearbox            334536 non-null  object\n",
      " 5   Power              354369 non-null  int64 \n",
      " 6   Model              334664 non-null  object\n",
      " 7   Kilometer          354369 non-null  int64 \n",
      " 8   RegistrationMonth  354369 non-null  int64 \n",
      " 9   FuelType           321474 non-null  object\n",
      " 10  Brand              354369 non-null  object\n",
      " 11  NotRepaired        283215 non-null  object\n",
      " 12  DateCreated        354369 non-null  object\n",
      " 13  NumberOfPictures   354369 non-null  int64 \n",
      " 14  PostalCode         354369 non-null  int64 \n",
      " 15  LastSeen           354369 non-null  object\n",
      "dtypes: int64(7), object(9)\n",
      "memory usage: 43.3+ MB\n"
     ]
    }
   ],
   "source": [
    "data.info()"
   ]
  },
  {
   "cell_type": "markdown",
   "metadata": {},
   "source": [
    "Удалим из признаков столбцы 'NumberOfPictures', 'PostalCode', 'Brand', 'DateCrawled', 'RegistrationMonth' т.к. эти данные не нужны при построении моделей."
   ]
  },
  {
   "cell_type": "code",
   "execution_count": 6,
   "metadata": {},
   "outputs": [],
   "source": [
    "data = data.drop(columns = ['NumberOfPictures', 'PostalCode', 'Brand', 'DateCrawled', 'RegistrationMonth'], axis=1)"
   ]
  },
  {
   "cell_type": "code",
   "execution_count": 7,
   "metadata": {},
   "outputs": [
    {
     "data": {
      "text/plain": [
       "110"
      ]
     },
     "execution_count": 7,
     "metadata": {},
     "output_type": "execute_result"
    }
   ],
   "source": [
    "data.duplicated().sum()   # проверка на наличие явных дубликатов"
   ]
  },
  {
   "cell_type": "code",
   "execution_count": 8,
   "metadata": {},
   "outputs": [],
   "source": [
    "df = data.drop_duplicates() # удаление дубликатов"
   ]
  },
  {
   "cell_type": "markdown",
   "metadata": {},
   "source": [
    "Рассмотрим распределение стоимости автомобилей."
   ]
  },
  {
   "cell_type": "code",
   "execution_count": 9,
   "metadata": {},
   "outputs": [
    {
     "data": {
      "image/png": "[encoded data removed]",
      "text/plain": [
       "<Figure size 1080x360 with 1 Axes>"
      ]
     },
     "metadata": {
      "needs_background": "light"
     },
     "output_type": "display_data"
    }
   ],
   "source": [
    "df.plot(kind='hist', y = 'Price',bins=300, grid=True, title='Стоимость автомобилей'\n",
    "           , xlabel='цена', figsize=(15,5)); # "
   ]
  },
  {
   "cell_type": "markdown",
   "metadata": {},
   "source": [
    "В данных есть нулевое значение цены. Удалим эти строки."
   ]
  },
  {
   "cell_type": "code",
   "execution_count": 10,
   "metadata": {},
   "outputs": [],
   "source": [
    "df = df[df['Price'] != 0] # удаление аномальных значений цены"
   ]
  },
  {
   "cell_type": "markdown",
   "metadata": {},
   "source": [
    "Рассмотрим распределение автомоблей по году регистрации."
   ]
  },
  {
   "cell_type": "code",
   "execution_count": 11,
   "metadata": {},
   "outputs": [
    {
     "data": {
      "image/png": "[encoded data removed]",
      "text/plain": [
       "<Figure size 360x720 with 1 Axes>"
      ]
     },
     "metadata": {
      "needs_background": "light"
     },
     "output_type": "display_data"
    }
   ],
   "source": [
    "df.plot(kind='box', y='RegistrationYear', grid=True\n",
    "    , title='Распределение года регистрации автомобиля', figsize=(5,10));"
   ]
  },
  {
   "cell_type": "code",
   "execution_count": 12,
   "metadata": {},
   "outputs": [],
   "source": [
    "df = df[df['RegistrationYear'] < 2016] # удаление аномальных значений года больше 2016"
   ]
  },
  {
   "cell_type": "code",
   "execution_count": 13,
   "metadata": {},
   "outputs": [],
   "source": [
    "df = df[df['RegistrationYear'] > 1900] # удаление аномальных значений года меньше 1900"
   ]
  },
  {
   "cell_type": "code",
   "execution_count": 14,
   "metadata": {},
   "outputs": [
    {
     "name": "stdout",
     "output_type": "stream",
     "text": [
      "Price                   0\n",
      "VehicleType         11145\n",
      "RegistrationYear        0\n",
      "Gearbox             14367\n",
      "Power                   0\n",
      "Model               14429\n",
      "Kilometer               0\n",
      "FuelType            20752\n",
      "NotRepaired         55756\n",
      "DateCreated             0\n",
      "LastSeen                0\n",
      "dtype: int64\n"
     ]
    }
   ],
   "source": [
    "print(df.isna().sum()) # находим количество пропущенных значений"
   ]
  },
  {
   "cell_type": "code",
   "execution_count": 15,
   "metadata": {},
   "outputs": [
    {
     "data": {
      "text/plain": [
       "no     233153\n",
       "yes     31779\n",
       "Name: NotRepaired, dtype: int64"
      ]
     },
     "execution_count": 15,
     "metadata": {},
     "output_type": "execute_result"
    }
   ],
   "source": [
    "df['NotRepaired'].value_counts()"
   ]
  },
  {
   "cell_type": "markdown",
   "metadata": {},
   "source": [
    "В столбце NotRepaired 65743 пропущеных значений. Заполним их специальным значением, чтобы не удалять. В остальных столбцах удалим строки с пропущенными значениями."
   ]
  },
  {
   "cell_type": "code",
   "execution_count": 16,
   "metadata": {},
   "outputs": [],
   "source": [
    "df['NotRepaired'] = df['NotRepaired'].fillna('unknown')"
   ]
  },
  {
   "cell_type": "code",
   "execution_count": 17,
   "metadata": {},
   "outputs": [],
   "source": [
    "df = df.dropna(subset=['VehicleType', 'Gearbox', 'Model', 'FuelType'])"
   ]
  },
  {
   "cell_type": "code",
   "execution_count": 18,
   "metadata": {},
   "outputs": [
    {
     "name": "stdout",
     "output_type": "stream",
     "text": [
      "Price               0\n",
      "VehicleType         0\n",
      "RegistrationYear    0\n",
      "Gearbox             0\n",
      "Power               0\n",
      "Model               0\n",
      "Kilometer           0\n",
      "FuelType            0\n",
      "NotRepaired         0\n",
      "DateCreated         0\n",
      "LastSeen            0\n",
      "dtype: int64\n"
     ]
    }
   ],
   "source": [
    "print(df.isna().sum()) # находим количество пропущенных значений"
   ]
  },
  {
   "cell_type": "code",
   "execution_count": 19,
   "metadata": {},
   "outputs": [
    {
     "data": {
      "image/png": "[encoded data removed]",
      "text/plain": [
       "<Figure size 360x720 with 1 Axes>"
      ]
     },
     "metadata": {
      "needs_background": "light"
     },
     "output_type": "display_data"
    }
   ],
   "source": [
    "df.plot(kind='box', y='Power', grid=True\n",
    "    , title='Мощность (л.с.)', figsize=(5,10));"
   ]
  },
  {
   "cell_type": "markdown",
   "metadata": {},
   "source": [
    "Значение мощности больше двух тысяч лошадных сил являются аномальными. Удалим их."
   ]
  },
  {
   "cell_type": "code",
   "execution_count": 20,
   "metadata": {},
   "outputs": [],
   "source": [
    "df = df[df['Power'] < 2000]"
   ]
  },
  {
   "cell_type": "markdown",
   "metadata": {},
   "source": [
    "Дата создания анкеты и дата последней активности пользователя тоже вряд ли влияют на стоимость автомобиля, поэтому удалим эти столбцы. "
   ]
  },
  {
   "cell_type": "code",
   "execution_count": 21,
   "metadata": {},
   "outputs": [],
   "source": [
    "df = df.drop(columns = ['DateCreated', 'LastSeen'], axis=1)"
   ]
  },
  {
   "cell_type": "markdown",
   "metadata": {},
   "source": [
    "Дубликаты удалены, удалены признаки которые не нужны для построения моделей. Пропущенные и аномальные значения также удалены (примерно 20% данных)."
   ]
  },
  {
   "cell_type": "markdown",
   "metadata": {},
   "source": [
    "**Кодирование категориальных признаков**"
   ]
  },
  {
   "cell_type": "code",
   "execution_count": 22,
   "metadata": {},
   "outputs": [
    {
     "data": {
      "text/html": [
       "<div>\n",
       "<style scoped>\n",
       "    .dataframe tbody tr th:only-of-type {\n",
       "        vertical-align: middle;\n",
       "    }\n",
       "\n",
       "    .dataframe tbody tr th {\n",
       "        vertical-align: top;\n",
       "    }\n",
       "\n",
       "    .dataframe thead th {\n",
       "        text-align: right;\n",
       "    }\n",
       "</style>\n",
       "<table border=\"1\" class=\"dataframe\">\n",
       "  <thead>\n",
       "    <tr style=\"text-align: right;\">\n",
       "      <th></th>\n",
       "      <th>Price</th>\n",
       "      <th>VehicleType</th>\n",
       "      <th>RegistrationYear</th>\n",
       "      <th>Gearbox</th>\n",
       "      <th>Power</th>\n",
       "      <th>Model</th>\n",
       "      <th>Kilometer</th>\n",
       "      <th>FuelType</th>\n",
       "      <th>NotRepaired</th>\n",
       "    </tr>\n",
       "  </thead>\n",
       "  <tbody>\n",
       "    <tr>\n",
       "      <th>2</th>\n",
       "      <td>9800</td>\n",
       "      <td>suv</td>\n",
       "      <td>2004</td>\n",
       "      <td>auto</td>\n",
       "      <td>163</td>\n",
       "      <td>grand</td>\n",
       "      <td>125000</td>\n",
       "      <td>gasoline</td>\n",
       "      <td>unknown</td>\n",
       "    </tr>\n",
       "    <tr>\n",
       "      <th>3</th>\n",
       "      <td>1500</td>\n",
       "      <td>small</td>\n",
       "      <td>2001</td>\n",
       "      <td>manual</td>\n",
       "      <td>75</td>\n",
       "      <td>golf</td>\n",
       "      <td>150000</td>\n",
       "      <td>petrol</td>\n",
       "      <td>no</td>\n",
       "    </tr>\n",
       "    <tr>\n",
       "      <th>4</th>\n",
       "      <td>3600</td>\n",
       "      <td>small</td>\n",
       "      <td>2008</td>\n",
       "      <td>manual</td>\n",
       "      <td>69</td>\n",
       "      <td>fabia</td>\n",
       "      <td>90000</td>\n",
       "      <td>gasoline</td>\n",
       "      <td>no</td>\n",
       "    </tr>\n",
       "    <tr>\n",
       "      <th>5</th>\n",
       "      <td>650</td>\n",
       "      <td>sedan</td>\n",
       "      <td>1995</td>\n",
       "      <td>manual</td>\n",
       "      <td>102</td>\n",
       "      <td>3er</td>\n",
       "      <td>150000</td>\n",
       "      <td>petrol</td>\n",
       "      <td>yes</td>\n",
       "    </tr>\n",
       "    <tr>\n",
       "      <th>6</th>\n",
       "      <td>2200</td>\n",
       "      <td>convertible</td>\n",
       "      <td>2004</td>\n",
       "      <td>manual</td>\n",
       "      <td>109</td>\n",
       "      <td>2_reihe</td>\n",
       "      <td>150000</td>\n",
       "      <td>petrol</td>\n",
       "      <td>no</td>\n",
       "    </tr>\n",
       "    <tr>\n",
       "      <th>...</th>\n",
       "      <td>...</td>\n",
       "      <td>...</td>\n",
       "      <td>...</td>\n",
       "      <td>...</td>\n",
       "      <td>...</td>\n",
       "      <td>...</td>\n",
       "      <td>...</td>\n",
       "      <td>...</td>\n",
       "      <td>...</td>\n",
       "    </tr>\n",
       "    <tr>\n",
       "      <th>354362</th>\n",
       "      <td>3200</td>\n",
       "      <td>sedan</td>\n",
       "      <td>2004</td>\n",
       "      <td>manual</td>\n",
       "      <td>225</td>\n",
       "      <td>leon</td>\n",
       "      <td>150000</td>\n",
       "      <td>petrol</td>\n",
       "      <td>yes</td>\n",
       "    </tr>\n",
       "    <tr>\n",
       "      <th>354363</th>\n",
       "      <td>1150</td>\n",
       "      <td>bus</td>\n",
       "      <td>2000</td>\n",
       "      <td>manual</td>\n",
       "      <td>0</td>\n",
       "      <td>zafira</td>\n",
       "      <td>150000</td>\n",
       "      <td>petrol</td>\n",
       "      <td>no</td>\n",
       "    </tr>\n",
       "    <tr>\n",
       "      <th>354366</th>\n",
       "      <td>1199</td>\n",
       "      <td>convertible</td>\n",
       "      <td>2000</td>\n",
       "      <td>auto</td>\n",
       "      <td>101</td>\n",
       "      <td>fortwo</td>\n",
       "      <td>125000</td>\n",
       "      <td>petrol</td>\n",
       "      <td>no</td>\n",
       "    </tr>\n",
       "    <tr>\n",
       "      <th>354367</th>\n",
       "      <td>9200</td>\n",
       "      <td>bus</td>\n",
       "      <td>1996</td>\n",
       "      <td>manual</td>\n",
       "      <td>102</td>\n",
       "      <td>transporter</td>\n",
       "      <td>150000</td>\n",
       "      <td>gasoline</td>\n",
       "      <td>no</td>\n",
       "    </tr>\n",
       "    <tr>\n",
       "      <th>354368</th>\n",
       "      <td>3400</td>\n",
       "      <td>wagon</td>\n",
       "      <td>2002</td>\n",
       "      <td>manual</td>\n",
       "      <td>100</td>\n",
       "      <td>golf</td>\n",
       "      <td>150000</td>\n",
       "      <td>gasoline</td>\n",
       "      <td>unknown</td>\n",
       "    </tr>\n",
       "  </tbody>\n",
       "</table>\n",
       "<p>278751 rows × 9 columns</p>\n",
       "</div>"
      ],
      "text/plain": [
       "        Price  VehicleType  RegistrationYear Gearbox  Power        Model  \\\n",
       "2        9800          suv              2004    auto    163        grand   \n",
       "3        1500        small              2001  manual     75         golf   \n",
       "4        3600        small              2008  manual     69        fabia   \n",
       "5         650        sedan              1995  manual    102          3er   \n",
       "6        2200  convertible              2004  manual    109      2_reihe   \n",
       "...       ...          ...               ...     ...    ...          ...   \n",
       "354362   3200        sedan              2004  manual    225         leon   \n",
       "354363   1150          bus              2000  manual      0       zafira   \n",
       "354366   1199  convertible              2000    auto    101       fortwo   \n",
       "354367   9200          bus              1996  manual    102  transporter   \n",
       "354368   3400        wagon              2002  manual    100         golf   \n",
       "\n",
       "        Kilometer  FuelType NotRepaired  \n",
       "2          125000  gasoline     unknown  \n",
       "3          150000    petrol          no  \n",
       "4           90000  gasoline          no  \n",
       "5          150000    petrol         yes  \n",
       "6          150000    petrol          no  \n",
       "...           ...       ...         ...  \n",
       "354362     150000    petrol         yes  \n",
       "354363     150000    petrol          no  \n",
       "354366     125000    petrol          no  \n",
       "354367     150000  gasoline          no  \n",
       "354368     150000  gasoline     unknown  \n",
       "\n",
       "[278751 rows x 9 columns]"
      ]
     },
     "execution_count": 22,
     "metadata": {},
     "output_type": "execute_result"
    }
   ],
   "source": [
    "df"
   ]
  },
  {
   "cell_type": "markdown",
   "metadata": {},
   "source": [
    "Для модели lightGBM признаки не кодируем. Переведем категориальные данные в тип \"category\"."
   ]
  },
  {
   "cell_type": "code",
   "execution_count": 23,
   "metadata": {},
   "outputs": [],
   "source": [
    "df_for_lgbm = df # сохраним датасэт до кодирования для модели lightGBM"
   ]
  },
  {
   "cell_type": "code",
   "execution_count": 24,
   "metadata": {},
   "outputs": [],
   "source": [
    "columns = ['VehicleType', 'Gearbox', 'Model', 'FuelType', 'NotRepaired']\n",
    "df_for_lgbm[columns] = df_for_lgbm[columns].astype('category')"
   ]
  },
  {
   "cell_type": "markdown",
   "metadata": {},
   "source": [
    "Для кодирования категориальных признаков для RandomForestRegressor применим порядковое кодирование."
   ]
  },
  {
   "cell_type": "code",
   "execution_count": 25,
   "metadata": {},
   "outputs": [
    {
     "data": {
      "text/html": [
       "<div>\n",
       "<style scoped>\n",
       "    .dataframe tbody tr th:only-of-type {\n",
       "        vertical-align: middle;\n",
       "    }\n",
       "\n",
       "    .dataframe tbody tr th {\n",
       "        vertical-align: top;\n",
       "    }\n",
       "\n",
       "    .dataframe thead th {\n",
       "        text-align: right;\n",
       "    }\n",
       "</style>\n",
       "<table border=\"1\" class=\"dataframe\">\n",
       "  <thead>\n",
       "    <tr style=\"text-align: right;\">\n",
       "      <th></th>\n",
       "      <th>Price</th>\n",
       "      <th>VehicleType</th>\n",
       "      <th>RegistrationYear</th>\n",
       "      <th>Gearbox</th>\n",
       "      <th>Power</th>\n",
       "      <th>Model</th>\n",
       "      <th>Kilometer</th>\n",
       "      <th>FuelType</th>\n",
       "      <th>NotRepaired</th>\n",
       "    </tr>\n",
       "  </thead>\n",
       "  <tbody>\n",
       "    <tr>\n",
       "      <th>2</th>\n",
       "      <td>9800</td>\n",
       "      <td>suv</td>\n",
       "      <td>2004</td>\n",
       "      <td>auto</td>\n",
       "      <td>163</td>\n",
       "      <td>grand</td>\n",
       "      <td>125000</td>\n",
       "      <td>gasoline</td>\n",
       "      <td>unknown</td>\n",
       "    </tr>\n",
       "    <tr>\n",
       "      <th>3</th>\n",
       "      <td>1500</td>\n",
       "      <td>small</td>\n",
       "      <td>2001</td>\n",
       "      <td>manual</td>\n",
       "      <td>75</td>\n",
       "      <td>golf</td>\n",
       "      <td>150000</td>\n",
       "      <td>petrol</td>\n",
       "      <td>no</td>\n",
       "    </tr>\n",
       "    <tr>\n",
       "      <th>4</th>\n",
       "      <td>3600</td>\n",
       "      <td>small</td>\n",
       "      <td>2008</td>\n",
       "      <td>manual</td>\n",
       "      <td>69</td>\n",
       "      <td>fabia</td>\n",
       "      <td>90000</td>\n",
       "      <td>gasoline</td>\n",
       "      <td>no</td>\n",
       "    </tr>\n",
       "    <tr>\n",
       "      <th>5</th>\n",
       "      <td>650</td>\n",
       "      <td>sedan</td>\n",
       "      <td>1995</td>\n",
       "      <td>manual</td>\n",
       "      <td>102</td>\n",
       "      <td>3er</td>\n",
       "      <td>150000</td>\n",
       "      <td>petrol</td>\n",
       "      <td>yes</td>\n",
       "    </tr>\n",
       "    <tr>\n",
       "      <th>6</th>\n",
       "      <td>2200</td>\n",
       "      <td>convertible</td>\n",
       "      <td>2004</td>\n",
       "      <td>manual</td>\n",
       "      <td>109</td>\n",
       "      <td>2_reihe</td>\n",
       "      <td>150000</td>\n",
       "      <td>petrol</td>\n",
       "      <td>no</td>\n",
       "    </tr>\n",
       "    <tr>\n",
       "      <th>...</th>\n",
       "      <td>...</td>\n",
       "      <td>...</td>\n",
       "      <td>...</td>\n",
       "      <td>...</td>\n",
       "      <td>...</td>\n",
       "      <td>...</td>\n",
       "      <td>...</td>\n",
       "      <td>...</td>\n",
       "      <td>...</td>\n",
       "    </tr>\n",
       "    <tr>\n",
       "      <th>354362</th>\n",
       "      <td>3200</td>\n",
       "      <td>sedan</td>\n",
       "      <td>2004</td>\n",
       "      <td>manual</td>\n",
       "      <td>225</td>\n",
       "      <td>leon</td>\n",
       "      <td>150000</td>\n",
       "      <td>petrol</td>\n",
       "      <td>yes</td>\n",
       "    </tr>\n",
       "    <tr>\n",
       "      <th>354363</th>\n",
       "      <td>1150</td>\n",
       "      <td>bus</td>\n",
       "      <td>2000</td>\n",
       "      <td>manual</td>\n",
       "      <td>0</td>\n",
       "      <td>zafira</td>\n",
       "      <td>150000</td>\n",
       "      <td>petrol</td>\n",
       "      <td>no</td>\n",
       "    </tr>\n",
       "    <tr>\n",
       "      <th>354366</th>\n",
       "      <td>1199</td>\n",
       "      <td>convertible</td>\n",
       "      <td>2000</td>\n",
       "      <td>auto</td>\n",
       "      <td>101</td>\n",
       "      <td>fortwo</td>\n",
       "      <td>125000</td>\n",
       "      <td>petrol</td>\n",
       "      <td>no</td>\n",
       "    </tr>\n",
       "    <tr>\n",
       "      <th>354367</th>\n",
       "      <td>9200</td>\n",
       "      <td>bus</td>\n",
       "      <td>1996</td>\n",
       "      <td>manual</td>\n",
       "      <td>102</td>\n",
       "      <td>transporter</td>\n",
       "      <td>150000</td>\n",
       "      <td>gasoline</td>\n",
       "      <td>no</td>\n",
       "    </tr>\n",
       "    <tr>\n",
       "      <th>354368</th>\n",
       "      <td>3400</td>\n",
       "      <td>wagon</td>\n",
       "      <td>2002</td>\n",
       "      <td>manual</td>\n",
       "      <td>100</td>\n",
       "      <td>golf</td>\n",
       "      <td>150000</td>\n",
       "      <td>gasoline</td>\n",
       "      <td>unknown</td>\n",
       "    </tr>\n",
       "  </tbody>\n",
       "</table>\n",
       "<p>278751 rows × 9 columns</p>\n",
       "</div>"
      ],
      "text/plain": [
       "        Price  VehicleType  RegistrationYear Gearbox  Power        Model  \\\n",
       "2        9800          suv              2004    auto    163        grand   \n",
       "3        1500        small              2001  manual     75         golf   \n",
       "4        3600        small              2008  manual     69        fabia   \n",
       "5         650        sedan              1995  manual    102          3er   \n",
       "6        2200  convertible              2004  manual    109      2_reihe   \n",
       "...       ...          ...               ...     ...    ...          ...   \n",
       "354362   3200        sedan              2004  manual    225         leon   \n",
       "354363   1150          bus              2000  manual      0       zafira   \n",
       "354366   1199  convertible              2000    auto    101       fortwo   \n",
       "354367   9200          bus              1996  manual    102  transporter   \n",
       "354368   3400        wagon              2002  manual    100         golf   \n",
       "\n",
       "        Kilometer  FuelType NotRepaired  \n",
       "2          125000  gasoline     unknown  \n",
       "3          150000    petrol          no  \n",
       "4           90000  gasoline          no  \n",
       "5          150000    petrol         yes  \n",
       "6          150000    petrol          no  \n",
       "...           ...       ...         ...  \n",
       "354362     150000    petrol         yes  \n",
       "354363     150000    petrol          no  \n",
       "354366     125000    petrol          no  \n",
       "354367     150000  gasoline          no  \n",
       "354368     150000  gasoline     unknown  \n",
       "\n",
       "[278751 rows x 9 columns]"
      ]
     },
     "execution_count": 25,
     "metadata": {},
     "output_type": "execute_result"
    }
   ],
   "source": [
    "df"
   ]
  },
  {
   "cell_type": "code",
   "execution_count": 26,
   "metadata": {},
   "outputs": [],
   "source": [
    "df_for_tree = df  # сохраним датасэт для кодирования для модели RandomForestRegressor"
   ]
  },
  {
   "cell_type": "code",
   "execution_count": 27,
   "metadata": {},
   "outputs": [],
   "source": [
    "ord_enc = OrdinalEncoder()"
   ]
  },
  {
   "cell_type": "code",
   "execution_count": 28,
   "metadata": {},
   "outputs": [],
   "source": [
    "df_for_tree[[\"VehicleType_code\", \"Gearbox_code\", \"Model_code\", \"FuelType_code\", \n",
    "             \"NotRepaired_code\"]] = ord_enc.fit_transform(df_for_tree[[\"VehicleType\", \n",
    "                                    \"Gearbox\",\"Model\", \"FuelType\", \"NotRepaired\"]])"
   ]
  },
  {
   "cell_type": "code",
   "execution_count": 29,
   "metadata": {},
   "outputs": [],
   "source": [
    "df_for_tree = df_for_tree.drop(columns=[\"VehicleType\", \"Gearbox\",\"Model\", \"FuelType\", \"NotRepaired\"])"
   ]
  },
  {
   "cell_type": "code",
   "execution_count": 30,
   "metadata": {},
   "outputs": [
    {
     "data": {
      "text/html": [
       "<div>\n",
       "<style scoped>\n",
       "    .dataframe tbody tr th:only-of-type {\n",
       "        vertical-align: middle;\n",
       "    }\n",
       "\n",
       "    .dataframe tbody tr th {\n",
       "        vertical-align: top;\n",
       "    }\n",
       "\n",
       "    .dataframe thead th {\n",
       "        text-align: right;\n",
       "    }\n",
       "</style>\n",
       "<table border=\"1\" class=\"dataframe\">\n",
       "  <thead>\n",
       "    <tr style=\"text-align: right;\">\n",
       "      <th></th>\n",
       "      <th>Price</th>\n",
       "      <th>RegistrationYear</th>\n",
       "      <th>Power</th>\n",
       "      <th>Kilometer</th>\n",
       "      <th>VehicleType_code</th>\n",
       "      <th>Gearbox_code</th>\n",
       "      <th>Model_code</th>\n",
       "      <th>FuelType_code</th>\n",
       "      <th>NotRepaired_code</th>\n",
       "    </tr>\n",
       "  </thead>\n",
       "  <tbody>\n",
       "    <tr>\n",
       "      <th>2</th>\n",
       "      <td>9800</td>\n",
       "      <td>2004</td>\n",
       "      <td>163</td>\n",
       "      <td>125000</td>\n",
       "      <td>6.0</td>\n",
       "      <td>0.0</td>\n",
       "      <td>117.0</td>\n",
       "      <td>2.0</td>\n",
       "      <td>1.0</td>\n",
       "    </tr>\n",
       "    <tr>\n",
       "      <th>3</th>\n",
       "      <td>1500</td>\n",
       "      <td>2001</td>\n",
       "      <td>75</td>\n",
       "      <td>150000</td>\n",
       "      <td>5.0</td>\n",
       "      <td>1.0</td>\n",
       "      <td>116.0</td>\n",
       "      <td>6.0</td>\n",
       "      <td>0.0</td>\n",
       "    </tr>\n",
       "    <tr>\n",
       "      <th>4</th>\n",
       "      <td>3600</td>\n",
       "      <td>2008</td>\n",
       "      <td>69</td>\n",
       "      <td>90000</td>\n",
       "      <td>5.0</td>\n",
       "      <td>1.0</td>\n",
       "      <td>101.0</td>\n",
       "      <td>2.0</td>\n",
       "      <td>0.0</td>\n",
       "    </tr>\n",
       "    <tr>\n",
       "      <th>5</th>\n",
       "      <td>650</td>\n",
       "      <td>1995</td>\n",
       "      <td>102</td>\n",
       "      <td>150000</td>\n",
       "      <td>4.0</td>\n",
       "      <td>1.0</td>\n",
       "      <td>11.0</td>\n",
       "      <td>6.0</td>\n",
       "      <td>2.0</td>\n",
       "    </tr>\n",
       "    <tr>\n",
       "      <th>6</th>\n",
       "      <td>2200</td>\n",
       "      <td>2004</td>\n",
       "      <td>109</td>\n",
       "      <td>150000</td>\n",
       "      <td>1.0</td>\n",
       "      <td>1.0</td>\n",
       "      <td>8.0</td>\n",
       "      <td>6.0</td>\n",
       "      <td>0.0</td>\n",
       "    </tr>\n",
       "    <tr>\n",
       "      <th>...</th>\n",
       "      <td>...</td>\n",
       "      <td>...</td>\n",
       "      <td>...</td>\n",
       "      <td>...</td>\n",
       "      <td>...</td>\n",
       "      <td>...</td>\n",
       "      <td>...</td>\n",
       "      <td>...</td>\n",
       "      <td>...</td>\n",
       "    </tr>\n",
       "    <tr>\n",
       "      <th>354362</th>\n",
       "      <td>3200</td>\n",
       "      <td>2004</td>\n",
       "      <td>225</td>\n",
       "      <td>150000</td>\n",
       "      <td>4.0</td>\n",
       "      <td>1.0</td>\n",
       "      <td>140.0</td>\n",
       "      <td>6.0</td>\n",
       "      <td>2.0</td>\n",
       "    </tr>\n",
       "    <tr>\n",
       "      <th>354363</th>\n",
       "      <td>1150</td>\n",
       "      <td>2000</td>\n",
       "      <td>0</td>\n",
       "      <td>150000</td>\n",
       "      <td>0.0</td>\n",
       "      <td>1.0</td>\n",
       "      <td>249.0</td>\n",
       "      <td>6.0</td>\n",
       "      <td>0.0</td>\n",
       "    </tr>\n",
       "    <tr>\n",
       "      <th>354366</th>\n",
       "      <td>1199</td>\n",
       "      <td>2000</td>\n",
       "      <td>101</td>\n",
       "      <td>125000</td>\n",
       "      <td>1.0</td>\n",
       "      <td>0.0</td>\n",
       "      <td>106.0</td>\n",
       "      <td>6.0</td>\n",
       "      <td>0.0</td>\n",
       "    </tr>\n",
       "    <tr>\n",
       "      <th>354367</th>\n",
       "      <td>9200</td>\n",
       "      <td>1996</td>\n",
       "      <td>102</td>\n",
       "      <td>150000</td>\n",
       "      <td>0.0</td>\n",
       "      <td>1.0</td>\n",
       "      <td>224.0</td>\n",
       "      <td>2.0</td>\n",
       "      <td>0.0</td>\n",
       "    </tr>\n",
       "    <tr>\n",
       "      <th>354368</th>\n",
       "      <td>3400</td>\n",
       "      <td>2002</td>\n",
       "      <td>100</td>\n",
       "      <td>150000</td>\n",
       "      <td>7.0</td>\n",
       "      <td>1.0</td>\n",
       "      <td>116.0</td>\n",
       "      <td>2.0</td>\n",
       "      <td>1.0</td>\n",
       "    </tr>\n",
       "  </tbody>\n",
       "</table>\n",
       "<p>278751 rows × 9 columns</p>\n",
       "</div>"
      ],
      "text/plain": [
       "        Price  RegistrationYear  Power  Kilometer  VehicleType_code  \\\n",
       "2        9800              2004    163     125000               6.0   \n",
       "3        1500              2001     75     150000               5.0   \n",
       "4        3600              2008     69      90000               5.0   \n",
       "5         650              1995    102     150000               4.0   \n",
       "6        2200              2004    109     150000               1.0   \n",
       "...       ...               ...    ...        ...               ...   \n",
       "354362   3200              2004    225     150000               4.0   \n",
       "354363   1150              2000      0     150000               0.0   \n",
       "354366   1199              2000    101     125000               1.0   \n",
       "354367   9200              1996    102     150000               0.0   \n",
       "354368   3400              2002    100     150000               7.0   \n",
       "\n",
       "        Gearbox_code  Model_code  FuelType_code  NotRepaired_code  \n",
       "2                0.0       117.0            2.0               1.0  \n",
       "3                1.0       116.0            6.0               0.0  \n",
       "4                1.0       101.0            2.0               0.0  \n",
       "5                1.0        11.0            6.0               2.0  \n",
       "6                1.0         8.0            6.0               0.0  \n",
       "...              ...         ...            ...               ...  \n",
       "354362           1.0       140.0            6.0               2.0  \n",
       "354363           1.0       249.0            6.0               0.0  \n",
       "354366           0.0       106.0            6.0               0.0  \n",
       "354367           1.0       224.0            2.0               0.0  \n",
       "354368           1.0       116.0            2.0               1.0  \n",
       "\n",
       "[278751 rows x 9 columns]"
      ]
     },
     "execution_count": 30,
     "metadata": {},
     "output_type": "execute_result"
    }
   ],
   "source": [
    "df_for_tree"
   ]
  },
  {
   "cell_type": "markdown",
   "metadata": {},
   "source": [
    "Для кодирования категориальных признаков для линейной регрессии используем one-hot encoding."
   ]
  },
  {
   "cell_type": "code",
   "execution_count": 31,
   "metadata": {},
   "outputs": [],
   "source": [
    "df = pd.get_dummies(df,columns=[\"VehicleType\", \"Gearbox\",\"Model\", \"FuelType\", \"NotRepaired\"])"
   ]
  },
  {
   "cell_type": "code",
   "execution_count": 32,
   "metadata": {},
   "outputs": [],
   "source": [
    "df = df.drop(columns=[\"VehicleType_code\", \"Gearbox_code\", \"Model_code\", \"FuelType_code\", \n",
    "             \"NotRepaired_code\"])"
   ]
  },
  {
   "cell_type": "code",
   "execution_count": 33,
   "metadata": {},
   "outputs": [
    {
     "data": {
      "text/html": [
       "<div>\n",
       "<style scoped>\n",
       "    .dataframe tbody tr th:only-of-type {\n",
       "        vertical-align: middle;\n",
       "    }\n",
       "\n",
       "    .dataframe tbody tr th {\n",
       "        vertical-align: top;\n",
       "    }\n",
       "\n",
       "    .dataframe thead th {\n",
       "        text-align: right;\n",
       "    }\n",
       "</style>\n",
       "<table border=\"1\" class=\"dataframe\">\n",
       "  <thead>\n",
       "    <tr style=\"text-align: right;\">\n",
       "      <th></th>\n",
       "      <th>Price</th>\n",
       "      <th>RegistrationYear</th>\n",
       "      <th>Power</th>\n",
       "      <th>Kilometer</th>\n",
       "      <th>VehicleType_bus</th>\n",
       "      <th>VehicleType_convertible</th>\n",
       "      <th>VehicleType_coupe</th>\n",
       "      <th>VehicleType_other</th>\n",
       "      <th>VehicleType_sedan</th>\n",
       "      <th>VehicleType_small</th>\n",
       "      <th>...</th>\n",
       "      <th>FuelType_cng</th>\n",
       "      <th>FuelType_electric</th>\n",
       "      <th>FuelType_gasoline</th>\n",
       "      <th>FuelType_hybrid</th>\n",
       "      <th>FuelType_lpg</th>\n",
       "      <th>FuelType_other</th>\n",
       "      <th>FuelType_petrol</th>\n",
       "      <th>NotRepaired_no</th>\n",
       "      <th>NotRepaired_unknown</th>\n",
       "      <th>NotRepaired_yes</th>\n",
       "    </tr>\n",
       "  </thead>\n",
       "  <tbody>\n",
       "    <tr>\n",
       "      <th>2</th>\n",
       "      <td>9800</td>\n",
       "      <td>2004</td>\n",
       "      <td>163</td>\n",
       "      <td>125000</td>\n",
       "      <td>0</td>\n",
       "      <td>0</td>\n",
       "      <td>0</td>\n",
       "      <td>0</td>\n",
       "      <td>0</td>\n",
       "      <td>0</td>\n",
       "      <td>...</td>\n",
       "      <td>0</td>\n",
       "      <td>0</td>\n",
       "      <td>1</td>\n",
       "      <td>0</td>\n",
       "      <td>0</td>\n",
       "      <td>0</td>\n",
       "      <td>0</td>\n",
       "      <td>0</td>\n",
       "      <td>1</td>\n",
       "      <td>0</td>\n",
       "    </tr>\n",
       "    <tr>\n",
       "      <th>3</th>\n",
       "      <td>1500</td>\n",
       "      <td>2001</td>\n",
       "      <td>75</td>\n",
       "      <td>150000</td>\n",
       "      <td>0</td>\n",
       "      <td>0</td>\n",
       "      <td>0</td>\n",
       "      <td>0</td>\n",
       "      <td>0</td>\n",
       "      <td>1</td>\n",
       "      <td>...</td>\n",
       "      <td>0</td>\n",
       "      <td>0</td>\n",
       "      <td>0</td>\n",
       "      <td>0</td>\n",
       "      <td>0</td>\n",
       "      <td>0</td>\n",
       "      <td>1</td>\n",
       "      <td>1</td>\n",
       "      <td>0</td>\n",
       "      <td>0</td>\n",
       "    </tr>\n",
       "    <tr>\n",
       "      <th>4</th>\n",
       "      <td>3600</td>\n",
       "      <td>2008</td>\n",
       "      <td>69</td>\n",
       "      <td>90000</td>\n",
       "      <td>0</td>\n",
       "      <td>0</td>\n",
       "      <td>0</td>\n",
       "      <td>0</td>\n",
       "      <td>0</td>\n",
       "      <td>1</td>\n",
       "      <td>...</td>\n",
       "      <td>0</td>\n",
       "      <td>0</td>\n",
       "      <td>1</td>\n",
       "      <td>0</td>\n",
       "      <td>0</td>\n",
       "      <td>0</td>\n",
       "      <td>0</td>\n",
       "      <td>1</td>\n",
       "      <td>0</td>\n",
       "      <td>0</td>\n",
       "    </tr>\n",
       "    <tr>\n",
       "      <th>5</th>\n",
       "      <td>650</td>\n",
       "      <td>1995</td>\n",
       "      <td>102</td>\n",
       "      <td>150000</td>\n",
       "      <td>0</td>\n",
       "      <td>0</td>\n",
       "      <td>0</td>\n",
       "      <td>0</td>\n",
       "      <td>1</td>\n",
       "      <td>0</td>\n",
       "      <td>...</td>\n",
       "      <td>0</td>\n",
       "      <td>0</td>\n",
       "      <td>0</td>\n",
       "      <td>0</td>\n",
       "      <td>0</td>\n",
       "      <td>0</td>\n",
       "      <td>1</td>\n",
       "      <td>0</td>\n",
       "      <td>0</td>\n",
       "      <td>1</td>\n",
       "    </tr>\n",
       "    <tr>\n",
       "      <th>6</th>\n",
       "      <td>2200</td>\n",
       "      <td>2004</td>\n",
       "      <td>109</td>\n",
       "      <td>150000</td>\n",
       "      <td>0</td>\n",
       "      <td>1</td>\n",
       "      <td>0</td>\n",
       "      <td>0</td>\n",
       "      <td>0</td>\n",
       "      <td>0</td>\n",
       "      <td>...</td>\n",
       "      <td>0</td>\n",
       "      <td>0</td>\n",
       "      <td>0</td>\n",
       "      <td>0</td>\n",
       "      <td>0</td>\n",
       "      <td>0</td>\n",
       "      <td>1</td>\n",
       "      <td>1</td>\n",
       "      <td>0</td>\n",
       "      <td>0</td>\n",
       "    </tr>\n",
       "    <tr>\n",
       "      <th>...</th>\n",
       "      <td>...</td>\n",
       "      <td>...</td>\n",
       "      <td>...</td>\n",
       "      <td>...</td>\n",
       "      <td>...</td>\n",
       "      <td>...</td>\n",
       "      <td>...</td>\n",
       "      <td>...</td>\n",
       "      <td>...</td>\n",
       "      <td>...</td>\n",
       "      <td>...</td>\n",
       "      <td>...</td>\n",
       "      <td>...</td>\n",
       "      <td>...</td>\n",
       "      <td>...</td>\n",
       "      <td>...</td>\n",
       "      <td>...</td>\n",
       "      <td>...</td>\n",
       "      <td>...</td>\n",
       "      <td>...</td>\n",
       "      <td>...</td>\n",
       "    </tr>\n",
       "    <tr>\n",
       "      <th>354362</th>\n",
       "      <td>3200</td>\n",
       "      <td>2004</td>\n",
       "      <td>225</td>\n",
       "      <td>150000</td>\n",
       "      <td>0</td>\n",
       "      <td>0</td>\n",
       "      <td>0</td>\n",
       "      <td>0</td>\n",
       "      <td>1</td>\n",
       "      <td>0</td>\n",
       "      <td>...</td>\n",
       "      <td>0</td>\n",
       "      <td>0</td>\n",
       "      <td>0</td>\n",
       "      <td>0</td>\n",
       "      <td>0</td>\n",
       "      <td>0</td>\n",
       "      <td>1</td>\n",
       "      <td>0</td>\n",
       "      <td>0</td>\n",
       "      <td>1</td>\n",
       "    </tr>\n",
       "    <tr>\n",
       "      <th>354363</th>\n",
       "      <td>1150</td>\n",
       "      <td>2000</td>\n",
       "      <td>0</td>\n",
       "      <td>150000</td>\n",
       "      <td>1</td>\n",
       "      <td>0</td>\n",
       "      <td>0</td>\n",
       "      <td>0</td>\n",
       "      <td>0</td>\n",
       "      <td>0</td>\n",
       "      <td>...</td>\n",
       "      <td>0</td>\n",
       "      <td>0</td>\n",
       "      <td>0</td>\n",
       "      <td>0</td>\n",
       "      <td>0</td>\n",
       "      <td>0</td>\n",
       "      <td>1</td>\n",
       "      <td>1</td>\n",
       "      <td>0</td>\n",
       "      <td>0</td>\n",
       "    </tr>\n",
       "    <tr>\n",
       "      <th>354366</th>\n",
       "      <td>1199</td>\n",
       "      <td>2000</td>\n",
       "      <td>101</td>\n",
       "      <td>125000</td>\n",
       "      <td>0</td>\n",
       "      <td>1</td>\n",
       "      <td>0</td>\n",
       "      <td>0</td>\n",
       "      <td>0</td>\n",
       "      <td>0</td>\n",
       "      <td>...</td>\n",
       "      <td>0</td>\n",
       "      <td>0</td>\n",
       "      <td>0</td>\n",
       "      <td>0</td>\n",
       "      <td>0</td>\n",
       "      <td>0</td>\n",
       "      <td>1</td>\n",
       "      <td>1</td>\n",
       "      <td>0</td>\n",
       "      <td>0</td>\n",
       "    </tr>\n",
       "    <tr>\n",
       "      <th>354367</th>\n",
       "      <td>9200</td>\n",
       "      <td>1996</td>\n",
       "      <td>102</td>\n",
       "      <td>150000</td>\n",
       "      <td>1</td>\n",
       "      <td>0</td>\n",
       "      <td>0</td>\n",
       "      <td>0</td>\n",
       "      <td>0</td>\n",
       "      <td>0</td>\n",
       "      <td>...</td>\n",
       "      <td>0</td>\n",
       "      <td>0</td>\n",
       "      <td>1</td>\n",
       "      <td>0</td>\n",
       "      <td>0</td>\n",
       "      <td>0</td>\n",
       "      <td>0</td>\n",
       "      <td>1</td>\n",
       "      <td>0</td>\n",
       "      <td>0</td>\n",
       "    </tr>\n",
       "    <tr>\n",
       "      <th>354368</th>\n",
       "      <td>3400</td>\n",
       "      <td>2002</td>\n",
       "      <td>100</td>\n",
       "      <td>150000</td>\n",
       "      <td>0</td>\n",
       "      <td>0</td>\n",
       "      <td>0</td>\n",
       "      <td>0</td>\n",
       "      <td>0</td>\n",
       "      <td>0</td>\n",
       "      <td>...</td>\n",
       "      <td>0</td>\n",
       "      <td>0</td>\n",
       "      <td>1</td>\n",
       "      <td>0</td>\n",
       "      <td>0</td>\n",
       "      <td>0</td>\n",
       "      <td>0</td>\n",
       "      <td>0</td>\n",
       "      <td>1</td>\n",
       "      <td>0</td>\n",
       "    </tr>\n",
       "  </tbody>\n",
       "</table>\n",
       "<p>278751 rows × 274 columns</p>\n",
       "</div>"
      ],
      "text/plain": [
       "        Price  RegistrationYear  Power  Kilometer  VehicleType_bus  \\\n",
       "2        9800              2004    163     125000                0   \n",
       "3        1500              2001     75     150000                0   \n",
       "4        3600              2008     69      90000                0   \n",
       "5         650              1995    102     150000                0   \n",
       "6        2200              2004    109     150000                0   \n",
       "...       ...               ...    ...        ...              ...   \n",
       "354362   3200              2004    225     150000                0   \n",
       "354363   1150              2000      0     150000                1   \n",
       "354366   1199              2000    101     125000                0   \n",
       "354367   9200              1996    102     150000                1   \n",
       "354368   3400              2002    100     150000                0   \n",
       "\n",
       "        VehicleType_convertible  VehicleType_coupe  VehicleType_other  \\\n",
       "2                             0                  0                  0   \n",
       "3                             0                  0                  0   \n",
       "4                             0                  0                  0   \n",
       "5                             0                  0                  0   \n",
       "6                             1                  0                  0   \n",
       "...                         ...                ...                ...   \n",
       "354362                        0                  0                  0   \n",
       "354363                        0                  0                  0   \n",
       "354366                        1                  0                  0   \n",
       "354367                        0                  0                  0   \n",
       "354368                        0                  0                  0   \n",
       "\n",
       "        VehicleType_sedan  VehicleType_small  ...  FuelType_cng  \\\n",
       "2                       0                  0  ...             0   \n",
       "3                       0                  1  ...             0   \n",
       "4                       0                  1  ...             0   \n",
       "5                       1                  0  ...             0   \n",
       "6                       0                  0  ...             0   \n",
       "...                   ...                ...  ...           ...   \n",
       "354362                  1                  0  ...             0   \n",
       "354363                  0                  0  ...             0   \n",
       "354366                  0                  0  ...             0   \n",
       "354367                  0                  0  ...             0   \n",
       "354368                  0                  0  ...             0   \n",
       "\n",
       "        FuelType_electric  FuelType_gasoline  FuelType_hybrid  FuelType_lpg  \\\n",
       "2                       0                  1                0             0   \n",
       "3                       0                  0                0             0   \n",
       "4                       0                  1                0             0   \n",
       "5                       0                  0                0             0   \n",
       "6                       0                  0                0             0   \n",
       "...                   ...                ...              ...           ...   \n",
       "354362                  0                  0                0             0   \n",
       "354363                  0                  0                0             0   \n",
       "354366                  0                  0                0             0   \n",
       "354367                  0                  1                0             0   \n",
       "354368                  0                  1                0             0   \n",
       "\n",
       "        FuelType_other  FuelType_petrol  NotRepaired_no  NotRepaired_unknown  \\\n",
       "2                    0                0               0                    1   \n",
       "3                    0                1               1                    0   \n",
       "4                    0                0               1                    0   \n",
       "5                    0                1               0                    0   \n",
       "6                    0                1               1                    0   \n",
       "...                ...              ...             ...                  ...   \n",
       "354362               0                1               0                    0   \n",
       "354363               0                1               1                    0   \n",
       "354366               0                1               1                    0   \n",
       "354367               0                0               1                    0   \n",
       "354368               0                0               0                    1   \n",
       "\n",
       "        NotRepaired_yes  \n",
       "2                     0  \n",
       "3                     0  \n",
       "4                     0  \n",
       "5                     1  \n",
       "6                     0  \n",
       "...                 ...  \n",
       "354362                1  \n",
       "354363                0  \n",
       "354366                0  \n",
       "354367                0  \n",
       "354368                0  \n",
       "\n",
       "[278751 rows x 274 columns]"
      ]
     },
     "execution_count": 33,
     "metadata": {},
     "output_type": "execute_result"
    }
   ],
   "source": [
    "df"
   ]
  },
  {
   "cell_type": "markdown",
   "metadata": {},
   "source": [
    "## Обучение моделей"
   ]
  },
  {
   "cell_type": "markdown",
   "metadata": {},
   "source": [
    "Разделим данные на обучающую и валидационную выборки."
   ]
  },
  {
   "cell_type": "code",
   "execution_count": 34,
   "metadata": {},
   "outputs": [],
   "source": [
    "df_train, df_valid = train_test_split(df, test_size=0.25, random_state=12345)\n",
    "\n",
    "features_train = df_train.drop(['Price'], axis=1)     # признаки для обучающей выборки                        \n",
    "target_train = df_train['Price']                      # целевой признак для обучающей выборки   \n",
    "\n",
    "features_valid = df_valid.drop(['Price'], axis=1)     # признаки для валидационной выборки \n",
    "target_valid = df_valid['Price']                      # целевой признак для валидационной выборки "
   ]
  },
  {
   "cell_type": "markdown",
   "metadata": {},
   "source": [
    "Для начала обучим константную модель. Для предсказания зададим среднее значение целевого признака Price."
   ]
  },
  {
   "cell_type": "code",
   "execution_count": 35,
   "metadata": {},
   "outputs": [],
   "source": [
    "def rmse (features_train, target_train, features_valid, target_valid):\n",
    "    model = DummyRegressor(strategy=\"mean\").fit(features_train, target_train)\n",
    "    predictions = model.predict(features_valid)\n",
    "    rmse = mean_squared_error(target_valid, predictions, squared= False)\n",
    "    return print(\"RMSE\", rmse)"
   ]
  },
  {
   "cell_type": "code",
   "execution_count": 36,
   "metadata": {},
   "outputs": [
    {
     "name": "stdout",
     "output_type": "stream",
     "text": [
      "RMSE 4644.084625200623\n"
     ]
    }
   ],
   "source": [
    "rmse(features_train, target_train, features_valid, target_valid)"
   ]
  },
  {
   "cell_type": "markdown",
   "metadata": {},
   "source": [
    "**LinearRegression**"
   ]
  },
  {
   "cell_type": "code",
   "execution_count": 37,
   "metadata": {},
   "outputs": [
    {
     "name": "stdout",
     "output_type": "stream",
     "text": [
      "Wall time: 24.8 s\n"
     ]
    }
   ],
   "source": [
    "%%time\n",
    "lr = LinearRegression()\n",
    "mse_lr = cross_val_score(lr, features_train, target_train, cv=5, scoring='neg_mean_squared_error').mean()"
   ]
  },
  {
   "cell_type": "code",
   "execution_count": 38,
   "metadata": {},
   "outputs": [
    {
     "name": "stdout",
     "output_type": "stream",
     "text": [
      "RMSE для модели LinearRegression на обучающей выборке: 2663.48\n"
     ]
    }
   ],
   "source": [
    "print(\"RMSE для модели LinearRegression на обучающей выборке:\", round(abs(mse_lr)**0.5, 2))"
   ]
  },
  {
   "cell_type": "code",
   "execution_count": 39,
   "metadata": {},
   "outputs": [
    {
     "name": "stdout",
     "output_type": "stream",
     "text": [
      "Wall time: 5.57 s\n"
     ]
    },
    {
     "data": {
      "text/plain": [
       "LinearRegression()"
      ]
     },
     "execution_count": 39,
     "metadata": {},
     "output_type": "execute_result"
    }
   ],
   "source": [
    "%%time\n",
    "lr = LinearRegression()\n",
    "lr.fit(features_train, target_train)"
   ]
  },
  {
   "cell_type": "code",
   "execution_count": 40,
   "metadata": {},
   "outputs": [
    {
     "name": "stdout",
     "output_type": "stream",
     "text": [
      "Wall time: 246 ms\n"
     ]
    }
   ],
   "source": [
    "%%time\n",
    "predict_lr = lr.predict(features_valid)"
   ]
  },
  {
   "cell_type": "code",
   "execution_count": 41,
   "metadata": {},
   "outputs": [
    {
     "name": "stdout",
     "output_type": "stream",
     "text": [
      "RMSE для модели LinearRegression на тестовой выборке: 2678.88\n"
     ]
    }
   ],
   "source": [
    "rmse_lr = mean_squared_error(target_valid, predict_lr, squared= False)\n",
    "print(\"RMSE для модели LinearRegression на тестовой выборке:\", round(rmse_lr, 2))"
   ]
  },
  {
   "cell_type": "markdown",
   "metadata": {},
   "source": [
    "**RandomForestRegressor**"
   ]
  },
  {
   "cell_type": "code",
   "execution_count": 42,
   "metadata": {},
   "outputs": [],
   "source": [
    "df_train_tree, df_valid_tree = train_test_split(df_for_tree, test_size=0.25, random_state=12345)\n",
    "\n",
    "features_train_tree = df_train_tree.drop(['Price'], axis=1)     # признаки для обучающей выборки                        \n",
    "target_train_tree = df_train_tree['Price']                      # целевой признак для обучающей выборки   \n",
    "\n",
    "features_valid_tree = df_valid_tree.drop(['Price'], axis=1)     # признаки для валидационной выборки \n",
    "target_valid_tree = df_valid_tree['Price']                      # целевой признак для валидационной выборки"
   ]
  },
  {
   "cell_type": "code",
   "execution_count": 43,
   "metadata": {},
   "outputs": [],
   "source": [
    "model_rf =RandomForestRegressor()"
   ]
  },
  {
   "cell_type": "code",
   "execution_count": 44,
   "metadata": {},
   "outputs": [],
   "source": [
    "parametrs = { 'n_estimators': range (10, 21, 10),   # параметры для поиска лучшей модели\n",
    "              'max_depth': range (1, 5, 2),\n",
    "              'min_samples_leaf': range (1,5),\n",
    "              'min_samples_split': range (2,5,2),\n",
    "            }"
   ]
  },
  {
   "cell_type": "code",
   "execution_count": null,
   "metadata": {},
   "outputs": [],
   "source": []
  },
  {
   "cell_type": "code",
   "execution_count": 45,
   "metadata": {},
   "outputs": [
    {
     "name": "stdout",
     "output_type": "stream",
     "text": [
      "Wall time: 2min 48s\n"
     ]
    },
    {
     "data": {
      "text/plain": [
       "GridSearchCV(cv=5, estimator=RandomForestRegressor(),\n",
       "             param_grid={'max_depth': range(1, 5, 2),\n",
       "                         'min_samples_leaf': range(1, 5),\n",
       "                         'min_samples_split': range(2, 5, 2),\n",
       "                         'n_estimators': range(10, 21, 10)},\n",
       "             scoring='neg_root_mean_squared_error')"
      ]
     },
     "execution_count": 45,
     "metadata": {},
     "output_type": "execute_result"
    }
   ],
   "source": [
    "%%time\n",
    "grid = GridSearchCV(model_rf, parametrs, cv=5, scoring = 'neg_root_mean_squared_error')   \n",
    "grid.fit(features_train_tree, target_train_tree)"
   ]
  },
  {
   "cell_type": "code",
   "execution_count": 46,
   "metadata": {},
   "outputs": [
    {
     "data": {
      "text/plain": [
       "{'max_depth': 3,\n",
       " 'min_samples_leaf': 4,\n",
       " 'min_samples_split': 2,\n",
       " 'n_estimators': 10}"
      ]
     },
     "execution_count": 46,
     "metadata": {},
     "output_type": "execute_result"
    }
   ],
   "source": [
    "grid.best_params_   # выводим результат с лучшими параметрами"
   ]
  },
  {
   "cell_type": "code",
   "execution_count": 47,
   "metadata": {},
   "outputs": [
    {
     "name": "stdout",
     "output_type": "stream",
     "text": [
      "Wall time: 5 s\n"
     ]
    }
   ],
   "source": [
    "%%time\n",
    "model_rf = RandomForestRegressor(max_depth = 3,\n",
    "                                 min_samples_leaf = 4,\n",
    "                                 min_samples_split = 2,\n",
    "                                 n_estimators= 10)\n",
    "mse_rf = cross_val_score(model_rf, features_train_tree, target_train_tree, cv=5, scoring ='neg_mean_squared_error').mean()"
   ]
  },
  {
   "cell_type": "code",
   "execution_count": 48,
   "metadata": {},
   "outputs": [
    {
     "name": "stdout",
     "output_type": "stream",
     "text": [
      "RMSE для модели RandomForestRegressor на обучающей выборке: 2720.19\n"
     ]
    }
   ],
   "source": [
    "print(\"RMSE для модели RandomForestRegressor на обучающей выборке:\", round(abs(mse_rf)**0.5, 2))"
   ]
  },
  {
   "cell_type": "code",
   "execution_count": 49,
   "metadata": {},
   "outputs": [
    {
     "name": "stdout",
     "output_type": "stream",
     "text": [
      "Wall time: 1.31 s\n"
     ]
    },
    {
     "data": {
      "text/plain": [
       "RandomForestRegressor(max_depth=3, min_samples_leaf=4, n_estimators=10,\n",
       "                      random_state=8)"
      ]
     },
     "execution_count": 49,
     "metadata": {},
     "output_type": "execute_result"
    }
   ],
   "source": [
    "%%time\n",
    "model_rf = RandomForestRegressor(random_state=8, max_depth = 3,\n",
    "                                 min_samples_leaf = 4,\n",
    "                                 min_samples_split = 2,\n",
    "                                 n_estimators= 10)\n",
    "model_rf.fit(features_train_tree, target_train_tree)"
   ]
  },
  {
   "cell_type": "code",
   "execution_count": 50,
   "metadata": {},
   "outputs": [
    {
     "name": "stdout",
     "output_type": "stream",
     "text": [
      "Wall time: 48 ms\n"
     ]
    }
   ],
   "source": [
    "%%time\n",
    "predict_rf = model_rf.predict(features_valid_tree)"
   ]
  },
  {
   "cell_type": "code",
   "execution_count": 51,
   "metadata": {},
   "outputs": [
    {
     "name": "stdout",
     "output_type": "stream",
     "text": [
      "RMSE для модели RandomForestRegressor на тестовой выборке: 2735.74\n"
     ]
    }
   ],
   "source": [
    "rmse = mean_squared_error(target_valid_tree, predict_rf, squared= False)\n",
    "print(\"RMSE для модели RandomForestRegressor на тестовой выборке:\", round(rmse, 2))"
   ]
  },
  {
   "cell_type": "markdown",
   "metadata": {},
   "source": [
    "**LightGBM** "
   ]
  },
  {
   "cell_type": "code",
   "execution_count": 52,
   "metadata": {},
   "outputs": [],
   "source": [
    "df_train_gbm, df_valid_gbm = train_test_split(df_for_lgbm, test_size=0.25, random_state=12345)\n",
    "\n",
    "features_train_gbm = df_train_gbm.drop(['Price'], axis=1)     # признаки для обучающей выборки                        \n",
    "target_train_gbm = df_train_gbm['Price']                      # целевой признак для обучающей выборки   \n",
    "\n",
    "features_valid_gbm = df_valid_gbm.drop(['Price'], axis=1)     # признаки для валидационной выборки \n",
    "target_valid_gbm = df_valid_gbm['Price']                      # целевой признак для валидационной выборки "
   ]
  },
  {
   "cell_type": "code",
   "execution_count": 53,
   "metadata": {},
   "outputs": [
    {
     "name": "stdout",
     "output_type": "stream",
     "text": [
      "Wall time: 54.1 s\n"
     ]
    },
    {
     "data": {
      "text/plain": [
       "{'learning_rate': 0.2, 'max_depth': 20}"
      ]
     },
     "execution_count": 53,
     "metadata": {},
     "output_type": "execute_result"
    }
   ],
   "source": [
    "%%time\n",
    "param_grid = {'learning_rate': [0.2, 0.4, 0.6, 0.8],\n",
    "              'max_depth': [10, 20, 30, 40],\n",
    "             }\n",
    "\n",
    "lgbm = lightgbm.LGBMRegressor()\n",
    "grid = GridSearchCV(estimator = lgbm, \n",
    "                           param_grid = param_grid, \n",
    "                           cv = 3,\n",
    "                           n_jobs = -1, \n",
    "                           verbose = 0,\n",
    "                    scoring = 'neg_root_mean_squared_error'\n",
    "                          )\n",
    "grid.fit(features_train_gbm, target_train_gbm)\n",
    "grid.best_params_   # выводим результат с лучшими параметрами"
   ]
  },
  {
   "cell_type": "code",
   "execution_count": 54,
   "metadata": {},
   "outputs": [
    {
     "name": "stdout",
     "output_type": "stream",
     "text": [
      "Wall time: 7.73 s\n"
     ]
    }
   ],
   "source": [
    "%%time\n",
    "lgbm = lightgbm.LGBMRegressor(learning_rate = 0.2,\n",
    "                                 max_depth = 10,\n",
    "                                )\n",
    "mse_lgbm = cross_val_score(lgbm, features_train_gbm, target_train_gbm, cv=5, scoring ='neg_mean_squared_error').mean()"
   ]
  },
  {
   "cell_type": "code",
   "execution_count": 55,
   "metadata": {},
   "outputs": [
    {
     "name": "stdout",
     "output_type": "stream",
     "text": [
      "RMSE для модели LightGBM на обучающей выборке: 1572.98\n"
     ]
    }
   ],
   "source": [
    "print(\"RMSE для модели LightGBM на обучающей выборке:\", round(abs(mse_lgbm)**0.5, 2))"
   ]
  },
  {
   "cell_type": "code",
   "execution_count": 56,
   "metadata": {},
   "outputs": [
    {
     "name": "stdout",
     "output_type": "stream",
     "text": [
      "Wall time: 1.59 s\n"
     ]
    },
    {
     "data": {
      "text/plain": [
       "LGBMRegressor(learning_rate=0.2, max_depth=10)"
      ]
     },
     "execution_count": 56,
     "metadata": {},
     "output_type": "execute_result"
    }
   ],
   "source": [
    "%%time\n",
    "lgbm = lightgbm.LGBMRegressor(learning_rate = 0.2,\n",
    "                                 max_depth = 10,\n",
    "                                )\n",
    "lgbm.fit(features_train_gbm, target_train_gbm)"
   ]
  },
  {
   "cell_type": "code",
   "execution_count": 57,
   "metadata": {},
   "outputs": [
    {
     "name": "stdout",
     "output_type": "stream",
     "text": [
      "Wall time: 345 ms\n"
     ]
    }
   ],
   "source": [
    "%%time\n",
    "predict_lgbm = lgbm.predict(features_valid_gbm)"
   ]
  },
  {
   "cell_type": "code",
   "execution_count": 58,
   "metadata": {},
   "outputs": [
    {
     "name": "stdout",
     "output_type": "stream",
     "text": [
      "RMSE для модели LightGBM на тестовой выборке: 1575.04\n"
     ]
    }
   ],
   "source": [
    "rmse_gbm = mean_squared_error(target_valid_gbm, predict_lgbm, squared= False)\n",
    "print(\"RMSE для модели LightGBM на тестовой выборке:\", round(rmse_gbm, 2))"
   ]
  },
  {
   "cell_type": "markdown",
   "metadata": {},
   "source": [
    "## Анализ моделей"
   ]
  },
  {
   "cell_type": "markdown",
   "metadata": {},
   "source": [
    "У всех обученных моделей показатель RMSE лучше, чем у константной. Модель LightGBM показывает лучшее значение RMSE и среднее из изученных моделей время обучения и предсказания."
   ]
  },
  {
   "cell_type": "markdown",
   "metadata": {},
   "source": [
    "| Имя модели    | RMSE        | Время обучения | Время предсказания\n",
    "|:------------- |:---------------:| :---------------:|:---------------:|\n",
    "| LinearRegression      | 2678 | 6.77 s |  225 ms |\n",
    "| RandomForestRegressor        | 2735        | 1.3 s        |48 ms|\n",
    "| LightGBM | 1575        | 1.57 s|331 ms|"
   ]
  }
 ],
 "metadata": {
  "ExecuteTimeLog": [
   {
    "duration": 1235,
    "start_time": "2022-06-12T08:02:22.101Z"
   },
   {
    "duration": 0,
    "start_time": "2022-06-12T08:02:23.338Z"
   },
   {
    "duration": 0,
    "start_time": "2022-06-12T08:02:23.339Z"
   },
   {
    "duration": 0,
    "start_time": "2022-06-12T08:02:23.340Z"
   },
   {
    "duration": 0,
    "start_time": "2022-06-12T08:02:23.341Z"
   },
   {
    "duration": 0,
    "start_time": "2022-06-12T08:02:23.342Z"
   },
   {
    "duration": 0,
    "start_time": "2022-06-12T08:02:23.343Z"
   },
   {
    "duration": 0,
    "start_time": "2022-06-12T08:02:23.344Z"
   },
   {
    "duration": 0,
    "start_time": "2022-06-12T08:02:23.345Z"
   },
   {
    "duration": 0,
    "start_time": "2022-06-12T08:02:23.346Z"
   },
   {
    "duration": 0,
    "start_time": "2022-06-12T08:02:23.347Z"
   },
   {
    "duration": 0,
    "start_time": "2022-06-12T08:02:23.348Z"
   },
   {
    "duration": 0,
    "start_time": "2022-06-12T08:02:23.364Z"
   },
   {
    "duration": 0,
    "start_time": "2022-06-12T08:02:23.365Z"
   },
   {
    "duration": 0,
    "start_time": "2022-06-12T08:02:23.366Z"
   },
   {
    "duration": 0,
    "start_time": "2022-06-12T08:02:23.367Z"
   },
   {
    "duration": 0,
    "start_time": "2022-06-12T08:02:23.367Z"
   },
   {
    "duration": 0,
    "start_time": "2022-06-12T08:02:23.368Z"
   },
   {
    "duration": 0,
    "start_time": "2022-06-12T08:02:23.370Z"
   },
   {
    "duration": 0,
    "start_time": "2022-06-12T08:02:23.370Z"
   },
   {
    "duration": 0,
    "start_time": "2022-06-12T08:02:23.372Z"
   },
   {
    "duration": 0,
    "start_time": "2022-06-12T08:02:23.372Z"
   },
   {
    "duration": 0,
    "start_time": "2022-06-12T08:02:23.373Z"
   },
   {
    "duration": 0,
    "start_time": "2022-06-12T08:02:23.374Z"
   },
   {
    "duration": 0,
    "start_time": "2022-06-12T08:02:23.375Z"
   },
   {
    "duration": 0,
    "start_time": "2022-06-12T08:02:23.376Z"
   },
   {
    "duration": 0,
    "start_time": "2022-06-12T08:02:23.377Z"
   },
   {
    "duration": 649,
    "start_time": "2022-06-12T08:02:43.476Z"
   },
   {
    "duration": 6,
    "start_time": "2022-06-12T08:02:52.263Z"
   },
   {
    "duration": 1812,
    "start_time": "2022-06-12T08:02:52.271Z"
   },
   {
    "duration": 2,
    "start_time": "2022-06-12T08:02:54.086Z"
   },
   {
    "duration": 27,
    "start_time": "2022-06-12T08:02:54.090Z"
   },
   {
    "duration": 126,
    "start_time": "2022-06-12T08:02:54.119Z"
   },
   {
    "duration": 33,
    "start_time": "2022-06-12T08:02:54.247Z"
   },
   {
    "duration": 672,
    "start_time": "2022-06-12T08:02:54.282Z"
   },
   {
    "duration": 349,
    "start_time": "2022-06-12T08:02:54.956Z"
   },
   {
    "duration": 813,
    "start_time": "2022-06-12T08:02:55.307Z"
   },
   {
    "duration": 75,
    "start_time": "2022-06-12T08:02:56.122Z"
   },
   {
    "duration": 349,
    "start_time": "2022-06-12T08:02:56.199Z"
   },
   {
    "duration": 62,
    "start_time": "2022-06-12T08:02:56.550Z"
   },
   {
    "duration": 257,
    "start_time": "2022-06-12T08:02:56.614Z"
   },
   {
    "duration": 108,
    "start_time": "2022-06-12T08:02:56.872Z"
   },
   {
    "duration": 35,
    "start_time": "2022-06-12T08:02:56.982Z"
   },
   {
    "duration": 21,
    "start_time": "2022-06-12T08:02:57.018Z"
   },
   {
    "duration": 225,
    "start_time": "2022-06-12T08:02:57.041Z"
   },
   {
    "duration": 72,
    "start_time": "2022-06-12T08:02:57.268Z"
   },
   {
    "duration": 166,
    "start_time": "2022-06-12T08:02:57.342Z"
   },
   {
    "duration": 22,
    "start_time": "2022-06-12T08:02:57.510Z"
   },
   {
    "duration": 36,
    "start_time": "2022-06-12T08:02:57.533Z"
   },
   {
    "duration": 99,
    "start_time": "2022-06-12T08:02:57.571Z"
   },
   {
    "duration": 69,
    "start_time": "2022-06-12T08:02:57.672Z"
   },
   {
    "duration": 61,
    "start_time": "2022-06-12T08:02:57.743Z"
   },
   {
    "duration": 45,
    "start_time": "2022-06-12T08:02:57.806Z"
   },
   {
    "duration": 1917,
    "start_time": "2022-06-12T08:02:57.852Z"
   },
   {
    "duration": 13,
    "start_time": "2022-06-12T08:02:59.771Z"
   },
   {
    "duration": 15,
    "start_time": "2022-06-12T08:03:15.379Z"
   },
   {
    "duration": 1446,
    "start_time": "2022-06-13T08:45:44.557Z"
   },
   {
    "duration": 0,
    "start_time": "2022-06-13T08:45:46.005Z"
   },
   {
    "duration": 0,
    "start_time": "2022-06-13T08:45:46.006Z"
   },
   {
    "duration": 0,
    "start_time": "2022-06-13T08:45:46.007Z"
   },
   {
    "duration": 0,
    "start_time": "2022-06-13T08:45:46.008Z"
   },
   {
    "duration": 0,
    "start_time": "2022-06-13T08:45:46.009Z"
   },
   {
    "duration": 0,
    "start_time": "2022-06-13T08:45:46.010Z"
   },
   {
    "duration": 0,
    "start_time": "2022-06-13T08:45:46.011Z"
   },
   {
    "duration": 0,
    "start_time": "2022-06-13T08:45:46.012Z"
   },
   {
    "duration": 0,
    "start_time": "2022-06-13T08:45:46.013Z"
   },
   {
    "duration": 0,
    "start_time": "2022-06-13T08:45:46.014Z"
   },
   {
    "duration": 0,
    "start_time": "2022-06-13T08:45:46.015Z"
   },
   {
    "duration": 0,
    "start_time": "2022-06-13T08:45:46.015Z"
   },
   {
    "duration": 0,
    "start_time": "2022-06-13T08:45:46.016Z"
   },
   {
    "duration": 0,
    "start_time": "2022-06-13T08:45:46.017Z"
   },
   {
    "duration": 0,
    "start_time": "2022-06-13T08:45:46.018Z"
   },
   {
    "duration": 0,
    "start_time": "2022-06-13T08:45:46.019Z"
   },
   {
    "duration": 0,
    "start_time": "2022-06-13T08:45:46.020Z"
   },
   {
    "duration": 0,
    "start_time": "2022-06-13T08:45:46.021Z"
   },
   {
    "duration": 0,
    "start_time": "2022-06-13T08:45:46.022Z"
   },
   {
    "duration": 0,
    "start_time": "2022-06-13T08:45:46.023Z"
   },
   {
    "duration": 0,
    "start_time": "2022-06-13T08:45:46.024Z"
   },
   {
    "duration": 0,
    "start_time": "2022-06-13T08:45:46.025Z"
   },
   {
    "duration": 0,
    "start_time": "2022-06-13T08:45:46.026Z"
   },
   {
    "duration": 0,
    "start_time": "2022-06-13T08:45:46.027Z"
   },
   {
    "duration": 0,
    "start_time": "2022-06-13T08:45:46.028Z"
   },
   {
    "duration": 414,
    "start_time": "2022-06-13T08:46:28.739Z"
   },
   {
    "duration": 2782,
    "start_time": "2022-06-13T08:46:29.156Z"
   },
   {
    "duration": 3,
    "start_time": "2022-06-13T08:46:31.939Z"
   },
   {
    "duration": 38,
    "start_time": "2022-06-13T08:46:31.945Z"
   },
   {
    "duration": 120,
    "start_time": "2022-06-13T08:46:31.985Z"
   },
   {
    "duration": 27,
    "start_time": "2022-06-13T08:46:32.107Z"
   },
   {
    "duration": 270,
    "start_time": "2022-06-13T08:46:32.135Z"
   },
   {
    "duration": 270,
    "start_time": "2022-06-13T08:46:32.406Z"
   },
   {
    "duration": 667,
    "start_time": "2022-06-13T08:46:32.677Z"
   },
   {
    "duration": 44,
    "start_time": "2022-06-13T08:46:33.346Z"
   },
   {
    "duration": 146,
    "start_time": "2022-06-13T08:46:33.392Z"
   },
   {
    "duration": 23,
    "start_time": "2022-06-13T08:46:33.539Z"
   },
   {
    "duration": 44,
    "start_time": "2022-06-13T08:46:33.564Z"
   },
   {
    "duration": 75,
    "start_time": "2022-06-13T08:46:33.609Z"
   },
   {
    "duration": 23,
    "start_time": "2022-06-13T08:46:33.686Z"
   },
   {
    "duration": 19,
    "start_time": "2022-06-13T08:46:33.711Z"
   },
   {
    "duration": 90,
    "start_time": "2022-06-13T08:46:33.731Z"
   },
   {
    "duration": 61,
    "start_time": "2022-06-13T08:46:33.822Z"
   },
   {
    "duration": 156,
    "start_time": "2022-06-13T08:46:33.885Z"
   },
   {
    "duration": 20,
    "start_time": "2022-06-13T08:46:34.043Z"
   },
   {
    "duration": 27,
    "start_time": "2022-06-13T08:46:34.065Z"
   },
   {
    "duration": 3,
    "start_time": "2022-06-13T08:46:34.093Z"
   },
   {
    "duration": 111,
    "start_time": "2022-06-13T08:46:34.098Z"
   },
   {
    "duration": 3,
    "start_time": "2022-06-13T08:46:34.210Z"
   },
   {
    "duration": 389,
    "start_time": "2022-06-13T08:46:34.214Z"
   },
   {
    "duration": 12,
    "start_time": "2022-06-13T08:46:34.604Z"
   }
  ],
  "kernelspec": {
   "display_name": "Python 3 (ipykernel)",
   "language": "python",
   "name": "python3"
  },
  "language_info": {
   "codemirror_mode": {
    "name": "ipython",
    "version": 3
   },
   "file_extension": ".py",
   "mimetype": "text/x-python",
   "name": "python",
   "nbconvert_exporter": "python",
   "pygments_lexer": "ipython3",
   "version": "3.9.12"
  },
  "toc": {
   "base_numbering": 1,
   "nav_menu": {},
   "number_sections": true,
   "sideBar": true,
   "skip_h1_title": true,
   "title_cell": "Table of Contents",
   "title_sidebar": "Contents",
   "toc_cell": false,
   "toc_position": {
    "height": "calc(100% - 180px)",
    "left": "10px",
    "top": "150px",
    "width": "170.917px"
   },
   "toc_section_display": true,
   "toc_window_display": true
  }
 },
 "nbformat": 4,
 "nbformat_minor": 2
}
