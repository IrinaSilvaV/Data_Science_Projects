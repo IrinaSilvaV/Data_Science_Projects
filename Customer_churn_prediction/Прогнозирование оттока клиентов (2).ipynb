{
 "cells": [
  {
   "cell_type": "markdown",
   "id": "2dfc894e",
   "metadata": {},
   "source": [
    "****Отток клиентов****"
   ]
  },
  {
   "cell_type": "markdown",
   "id": "40dc3bc7",
   "metadata": {},
   "source": [
    "Источник данных: [https://www.kaggle.com/barelydedicated/bank-customer-churn-modeling](https://www.kaggle.com/barelydedicated/bank-customer-churn-modeling)"
   ]
  },
  {
   "cell_type": "markdown",
   "id": "7f543082",
   "metadata": {},
   "source": [
    "**Цель исследования** - спрогнозировать уйдёт клиент из банка в ближайшее время или нет."
   ]
  },
  {
   "cell_type": "markdown",
   "id": "6b9c4563",
   "metadata": {},
   "source": [
    "Построить модель со значением *F1*-меры > 0.59"
   ]
  },
  {
   "cell_type": "markdown",
   "id": "1cd77e65",
   "metadata": {},
   "source": [
    "**Признаки**: <br><br>\n",
    "`RowNumber` — индекс строки в данных; <br>\n",
    "`CustomerId` — уникальный идентификатор клиента; <br>\n",
    "`Surname` — фамилия;<br>\n",
    "`CreditScore` — кредитный рейтинг;<br>\n",
    "`Geography` — страна проживания;<br>\n",
    "`Gender` — пол;<br>\n",
    "`Age` — возраст;<br>\n",
    "`Tenure` — сколько лет человек является клиентом банка;<br>\n",
    "`Balance` — баланс на счёте;<br>\n",
    "`NumOfProducts` — количество продуктов банка, используемых клиентом;<br>\n",
    "`HasCrCard` — наличие кредитной карты;<br>\n",
    "`IsActiveMember` — активность клиента;<br>\n",
    "`EstimatedSalary` — предполагаемая зарплата.<br><br>\n",
    "**Целевой признак**:<br><br>\n",
    "`Exited` — факт ухода клиента."
   ]
  },
  {
   "cell_type": "code",
   "execution_count": 1,
   "id": "20478acd",
   "metadata": {},
   "outputs": [],
   "source": [
    "import pandas as pd                     # импорт библиотек\n",
    "import numpy as np\n",
    "from sklearn.model_selection import train_test_split, GridSearchCV\n",
    "from sklearn.tree import DecisionTreeClassifier\n",
    "from sklearn.linear_model import LogisticRegression\n",
    "from sklearn.ensemble import RandomForestClassifier\n",
    "from sklearn.metrics import accuracy_score, recall_score, precision_score, f1_score, roc_auc_score, precision_recall_curve \n",
    "from sklearn.preprocessing import StandardScaler\n",
    "from sklearn.utils import shuffle\n",
    "import matplotlib.pyplot as plt\n",
    "from sklearn.metrics import roc_curve, auc\n",
    "import sweetviz as sv\n",
    "import seaborn as sns\n",
    "from random import randint\n",
    "import random"
   ]
  },
  {
   "cell_type": "code",
   "execution_count": null,
   "id": "e454f996",
   "metadata": {},
   "outputs": [],
   "source": [
    "import warnings\n",
    "warnings.filterwarnings('ignore')"
   ]
  },
  {
   "cell_type": "code",
   "execution_count": 2,
   "id": "844bec2c",
   "metadata": {},
   "outputs": [],
   "source": [
    "try:\n",
    "    df = pd.read_csv('/datasets/Churn.csv') # чтение файла с данными и сохранение в df\n",
    "except:\n",
    "    df = pd.read_csv('C:\\\\Users\\\\User\\\\Downloads\\\\Churn.csv')"
   ]
  },
  {
   "cell_type": "markdown",
   "id": "5e820831",
   "metadata": {},
   "source": [
    "## Подготовка данных"
   ]
  },
  {
   "cell_type": "code",
   "execution_count": 3,
   "id": "2cdf01ed",
   "metadata": {},
   "outputs": [
    {
     "data": {
      "application/vnd.jupyter.widget-view+json": {
       "model_id": "6bb2461a357241b49222200b73209694",
       "version_major": 2,
       "version_minor": 0
      },
      "text/plain": [
       "                                             |                                             | [  0%]   00:00 ->…"
      ]
     },
     "metadata": {},
     "output_type": "display_data"
    }
   ],
   "source": [
    "report = sv.analyze([df, \"DF\"])"
   ]
  },
  {
   "cell_type": "code",
   "execution_count": 4,
   "id": "103a9f38",
   "metadata": {},
   "outputs": [
    {
     "name": "stdout",
     "output_type": "stream",
     "text": [
      "Report common analysis.html was generated! NOTEBOOK/COLAB USERS: the web browser MAY not pop up, regardless, the report IS saved in your notebook/colab files.\n"
     ]
    }
   ],
   "source": [
    "report.show_html('common analysis.html')"
   ]
  },
  {
   "cell_type": "code",
   "execution_count": 5,
   "id": "8665a4bb",
   "metadata": {},
   "outputs": [
    {
     "data": {
      "text/html": [
       "<div>\n",
       "<style scoped>\n",
       "    .dataframe tbody tr th:only-of-type {\n",
       "        vertical-align: middle;\n",
       "    }\n",
       "\n",
       "    .dataframe tbody tr th {\n",
       "        vertical-align: top;\n",
       "    }\n",
       "\n",
       "    .dataframe thead th {\n",
       "        text-align: right;\n",
       "    }\n",
       "</style>\n",
       "<table border=\"1\" class=\"dataframe\">\n",
       "  <thead>\n",
       "    <tr style=\"text-align: right;\">\n",
       "      <th></th>\n",
       "      <th>RowNumber</th>\n",
       "      <th>CustomerId</th>\n",
       "      <th>Surname</th>\n",
       "      <th>CreditScore</th>\n",
       "      <th>Geography</th>\n",
       "      <th>Gender</th>\n",
       "      <th>Age</th>\n",
       "      <th>Tenure</th>\n",
       "      <th>Balance</th>\n",
       "      <th>NumOfProducts</th>\n",
       "      <th>HasCrCard</th>\n",
       "      <th>IsActiveMember</th>\n",
       "      <th>EstimatedSalary</th>\n",
       "      <th>Exited</th>\n",
       "    </tr>\n",
       "  </thead>\n",
       "  <tbody>\n",
       "    <tr>\n",
       "      <th>0</th>\n",
       "      <td>1</td>\n",
       "      <td>15634602</td>\n",
       "      <td>Hargrave</td>\n",
       "      <td>619</td>\n",
       "      <td>France</td>\n",
       "      <td>Female</td>\n",
       "      <td>42</td>\n",
       "      <td>2.0</td>\n",
       "      <td>0.00</td>\n",
       "      <td>1</td>\n",
       "      <td>1</td>\n",
       "      <td>1</td>\n",
       "      <td>101348.88</td>\n",
       "      <td>1</td>\n",
       "    </tr>\n",
       "    <tr>\n",
       "      <th>1</th>\n",
       "      <td>2</td>\n",
       "      <td>15647311</td>\n",
       "      <td>Hill</td>\n",
       "      <td>608</td>\n",
       "      <td>Spain</td>\n",
       "      <td>Female</td>\n",
       "      <td>41</td>\n",
       "      <td>1.0</td>\n",
       "      <td>83807.86</td>\n",
       "      <td>1</td>\n",
       "      <td>0</td>\n",
       "      <td>1</td>\n",
       "      <td>112542.58</td>\n",
       "      <td>0</td>\n",
       "    </tr>\n",
       "    <tr>\n",
       "      <th>2</th>\n",
       "      <td>3</td>\n",
       "      <td>15619304</td>\n",
       "      <td>Onio</td>\n",
       "      <td>502</td>\n",
       "      <td>France</td>\n",
       "      <td>Female</td>\n",
       "      <td>42</td>\n",
       "      <td>8.0</td>\n",
       "      <td>159660.80</td>\n",
       "      <td>3</td>\n",
       "      <td>1</td>\n",
       "      <td>0</td>\n",
       "      <td>113931.57</td>\n",
       "      <td>1</td>\n",
       "    </tr>\n",
       "    <tr>\n",
       "      <th>3</th>\n",
       "      <td>4</td>\n",
       "      <td>15701354</td>\n",
       "      <td>Boni</td>\n",
       "      <td>699</td>\n",
       "      <td>France</td>\n",
       "      <td>Female</td>\n",
       "      <td>39</td>\n",
       "      <td>1.0</td>\n",
       "      <td>0.00</td>\n",
       "      <td>2</td>\n",
       "      <td>0</td>\n",
       "      <td>0</td>\n",
       "      <td>93826.63</td>\n",
       "      <td>0</td>\n",
       "    </tr>\n",
       "    <tr>\n",
       "      <th>4</th>\n",
       "      <td>5</td>\n",
       "      <td>15737888</td>\n",
       "      <td>Mitchell</td>\n",
       "      <td>850</td>\n",
       "      <td>Spain</td>\n",
       "      <td>Female</td>\n",
       "      <td>43</td>\n",
       "      <td>2.0</td>\n",
       "      <td>125510.82</td>\n",
       "      <td>1</td>\n",
       "      <td>1</td>\n",
       "      <td>1</td>\n",
       "      <td>79084.10</td>\n",
       "      <td>0</td>\n",
       "    </tr>\n",
       "    <tr>\n",
       "      <th>...</th>\n",
       "      <td>...</td>\n",
       "      <td>...</td>\n",
       "      <td>...</td>\n",
       "      <td>...</td>\n",
       "      <td>...</td>\n",
       "      <td>...</td>\n",
       "      <td>...</td>\n",
       "      <td>...</td>\n",
       "      <td>...</td>\n",
       "      <td>...</td>\n",
       "      <td>...</td>\n",
       "      <td>...</td>\n",
       "      <td>...</td>\n",
       "      <td>...</td>\n",
       "    </tr>\n",
       "    <tr>\n",
       "      <th>9995</th>\n",
       "      <td>9996</td>\n",
       "      <td>15606229</td>\n",
       "      <td>Obijiaku</td>\n",
       "      <td>771</td>\n",
       "      <td>France</td>\n",
       "      <td>Male</td>\n",
       "      <td>39</td>\n",
       "      <td>5.0</td>\n",
       "      <td>0.00</td>\n",
       "      <td>2</td>\n",
       "      <td>1</td>\n",
       "      <td>0</td>\n",
       "      <td>96270.64</td>\n",
       "      <td>0</td>\n",
       "    </tr>\n",
       "    <tr>\n",
       "      <th>9996</th>\n",
       "      <td>9997</td>\n",
       "      <td>15569892</td>\n",
       "      <td>Johnstone</td>\n",
       "      <td>516</td>\n",
       "      <td>France</td>\n",
       "      <td>Male</td>\n",
       "      <td>35</td>\n",
       "      <td>10.0</td>\n",
       "      <td>57369.61</td>\n",
       "      <td>1</td>\n",
       "      <td>1</td>\n",
       "      <td>1</td>\n",
       "      <td>101699.77</td>\n",
       "      <td>0</td>\n",
       "    </tr>\n",
       "    <tr>\n",
       "      <th>9997</th>\n",
       "      <td>9998</td>\n",
       "      <td>15584532</td>\n",
       "      <td>Liu</td>\n",
       "      <td>709</td>\n",
       "      <td>France</td>\n",
       "      <td>Female</td>\n",
       "      <td>36</td>\n",
       "      <td>7.0</td>\n",
       "      <td>0.00</td>\n",
       "      <td>1</td>\n",
       "      <td>0</td>\n",
       "      <td>1</td>\n",
       "      <td>42085.58</td>\n",
       "      <td>1</td>\n",
       "    </tr>\n",
       "    <tr>\n",
       "      <th>9998</th>\n",
       "      <td>9999</td>\n",
       "      <td>15682355</td>\n",
       "      <td>Sabbatini</td>\n",
       "      <td>772</td>\n",
       "      <td>Germany</td>\n",
       "      <td>Male</td>\n",
       "      <td>42</td>\n",
       "      <td>3.0</td>\n",
       "      <td>75075.31</td>\n",
       "      <td>2</td>\n",
       "      <td>1</td>\n",
       "      <td>0</td>\n",
       "      <td>92888.52</td>\n",
       "      <td>1</td>\n",
       "    </tr>\n",
       "    <tr>\n",
       "      <th>9999</th>\n",
       "      <td>10000</td>\n",
       "      <td>15628319</td>\n",
       "      <td>Walker</td>\n",
       "      <td>792</td>\n",
       "      <td>France</td>\n",
       "      <td>Female</td>\n",
       "      <td>28</td>\n",
       "      <td>NaN</td>\n",
       "      <td>130142.79</td>\n",
       "      <td>1</td>\n",
       "      <td>1</td>\n",
       "      <td>0</td>\n",
       "      <td>38190.78</td>\n",
       "      <td>0</td>\n",
       "    </tr>\n",
       "  </tbody>\n",
       "</table>\n",
       "<p>10000 rows × 14 columns</p>\n",
       "</div>"
      ],
      "text/plain": [
       "      RowNumber  CustomerId    Surname  CreditScore Geography  Gender  Age  \\\n",
       "0             1    15634602   Hargrave          619    France  Female   42   \n",
       "1             2    15647311       Hill          608     Spain  Female   41   \n",
       "2             3    15619304       Onio          502    France  Female   42   \n",
       "3             4    15701354       Boni          699    France  Female   39   \n",
       "4             5    15737888   Mitchell          850     Spain  Female   43   \n",
       "...         ...         ...        ...          ...       ...     ...  ...   \n",
       "9995       9996    15606229   Obijiaku          771    France    Male   39   \n",
       "9996       9997    15569892  Johnstone          516    France    Male   35   \n",
       "9997       9998    15584532        Liu          709    France  Female   36   \n",
       "9998       9999    15682355  Sabbatini          772   Germany    Male   42   \n",
       "9999      10000    15628319     Walker          792    France  Female   28   \n",
       "\n",
       "      Tenure    Balance  NumOfProducts  HasCrCard  IsActiveMember  \\\n",
       "0        2.0       0.00              1          1               1   \n",
       "1        1.0   83807.86              1          0               1   \n",
       "2        8.0  159660.80              3          1               0   \n",
       "3        1.0       0.00              2          0               0   \n",
       "4        2.0  125510.82              1          1               1   \n",
       "...      ...        ...            ...        ...             ...   \n",
       "9995     5.0       0.00              2          1               0   \n",
       "9996    10.0   57369.61              1          1               1   \n",
       "9997     7.0       0.00              1          0               1   \n",
       "9998     3.0   75075.31              2          1               0   \n",
       "9999     NaN  130142.79              1          1               0   \n",
       "\n",
       "      EstimatedSalary  Exited  \n",
       "0           101348.88       1  \n",
       "1           112542.58       0  \n",
       "2           113931.57       1  \n",
       "3            93826.63       0  \n",
       "4            79084.10       0  \n",
       "...               ...     ...  \n",
       "9995         96270.64       0  \n",
       "9996        101699.77       0  \n",
       "9997         42085.58       1  \n",
       "9998         92888.52       1  \n",
       "9999         38190.78       0  \n",
       "\n",
       "[10000 rows x 14 columns]"
      ]
     },
     "execution_count": 5,
     "metadata": {},
     "output_type": "execute_result"
    }
   ],
   "source": [
    "df"
   ]
  },
  {
   "cell_type": "code",
   "execution_count": 6,
   "id": "26bab887",
   "metadata": {},
   "outputs": [
    {
     "name": "stdout",
     "output_type": "stream",
     "text": [
      "<class 'pandas.core.frame.DataFrame'>\n",
      "RangeIndex: 10000 entries, 0 to 9999\n",
      "Data columns (total 14 columns):\n",
      " #   Column           Non-Null Count  Dtype  \n",
      "---  ------           --------------  -----  \n",
      " 0   RowNumber        10000 non-null  int64  \n",
      " 1   CustomerId       10000 non-null  int64  \n",
      " 2   Surname          10000 non-null  object \n",
      " 3   CreditScore      10000 non-null  int64  \n",
      " 4   Geography        10000 non-null  object \n",
      " 5   Gender           10000 non-null  object \n",
      " 6   Age              10000 non-null  int64  \n",
      " 7   Tenure           9091 non-null   float64\n",
      " 8   Balance          10000 non-null  float64\n",
      " 9   NumOfProducts    10000 non-null  int64  \n",
      " 10  HasCrCard        10000 non-null  int64  \n",
      " 11  IsActiveMember   10000 non-null  int64  \n",
      " 12  EstimatedSalary  10000 non-null  float64\n",
      " 13  Exited           10000 non-null  int64  \n",
      "dtypes: float64(3), int64(8), object(3)\n",
      "memory usage: 1.1+ MB\n"
     ]
    }
   ],
   "source": [
    "df.info() # проверка на пропуски"
   ]
  },
  {
   "cell_type": "markdown",
   "id": "ffaeda6a",
   "metadata": {},
   "source": [
    "Пропуски в столбце Tenure.<br>\n",
    "Gender, Geography, Surname - тип object."
   ]
  },
  {
   "cell_type": "code",
   "execution_count": 7,
   "id": "6ceaa777",
   "metadata": {},
   "outputs": [
    {
     "data": {
      "text/plain": [
       "1.0     952\n",
       "2.0     950\n",
       "8.0     933\n",
       "3.0     928\n",
       "5.0     927\n",
       "7.0     925\n",
       "4.0     885\n",
       "9.0     882\n",
       "6.0     881\n",
       "10.0    446\n",
       "0.0     382\n",
       "Name: Tenure, dtype: int64"
      ]
     },
     "execution_count": 7,
     "metadata": {},
     "output_type": "execute_result"
    }
   ],
   "source": [
    "df['Tenure'].value_counts() # список значений до замены для проверки"
   ]
  },
  {
   "cell_type": "code",
   "execution_count": 8,
   "id": "4f6b6e22",
   "metadata": {},
   "outputs": [],
   "source": [
    "df.loc[df['Tenure'].isna(), 'Tenure'] = df.loc[df['Tenure'].isna(), 'Tenure'].apply(lambda x: random.randint(0,10)) \n",
    "# замена отсутствующих значений случайными числами "
   ]
  },
  {
   "cell_type": "code",
   "execution_count": 9,
   "id": "f72f539a",
   "metadata": {},
   "outputs": [
    {
     "data": {
      "text/plain": [
       "1.0     1050\n",
       "2.0     1034\n",
       "8.0     1025\n",
       "5.0     1002\n",
       "7.0      995\n",
       "3.0      994\n",
       "9.0      976\n",
       "4.0      970\n",
       "6.0      952\n",
       "10.0     536\n",
       "0.0      466\n",
       "Name: Tenure, dtype: int64"
      ]
     },
     "execution_count": 9,
     "metadata": {},
     "output_type": "execute_result"
    }
   ],
   "source": [
    "df['Tenure'].value_counts() # список значений после замены"
   ]
  },
  {
   "cell_type": "code",
   "execution_count": 10,
   "id": "53db0936",
   "metadata": {},
   "outputs": [],
   "source": [
    "df.drop(['RowNumber','CustomerId','Surname'], axis = 1, inplace = True) # удаление столбцов не нужных для исследования"
   ]
  },
  {
   "cell_type": "code",
   "execution_count": 11,
   "id": "2ce21991",
   "metadata": {},
   "outputs": [],
   "source": [
    "df = pd.get_dummies(df,columns=['Gender'], drop_first=True) # преобразование категориальных признаков в численные"
   ]
  },
  {
   "cell_type": "code",
   "execution_count": 12,
   "id": "bfad21ad",
   "metadata": {},
   "outputs": [],
   "source": [
    "df = pd.get_dummies(df, columns = ['Geography']) # преобразование категориальных признаков в численные"
   ]
  },
  {
   "cell_type": "code",
   "execution_count": 13,
   "id": "cba8dc9a",
   "metadata": {},
   "outputs": [
    {
     "name": "stdout",
     "output_type": "stream",
     "text": [
      "0\n"
     ]
    }
   ],
   "source": [
    "print(df.duplicated().sum()) # поиск дубликатов"
   ]
  },
  {
   "cell_type": "code",
   "execution_count": 14,
   "id": "27753657",
   "metadata": {},
   "outputs": [],
   "source": [
    "df_train, df_valid = train_test_split(df, test_size=0.4, random_state=12345, stratify=df['Exited'])# разделение выборок \n",
    "df_valid, df_test = train_test_split(df_valid, test_size=0.5, random_state=12345)#на обучающую,валидационную и тестовую"
   ]
  },
  {
   "cell_type": "code",
   "execution_count": 15,
   "id": "12e6f6b2",
   "metadata": {},
   "outputs": [
    {
     "name": "stdout",
     "output_type": "stream",
     "text": [
      "(6000, 12)\n",
      "(6000,)\n",
      "(2000, 12)\n",
      "(2000,)\n",
      "(2000, 12)\n",
      "(2000,)\n"
     ]
    }
   ],
   "source": [
    "features_train = df_train.drop(['Exited'], axis=1)     # признаки для обучающей выборки                        \n",
    "target_train = df_train['Exited']                      # целевой признак для обучающей выборки   \n",
    "\n",
    "features_valid = df_valid.drop(['Exited'], axis=1)     # признаки для валидационной выборки \n",
    "target_valid = df_valid['Exited']                      # целевой признак для валидационной выборки \n",
    "\n",
    "features_test = df_test.drop(['Exited'], axis=1)       # признаки для тестовой выборки \n",
    "target_test = df_test['Exited']                        # целевой признак для тестовой выборки \n",
    "\n",
    "print(features_train.shape)    # размер выборок\n",
    "print(target_train.shape)\n",
    "print(features_valid.shape)\n",
    "print(target_valid.shape)\n",
    "print(features_test.shape)\n",
    "print(target_test.shape)"
   ]
  },
  {
   "cell_type": "code",
   "execution_count": 16,
   "id": "04668f68",
   "metadata": {},
   "outputs": [
    {
     "name": "stdout",
     "output_type": "stream",
     "text": [
      "Количество строк в target_train по классам: [4778 1222]\n",
      "Количество строк в target_valid по классам: [1609  391]\n",
      "Количество строк в target_test по классам: [1576  424]\n"
     ]
    }
   ],
   "source": [
    "print(f\"Количество строк в target_train по классам: {np.bincount(target_train)}\") # проверим равномерно ли разбиты \n",
    "print(f\"Количество строк в target_valid по классам: {np.bincount(target_valid)}\")  # данные  по классам\n",
    "print(f\"Количество строк в target_test по классам: {np.bincount(target_test)}\")"
   ]
  },
  {
   "cell_type": "code",
   "execution_count": 17,
   "id": "bf2b2a96",
   "metadata": {},
   "outputs": [],
   "source": [
    "numeric = ['CreditScore', 'Age', 'Tenure', 'Balance', 'NumOfProducts', 'HasCrCard',\n",
    "       'IsActiveMember', 'EstimatedSalary', 'Gender_Male',\n",
    "       'Geography_France', 'Geography_Germany', 'Geography_Spain']\n",
    "scaler = StandardScaler()\n",
    "scaler.fit(features_train[numeric])\n",
    "features_train[numeric] = scaler.transform(features_train[numeric])\n",
    "features_valid[numeric]= scaler.transform(features_valid[numeric])\n",
    "features_test[numeric]= scaler.transform(features_test[numeric]) # проведем масштабирование признаков"
   ]
  },
  {
   "cell_type": "markdown",
   "id": "2bf4af22",
   "metadata": {},
   "source": [
    "Вывод по подготовке:\n",
    " - удалены столбцы 'RowNumber','CustomerId','Surname' не нужные для исследования.\n",
    " - категориальные признаки преобразованны в численные.\n",
    " - данные разделены на выборки train, test и valid с параметром stratify=df['Exited'] для равномерного распределения признаков в выборках.\n",
    " - признаки приведены к одному масштабу.\n"
   ]
  },
  {
   "cell_type": "markdown",
   "id": "e767aefd",
   "metadata": {},
   "source": [
    "## Исследование задачи"
   ]
  },
  {
   "cell_type": "markdown",
   "id": "2ffc4ccb",
   "metadata": {},
   "source": [
    "Проверим баланс классов."
   ]
  },
  {
   "cell_type": "code",
   "execution_count": 18,
   "id": "f2cfbb6f",
   "metadata": {},
   "outputs": [
    {
     "name": "stdout",
     "output_type": "stream",
     "text": [
      "0    0.7963\n",
      "1    0.2037\n",
      "Name: Exited, dtype: float64\n"
     ]
    },
    {
     "data": {
      "text/plain": [
       "<AxesSubplot:>"
      ]
     },
     "execution_count": 18,
     "metadata": {},
     "output_type": "execute_result"
    },
    {
     "data": {
      "image/png": "[encoded data removed]",
      "text/plain": [
       "<Figure size 600x400 with 1 Axes>"
      ]
     },
     "metadata": {},
     "output_type": "display_data"
    }
   ],
   "source": [
    "class_frequency = df['Exited'].value_counts(normalize=True)\n",
    "print(class_frequency)\n",
    "class_frequency.plot(kind='bar')"
   ]
  },
  {
   "cell_type": "markdown",
   "id": "78abfc61",
   "metadata": {},
   "source": [
    "Наблюдается дисбаланс классов. Класса 1 намного меньше класса 0. "
   ]
  },
  {
   "cell_type": "markdown",
   "id": "71aa5d8a",
   "metadata": {},
   "source": [
    "Обучим решающее дерево без учета дисбаланса."
   ]
  },
  {
   "cell_type": "code",
   "execution_count": 19,
   "id": "967236d3",
   "metadata": {},
   "outputs": [],
   "source": [
    "model_1 = DecisionTreeClassifier(random_state=12345)"
   ]
  },
  {
   "cell_type": "code",
   "execution_count": 20,
   "id": "768736b6",
   "metadata": {},
   "outputs": [],
   "source": [
    "parametrs = { 'max_depth': range (1,20, 1),  # параметры для поиска лучшей модели\n",
    "              'min_samples_leaf': range (1,40),\n",
    "              'min_samples_split': range (2,20,2)}"
   ]
  },
  {
   "cell_type": "code",
   "execution_count": 21,
   "id": "d85bbec0",
   "metadata": {},
   "outputs": [
    {
     "data": {
      "text/plain": [
       "GridSearchCV(cv=5, estimator=DecisionTreeClassifier(random_state=12345),\n",
       "             param_grid={'max_depth': range(1, 20),\n",
       "                         'min_samples_leaf': range(1, 40),\n",
       "                         'min_samples_split': range(2, 20, 2)},\n",
       "             scoring='f1')"
      ]
     },
     "execution_count": 21,
     "metadata": {},
     "output_type": "execute_result"
    }
   ],
   "source": [
    "grid_tree = GridSearchCV(model_1, parametrs, cv=5, scoring='f1')   \n",
    "grid_tree.fit(features_train, target_train)"
   ]
  },
  {
   "cell_type": "code",
   "execution_count": 22,
   "id": "a052a009",
   "metadata": {},
   "outputs": [
    {
     "data": {
      "text/plain": [
       "{'max_depth': 12, 'min_samples_leaf': 17, 'min_samples_split': 2}"
      ]
     },
     "execution_count": 22,
     "metadata": {},
     "output_type": "execute_result"
    }
   ],
   "source": [
    "grid_tree.best_params_   # выводим результат с лучшими параметрами"
   ]
  },
  {
   "cell_type": "code",
   "execution_count": 23,
   "id": "fe83a1b5",
   "metadata": {},
   "outputs": [
    {
     "name": "stdout",
     "output_type": "stream",
     "text": [
      "Recall: 0.45268542199488493\n",
      "Precision: 0.6389891696750902\n",
      "F1: 0.5299401197604792\n",
      "auc_roc: 0.8132944641633777\n"
     ]
    }
   ],
   "source": [
    "model_dt = DecisionTreeClassifier(random_state=12345, max_depth=12, min_samples_leaf=17, min_samples_split=2)\n",
    "model_dt.fit(features_train, target_train) # обучение  \n",
    "predictions_valid = model_dt.predict(features_valid) # предсказания на валидационной выборке\n",
    "print(\"Recall:\",recall_score(target_valid, predictions_valid))\n",
    "print(\"Precision:\",precision_score(target_valid, predictions_valid))\n",
    "print(\"F1:\",f1_score(target_valid, predictions_valid))\n",
    "probabilities = model_dt.predict_proba(features_valid)\n",
    "probabilities_one = probabilities[:, 1]\n",
    "print(\"auc_roc:\", roc_auc_score(target_valid, probabilities_one))"
   ]
  },
  {
   "cell_type": "markdown",
   "id": "1fb82980",
   "metadata": {},
   "source": [
    "Обучим случайный лес без учета дисбаланса."
   ]
  },
  {
   "cell_type": "code",
   "execution_count": 24,
   "id": "2264aacc",
   "metadata": {},
   "outputs": [],
   "source": [
    "model_2 = RandomForestClassifier(random_state=12345)"
   ]
  },
  {
   "cell_type": "code",
   "execution_count": 25,
   "id": "e44370d1",
   "metadata": {},
   "outputs": [],
   "source": [
    "parametrs = { 'n_estimators': range (10, 31, 10),   # параметры для поиска лучшей модели\n",
    "              'max_depth': range (1, 10, 2),\n",
    "              'min_samples_leaf': range (1,10),\n",
    "              'min_samples_split': range (2,10,2),\n",
    "              'criterion': ['gini', 'entropy']}"
   ]
  },
  {
   "cell_type": "code",
   "execution_count": 26,
   "id": "cbf20fb8",
   "metadata": {},
   "outputs": [
    {
     "data": {
      "text/plain": [
       "GridSearchCV(cv=5, estimator=RandomForestClassifier(random_state=12345),\n",
       "             param_grid={'criterion': ['gini', 'entropy'],\n",
       "                         'max_depth': range(1, 10, 2),\n",
       "                         'min_samples_leaf': range(1, 10),\n",
       "                         'min_samples_split': range(2, 10, 2),\n",
       "                         'n_estimators': range(10, 31, 10)},\n",
       "             scoring='f1')"
      ]
     },
     "execution_count": 26,
     "metadata": {},
     "output_type": "execute_result"
    }
   ],
   "source": [
    "grid = GridSearchCV(model_2, parametrs, cv=5, scoring='f1')   \n",
    "grid.fit(features_train, target_train)"
   ]
  },
  {
   "cell_type": "code",
   "execution_count": 27,
   "id": "c551c9f6",
   "metadata": {},
   "outputs": [
    {
     "data": {
      "text/plain": [
       "{'criterion': 'gini',\n",
       " 'max_depth': 9,\n",
       " 'min_samples_leaf': 1,\n",
       " 'min_samples_split': 2,\n",
       " 'n_estimators': 30}"
      ]
     },
     "execution_count": 27,
     "metadata": {},
     "output_type": "execute_result"
    }
   ],
   "source": [
    "grid.best_params_   # выводим результат с лучшими параметрами"
   ]
  },
  {
   "cell_type": "code",
   "execution_count": 28,
   "id": "0cd6f08b",
   "metadata": {},
   "outputs": [
    {
     "name": "stdout",
     "output_type": "stream",
     "text": [
      "Recall: 0.42710997442455245\n",
      "Precision: 0.7522522522522522\n",
      "F1: 0.5448613376835236\n",
      "auc_roc: 0.8568728650700425\n"
     ]
    }
   ],
   "source": [
    "model_rf = RandomForestClassifier(random_state=12345, max_depth=9, n_estimators=20, min_samples_leaf=1,\n",
    "                    min_samples_split=4) \n",
    "model_rf.fit(features_train, target_train) # обучение  \n",
    "predictions_valid = model_rf.predict(features_valid) # предсказания на валидационной выборке\n",
    "print(\"Recall:\",recall_score(target_valid, predictions_valid))\n",
    "print(\"Precision:\",precision_score(target_valid, predictions_valid))\n",
    "print(\"F1:\",f1_score(target_valid, predictions_valid))\n",
    "probabilities = model_rf.predict_proba(features_valid)\n",
    "probabilities_one = probabilities[:, 1]\n",
    "print(\"auc_roc:\", roc_auc_score(target_valid, probabilities_one))"
   ]
  },
  {
   "cell_type": "markdown",
   "id": "14c53052",
   "metadata": {},
   "source": [
    "Обучение логистической регрессии без учета дисбаланса."
   ]
  },
  {
   "cell_type": "code",
   "execution_count": 29,
   "id": "aa4664a5",
   "metadata": {},
   "outputs": [],
   "source": [
    "model_2 = LogisticRegression(random_state=12345) "
   ]
  },
  {
   "cell_type": "code",
   "execution_count": 30,
   "id": "fdec371d",
   "metadata": {},
   "outputs": [],
   "source": [
    "parametrs = { 'max_iter': [100, 1001, 1000],   # параметры для поиска лучшей модели\n",
    "              'C': [0.001, 0.01, 0.1, 1, 10, 100, 1000] }"
   ]
  },
  {
   "cell_type": "code",
   "execution_count": 31,
   "id": "ecd89b84",
   "metadata": {},
   "outputs": [
    {
     "data": {
      "text/plain": [
       "GridSearchCV(estimator=LogisticRegression(random_state=12345),\n",
       "             param_grid={'C': [0.001, 0.01, 0.1, 1, 10, 100, 1000],\n",
       "                         'max_iter': [100, 1001, 1000]},\n",
       "             scoring='f1')"
      ]
     },
     "execution_count": 31,
     "metadata": {},
     "output_type": "execute_result"
    }
   ],
   "source": [
    "grid = GridSearchCV(model_2, parametrs, scoring='f1')   \n",
    "grid.fit(features_train, target_train)"
   ]
  },
  {
   "cell_type": "code",
   "execution_count": 32,
   "id": "e9036e46",
   "metadata": {},
   "outputs": [
    {
     "data": {
      "text/plain": [
       "{'C': 1, 'max_iter': 100}"
      ]
     },
     "execution_count": 32,
     "metadata": {},
     "output_type": "execute_result"
    }
   ],
   "source": [
    "grid.best_params_"
   ]
  },
  {
   "cell_type": "code",
   "execution_count": 33,
   "id": "7d0c87f3",
   "metadata": {},
   "outputs": [
    {
     "name": "stdout",
     "output_type": "stream",
     "text": [
      "0.815\n",
      "Recall: 0.42710997442455245\n",
      "Precision: 0.7522522522522522\n",
      "F1: 0.5448613376835236\n",
      "auc_roc: 0.7704265806627998\n"
     ]
    }
   ],
   "source": [
    "model_2 = LogisticRegression(random_state=12345, max_iter=100, C=1)  \n",
    "model_2.fit(features_train, target_train) #  обучение модели\n",
    "LogisticRegression_predict = model_2.predict(features_valid) #предсказания на валидационной выборке\n",
    "print(model_2.score(features_valid, target_valid))\n",
    "print(\"Recall:\",recall_score(target_valid, predictions_valid))\n",
    "print(\"Precision:\",precision_score(target_valid, predictions_valid))\n",
    "print(\"F1:\",f1_score(target_valid, predictions_valid))\n",
    "probabilities = model_2.predict_proba(features_valid)\n",
    "probabilities_one = probabilities[:, 1]\n",
    "print(\"auc_roc:\", roc_auc_score(target_valid, probabilities_one))"
   ]
  },
  {
   "cell_type": "markdown",
   "id": "288138c2",
   "metadata": {},
   "source": [
    "Самое высокое значение F1 без учета дисбаланса у модели случайный лес 0.56 и логистическая регрессия."
   ]
  },
  {
   "cell_type": "markdown",
   "id": "cf4e6cd8",
   "metadata": {},
   "source": [
    "| Имя модели    | Значение F1        | ROC-AUC  |\n",
    "|:------------- |:---------------:| :---------------:|\n",
    "| Случайный лес      | 0.56 | 0.85 | \n",
    "| Решающее дерево        | 0.52        | 0.80        |\n",
    "| Логистическая регрессия | 0.56        | 0.76|"
   ]
  },
  {
   "cell_type": "markdown",
   "id": "446f710a",
   "metadata": {},
   "source": [
    "## Борьба с дисбалансом"
   ]
  },
  {
   "cell_type": "markdown",
   "id": "58ee7e8f",
   "metadata": {},
   "source": [
    "### Взвешивание классов"
   ]
  },
  {
   "cell_type": "markdown",
   "id": "2292b72a",
   "metadata": {},
   "source": [
    "**Для борьбы с дисбалансом применим аргумент class_weight**"
   ]
  },
  {
   "cell_type": "code",
   "execution_count": 34,
   "id": "c240186e",
   "metadata": {},
   "outputs": [
    {
     "name": "stdout",
     "output_type": "stream",
     "text": [
      "Recall: 0.5191815856777494\n",
      "Precision: 0.656957928802589\n",
      "F1: 0.58\n",
      "auc_roc: 0.8186988471179538\n"
     ]
    }
   ],
   "source": [
    "model_dt = DecisionTreeClassifier(random_state=12345, max_depth=6, min_samples_leaf=8, min_samples_split=2,\n",
    "                                 class_weight={1:2, 0:1})\n",
    "model_dt.fit(features_train, target_train)  \n",
    "predictions_valid = model_dt.predict(features_valid) \n",
    "print(\"Recall:\",recall_score(target_valid, predictions_valid))\n",
    "print(\"Precision:\",precision_score(target_valid, predictions_valid))\n",
    "print(\"F1:\",f1_score(target_valid, predictions_valid))\n",
    "probabilities = model_dt.predict_proba(features_valid)\n",
    "probabilities_one = probabilities[:, 1]\n",
    "print(\"auc_roc:\", roc_auc_score(target_valid, probabilities_one))"
   ]
  },
  {
   "cell_type": "code",
   "execution_count": 35,
   "id": "923b6eca",
   "metadata": {},
   "outputs": [
    {
     "name": "stdout",
     "output_type": "stream",
     "text": [
      "Recall: 0.6470588235294118\n",
      "Precision: 0.5584988962472406\n",
      "F1: 0.5995260663507109\n",
      "auc_roc: 0.8541309354827941\n"
     ]
    }
   ],
   "source": [
    "model_rf = RandomForestClassifier(random_state=12345, max_depth=9, n_estimators=40, min_samples_leaf=1,\n",
    "                    min_samples_split=8, class_weight='balanced') \n",
    "model_rf.fit(features_train, target_train)  \n",
    "predictions_valid = model_rf.predict(features_valid) \n",
    "print(\"Recall:\",recall_score(target_valid, predictions_valid))\n",
    "print(\"Precision:\",precision_score(target_valid, predictions_valid))\n",
    "print(\"F1:\",f1_score(target_valid, predictions_valid))\n",
    "probabilities = model_rf.predict_proba(features_valid)\n",
    "probabilities_one = probabilities[:, 1]\n",
    "print(\"auc_roc:\", roc_auc_score(target_valid, probabilities_one))"
   ]
  },
  {
   "cell_type": "code",
   "execution_count": 36,
   "id": "7c297081",
   "metadata": {},
   "outputs": [
    {
     "name": "stdout",
     "output_type": "stream",
     "text": [
      "Recall: 0.710997442455243\n",
      "Precision: 0.3813443072702332\n",
      "F1: 0.4964285714285715\n",
      "auc_roc: 0.7755051111157031\n"
     ]
    }
   ],
   "source": [
    "model = LogisticRegression(random_state=12345, solver='liblinear', class_weight='balanced')\n",
    "model.fit(features_train, target_train)\n",
    "predictions_valid = model.predict(features_valid) \n",
    "print(\"Recall:\",recall_score(target_valid, predictions_valid))\n",
    "print(\"Precision:\",precision_score(target_valid, predictions_valid))\n",
    "print(\"F1:\",f1_score(target_valid, predictions_valid))\n",
    "probabilities = model.predict_proba(features_valid)\n",
    "probabilities_one = probabilities[:, 1]\n",
    "print(\"auc_roc:\", roc_auc_score(target_valid, probabilities_one))"
   ]
  },
  {
   "cell_type": "markdown",
   "id": "9c8c8d31",
   "metadata": {},
   "source": [
    "У логистической регрессии снизилась точность и следовательно F1 стала хуже. У остальных моделей метрики качества повысились."
   ]
  },
  {
   "cell_type": "markdown",
   "id": "6442e030",
   "metadata": {},
   "source": [
    "### Увеличение выборки"
   ]
  },
  {
   "cell_type": "markdown",
   "id": "7f0694fc",
   "metadata": {},
   "source": [
    "**Применим увеличение количества объектов редкого класса**"
   ]
  },
  {
   "cell_type": "code",
   "execution_count": 37,
   "id": "d98b1f73",
   "metadata": {},
   "outputs": [
    {
     "name": "stdout",
     "output_type": "stream",
     "text": [
      "(9666, 12)\n",
      "(9666,)\n"
     ]
    }
   ],
   "source": [
    "def upsample(features, target, repeat):\n",
    "\n",
    "    features_zeros = features_train[target_train == 0]\n",
    "    features_ones = features_train[target_train == 1]\n",
    "    target_zeros = target_train[target_train == 0]\n",
    "    target_ones = target_train[target_train == 1]\n",
    "    repeat = 4\n",
    "    features_upsampled = pd.concat([features_zeros] + [features_ones] * repeat)\n",
    "    target_upsampled = pd.concat([target_zeros] + [target_ones] * repeat)\n",
    "\n",
    "    features_upsampled, target_upsampled = shuffle(features_upsampled, target_upsampled, random_state=12345)\n",
    "    return features_upsampled, target_upsampled \n",
    "features_upsampled, target_upsampled = upsample(features_train, target_train, 4)\n",
    "\n",
    "print(features_upsampled.shape)\n",
    "print(target_upsampled.shape)"
   ]
  },
  {
   "cell_type": "code",
   "execution_count": 38,
   "id": "9e0ea844",
   "metadata": {},
   "outputs": [
    {
     "data": {
      "text/plain": [
       "1    4888\n",
       "0    4778\n",
       "Name: Exited, dtype: int64"
      ]
     },
     "execution_count": 38,
     "metadata": {},
     "output_type": "execute_result"
    }
   ],
   "source": [
    "target_upsampled.value_counts()"
   ]
  },
  {
   "cell_type": "code",
   "execution_count": 39,
   "id": "4c779626",
   "metadata": {},
   "outputs": [
    {
     "data": {
      "text/plain": [
       "0    4778\n",
       "1    1222\n",
       "Name: Exited, dtype: int64"
      ]
     },
     "execution_count": 39,
     "metadata": {},
     "output_type": "execute_result"
    }
   ],
   "source": [
    "target_train.value_counts()"
   ]
  },
  {
   "cell_type": "code",
   "execution_count": 40,
   "id": "50ddd4c6",
   "metadata": {},
   "outputs": [
    {
     "name": "stdout",
     "output_type": "stream",
     "text": [
      "Recall: 0.6956521739130435\n",
      "Precision: 0.5230769230769231\n",
      "auc_roc: 0.8540117211529138\n",
      "F1: 0.597145993413831\n"
     ]
    }
   ],
   "source": [
    "model_rf = RandomForestClassifier(random_state=12345, max_depth=9, n_estimators=40, min_samples_leaf=1,\n",
    "                    min_samples_split=8) \n",
    "model_rf.fit(features_upsampled, target_upsampled)\n",
    "predicted_valid = model_rf.predict(features_valid)\n",
    "print(\"Recall:\",recall_score(target_valid, predicted_valid))\n",
    "print(\"Precision:\",precision_score(target_valid, predicted_valid))\n",
    "probabilities_valid = model_rf.predict_proba(features_valid)\n",
    "probabilities_one_valid = probabilities_valid[:, 1]\n",
    "print(\"auc_roc:\", roc_auc_score(target_valid, probabilities_one_valid))\n",
    "print(\"F1:\", f1_score(target_valid, predicted_valid))"
   ]
  },
  {
   "cell_type": "code",
   "execution_count": 41,
   "id": "81099bf9",
   "metadata": {},
   "outputs": [
    {
     "name": "stdout",
     "output_type": "stream",
     "text": [
      "Recall: 0.7212276214833759\n",
      "Precision: 0.3780160857908847\n",
      "auc_roc: 0.7755829978112249\n",
      "F1: 0.496042216358839\n"
     ]
    }
   ],
   "source": [
    "model = LogisticRegression(random_state=12345, solver='liblinear', max_iter=100, C=0.1)\n",
    "model.fit(features_upsampled, target_upsampled)\n",
    "model.predict_proba(features_valid)[:,1]\n",
    "predicted_valid = model.predict(features_valid)\n",
    "print(\"Recall:\",recall_score(target_valid, predicted_valid))\n",
    "print(\"Precision:\",precision_score(target_valid, predicted_valid))\n",
    "probabilities_valid = model.predict_proba(features_valid)\n",
    "probabilities_one_valid = probabilities_valid[:, 1]\n",
    "print(\"auc_roc:\", roc_auc_score(target_valid, probabilities_one_valid))\n",
    "print(\"F1:\", f1_score(target_valid, predicted_valid))"
   ]
  },
  {
   "cell_type": "code",
   "execution_count": 42,
   "id": "5db98434",
   "metadata": {},
   "outputs": [
    {
     "name": "stdout",
     "output_type": "stream",
     "text": [
      "Recall: 0.7391304347826086\n",
      "Precision: 0.41944847605224966\n",
      "auc_roc: 0.7997421791425787\n",
      "F1: 0.5351851851851852\n"
     ]
    }
   ],
   "source": [
    "model_dt = DecisionTreeClassifier(random_state=12345, max_depth=6, min_samples_leaf=8, min_samples_split=2)\n",
    "model_dt.fit(features_upsampled, target_upsampled)\n",
    "predicted_valid = model_dt.predict(features_valid)\n",
    "print(\"Recall:\",recall_score(target_valid, predicted_valid))\n",
    "print(\"Precision:\",precision_score(target_valid, predicted_valid))\n",
    "probabilities_valid = model_dt.predict_proba(features_valid)\n",
    "probabilities_one_valid = probabilities_valid[:, 1]\n",
    "print(\"auc_roc:\", roc_auc_score(target_valid, probabilities_one_valid))\n",
    "print(\"F1:\", f1_score(target_valid, predicted_valid))"
   ]
  },
  {
   "cell_type": "markdown",
   "id": "20f0becc",
   "metadata": {},
   "source": [
    "При увеличении выборки только у модели Случайный лес F1 больше, чем на не сбалансированной."
   ]
  },
  {
   "cell_type": "markdown",
   "id": "8ed4c2db",
   "metadata": {},
   "source": [
    "### Уменьшение выборки"
   ]
  },
  {
   "cell_type": "markdown",
   "id": "8e437e52",
   "metadata": {},
   "source": [
    "**Применим уменьшение количества объектов большего класса**"
   ]
  },
  {
   "cell_type": "code",
   "execution_count": 43,
   "id": "caf03e2b",
   "metadata": {},
   "outputs": [
    {
     "name": "stdout",
     "output_type": "stream",
     "text": [
      "(2512, 12)\n",
      "(2512,)\n"
     ]
    }
   ],
   "source": [
    "def downsample(features, target, fraction):\n",
    "    features_zeros = features[target == 0]\n",
    "    features_ones = features[target == 1]\n",
    "    target_zeros = target[target == 0]\n",
    "    target_ones = target[target == 1]\n",
    "\n",
    "    features_downsampled = pd.concat([features_zeros.sample(frac=fraction, random_state=12345)] + [features_ones])\n",
    "    target_downsampled = pd.concat([target_zeros.sample(frac=fraction, random_state=12345)] + [target_ones])\n",
    "    \n",
    "    features_downsampled, target_downsampled = shuffle(features_downsampled, target_downsampled, random_state=12345)\n",
    "    \n",
    "    return features_downsampled, target_downsampled\n",
    "\n",
    "features_downsampled, target_downsampled = downsample(features_train, target_train, 0.27)\n",
    "\n",
    "print(features_downsampled.shape)\n",
    "print(target_downsampled.shape)"
   ]
  },
  {
   "cell_type": "code",
   "execution_count": 44,
   "id": "284f8553",
   "metadata": {},
   "outputs": [
    {
     "data": {
      "text/plain": [
       "0    1290\n",
       "1    1222\n",
       "Name: Exited, dtype: int64"
      ]
     },
     "execution_count": 44,
     "metadata": {},
     "output_type": "execute_result"
    }
   ],
   "source": [
    "target_downsampled.value_counts()"
   ]
  },
  {
   "cell_type": "code",
   "execution_count": 45,
   "id": "f4782be2",
   "metadata": {},
   "outputs": [
    {
     "name": "stdout",
     "output_type": "stream",
     "text": [
      "Recall: 0.6956521739130435\n",
      "Precision: 0.38636363636363635\n",
      "auc_roc: 0.7728458367971719\n",
      "F1: 0.4968036529680366\n"
     ]
    }
   ],
   "source": [
    "model = LogisticRegression(random_state=12345, solver='liblinear', max_iter=100, C=0.1)\n",
    "model.fit(features_downsampled, target_downsampled)\n",
    "predicted_valid = model.predict(features_valid)\n",
    "print(\"Recall:\",recall_score(target_valid, predicted_valid))\n",
    "print(\"Precision:\",precision_score(target_valid, predicted_valid))\n",
    "probabilities_valid = model.predict_proba(features_valid)\n",
    "probabilities_one_valid = probabilities_valid[:, 1]\n",
    "print(\"auc_roc:\", roc_auc_score(target_valid, probabilities_one_valid)) \n",
    "print(\"F1:\", f1_score(target_valid, predicted_valid))"
   ]
  },
  {
   "cell_type": "code",
   "execution_count": 46,
   "id": "8c1b16dd",
   "metadata": {},
   "outputs": [
    {
     "name": "stdout",
     "output_type": "stream",
     "text": [
      "Recall: 0.8260869565217391\n",
      "Precision: 0.38682634730538923\n",
      "auc_roc: 0.8335537473832455\n",
      "F1: 0.5269168026101142\n"
     ]
    }
   ],
   "source": [
    "model = DecisionTreeClassifier(random_state=12345, max_depth=6, min_samples_leaf=8, min_samples_split=2)\n",
    "model.fit(features_downsampled, target_downsampled)\n",
    "predicted_valid = model.predict(features_valid)\n",
    "print(\"Recall:\",recall_score(target_valid, predicted_valid))\n",
    "print(\"Precision:\",precision_score(target_valid, predicted_valid))\n",
    "probabilities_valid = model.predict_proba(features_valid)\n",
    "probabilities_one_valid = probabilities_valid[:, 1]\n",
    "print(\"auc_roc:\", roc_auc_score(target_valid, probabilities_one_valid))\n",
    "print(\"F1:\", f1_score(target_valid, predicted_valid))"
   ]
  },
  {
   "cell_type": "code",
   "execution_count": 47,
   "id": "fb2bde6a",
   "metadata": {},
   "outputs": [
    {
     "name": "stdout",
     "output_type": "stream",
     "text": [
      "Recall: 0.7519181585677749\n",
      "Precision: 0.4688995215311005\n",
      "auc_roc: 0.8523061614734255\n",
      "F1: 0.5776031434184676\n"
     ]
    }
   ],
   "source": [
    "model = RandomForestClassifier(random_state=12345, max_depth=9, n_estimators=40, min_samples_leaf=1,\n",
    "                    min_samples_split=8) \n",
    "model.fit(features_downsampled, target_downsampled)\n",
    "predicted_valid = model.predict(features_valid)\n",
    "print(\"Recall:\",recall_score(target_valid, predicted_valid))\n",
    "print(\"Precision:\",precision_score(target_valid, predicted_valid))\n",
    "probabilities_valid = model.predict_proba(features_valid)\n",
    "probabilities_one_valid = probabilities_valid[:, 1]\n",
    "print(\"auc_roc:\", roc_auc_score(target_valid, probabilities_one_valid))\n",
    "print(\"F1:\", f1_score(target_valid, predicted_valid))"
   ]
  },
  {
   "cell_type": "markdown",
   "id": "c3488c78",
   "metadata": {},
   "source": [
    "При уменьшении выборки только у модели Случайный лес F1 больше, чем на не сбалансированной."
   ]
  },
  {
   "cell_type": "markdown",
   "id": "3094f463",
   "metadata": {},
   "source": [
    "| Имя модели    |  F1 без учета дисбаланса | F1 class_weight='balanced'   |  F1 upsampled |  F1 downsampled |\n",
    "|:------------- |:---------------:| :------------- |:---------------:|:---------------:|\n",
    "| Случайный лес      | 0.56 | 0.60      | 0.60 | 0.58 |\n",
    "| Решающее дерево        | 0.52        | 0.58        | 0.53        |  0.52        |\n",
    "| Логистическая регрессия | 0.56        | 0.49 | 0.49        | 0.49        |"
   ]
  },
  {
   "cell_type": "markdown",
   "id": "aff61fdf",
   "metadata": {},
   "source": [
    "Лучшее значение F1 во всех случаях у модели случайный лес. При возрастании F1 растет и значение auc_roc."
   ]
  },
  {
   "cell_type": "markdown",
   "id": "971466b5",
   "metadata": {},
   "source": [
    "## Тестирование модели"
   ]
  },
  {
   "cell_type": "code",
   "execution_count": 48,
   "id": "e786682f",
   "metadata": {},
   "outputs": [
    {
     "name": "stdout",
     "output_type": "stream",
     "text": [
      "Recall: 0.7523584905660378\n",
      "Precision: 0.4725925925925926\n",
      "auc_roc: 0.8489802820611053\n",
      "F1: 0.5805277525022748\n"
     ]
    }
   ],
   "source": [
    "model = DecisionTreeClassifier(random_state=12345, max_depth=6, min_samples_leaf=16, min_samples_split=2)\n",
    "model.fit(features_upsampled, target_upsampled) \n",
    "test_predictions = model.predict(features_test)\n",
    "print(\"Recall:\",recall_score(target_test, test_predictions))\n",
    "print(\"Precision:\",precision_score(target_test, test_predictions))\n",
    "probabilities = model.predict_proba(features_test)\n",
    "probabilities_one = probabilities[:, 1]\n",
    "print(\"auc_roc:\", roc_auc_score(target_test, probabilities_one))\n",
    "print(\"F1:\", f1_score(target_test, test_predictions))"
   ]
  },
  {
   "cell_type": "code",
   "execution_count": 49,
   "id": "0812e0af",
   "metadata": {},
   "outputs": [
    {
     "name": "stdout",
     "output_type": "stream",
     "text": [
      "Recall: 0.7075471698113207\n",
      "Precision: 0.39215686274509803\n",
      "auc_roc: 0.7730222200938608\n",
      "F1: 0.5046257359125316\n"
     ]
    }
   ],
   "source": [
    "model = LogisticRegression(random_state=12345, solver='liblinear', max_iter=100, C=0.1)\n",
    "model.fit(features_upsampled, target_upsampled)\n",
    "predicted_test = model.predict(features_test)\n",
    "print(\"Recall:\",recall_score(target_test, predicted_test))\n",
    "print(\"Precision:\",precision_score(target_test, predicted_test))\n",
    "probabilities = model.predict_proba(features_test)\n",
    "probabilities_one = probabilities[:, 1]\n",
    "print(\"auc_roc:\", roc_auc_score(target_test, probabilities_one))\n",
    "print(\"F1:\", f1_score(target_test, predicted_test))"
   ]
  },
  {
   "cell_type": "code",
   "execution_count": 50,
   "id": "b65adf17",
   "metadata": {},
   "outputs": [
    {
     "name": "stdout",
     "output_type": "stream",
     "text": [
      "Recall: 0.7216981132075472\n",
      "Precision: 0.5645756457564576\n",
      "auc_roc: 0.7730222200938608\n",
      "F1: 0.6335403726708074\n"
     ]
    }
   ],
   "source": [
    "model_rf = RandomForestClassifier(random_state=12345, max_depth=9, n_estimators=30, min_samples_leaf=1,\n",
    "                                                        min_samples_split=8) \n",
    "model_rf.fit(features_upsampled, target_upsampled)\n",
    "test_predictions = model_rf.predict(features_test)\n",
    "print(\"Recall:\",recall_score(target_test, test_predictions))\n",
    "print(\"Precision:\",precision_score(target_test, test_predictions))\n",
    "probabilities = model.predict_proba(features_test)\n",
    "probabilities_one = probabilities[:, 1]\n",
    "print(\"auc_roc:\", roc_auc_score(target_test, probabilities_one))\n",
    "print(\"F1:\", f1_score(target_test, test_predictions))"
   ]
  },
  {
   "cell_type": "code",
   "execution_count": 51,
   "id": "97ed2bd3",
   "metadata": {},
   "outputs": [
    {
     "name": "stdout",
     "output_type": "stream",
     "text": [
      "Recall: 0.6863207547169812\n",
      "Precision: 0.4092827004219409\n",
      "auc_roc: 0.7718579398525046\n",
      "F1: 0.5127753303964757\n"
     ]
    }
   ],
   "source": [
    "model = LogisticRegression(random_state=12345, solver='liblinear', max_iter=100, C=0.1)\n",
    "model.fit(features_downsampled, target_downsampled)\n",
    "predicted_test = model.predict(features_test)\n",
    "print(\"Recall:\",recall_score(target_test, predicted_test))\n",
    "print(\"Precision:\",precision_score(target_test, predicted_test))\n",
    "probabilities = model.predict_proba(features_test)\n",
    "probabilities_one = probabilities[:, 1]\n",
    "print(\"auc_roc:\", roc_auc_score(target_test, probabilities_one))\n",
    "print(\"F1:\", f1_score(target_test, predicted_test))"
   ]
  },
  {
   "cell_type": "code",
   "execution_count": 52,
   "id": "17ba7432",
   "metadata": {},
   "outputs": [
    {
     "name": "stdout",
     "output_type": "stream",
     "text": [
      "Recall: 0.7193396226415094\n",
      "Precision: 0.44525547445255476\n",
      "auc_roc: 0.8146856443348338\n",
      "F1: 0.5500450856627592\n"
     ]
    }
   ],
   "source": [
    "model = DecisionTreeClassifier(random_state=12345, max_depth=4, min_samples_leaf=4, min_samples_split=3)\n",
    "model.fit(features_downsampled, target_downsampled) \n",
    "test_predictions = model.predict(features_test)\n",
    "print(\"Recall:\",recall_score(target_test, test_predictions))\n",
    "print(\"Precision:\",precision_score(target_test, test_predictions))\n",
    "probabilities = model.predict_proba(features_test)\n",
    "probabilities_one = probabilities[:, 1]\n",
    "print(\"auc_roc:\", roc_auc_score(target_test, probabilities_one))\n",
    "print(\"F1:\", f1_score(target_test, test_predictions))"
   ]
  },
  {
   "cell_type": "code",
   "execution_count": 53,
   "id": "d93d750e",
   "metadata": {},
   "outputs": [
    {
     "name": "stdout",
     "output_type": "stream",
     "text": [
      "Recall: 0.7806603773584906\n",
      "Precision: 0.5204402515723271\n",
      "auc_roc: 0.8146856443348338\n",
      "F1: 0.6245283018867925\n"
     ]
    }
   ],
   "source": [
    "model_rf = RandomForestClassifier(random_state=12345, max_depth=9, n_estimators=30, min_samples_leaf=1,\n",
    "                    min_samples_split=6) \n",
    "model_rf.fit(features_downsampled, target_downsampled)\n",
    "test_predictions = model_rf.predict(features_test)\n",
    "print(\"Recall:\",recall_score(target_test, test_predictions))\n",
    "print(\"Precision:\",precision_score(target_test, test_predictions))\n",
    "probabilities = model.predict_proba(features_test)\n",
    "probabilities_one = probabilities[:, 1]\n",
    "print(\"auc_roc:\", roc_auc_score(target_test, probabilities_one))\n",
    "print(\"F1:\", f1_score(target_test, test_predictions))"
   ]
  },
  {
   "cell_type": "code",
   "execution_count": 54,
   "id": "b10805b0",
   "metadata": {},
   "outputs": [
    {
     "name": "stdout",
     "output_type": "stream",
     "text": [
      "Recall: 0.6721698113207547\n",
      "Precision: 0.6063829787234043\n",
      "auc_roc: 0.8650018556651662\n",
      "F1: 0.6375838926174497\n"
     ]
    }
   ],
   "source": [
    "model_rf_1 = RandomForestClassifier(random_state=12345, max_depth=9, n_estimators=40, min_samples_leaf=1,\n",
    "                    min_samples_split=8, class_weight='balanced') \n",
    "model_rf_1.fit(features_train, target_train)   \n",
    "predictions_test = model_rf_1.predict(features_test) \n",
    "print(\"Recall:\",recall_score(target_test, predictions_test))\n",
    "print(\"Precision:\",precision_score(target_test, predictions_test))\n",
    "probabilities = model_rf_1.predict_proba(features_test)\n",
    "probabilities_one = probabilities[:, 1]\n",
    "print(\"auc_roc:\", roc_auc_score(target_test, probabilities_one))\n",
    "print(\"F1:\",f1_score(target_test, predictions_test))"
   ]
  },
  {
   "cell_type": "code",
   "execution_count": 55,
   "id": "d01768c3",
   "metadata": {},
   "outputs": [
    {
     "name": "stdout",
     "output_type": "stream",
     "text": [
      "Recall: 0.5094339622641509\n",
      "Precision: 0.6687306501547987\n",
      "auc_roc: 0.8146856443348338\n",
      "F1: 0.5783132530120483\n"
     ]
    }
   ],
   "source": [
    "model_dt = DecisionTreeClassifier(random_state=12345, max_depth=6, min_samples_leaf=8, min_samples_split=2,\n",
    "                                 class_weight={1:2, 0:1})\n",
    "model_dt.fit(features_train, target_train) \n",
    "predictions_test = model_dt.predict(features_test)               \n",
    "print(\"Recall:\",recall_score(target_test, predictions_test))\n",
    "print(\"Precision:\",precision_score(target_test, predictions_test))\n",
    "probabilities = model.predict_proba(features_test)\n",
    "probabilities_one = probabilities[:, 1]\n",
    "print(\"auc_roc:\", roc_auc_score(target_test, probabilities_one))\n",
    "print(\"F1:\",f1_score(target_test, predictions_test))"
   ]
  },
  {
   "cell_type": "code",
   "execution_count": 56,
   "id": "890568d7",
   "metadata": {},
   "outputs": [
    {
     "name": "stdout",
     "output_type": "stream",
     "text": [
      "Recall: 0.7004716981132075\n",
      "Precision: 0.39705882352941174\n",
      "auc_roc: 0.7729279403313858\n",
      "F1: 0.5068259385665529\n"
     ]
    }
   ],
   "source": [
    "model = LogisticRegression(random_state=12345, solver='liblinear', class_weight='balanced')\n",
    "model.fit(features_train, target_train) \n",
    "predictions_test = model.predict(features_test)\n",
    "print(\"Recall:\",recall_score(target_test, predictions_test))\n",
    "print(\"Precision:\",precision_score(target_test, predictions_test))\n",
    "probabilities = model.predict_proba(features_test)\n",
    "probabilities_one = probabilities[:, 1]\n",
    "print(\"auc_roc:\", roc_auc_score(target_test, probabilities_one))\n",
    "print(\"F1:\",f1_score(target_test, predictions_test))"
   ]
  },
  {
   "cell_type": "markdown",
   "id": "f70baa11",
   "metadata": {},
   "source": [
    "| Имя модели    | F1 class_weight='balanced'  | F1 upsampled   | F1 downsampled  |\n",
    "|:------------- |:---------------:| :------------- |:---------------:|\n",
    "| Случайный лес      | 0.62 | 0.62                 | 0.62 |\n",
    "| Решающее дерево        | 0.57        | 0.58        | 0.55       |\n",
    "| Логистическая регрессия | 0.50        | 0.50 | 0.51        |"
   ]
  },
  {
   "cell_type": "markdown",
   "id": "9791275b",
   "metadata": {},
   "source": [
    "Использование модели Случайный лес показывает лучшие результаты F1 = 0.62 и AUC ROC = 0.81."
   ]
  },
  {
   "cell_type": "code",
   "execution_count": 57,
   "id": "69d309c1",
   "metadata": {},
   "outputs": [
    {
     "data": {
      "text/plain": [
       "Age                  0.322863\n",
       "NumOfProducts        0.205211\n",
       "Balance              0.125508\n",
       "CreditScore          0.073245\n",
       "EstimatedSalary      0.071366\n",
       "IsActiveMember       0.066959\n",
       "Geography_Germany    0.041256\n",
       "Tenure               0.040478\n",
       "Gender_Male          0.020288\n",
       "Geography_France     0.012557\n",
       "Geography_Spain      0.010642\n",
       "HasCrCard            0.009626\n",
       "dtype: float64"
      ]
     },
     "execution_count": 57,
     "metadata": {},
     "output_type": "execute_result"
    }
   ],
   "source": [
    "feature_scores = pd.Series(model_rf_1.feature_importances_,\n",
    "                           index=features_train.columns).sort_values(ascending=False)\n",
    "\n",
    "feature_scores"
   ]
  },
  {
   "cell_type": "code",
   "execution_count": 58,
   "id": "9cdf057d",
   "metadata": {},
   "outputs": [
    {
     "data": {
      "image/png": "[encoded data removed]",
      "text/plain": [
       "<Figure size 600x400 with 1 Axes>"
      ]
     },
     "metadata": {},
     "output_type": "display_data"
    }
   ],
   "source": [
    "sorted_idx = model_rf_1.feature_importances_.argsort()\n",
    "plt.barh(features_train.columns[sorted_idx], model_rf_1.feature_importances_[sorted_idx])\n",
    "plt.xlabel(\"Random Forest Feature Importance\");"
   ]
  },
  {
   "cell_type": "markdown",
   "id": "0e87771c",
   "metadata": {},
   "source": [
    "Самые важные факторы при моделировании: возраст, количество продуктов банка, используемых клиентом и баланс на счёте."
   ]
  },
  {
   "cell_type": "code",
   "execution_count": null,
   "id": "76f1696b",
   "metadata": {},
   "outputs": [],
   "source": []
  }
 ],
 "metadata": {
  "kernelspec": {
   "display_name": "Python 3 (ipykernel)",
   "language": "python",
   "name": "python3"
  },
  "language_info": {
   "codemirror_mode": {
    "name": "ipython",
    "version": 3
   },
   "file_extension": ".py",
   "mimetype": "text/x-python",
   "name": "python",
   "nbconvert_exporter": "python",
   "pygments_lexer": "ipython3",
   "version": "3.9.12"
  },
  "toc": {
   "base_numbering": 1,
   "nav_menu": {},
   "number_sections": true,
   "sideBar": true,
   "skip_h1_title": false,
   "title_cell": "Table of Contents",
   "title_sidebar": "Contents",
   "toc_cell": false,
   "toc_position": {
    "height": "calc(100% - 180px)",
    "left": "10px",
    "top": "150px",
    "width": "345.764px"
   },
   "toc_section_display": true,
   "toc_window_display": true
  }
 },
 "nbformat": 4,
 "nbformat_minor": 5
}
