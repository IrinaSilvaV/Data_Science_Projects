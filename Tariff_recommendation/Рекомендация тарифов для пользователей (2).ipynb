{
 "cells": [
  {
   "cell_type": "markdown",
   "id": "9169afb1",
   "metadata": {},
   "source": [
    "## Рекомендация тарифов "
   ]
  },
  {
   "cell_type": "markdown",
   "id": "11407f37",
   "metadata": {},
   "source": [
    "**Цель исследования** — построить модель, которая подберёт подходящий тариф."
   ]
  },
  {
   "cell_type": "markdown",
   "id": "b42d6d9a",
   "metadata": {},
   "source": [
    "В нашем распоряжении данные о поведении клиентов, которые уже перешли на новые тарифы. Необходимо проанализировать поведение клиентов и предложить пользователям тариф: «Смарт» или «Ультра»."
   ]
  },
  {
   "cell_type": "markdown",
   "id": "71bf4bad",
   "metadata": {},
   "source": [
    "## Описание данных"
   ]
  },
  {
   "cell_type": "markdown",
   "id": "ed3c6a67",
   "metadata": {},
   "source": [
    "`сalls` — количество звонков <br>\n",
    "`minutes` — суммарная длительность звонков в минутах <br>\n",
    "`messages` — количество sms-сообщений <br>\n",
    "`mb_used` — израсходованный интернет-трафик в Мб <br>\n",
    "`is_ultra` — каким тарифом пользовался в течение месяца («Ультра» — 1, «Смарт» — 0)."
   ]
  },
  {
   "cell_type": "code",
   "execution_count": 1,
   "id": "f0f2d8cf",
   "metadata": {},
   "outputs": [],
   "source": [
    "import pandas as pd                     # импорт библиотек\n",
    "import numpy as np\n",
    "from sklearn.model_selection import train_test_split, GridSearchCV\n",
    "from sklearn.tree import DecisionTreeClassifier\n",
    "from sklearn.metrics import accuracy_score \n",
    "from sklearn.ensemble import RandomForestClassifier \n",
    "from sklearn.linear_model import LogisticRegression\n",
    "from sklearn.dummy import DummyClassifier"
   ]
  },
  {
   "cell_type": "code",
   "execution_count": 2,
   "id": "fb4f315d",
   "metadata": {},
   "outputs": [],
   "source": [
    "try:\n",
    "    df = pd.read_csv('/datasets/users_behavior.csv') # чтение файла с данными и сохранение в df\n",
    "except:\n",
    "    df = pd.read_csv('C:\\\\Users\\\\User\\\\Downloads\\\\users_behavior.csv')"
   ]
  },
  {
   "cell_type": "code",
   "execution_count": 3,
   "id": "43329e5f",
   "metadata": {},
   "outputs": [
    {
     "data": {
      "text/html": [
       "<div>\n",
       "<style scoped>\n",
       "    .dataframe tbody tr th:only-of-type {\n",
       "        vertical-align: middle;\n",
       "    }\n",
       "\n",
       "    .dataframe tbody tr th {\n",
       "        vertical-align: top;\n",
       "    }\n",
       "\n",
       "    .dataframe thead th {\n",
       "        text-align: right;\n",
       "    }\n",
       "</style>\n",
       "<table border=\"1\" class=\"dataframe\">\n",
       "  <thead>\n",
       "    <tr style=\"text-align: right;\">\n",
       "      <th></th>\n",
       "      <th>calls</th>\n",
       "      <th>minutes</th>\n",
       "      <th>messages</th>\n",
       "      <th>mb_used</th>\n",
       "      <th>is_ultra</th>\n",
       "    </tr>\n",
       "  </thead>\n",
       "  <tbody>\n",
       "    <tr>\n",
       "      <th>0</th>\n",
       "      <td>40.0</td>\n",
       "      <td>311.90</td>\n",
       "      <td>83.0</td>\n",
       "      <td>19915.42</td>\n",
       "      <td>0</td>\n",
       "    </tr>\n",
       "    <tr>\n",
       "      <th>1</th>\n",
       "      <td>85.0</td>\n",
       "      <td>516.75</td>\n",
       "      <td>56.0</td>\n",
       "      <td>22696.96</td>\n",
       "      <td>0</td>\n",
       "    </tr>\n",
       "    <tr>\n",
       "      <th>2</th>\n",
       "      <td>77.0</td>\n",
       "      <td>467.66</td>\n",
       "      <td>86.0</td>\n",
       "      <td>21060.45</td>\n",
       "      <td>0</td>\n",
       "    </tr>\n",
       "    <tr>\n",
       "      <th>3</th>\n",
       "      <td>106.0</td>\n",
       "      <td>745.53</td>\n",
       "      <td>81.0</td>\n",
       "      <td>8437.39</td>\n",
       "      <td>1</td>\n",
       "    </tr>\n",
       "    <tr>\n",
       "      <th>4</th>\n",
       "      <td>66.0</td>\n",
       "      <td>418.74</td>\n",
       "      <td>1.0</td>\n",
       "      <td>14502.75</td>\n",
       "      <td>0</td>\n",
       "    </tr>\n",
       "    <tr>\n",
       "      <th>...</th>\n",
       "      <td>...</td>\n",
       "      <td>...</td>\n",
       "      <td>...</td>\n",
       "      <td>...</td>\n",
       "      <td>...</td>\n",
       "    </tr>\n",
       "    <tr>\n",
       "      <th>3209</th>\n",
       "      <td>122.0</td>\n",
       "      <td>910.98</td>\n",
       "      <td>20.0</td>\n",
       "      <td>35124.90</td>\n",
       "      <td>1</td>\n",
       "    </tr>\n",
       "    <tr>\n",
       "      <th>3210</th>\n",
       "      <td>25.0</td>\n",
       "      <td>190.36</td>\n",
       "      <td>0.0</td>\n",
       "      <td>3275.61</td>\n",
       "      <td>0</td>\n",
       "    </tr>\n",
       "    <tr>\n",
       "      <th>3211</th>\n",
       "      <td>97.0</td>\n",
       "      <td>634.44</td>\n",
       "      <td>70.0</td>\n",
       "      <td>13974.06</td>\n",
       "      <td>0</td>\n",
       "    </tr>\n",
       "    <tr>\n",
       "      <th>3212</th>\n",
       "      <td>64.0</td>\n",
       "      <td>462.32</td>\n",
       "      <td>90.0</td>\n",
       "      <td>31239.78</td>\n",
       "      <td>0</td>\n",
       "    </tr>\n",
       "    <tr>\n",
       "      <th>3213</th>\n",
       "      <td>80.0</td>\n",
       "      <td>566.09</td>\n",
       "      <td>6.0</td>\n",
       "      <td>29480.52</td>\n",
       "      <td>1</td>\n",
       "    </tr>\n",
       "  </tbody>\n",
       "</table>\n",
       "<p>3214 rows × 5 columns</p>\n",
       "</div>"
      ],
      "text/plain": [
       "      calls  minutes  messages   mb_used  is_ultra\n",
       "0      40.0   311.90      83.0  19915.42         0\n",
       "1      85.0   516.75      56.0  22696.96         0\n",
       "2      77.0   467.66      86.0  21060.45         0\n",
       "3     106.0   745.53      81.0   8437.39         1\n",
       "4      66.0   418.74       1.0  14502.75         0\n",
       "...     ...      ...       ...       ...       ...\n",
       "3209  122.0   910.98      20.0  35124.90         1\n",
       "3210   25.0   190.36       0.0   3275.61         0\n",
       "3211   97.0   634.44      70.0  13974.06         0\n",
       "3212   64.0   462.32      90.0  31239.78         0\n",
       "3213   80.0   566.09       6.0  29480.52         1\n",
       "\n",
       "[3214 rows x 5 columns]"
      ]
     },
     "execution_count": 3,
     "metadata": {},
     "output_type": "execute_result"
    }
   ],
   "source": [
    "df"
   ]
  },
  {
   "cell_type": "code",
   "execution_count": 4,
   "id": "f8a6d00c",
   "metadata": {},
   "outputs": [
    {
     "name": "stdout",
     "output_type": "stream",
     "text": [
      "<class 'pandas.core.frame.DataFrame'>\n",
      "RangeIndex: 3214 entries, 0 to 3213\n",
      "Data columns (total 5 columns):\n",
      " #   Column    Non-Null Count  Dtype  \n",
      "---  ------    --------------  -----  \n",
      " 0   calls     3214 non-null   float64\n",
      " 1   minutes   3214 non-null   float64\n",
      " 2   messages  3214 non-null   float64\n",
      " 3   mb_used   3214 non-null   float64\n",
      " 4   is_ultra  3214 non-null   int64  \n",
      "dtypes: float64(4), int64(1)\n",
      "memory usage: 125.7 KB\n"
     ]
    }
   ],
   "source": [
    "df.info() # в данных нет пропусков"
   ]
  },
  {
   "cell_type": "markdown",
   "id": "a019fa66",
   "metadata": {},
   "source": [
    "## Разделение выборок"
   ]
  },
  {
   "cell_type": "markdown",
   "id": "8c45a652",
   "metadata": {},
   "source": [
    "Для обучения модели разделим данные на три выборки - обучающую, валидационную и тестовую в соотношении 3:1:1. Используем параметр stratify для сохранения изначального распределения целевых меток."
   ]
  },
  {
   "cell_type": "code",
   "execution_count": 5,
   "id": "affe23fd",
   "metadata": {},
   "outputs": [],
   "source": [
    "df_train, df_valid = train_test_split(df, test_size=0.4, random_state=12345, stratify=df['is_ultra'])  # разделение выборок\n",
    "df_valid, df_test = train_test_split(df_valid, test_size=0.5, random_state=12345) # на обучающую, валидационную и тестовую"
   ]
  },
  {
   "cell_type": "code",
   "execution_count": 6,
   "id": "cf7b73e7",
   "metadata": {},
   "outputs": [
    {
     "name": "stdout",
     "output_type": "stream",
     "text": [
      "(1928, 4)\n",
      "(1928,)\n",
      "(643, 4)\n",
      "(643,)\n",
      "(643, 4)\n",
      "(643,)\n"
     ]
    }
   ],
   "source": [
    "features_train = df_train.drop(['is_ultra'], axis=1)     # признаки для обучающей выборки                        \n",
    "target_train = df_train['is_ultra']                      # целевой признак для обучающей выборки   \n",
    "\n",
    "features_valid = df_valid.drop(['is_ultra'], axis=1)     # признаки для валидационной выборки \n",
    "target_valid = df_valid['is_ultra']                      # целевой признак для валидационной выборки \n",
    "\n",
    "features_test = df_test.drop(['is_ultra'], axis=1)       # признаки для тестовой выборки \n",
    "target_test = df_test['is_ultra']                        # целевой признак для тестовой выборки \n",
    "\n",
    "print(features_train.shape)    # размер выборок\n",
    "print(target_train.shape)\n",
    "print(features_valid.shape)\n",
    "print(target_valid.shape)\n",
    "print(features_test.shape)\n",
    "print(target_test.shape)\n"
   ]
  },
  {
   "cell_type": "code",
   "execution_count": 7,
   "id": "54d6ff95",
   "metadata": {},
   "outputs": [
    {
     "name": "stdout",
     "output_type": "stream",
     "text": [
      "Количество строк в target_train по классам: [1337  591]\n",
      "Количество строк в target_valid по классам: [445 198]\n",
      "Количество строк в target_test по классам: [447 196]\n"
     ]
    }
   ],
   "source": [
    "print(f\"Количество строк в target_train по классам: {np.bincount(target_train)}\") # проверим равномерно ли разбиты данные \n",
    "print(f\"Количество строк в target_valid по классам: {np.bincount(target_valid)}\")  # по классам\n",
    "print(f\"Количество строк в target_test по классам: {np.bincount(target_test)}\")"
   ]
  },
  {
   "cell_type": "markdown",
   "id": "70f69a06",
   "metadata": {},
   "source": [
    "## Исследование моделей"
   ]
  },
  {
   "cell_type": "markdown",
   "id": "53e419df",
   "metadata": {},
   "source": [
    "### Решающее дерево"
   ]
  },
  {
   "cell_type": "code",
   "execution_count": 8,
   "id": "46a87e25",
   "metadata": {},
   "outputs": [],
   "source": [
    "model_1 = DecisionTreeClassifier(random_state=12345)"
   ]
  },
  {
   "cell_type": "code",
   "execution_count": 9,
   "id": "0c55c449",
   "metadata": {},
   "outputs": [],
   "source": [
    "parametrs = { 'max_depth': range (1,15, 1),  # параметры для поиска лучшей модели\n",
    "              'min_samples_leaf': range (1,10),\n",
    "              'min_samples_split': range (2,10,2)}"
   ]
  },
  {
   "cell_type": "code",
   "execution_count": 10,
   "id": "aa1c1ca6",
   "metadata": {},
   "outputs": [
    {
     "data": {
      "text/plain": [
       "GridSearchCV(cv=5, estimator=DecisionTreeClassifier(random_state=12345),\n",
       "             param_grid={'max_depth': range(1, 15),\n",
       "                         'min_samples_leaf': range(1, 10),\n",
       "                         'min_samples_split': range(2, 10, 2)})"
      ]
     },
     "execution_count": 10,
     "metadata": {},
     "output_type": "execute_result"
    }
   ],
   "source": [
    "grid_tree = GridSearchCV(model_1, parametrs, cv=5)   \n",
    "grid_tree.fit(features_train, target_train)"
   ]
  },
  {
   "cell_type": "code",
   "execution_count": 11,
   "id": "c5750f4d",
   "metadata": {},
   "outputs": [
    {
     "data": {
      "text/plain": [
       "{'max_depth': 6, 'min_samples_leaf': 7, 'min_samples_split': 2}"
      ]
     },
     "execution_count": 11,
     "metadata": {},
     "output_type": "execute_result"
    }
   ],
   "source": [
    "grid_tree.best_params_   # выводим результат с лучшими параметрами"
   ]
  },
  {
   "cell_type": "code",
   "execution_count": 12,
   "id": "f626520b",
   "metadata": {},
   "outputs": [
    {
     "name": "stdout",
     "output_type": "stream",
     "text": [
      "0.7869362363919129\n"
     ]
    }
   ],
   "source": [
    "model = DecisionTreeClassifier(random_state=12345, max_depth=6, min_samples_leaf=7, min_samples_split=2)\n",
    "model.fit(features_train, target_train) # обучение  \n",
    "predictions_valid = model.predict(features_valid) # предсказания на валидационной выборке\n",
    "print(accuracy_score(target_valid, predictions_valid)) "
   ]
  },
  {
   "cell_type": "markdown",
   "id": "73fee192",
   "metadata": {},
   "source": [
    "Лучшее значение accuracy = 0.78 показывает модель со значениями max_depth = 6, min_samples_leaf = 7, min_samples_split = 2"
   ]
  },
  {
   "cell_type": "markdown",
   "id": "3d8d75bd",
   "metadata": {},
   "source": [
    "### Случайный лес"
   ]
  },
  {
   "cell_type": "code",
   "execution_count": 13,
   "id": "eb294e20",
   "metadata": {
    "scrolled": true
   },
   "outputs": [],
   "source": [
    "model_rf = RandomForestClassifier(random_state=12345)"
   ]
  },
  {
   "cell_type": "code",
   "execution_count": 14,
   "id": "bf729cef",
   "metadata": {},
   "outputs": [],
   "source": [
    "parametrs = { 'n_estimators': range (10, 51, 10),   # параметры для поиска лучшей модели\n",
    "              'max_depth': range (1,13, 2),\n",
    "              'min_samples_leaf': range (1,8),\n",
    "              'min_samples_split': range (2,10,2) }"
   ]
  },
  {
   "cell_type": "code",
   "execution_count": 15,
   "id": "907feaaf",
   "metadata": {},
   "outputs": [
    {
     "data": {
      "text/plain": [
       "GridSearchCV(cv=5, estimator=RandomForestClassifier(random_state=12345),\n",
       "             param_grid={'max_depth': range(1, 13, 2),\n",
       "                         'min_samples_leaf': range(1, 8),\n",
       "                         'min_samples_split': range(2, 10, 2),\n",
       "                         'n_estimators': range(10, 51, 10)})"
      ]
     },
     "execution_count": 15,
     "metadata": {},
     "output_type": "execute_result"
    }
   ],
   "source": [
    "grid = GridSearchCV(model_rf, parametrs, cv=5)   \n",
    "grid.fit(features_train, target_train)"
   ]
  },
  {
   "cell_type": "code",
   "execution_count": 16,
   "id": "be0e2962",
   "metadata": {},
   "outputs": [
    {
     "data": {
      "text/plain": [
       "{'max_depth': 9,\n",
       " 'min_samples_leaf': 2,\n",
       " 'min_samples_split': 2,\n",
       " 'n_estimators': 10}"
      ]
     },
     "execution_count": 16,
     "metadata": {},
     "output_type": "execute_result"
    }
   ],
   "source": [
    "grid.best_params_   # выводим результат с лучшими параметрами"
   ]
  },
  {
   "cell_type": "code",
   "execution_count": 17,
   "id": "d137d3e5",
   "metadata": {},
   "outputs": [
    {
     "name": "stdout",
     "output_type": "stream",
     "text": [
      "0.8102643856920684\n"
     ]
    }
   ],
   "source": [
    "# обучение модели с лучшими параметрами\n",
    "model_RandomForest = RandomForestClassifier(random_state=12345, max_depth=9, n_estimators=10, min_samples_leaf=2,\n",
    "                    min_samples_split=2) \n",
    "model_RandomForest.fit(features_train, target_train) # обучение  \n",
    "predictions_valid = model_RandomForest.predict(features_valid) # предсказания на валидационной выборке\n",
    "print(accuracy_score(target_valid, predictions_valid))"
   ]
  },
  {
   "cell_type": "markdown",
   "id": "0cb23bff",
   "metadata": {},
   "source": [
    "Лучшее значение accuracy_score равное 0,81 достигается при n_estimators = 10, max_depth = 9, min_samples_leaf = 2, min_samples_split = 2."
   ]
  },
  {
   "cell_type": "markdown",
   "id": "0c27c07d",
   "metadata": {},
   "source": [
    "### Логистическая регрессия"
   ]
  },
  {
   "cell_type": "code",
   "execution_count": 18,
   "id": "3c69d719",
   "metadata": {},
   "outputs": [],
   "source": [
    "model_lr = LogisticRegression(random_state=12345) "
   ]
  },
  {
   "cell_type": "code",
   "execution_count": 19,
   "id": "3353f632",
   "metadata": {},
   "outputs": [],
   "source": [
    "parametrs = { 'max_iter': [100, 1001, 1000],   # параметры для поиска лучшей модели\n",
    "              'C': [0.001, 0.01, 0.1, 1, 10, 100, 1000] }"
   ]
  },
  {
   "cell_type": "code",
   "execution_count": 20,
   "id": "3f061b4d",
   "metadata": {},
   "outputs": [
    {
     "data": {
      "text/plain": [
       "GridSearchCV(estimator=LogisticRegression(random_state=12345),\n",
       "             param_grid={'C': [0.001, 0.01, 0.1, 1, 10, 100, 1000],\n",
       "                         'max_iter': [100, 1001, 1000]})"
      ]
     },
     "execution_count": 20,
     "metadata": {},
     "output_type": "execute_result"
    }
   ],
   "source": [
    "grid = GridSearchCV(model_lr, parametrs)   \n",
    "grid.fit(features_train, target_train)"
   ]
  },
  {
   "cell_type": "code",
   "execution_count": 21,
   "id": "19ab6331",
   "metadata": {},
   "outputs": [
    {
     "data": {
      "text/plain": [
       "{'C': 0.1, 'max_iter': 100}"
      ]
     },
     "execution_count": 21,
     "metadata": {},
     "output_type": "execute_result"
    }
   ],
   "source": [
    "grid.best_params_ # выводим результат с лучшими параметрами"
   ]
  },
  {
   "cell_type": "code",
   "execution_count": 22,
   "id": "3403bc4f",
   "metadata": {},
   "outputs": [
    {
     "name": "stdout",
     "output_type": "stream",
     "text": [
      "0.7371695178849145\n"
     ]
    }
   ],
   "source": [
    "model_LogisticRegression = LogisticRegression(random_state=12345, max_iter=100, C=0.1) \n",
    "model_LogisticRegression.fit(features_train, target_train) #  обучение модели\n",
    "LogisticRegression_predict = model_LogisticRegression.predict(features_valid)#предсказания на валидационной выборке\n",
    "print(model_LogisticRegression.score(features_valid, target_valid))"
   ]
  },
  {
   "cell_type": "markdown",
   "id": "a27b00ee",
   "metadata": {},
   "source": [
    "Лучшее значение accuracy равное 0.73 достигается при значении C = 0.1, max_iter = 100"
   ]
  },
  {
   "cell_type": "markdown",
   "id": "6ef4f399",
   "metadata": {},
   "source": [
    "## Проверка на тестовой выборке"
   ]
  },
  {
   "cell_type": "markdown",
   "id": "b7f0e16a",
   "metadata": {},
   "source": [
    "Проверка решающего дерева на тестовой выборке. "
   ]
  },
  {
   "cell_type": "code",
   "execution_count": 23,
   "id": "d8f7b4bd",
   "metadata": {},
   "outputs": [
    {
     "data": {
      "text/plain": [
       "0.7807153965785381"
      ]
     },
     "execution_count": 23,
     "metadata": {},
     "output_type": "execute_result"
    }
   ],
   "source": [
    "model = DecisionTreeClassifier(random_state=12345, max_depth=6, min_samples_leaf=7, min_samples_split=2)\n",
    "model.fit(features_train, target_train) \n",
    "test_predictions = model.predict(features_test)\n",
    "accuracy_test = accuracy_score(target_test.values, test_predictions)\n",
    "accuracy_test"
   ]
  },
  {
   "cell_type": "markdown",
   "id": "059d543f",
   "metadata": {},
   "source": [
    "Проверка случайного леса на тестовой выборке."
   ]
  },
  {
   "cell_type": "code",
   "execution_count": 24,
   "id": "6e3d76c1",
   "metadata": {},
   "outputs": [
    {
     "data": {
      "text/plain": [
       "0.8118195956454122"
      ]
     },
     "execution_count": 24,
     "metadata": {},
     "output_type": "execute_result"
    }
   ],
   "source": [
    "model_RandomForest = RandomForestClassifier(random_state=12345, max_depth=9, n_estimators=10, min_samples_leaf=2,\n",
    "                    min_samples_split=2)\n",
    "model_RandomForest.fit(features_train, target_train) \n",
    "test_predictions = model_RandomForest.predict(features_test)\n",
    "accuracy_test = accuracy_score(target_test.values, test_predictions)\n",
    "accuracy_test "
   ]
  },
  {
   "cell_type": "markdown",
   "id": "545b88ac",
   "metadata": {},
   "source": [
    "Проверка логистической регрессии на тестовой выборке."
   ]
  },
  {
   "cell_type": "code",
   "execution_count": 25,
   "id": "377a89b3",
   "metadata": {},
   "outputs": [
    {
     "data": {
      "text/plain": [
       "0.7480559875583204"
      ]
     },
     "execution_count": 25,
     "metadata": {},
     "output_type": "execute_result"
    }
   ],
   "source": [
    "model_LogisticRegression = LogisticRegression(random_state=12345, max_iter=100, C=0.1)\n",
    "model_LogisticRegression.fit(features_train, target_train) \n",
    "test_predictions = model_LogisticRegression.predict(features_test)\n",
    "accuracy_test = accuracy_score(target_test.values, test_predictions)\n",
    "accuracy_test"
   ]
  },
  {
   "cell_type": "markdown",
   "id": "4c51c0f0",
   "metadata": {},
   "source": [
    "Самое высокое значение accuracy = 0.81 на тестовой выборке у модели случайного леса."
   ]
  },
  {
   "cell_type": "markdown",
   "id": "bbf0de19",
   "metadata": {},
   "source": [
    "Значения accuracy для весх моделей на обучающей и валидационной выборках примерно равны."
   ]
  },
  {
   "cell_type": "markdown",
   "id": "4209a103",
   "metadata": {},
   "source": [
    "## Проверка на вменяемость"
   ]
  },
  {
   "cell_type": "markdown",
   "id": "b190a5cb",
   "metadata": {},
   "source": [
    "Проверим на тренировочных данных заполнение ответом \"Смарт\"."
   ]
  },
  {
   "cell_type": "code",
   "execution_count": 26,
   "id": "52687756",
   "metadata": {},
   "outputs": [
    {
     "data": {
      "text/plain": [
       "0.6934647302904564"
      ]
     },
     "execution_count": 26,
     "metadata": {},
     "output_type": "execute_result"
    }
   ],
   "source": [
    "dummy_clf = DummyClassifier(strategy = \"constant\", random_state=12345, constant=[0])\n",
    "dummy_clf.fit(features_train, target_train)\n",
    "\n",
    "dummy_clf.predict(features_train)\n",
    "\n",
    "dummy_clf.score(features_train, target_train)"
   ]
  },
  {
   "cell_type": "markdown",
   "id": "052c4c80",
   "metadata": {},
   "source": [
    "Проверим на тренировочных данных заполнение случайными ответами."
   ]
  },
  {
   "cell_type": "code",
   "execution_count": 27,
   "id": "fb2f5fb0",
   "metadata": {},
   "outputs": [
    {
     "data": {
      "text/plain": [
       "0.4880705394190871"
      ]
     },
     "execution_count": 27,
     "metadata": {},
     "output_type": "execute_result"
    }
   ],
   "source": [
    "dummy_clf = DummyClassifier(strategy = \"uniform\", random_state=12345)\n",
    "dummy_clf.fit(features_train, target_train)\n",
    "\n",
    "dummy_clf.predict(features_train)\n",
    "\n",
    "dummy_clf.score(features_train, target_train)"
   ]
  },
  {
   "cell_type": "markdown",
   "id": "40be3c70",
   "metadata": {},
   "source": [
    "Проверка на вменяемость показала, что модели Случайный лес и Решающее дерево предсказывают лучше, чем заполнение случайными данными или частотным значением. "
   ]
  },
  {
   "cell_type": "markdown",
   "id": "2a8220c9",
   "metadata": {},
   "source": [
    "| Имя модели    | Значение accuracy        | \n",
    "|:------------- |:---------------:| \n",
    "| Случайный лес      | 0.81 | \n",
    "| Решающее дерево        | 0.78        | \n",
    "| Логистическая регрессия | 0.74        | "
   ]
  },
  {
   "cell_type": "markdown",
   "id": "32d1d017",
   "metadata": {},
   "source": [
    "Использование модели Случайный лес предпочтительнее."
   ]
  }
 ],
 "metadata": {
  "ExecuteTimeLog": [
   {
    "duration": 1084,
    "start_time": "2022-04-09T11:02:09.964Z"
   },
   {
    "duration": 13,
    "start_time": "2022-04-09T11:02:11.049Z"
   },
   {
    "duration": 21,
    "start_time": "2022-04-09T11:02:11.063Z"
   },
   {
    "duration": 11,
    "start_time": "2022-04-09T11:02:11.087Z"
   },
   {
    "duration": 6,
    "start_time": "2022-04-09T11:02:11.108Z"
   },
   {
    "duration": 8,
    "start_time": "2022-04-09T11:02:11.116Z"
   },
   {
    "duration": 85,
    "start_time": "2022-04-09T11:02:11.126Z"
   },
   {
    "duration": 244,
    "start_time": "2022-04-09T11:02:11.213Z"
   },
   {
    "duration": 127,
    "start_time": "2022-04-09T11:02:11.458Z"
   },
   {
    "duration": 24,
    "start_time": "2022-04-09T11:02:11.588Z"
   },
   {
    "duration": 42,
    "start_time": "2022-04-09T11:02:11.614Z"
   },
   {
    "duration": 25,
    "start_time": "2022-04-09T11:02:11.658Z"
   },
   {
    "duration": 28,
    "start_time": "2022-04-09T11:02:11.685Z"
   },
   {
    "duration": 6,
    "start_time": "2022-04-09T11:02:11.715Z"
   },
   {
    "duration": 1160,
    "start_time": "2022-04-09T12:11:53.681Z"
   },
   {
    "duration": 13,
    "start_time": "2022-04-09T12:11:54.843Z"
   },
   {
    "duration": 20,
    "start_time": "2022-04-09T12:11:54.857Z"
   },
   {
    "duration": 11,
    "start_time": "2022-04-09T12:11:54.879Z"
   },
   {
    "duration": 19,
    "start_time": "2022-04-09T12:11:54.892Z"
   },
   {
    "duration": 8,
    "start_time": "2022-04-09T12:11:54.913Z"
   },
   {
    "duration": 66,
    "start_time": "2022-04-09T12:11:54.922Z"
   },
   {
    "duration": 243,
    "start_time": "2022-04-09T12:11:54.990Z"
   },
   {
    "duration": 109,
    "start_time": "2022-04-09T12:11:55.234Z"
   },
   {
    "duration": 9,
    "start_time": "2022-04-09T12:11:55.345Z"
   },
   {
    "duration": 60,
    "start_time": "2022-04-09T12:11:55.356Z"
   },
   {
    "duration": 24,
    "start_time": "2022-04-09T12:11:55.417Z"
   },
   {
    "duration": 6,
    "start_time": "2022-04-09T12:11:55.443Z"
   },
   {
    "duration": 5,
    "start_time": "2022-04-09T12:11:55.451Z"
   }
  ],
  "kernelspec": {
   "display_name": "Python 3 (ipykernel)",
   "language": "python",
   "name": "python3"
  },
  "language_info": {
   "codemirror_mode": {
    "name": "ipython",
    "version": 3
   },
   "file_extension": ".py",
   "mimetype": "text/x-python",
   "name": "python",
   "nbconvert_exporter": "python",
   "pygments_lexer": "ipython3",
   "version": "3.9.12"
  },
  "toc": {
   "base_numbering": 1,
   "nav_menu": {},
   "number_sections": true,
   "sideBar": true,
   "skip_h1_title": false,
   "title_cell": "Table of Contents",
   "title_sidebar": "Contents",
   "toc_cell": false,
   "toc_position": {
    "height": "calc(100% - 180px)",
    "left": "10px",
    "top": "150px",
    "width": "303.542px"
   },
   "toc_section_display": true,
   "toc_window_display": true
  }
 },
 "nbformat": 4,
 "nbformat_minor": 5
}
