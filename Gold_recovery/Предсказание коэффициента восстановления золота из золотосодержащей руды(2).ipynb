{
 "cells": [
  {
   "cell_type": "markdown",
   "id": "1263971b",
   "metadata": {},
   "source": [
    "# Восстановление золота из руды"
   ]
  },
  {
   "cell_type": "markdown",
   "id": "fcd59129",
   "metadata": {},
   "source": [
    "\n",
    "Подготовим модель, которая  поможет оптимизировать производство, чтобы не запускать предприятие с убыточными характеристиками.\n",
    "\n",
    "Необходимо предсказать коэффициент восстановления золота из золотосодержащей руды.\n"
   ]
  },
  {
   "cell_type": "markdown",
   "id": "fc7c00db",
   "metadata": {},
   "source": [
    "Данные находятся в трёх файлах:<br>\n",
    "gold_recovery_train_new.csv — обучающая выборка;<br>\n",
    "gold_recovery_test_new.csv — тестовая выборка;<br>\n",
    "gold_recovery_full_new.csv — исходные данные.<br>"
   ]
  },
  {
   "cell_type": "code",
   "execution_count": 1,
   "id": "b9eee048",
   "metadata": {},
   "outputs": [],
   "source": [
    "import pandas as pd                     # импорт библиотек\n",
    "import numpy as np\n",
    "import seaborn as sns\n",
    "from sklearn.model_selection import train_test_split, cross_val_score, GridSearchCV\n",
    "from sklearn.linear_model import LinearRegression\n",
    "from sklearn.metrics import accuracy_score, mean_squared_error, r2_score, fbeta_score, make_scorer\n",
    "import sweetviz as sv\n",
    "from scipy import stats as st\n",
    "from matplotlib import pyplot as plt\n",
    "from sklearn.ensemble import RandomForestRegressor\n",
    "from sklearn.dummy import DummyRegressor\n",
    "from sklearn.impute import KNNImputer\n",
    "from sklearn.preprocessing import StandardScaler\n",
    "from sklearn.pipeline import make_pipeline, Pipeline\n",
    "from sklearn import linear_model  "
   ]
  },
  {
   "cell_type": "code",
   "execution_count": null,
   "id": "e08859f9",
   "metadata": {},
   "outputs": [],
   "source": [
    "import warnings\n",
    "warnings.filterwarnings('ignore')"
   ]
  },
  {
   "cell_type": "code",
   "execution_count": 2,
   "id": "9a4770a5",
   "metadata": {},
   "outputs": [],
   "source": [
    "try:\n",
    "    gold_recovery_full_new = pd.read_csv('/datasets/gold_recovery_full_new.csv') \n",
    "except:\n",
    "    gold_recovery_full_new = pd.read_csv('C:\\\\Users\\\\User\\\\Downloads\\\\gold_recovery_full_new.csv')"
   ]
  },
  {
   "cell_type": "code",
   "execution_count": 3,
   "id": "b3f80df9",
   "metadata": {},
   "outputs": [],
   "source": [
    "try:\n",
    "    gold_recovery_test_new = pd.read_csv('/datasets/gold_recovery_test_new.csv') \n",
    "except:\n",
    "    gold_recovery_test_new = pd.read_csv('C:\\\\Users\\\\User\\\\Downloads\\\\gold_recovery_test_new.csv')"
   ]
  },
  {
   "cell_type": "code",
   "execution_count": 4,
   "id": "f5979c11",
   "metadata": {},
   "outputs": [],
   "source": [
    "try:\n",
    "    gold_recovery_train_new = pd.read_csv('/datasets/gold_recovery_train_new.csv') \n",
    "except:\n",
    "    gold_recovery_train_new = pd.read_csv('C:\\\\Users\\\\User\\\\Downloads\\\\gold_recovery_train_new.csv')"
   ]
  },
  {
   "cell_type": "code",
   "execution_count": 5,
   "id": "7d55a9fe",
   "metadata": {},
   "outputs": [],
   "source": [
    "full = sv.analyze([gold_recovery_full_new ,'gold_recovery_full'])\n",
    "full.show_html('common analysis.html')"
   ]
  },
  {
   "cell_type": "code",
   "execution_count": 6,
   "id": "73a761b7",
   "metadata": {},
   "outputs": [],
   "source": [
    "test = sv.analyze([gold_recovery_test_new ,'gold_recovery_test'])\n",
    "test.show_html('common analysis.html')"
   ]
  },
  {
   "cell_type": "code",
   "execution_count": 7,
   "id": "e2595ada",
   "metadata": {},
   "outputs": [],
   "source": [
    "train = sv.analyze([gold_recovery_train_new ,'gold_recovery_train'])\n",
    "train.show_html('common analysis.html')"
   ]
  },
  {
   "cell_type": "markdown",
   "id": "c3b6078f",
   "metadata": {},
   "source": [
    "В исходных данных и обучающей выборке 87 признаков. В тестовой 53 колонки с прзнаками. Во всех выборках есть отсутствующие значения.\n"
   ]
  },
  {
   "cell_type": "markdown",
   "id": "b1c89446",
   "metadata": {},
   "source": [
    "## Подготовка данных"
   ]
  },
  {
   "cell_type": "markdown",
   "id": "3da30638",
   "metadata": {},
   "source": [
    "Проверим правильность расчета эффективности обогащения на обучающей выборке."
   ]
  },
  {
   "cell_type": "markdown",
   "id": "8f976465",
   "metadata": {},
   "source": [
    "$Recovery = \\frac{C \\times (F - T)}{F \\times (C - T)} \\times 100\\%$\n",
    "*Где:*<br>\n",
    "    - C — доля золота в концентрате после флотации/очистки;\n",
    "    - F — доля золота в сырье/концентрате до флотации/очистки;\n",
    "    - T — доля золота в отвальных хвостах после флотации/очистки."
   ]
  },
  {
   "cell_type": "code",
   "execution_count": 8,
   "id": "ece522b3",
   "metadata": {},
   "outputs": [],
   "source": [
    "# расчёт эффективности обогащения золота на этапе флотации\n",
    "C = gold_recovery_train_new.loc[~gold_recovery_train_new['rougher.output.recovery'].isna(),\n",
    "                                'rougher.output.concentrate_au']\n",
    "F = gold_recovery_train_new.loc[~gold_recovery_train_new['rougher.output.recovery'].isna(), 'rougher.input.feed_au']\n",
    "T = gold_recovery_train_new.loc[~gold_recovery_train_new['rougher.output.recovery'].isna(), 'rougher.output.tail_au']\n",
    "recovery_calc = C * (F - T) / (F * (C - T)) * 100\n",
    "recovery_train = gold_recovery_train_new.loc[~gold_recovery_train_new['rougher.output.recovery'].isna(),\n",
    "                                                'rougher.output.recovery']"
   ]
  },
  {
   "cell_type": "markdown",
   "id": "dd0630ef",
   "metadata": {},
   "source": [
    "$sMAPE = \\frac{1}{N} \\sum\\limits _{i = 1} ^{N} \\frac{|y_i - \\hat{y}_i|}{|y_i| + |\\hat{y}_i| \\div 2} \\times 100\\%$ - формула расчета симметричного среднего абсолютного процентного отклонения."
   ]
  },
  {
   "cell_type": "code",
   "execution_count": 9,
   "id": "9f2e2f4f",
   "metadata": {},
   "outputs": [
    {
     "name": "stdout",
     "output_type": "stream",
     "text": [
      "1.1598012478556475e-14\n"
     ]
    }
   ],
   "source": [
    "# расчёт sMAPE \n",
    "y_calc = abs(recovery_train - recovery_calc)\n",
    "y_train = (abs(recovery_train) + abs(recovery_calc))/2\n",
    "N = len(recovery_train)\n",
    "smape_rough_rec = 1 / N * (y_calc / y_train).sum() * 100\n",
    "print(smape_rough_rec)"
   ]
  },
  {
   "cell_type": "markdown",
   "id": "4f121c85",
   "metadata": {},
   "source": [
    "Полученное значение sMAPE оказалось в достаточной степени маленьким, чтобы можно было утверждать, что параметр recovery посчитан верно. "
   ]
  },
  {
   "cell_type": "markdown",
   "id": "7c6d9231",
   "metadata": {},
   "source": [
    "**Анализ параметров недоступных в тестовой выборке**"
   ]
  },
  {
   "cell_type": "code",
   "execution_count": 10,
   "id": "20ec7fa5",
   "metadata": {},
   "outputs": [
    {
     "name": "stdout",
     "output_type": "stream",
     "text": [
      "final.output.concentrate_ag\n",
      "final.output.concentrate_pb\n",
      "final.output.concentrate_sol\n",
      "final.output.concentrate_au\n",
      "final.output.recovery\n",
      "final.output.tail_ag\n",
      "final.output.tail_pb\n",
      "final.output.tail_sol\n",
      "final.output.tail_au\n",
      "primary_cleaner.output.concentrate_ag\n",
      "primary_cleaner.output.concentrate_pb\n",
      "primary_cleaner.output.concentrate_sol\n",
      "primary_cleaner.output.concentrate_au\n",
      "primary_cleaner.output.tail_ag\n",
      "primary_cleaner.output.tail_pb\n",
      "primary_cleaner.output.tail_sol\n",
      "primary_cleaner.output.tail_au\n",
      "rougher.calculation.sulfate_to_au_concentrate\n",
      "rougher.calculation.floatbank10_sulfate_to_au_feed\n",
      "rougher.calculation.floatbank11_sulfate_to_au_feed\n",
      "rougher.calculation.au_pb_ratio\n",
      "rougher.output.concentrate_ag\n",
      "rougher.output.concentrate_pb\n",
      "rougher.output.concentrate_sol\n",
      "rougher.output.concentrate_au\n",
      "rougher.output.recovery\n",
      "rougher.output.tail_ag\n",
      "rougher.output.tail_pb\n",
      "rougher.output.tail_sol\n",
      "rougher.output.tail_au\n",
      "secondary_cleaner.output.tail_ag\n",
      "secondary_cleaner.output.tail_pb\n",
      "secondary_cleaner.output.tail_sol\n",
      "secondary_cleaner.output.tail_au\n"
     ]
    }
   ],
   "source": [
    "for column in gold_recovery_full_new.columns:\n",
    "    if column not in gold_recovery_test_new.columns:\n",
    "        print(column)  "
   ]
  },
  {
   "cell_type": "markdown",
   "id": "c84416ab",
   "metadata": {},
   "source": [
    "В тестовой выборке отсутствуют параметры продукта output и расчётные характеристики calculation на всех этапах. Так же отсутствует целевой признак recovery."
   ]
  },
  {
   "cell_type": "markdown",
   "id": "8d67041c",
   "metadata": {},
   "source": [
    "***Предобработка данных***"
   ]
  },
  {
   "cell_type": "markdown",
   "id": "b8429555",
   "metadata": {},
   "source": [
    "Подготовим признаки, которых нет в тестовой выборке для удаления."
   ]
  },
  {
   "cell_type": "code",
   "execution_count": 11,
   "id": "e6da8f46",
   "metadata": {},
   "outputs": [],
   "source": [
    "columns_to_drop = [\"date\", \"final.output.concentrate_ag\", \n",
    "     \"final.output.concentrate_pb\",\"final.output.concentrate_sol\",\"final.output.concentrate_au\",\n",
    "\"final.output.tail_ag\",\"final.output.tail_pb\",\"final.output.tail_sol\",\"final.output.tail_au\",\n",
    "\"primary_cleaner.output.concentrate_ag\", \"primary_cleaner.output.concentrate_pb\",\n",
    "\"primary_cleaner.output.concentrate_sol\", \"primary_cleaner.output.concentrate_au\", \"primary_cleaner.output.tail_ag\",\n",
    "\"primary_cleaner.output.tail_pb\",\"primary_cleaner.output.tail_sol\", \"primary_cleaner.output.tail_au\",\n",
    "\"rougher.calculation.sulfate_to_au_concentrate\", \"rougher.calculation.floatbank10_sulfate_to_au_feed\",\n",
    "\"rougher.calculation.floatbank11_sulfate_to_au_feed\", \"rougher.calculation.au_pb_ratio\",\"rougher.output.concentrate_ag\",\n",
    "\"rougher.output.concentrate_pb\", \"rougher.output.concentrate_sol\", \"rougher.output.concentrate_au\",\n",
    "\"rougher.output.tail_ag\", \"rougher.output.tail_pb\", \"rougher.output.tail_sol\", \"rougher.output.tail_au\",\n",
    "\"secondary_cleaner.output.tail_ag\", \"secondary_cleaner.output.tail_pb\", \"secondary_cleaner.output.tail_sol\",\n",
    "\"secondary_cleaner.output.tail_au\"]"
   ]
  },
  {
   "cell_type": "markdown",
   "id": "7d6a954e",
   "metadata": {},
   "source": [
    "***Заполнение пропусков***"
   ]
  },
  {
   "cell_type": "code",
   "execution_count": 12,
   "id": "bad9faad",
   "metadata": {},
   "outputs": [
    {
     "data": {
      "text/plain": [
       "date                                            0\n",
       "final.output.concentrate_ag                     1\n",
       "final.output.concentrate_pb                     1\n",
       "final.output.concentrate_sol                  211\n",
       "final.output.concentrate_au                     0\n",
       "                                             ... \n",
       "secondary_cleaner.state.floatbank5_a_level      1\n",
       "secondary_cleaner.state.floatbank5_b_air        1\n",
       "secondary_cleaner.state.floatbank5_b_level      1\n",
       "secondary_cleaner.state.floatbank6_a_air        2\n",
       "secondary_cleaner.state.floatbank6_a_level      1\n",
       "Length: 87, dtype: int64"
      ]
     },
     "execution_count": 12,
     "metadata": {},
     "output_type": "execute_result"
    }
   ],
   "source": [
    "gold_recovery_train_new.isna().sum() # количество пропусков в train"
   ]
  },
  {
   "cell_type": "code",
   "execution_count": 13,
   "id": "1fda4098",
   "metadata": {},
   "outputs": [
    {
     "data": {
      "text/plain": [
       "date                                            0\n",
       "final.output.concentrate_ag                     1\n",
       "final.output.concentrate_pb                     1\n",
       "final.output.concentrate_sol                  211\n",
       "final.output.concentrate_au                     0\n",
       "                                             ... \n",
       "secondary_cleaner.state.floatbank5_a_level      1\n",
       "secondary_cleaner.state.floatbank5_b_air        1\n",
       "secondary_cleaner.state.floatbank5_b_level      1\n",
       "secondary_cleaner.state.floatbank6_a_air        2\n",
       "secondary_cleaner.state.floatbank6_a_level      1\n",
       "Length: 87, dtype: int64"
      ]
     },
     "execution_count": 13,
     "metadata": {},
     "output_type": "execute_result"
    }
   ],
   "source": [
    "gold_recovery_full_new.isna().sum() # количество пропусков в full"
   ]
  },
  {
   "cell_type": "code",
   "execution_count": 14,
   "id": "dbd53b36",
   "metadata": {},
   "outputs": [
    {
     "data": {
      "text/plain": [
       "date                                           0\n",
       "primary_cleaner.input.sulfate                  4\n",
       "primary_cleaner.input.depressant               5\n",
       "primary_cleaner.input.feed_size                0\n",
       "primary_cleaner.input.xanthate                 4\n",
       "primary_cleaner.state.floatbank8_a_air         0\n",
       "primary_cleaner.state.floatbank8_a_level       0\n",
       "primary_cleaner.state.floatbank8_b_air         0\n",
       "primary_cleaner.state.floatbank8_b_level       0\n",
       "primary_cleaner.state.floatbank8_c_air         0\n",
       "primary_cleaner.state.floatbank8_c_level       0\n",
       "primary_cleaner.state.floatbank8_d_air         0\n",
       "primary_cleaner.state.floatbank8_d_level       0\n",
       "rougher.input.feed_ag                          0\n",
       "rougher.input.feed_pb                          0\n",
       "rougher.input.feed_rate                        3\n",
       "rougher.input.feed_size                        1\n",
       "rougher.input.feed_sol                        21\n",
       "rougher.input.feed_au                          0\n",
       "rougher.input.floatbank10_sulfate              5\n",
       "rougher.input.floatbank10_xanthate             0\n",
       "rougher.input.floatbank11_sulfate              8\n",
       "rougher.input.floatbank11_xanthate            25\n",
       "rougher.state.floatbank10_a_air                0\n",
       "rougher.state.floatbank10_a_level              0\n",
       "rougher.state.floatbank10_b_air                0\n",
       "rougher.state.floatbank10_b_level              0\n",
       "rougher.state.floatbank10_c_air                0\n",
       "rougher.state.floatbank10_c_level              0\n",
       "rougher.state.floatbank10_d_air                0\n",
       "rougher.state.floatbank10_d_level              0\n",
       "rougher.state.floatbank10_e_air                0\n",
       "rougher.state.floatbank10_e_level              0\n",
       "rougher.state.floatbank10_f_air                0\n",
       "rougher.state.floatbank10_f_level              0\n",
       "secondary_cleaner.state.floatbank2_a_air       3\n",
       "secondary_cleaner.state.floatbank2_a_level     0\n",
       "secondary_cleaner.state.floatbank2_b_air       2\n",
       "secondary_cleaner.state.floatbank2_b_level     0\n",
       "secondary_cleaner.state.floatbank3_a_air       9\n",
       "secondary_cleaner.state.floatbank3_a_level     0\n",
       "secondary_cleaner.state.floatbank3_b_air       0\n",
       "secondary_cleaner.state.floatbank3_b_level     0\n",
       "secondary_cleaner.state.floatbank4_a_air       0\n",
       "secondary_cleaner.state.floatbank4_a_level     0\n",
       "secondary_cleaner.state.floatbank4_b_air       0\n",
       "secondary_cleaner.state.floatbank4_b_level     0\n",
       "secondary_cleaner.state.floatbank5_a_air       0\n",
       "secondary_cleaner.state.floatbank5_a_level     0\n",
       "secondary_cleaner.state.floatbank5_b_air       0\n",
       "secondary_cleaner.state.floatbank5_b_level     0\n",
       "secondary_cleaner.state.floatbank6_a_air       0\n",
       "secondary_cleaner.state.floatbank6_a_level     0\n",
       "dtype: int64"
      ]
     },
     "execution_count": 14,
     "metadata": {},
     "output_type": "execute_result"
    }
   ],
   "source": [
    "gold_recovery_test_new.isna().sum() # количество пропусков в test"
   ]
  },
  {
   "cell_type": "code",
   "execution_count": 15,
   "id": "caf4ed71",
   "metadata": {},
   "outputs": [],
   "source": [
    "# добавление recovery по дате\n",
    "test_target = gold_recovery_test_new.merge(gold_recovery_full_new.loc[:,  \n",
    "    ['date',\"rougher.output.recovery\",\"final.output.recovery\"]],on = 'date')"
   ]
  },
  {
   "cell_type": "code",
   "execution_count": 16,
   "id": "b582263c",
   "metadata": {},
   "outputs": [],
   "source": [
    "# заполнение отсутствуюших значений предыдущими\n",
    "gold_recovery_train_new = gold_recovery_train_new.fillna(method='ffill') "
   ]
  },
  {
   "cell_type": "code",
   "execution_count": 17,
   "id": "c4933c5d",
   "metadata": {},
   "outputs": [],
   "source": [
    "#gold_recovery_full_new = gold_recovery_full_new.fillna(method='ffill')"
   ]
  },
  {
   "cell_type": "code",
   "execution_count": 18,
   "id": "519580eb",
   "metadata": {},
   "outputs": [],
   "source": [
    "# заполнение отсутствуюших значений предыдущими\n",
    "test_target = test_target.fillna(method='ffill') "
   ]
  },
  {
   "cell_type": "markdown",
   "id": "e4f6e027",
   "metadata": {},
   "source": [
    "Отсутствующие значения заполнены методом ffill по предыдущим значениям. Столбец recovery в тестовой выборке заполнен по значениям в колонке date по исходным данным."
   ]
  },
  {
   "cell_type": "markdown",
   "id": "39c2e4d2",
   "metadata": {},
   "source": [
    "## Анализ данных"
   ]
  },
  {
   "cell_type": "markdown",
   "id": "5d32867c",
   "metadata": {},
   "source": [
    "Рассмотрим среднюю концентрацию металлов на каждом этапе очистки."
   ]
  },
  {
   "cell_type": "code",
   "execution_count": 19,
   "id": "26a9aab1",
   "metadata": {},
   "outputs": [
    {
     "name": "stdout",
     "output_type": "stream",
     "text": [
      "Средняя концентрация серебра после флотации: 11.994759359873452\n",
      "Средняя концентрация серебра после первой очистки: 8.442408077719056\n",
      "Средняя концентрация серебра после второй очистки: 5.168470373676826\n"
     ]
    }
   ],
   "source": [
    "print(\"Средняя концентрация серебра после флотации:\", gold_recovery_full_new[\"rougher.output.concentrate_ag\"].mean())\n",
    "print(\"Средняя концентрация серебра после первой очистки:\",\n",
    "      gold_recovery_full_new[\"primary_cleaner.output.concentrate_ag\"].mean())\n",
    "print(\"Средняя концентрация серебра после второй очистки:\",\n",
    "      gold_recovery_full_new[\"final.output.concentrate_ag\"].mean())"
   ]
  },
  {
   "cell_type": "code",
   "execution_count": 20,
   "id": "2d9d33f1",
   "metadata": {},
   "outputs": [
    {
     "name": "stdout",
     "output_type": "stream",
     "text": [
      "Средняя концентрация свинца после флотации: 7.606272313194984\n",
      "Средняя концентрация свинца после первой очистки: 9.829529774200587\n",
      "Средняя концентрация свинца после второй очистки: 9.978894911181714\n"
     ]
    }
   ],
   "source": [
    "print(\"Средняя концентрация свинца после флотации:\",gold_recovery_full_new[\"rougher.output.concentrate_pb\"].mean()) \n",
    "print(\"Средняя концентрация свинца после первой очистки:\",\n",
    "      gold_recovery_full_new[\"primary_cleaner.output.concentrate_pb\"].mean())               \n",
    "print(\"Средняя концентрация свинца после второй очистки:\",gold_recovery_full_new[\"final.output.concentrate_pb\"].mean()) "
   ]
  },
  {
   "cell_type": "code",
   "execution_count": 21,
   "id": "489f3072",
   "metadata": {},
   "outputs": [
    {
     "name": "stdout",
     "output_type": "stream",
     "text": [
      "Средняя концентрация золота после флотации: 19.772000139486334\n",
      "Средняя концентрация золота после первой очистки: 32.1194004078766\n",
      "Средняя концентрация золота после второй очистки: 44.076512941952664\n"
     ]
    }
   ],
   "source": [
    "print(\"Средняя концентрация золота после флотации:\",gold_recovery_full_new[\"rougher.output.concentrate_au\"].mean())\n",
    "print(\"Средняя концентрация золота после первой очистки:\",\n",
    "      gold_recovery_full_new[\"primary_cleaner.output.concentrate_au\"].mean())              \n",
    "print(\"Средняя концентрация золота после второй очистки:\",gold_recovery_full_new[\"final.output.concentrate_au\"].mean())"
   ]
  },
  {
   "cell_type": "markdown",
   "id": "ad82ad5e",
   "metadata": {},
   "source": [
    "Концентрация золота и свинца после каждого этапа очистки растет. Концентрация серебра падает."
   ]
  },
  {
   "cell_type": "code",
   "execution_count": 22,
   "id": "71128fee",
   "metadata": {},
   "outputs": [
    {
     "data": {
      "image/png": "[encoded data removed]",
      "text/plain": [
       "<Figure size 1080x360 with 1 Axes>"
      ]
     },
     "metadata": {
      "needs_background": "light"
     },
     "output_type": "display_data"
    }
   ],
   "source": [
    "plt.figure(figsize=(15, 5))\n",
    "plt.grid(True)\n",
    "plt.hist(gold_recovery_train_new[\"rougher.input.feed_size\"], bins=150, range=(0, 150), alpha=0.5, density=True)\n",
    "plt.hist(test_target[\"rougher.input.feed_size\"], bins=150, range=(0, 150), alpha=0.5, density=True)\n",
    "plt.legend(['train', 'test'])\n",
    "plt.xlabel('Размер гранул')\n",
    "plt.title('Размер гранул');"
   ]
  },
  {
   "cell_type": "code",
   "execution_count": 23,
   "id": "6d0b18ea",
   "metadata": {},
   "outputs": [
    {
     "name": "stdout",
     "output_type": "stream",
     "text": [
      "Средний размер гранул в обучающей выборке 60.23985599255736\n",
      "Средний размер гранул в тестовой выборке 55.95275402889511\n"
     ]
    }
   ],
   "source": [
    "print('Средний размер гранул в обучающей выборке', gold_recovery_train_new[\"rougher.input.feed_size\"].mean())\n",
    "print('Средний размер гранул в тестовой выборке', test_target[\"rougher.input.feed_size\"].mean())"
   ]
  },
  {
   "cell_type": "markdown",
   "id": "593deb92",
   "metadata": {},
   "source": [
    "Исследование суммарных концентраций веществ"
   ]
  },
  {
   "cell_type": "code",
   "execution_count": 24,
   "id": "12cefac5",
   "metadata": {},
   "outputs": [],
   "source": [
    "gold_recovery_train_new['feed'] = gold_recovery_train_new['rougher.input.feed_ag'] +\\\n",
    "gold_recovery_train_new['rougher.input.feed_pb'] +gold_recovery_train_new['rougher.input.feed_sol'] +\\\n",
    "gold_recovery_train_new['rougher.input.feed_au']\n",
    "gold_recovery_train_new['rougher'] = gold_recovery_train_new['rougher.output.concentrate_ag'] +\\\n",
    "gold_recovery_train_new['rougher.output.concentrate_pb'] + gold_recovery_train_new['rougher.output.concentrate_sol'] +\\\n",
    "gold_recovery_train_new['rougher.output.concentrate_au']\n",
    "gold_recovery_train_new['final'] = gold_recovery_train_new['final.output.concentrate_ag'] +\\\n",
    "gold_recovery_train_new['final.output.concentrate_pb'] +gold_recovery_train_new['final.output.concentrate_sol'] +\\\n",
    "gold_recovery_train_new['final.output.concentrate_au']"
   ]
  },
  {
   "cell_type": "code",
   "execution_count": 25,
   "id": "c5ef2b03",
   "metadata": {},
   "outputs": [
    {
     "data": {
      "image/png": "[encoded data removed]",
      "text/plain": [
       "<Figure size 1080x360 with 1 Axes>"
      ]
     },
     "metadata": {
      "needs_background": "light"
     },
     "output_type": "display_data"
    }
   ],
   "source": [
    "plt.figure(figsize=(15, 5)) # график суммарной концентрации веществ\n",
    "plt.grid(True)\n",
    "plt.hist(gold_recovery_train_new['feed'], bins=100, alpha=0.5)\n",
    "plt.hist(gold_recovery_train_new['rougher'], bins=100, alpha=0.5)\n",
    "plt.hist(gold_recovery_train_new['final'], bins=100, alpha=0.5)\n",
    "plt.legend(['feed', 'rougher', 'final'])\n",
    "plt.xlabel('Суммарная концентрация')\n",
    "plt.title('Суммарная концентрация веществ на разных стадиях');"
   ]
  },
  {
   "cell_type": "code",
   "execution_count": 26,
   "id": "837d428e",
   "metadata": {},
   "outputs": [],
   "source": [
    "gold_recovery_train_new = gold_recovery_train_new[gold_recovery_train_new['feed'] > 20].copy()\n",
    "gold_recovery_train_new = gold_recovery_train_new[gold_recovery_train_new['rougher'] > 20].copy()\n",
    "gold_recovery_train_new = gold_recovery_train_new[gold_recovery_train_new['final'] > 20].copy()"
   ]
  },
  {
   "cell_type": "markdown",
   "id": "de9d140b",
   "metadata": {},
   "source": [
    "Аномальными значениями являются значения около 0. Удалим значения меньше 20 из тренировочной выборки."
   ]
  },
  {
   "cell_type": "markdown",
   "id": "18a4e002",
   "metadata": {},
   "source": [
    "## Модель"
   ]
  },
  {
   "cell_type": "code",
   "execution_count": 27,
   "id": "7a690d7b",
   "metadata": {},
   "outputs": [],
   "source": [
    "# признаки для тестовой выборки\n",
    "test_target_features = test_target.drop([\"rougher.output.recovery\",\"final.output.recovery\"], axis=1)     \n",
    "test_target_rougher = test_target[\"rougher.output.recovery\"] # целевой признак для тестовой выборки\n",
    "test_target_final = test_target[\"final.output.recovery\"] # целевой признак для тестовой выборки"
   ]
  },
  {
   "cell_type": "code",
   "execution_count": 28,
   "id": "1bd1cfa2",
   "metadata": {},
   "outputs": [],
   "source": [
    "test_target_features = test_target_features.drop('date', axis=1) # удаление столбца date"
   ]
  },
  {
   "cell_type": "code",
   "execution_count": 29,
   "id": "d583dbc2",
   "metadata": {},
   "outputs": [],
   "source": [
    "# признаки для обучающей выборки\n",
    "gold_recovery_train = gold_recovery_train_new.drop([\"rougher.output.recovery\",\"final.output.recovery\"], axis=1)      \n",
    "train_target_rougher = gold_recovery_train_new[\"rougher.output.recovery\"] # целевой признак для обучающей выборки\n",
    "train_target_final = gold_recovery_train_new[\"final.output.recovery\"] # целевой признак для обучающей выборки"
   ]
  },
  {
   "cell_type": "code",
   "execution_count": 30,
   "id": "c89c27a9",
   "metadata": {},
   "outputs": [],
   "source": [
    "# удаление признаков отсутствующих в тестовой выборке\n",
    "gold_recovery_train = gold_recovery_train.drop(columns_to_drop, axis = 1)"
   ]
  },
  {
   "cell_type": "code",
   "execution_count": 31,
   "id": "81294ad8",
   "metadata": {},
   "outputs": [],
   "source": [
    "# удаление вспомогательных столбцов\n",
    "gold_recovery_train = gold_recovery_train.drop([\"feed\",\"rougher\",\"final\"], axis=1) "
   ]
  },
  {
   "cell_type": "code",
   "execution_count": 32,
   "id": "4309e07c",
   "metadata": {},
   "outputs": [],
   "source": [
    "# формула расчета симметричного среднего абсолютного процентного отклонения\n",
    "def sMAPE(target_true,target_pred):\n",
    "    error = np.mean(abs(target_true - target_pred)/((abs(target_true)+abs(target_pred))/2))*100\n",
    "    return error"
   ]
  },
  {
   "cell_type": "code",
   "execution_count": 33,
   "id": "e4d748e1",
   "metadata": {},
   "outputs": [],
   "source": [
    "def final_sMAPE(sMAPE_rougher,sMAPE_final): # итоговое sMAPE\n",
    "    return (0.25*sMAPE_rougher + 0.75*sMAPE_final)"
   ]
  },
  {
   "cell_type": "markdown",
   "id": "9cf9a6ee",
   "metadata": {},
   "source": [
    "**Обучим три модели: RandomForestRegressor, LinearRegression, linear_model.Lasso.**"
   ]
  },
  {
   "cell_type": "code",
   "execution_count": 34,
   "id": "8c75b117",
   "metadata": {},
   "outputs": [],
   "source": [
    "model_2 = make_pipeline(StandardScaler(),LinearRegression())\n",
    "model_3 = make_pipeline(StandardScaler(),linear_model.Lasso())"
   ]
  },
  {
   "cell_type": "code",
   "execution_count": 35,
   "id": "1838667a",
   "metadata": {},
   "outputs": [],
   "source": [
    "model_rf =RandomForestRegressor()"
   ]
  },
  {
   "cell_type": "code",
   "execution_count": 36,
   "id": "14b1ef8f",
   "metadata": {},
   "outputs": [],
   "source": [
    "scorer = make_scorer(sMAPE,greater_is_better=True)"
   ]
  },
  {
   "cell_type": "code",
   "execution_count": 37,
   "id": "14e2bca7",
   "metadata": {},
   "outputs": [],
   "source": [
    "parametrs = { 'n_estimators': range (10, 21, 10),   # параметры для поиска лучшей модели\n",
    "              'max_depth': range (1, 5, 2),\n",
    "              'min_samples_leaf': range (1,5),\n",
    "              'min_samples_split': range (2,5,2),\n",
    "            }"
   ]
  },
  {
   "cell_type": "code",
   "execution_count": 38,
   "id": "76cc4769",
   "metadata": {},
   "outputs": [
    {
     "data": {
      "text/plain": [
       "GridSearchCV(cv=5, estimator=RandomForestRegressor(),\n",
       "             param_grid={'max_depth': range(1, 5, 2),\n",
       "                         'min_samples_leaf': range(1, 5),\n",
       "                         'min_samples_split': range(2, 5, 2),\n",
       "                         'n_estimators': range(10, 21, 10)},\n",
       "             scoring=make_scorer(sMAPE))"
      ]
     },
     "execution_count": 38,
     "metadata": {},
     "output_type": "execute_result"
    }
   ],
   "source": [
    "grid = GridSearchCV(model_rf, parametrs, cv=5, scoring=scorer)   \n",
    "grid.fit(gold_recovery_train, train_target_rougher)"
   ]
  },
  {
   "cell_type": "code",
   "execution_count": 39,
   "id": "43f4bea5",
   "metadata": {},
   "outputs": [
    {
     "data": {
      "text/plain": [
       "{'max_depth': 1,\n",
       " 'min_samples_leaf': 4,\n",
       " 'min_samples_split': 4,\n",
       " 'n_estimators': 20}"
      ]
     },
     "execution_count": 39,
     "metadata": {},
     "output_type": "execute_result"
    }
   ],
   "source": [
    "grid.best_params_   # выводим результат с лучшими параметрами"
   ]
  },
  {
   "cell_type": "markdown",
   "id": "02619d95",
   "metadata": {},
   "source": [
    "{'max_depth': 1,\n",
    " 'min_samples_leaf': 4,\n",
    " 'min_samples_split': 4,\n",
    " 'n_estimators': 20}"
   ]
  },
  {
   "cell_type": "code",
   "execution_count": 40,
   "id": "5f211afc",
   "metadata": {},
   "outputs": [],
   "source": [
    "model_1 = RandomForestRegressor(max_depth = 1, min_samples_leaf = 4, min_samples_split = 4, n_estimators = 20)"
   ]
  },
  {
   "cell_type": "markdown",
   "id": "1d0e9bf0",
   "metadata": {},
   "source": [
    "RandomForestRegressor"
   ]
  },
  {
   "cell_type": "code",
   "execution_count": 41,
   "id": "708bf8ec",
   "metadata": {},
   "outputs": [
    {
     "name": "stdout",
     "output_type": "stream",
     "text": [
      "9.056312281219329\n"
     ]
    }
   ],
   "source": [
    "scorer = make_scorer(sMAPE,greater_is_better=True)\n",
    "cv_rougher = cross_val_score(model_1, gold_recovery_train, train_target_rougher, cv=5, scoring=scorer).mean()\n",
    "cv_final = cross_val_score(model_1, gold_recovery_train, train_target_final, cv=5, scoring=scorer).mean()\n",
    "result = final_sMAPE(cv_rougher, cv_final)\n",
    "print(result)"
   ]
  },
  {
   "cell_type": "markdown",
   "id": "1bed324e",
   "metadata": {},
   "source": [
    "LinearRegression"
   ]
  },
  {
   "cell_type": "code",
   "execution_count": 42,
   "id": "73ac1e53",
   "metadata": {},
   "outputs": [
    {
     "name": "stdout",
     "output_type": "stream",
     "text": [
      "9.957734217229937\n"
     ]
    }
   ],
   "source": [
    "cv_rougher = cross_val_score(model_2, gold_recovery_train, train_target_rougher, cv=5, scoring=scorer).mean()\n",
    "cv_final = cross_val_score(model_2, gold_recovery_train, train_target_final, cv=5, scoring=scorer).mean()\n",
    "result = final_sMAPE(cv_rougher, cv_final)\n",
    "print(result)"
   ]
  },
  {
   "cell_type": "markdown",
   "id": "d36c0a97",
   "metadata": {},
   "source": [
    "Linear_model.Lasso   "
   ]
  },
  {
   "cell_type": "code",
   "execution_count": 43,
   "id": "4a949554",
   "metadata": {},
   "outputs": [
    {
     "name": "stdout",
     "output_type": "stream",
     "text": [
      "8.62339468013344\n"
     ]
    }
   ],
   "source": [
    "scorer = make_scorer(sMAPE,greater_is_better=True)\n",
    "cv_rougher = cross_val_score(model_3, gold_recovery_train, train_target_rougher, cv=5, scoring=scorer).mean()\n",
    "cv_final = cross_val_score(model_3, gold_recovery_train, train_target_final, cv=5, scoring=scorer).mean()\n",
    "result = final_sMAPE(cv_rougher, cv_final)\n",
    "print(result)"
   ]
  },
  {
   "cell_type": "markdown",
   "id": "9f6d5c72",
   "metadata": {},
   "source": [
    "CatBoostRegressor"
   ]
  },
  {
   "cell_type": "code",
   "execution_count": 44,
   "id": "e21cb156",
   "metadata": {},
   "outputs": [],
   "source": [
    "from catboost import CatBoostRegressor\n",
    "cat = CatBoostRegressor(iterations=2,\n",
    "                          learning_rate=1,\n",
    "                          depth=1)"
   ]
  },
  {
   "cell_type": "code",
   "execution_count": 45,
   "id": "f215194f",
   "metadata": {},
   "outputs": [
    {
     "name": "stdout",
     "output_type": "stream",
     "text": [
      "0:\tlearn: 6.4112568\ttotal: 129ms\tremaining: 129ms\n",
      "1:\tlearn: 5.9292051\ttotal: 132ms\tremaining: 0us\n",
      "0:\tlearn: 6.9219441\ttotal: 3.87ms\tremaining: 3.87ms\n",
      "1:\tlearn: 6.4475700\ttotal: 7.43ms\tremaining: 0us\n",
      "0:\tlearn: 7.4066388\ttotal: 4.36ms\tremaining: 4.36ms\n",
      "1:\tlearn: 6.6065235\ttotal: 11.6ms\tremaining: 0us\n",
      "0:\tlearn: 7.1558518\ttotal: 3.6ms\tremaining: 3.6ms\n",
      "1:\tlearn: 6.5966596\ttotal: 6.83ms\tremaining: 0us\n",
      "0:\tlearn: 6.8165511\ttotal: 14.2ms\tremaining: 14.2ms\n",
      "1:\tlearn: 6.2892247\ttotal: 18.8ms\tremaining: 0us\n",
      "0:\tlearn: 8.5464669\ttotal: 3.26ms\tremaining: 3.26ms\n",
      "1:\tlearn: 8.2325905\ttotal: 6.57ms\tremaining: 0us\n",
      "0:\tlearn: 8.9048553\ttotal: 3.29ms\tremaining: 3.29ms\n",
      "1:\tlearn: 8.5881533\ttotal: 6.25ms\tremaining: 0us\n",
      "0:\tlearn: 8.5658286\ttotal: 3.31ms\tremaining: 3.31ms\n",
      "1:\tlearn: 8.2036987\ttotal: 6.55ms\tremaining: 0us\n",
      "0:\tlearn: 8.4960321\ttotal: 4.29ms\tremaining: 4.29ms\n",
      "1:\tlearn: 8.1353995\ttotal: 8.55ms\tremaining: 0us\n",
      "0:\tlearn: 8.3490401\ttotal: 11.4ms\tremaining: 11.4ms\n",
      "1:\tlearn: 8.0720490\ttotal: 21.4ms\tremaining: 0us\n",
      "9.042949678940703\n"
     ]
    }
   ],
   "source": [
    "scorer = make_scorer(sMAPE,greater_is_better=True)\n",
    "cv_rougher = cross_val_score(cat, gold_recovery_train, train_target_rougher, cv=5, scoring=scorer).mean()\n",
    "cv_final = cross_val_score(cat, gold_recovery_train, train_target_final, cv=5, scoring=scorer).mean()\n",
    "result = final_sMAPE(cv_rougher, cv_final)\n",
    "print(result)"
   ]
  },
  {
   "cell_type": "markdown",
   "id": "876604a4",
   "metadata": {},
   "source": [
    "**Проверим модели на тестовой выборке.**"
   ]
  },
  {
   "cell_type": "code",
   "execution_count": 46,
   "id": "96e3aead",
   "metadata": {},
   "outputs": [
    {
     "name": "stdout",
     "output_type": "stream",
     "text": [
      "11.062478377344835\n"
     ]
    }
   ],
   "source": [
    "cv_rougher = cross_val_score(model_2, test_target_features, test_target_rougher, cv=5, scoring=scorer).mean()\n",
    "cv_final = cross_val_score(model_2, test_target_features, test_target_final, cv=5, scoring=scorer).mean()\n",
    "result = final_sMAPE(cv_rougher, cv_final)\n",
    "print(result)"
   ]
  },
  {
   "cell_type": "code",
   "execution_count": 47,
   "id": "ed2f5016",
   "metadata": {},
   "outputs": [
    {
     "name": "stdout",
     "output_type": "stream",
     "text": [
      "9.67881932783447\n"
     ]
    }
   ],
   "source": [
    "cv_rougher = cross_val_score(model_1, test_target_features, test_target_rougher, cv=5, scoring=scorer).mean()\n",
    "cv_final = cross_val_score(model_1, test_target_features, test_target_final, cv=5, scoring=scorer).mean()\n",
    "result = final_sMAPE(cv_rougher, cv_final)\n",
    "print(result)"
   ]
  },
  {
   "cell_type": "code",
   "execution_count": 48,
   "id": "7ed42c46",
   "metadata": {},
   "outputs": [
    {
     "name": "stdout",
     "output_type": "stream",
     "text": [
      "9.086901048544291\n"
     ]
    }
   ],
   "source": [
    "cv_rougher = cross_val_score(model_3, test_target_features, test_target_rougher, cv=5, scoring=scorer).mean()\n",
    "cv_final = cross_val_score(model_3, test_target_features, test_target_final, cv=5, scoring=scorer).mean()\n",
    "result = final_sMAPE(cv_rougher, cv_final)\n",
    "print(result)"
   ]
  },
  {
   "cell_type": "code",
   "execution_count": 49,
   "id": "f276587a",
   "metadata": {},
   "outputs": [
    {
     "name": "stdout",
     "output_type": "stream",
     "text": [
      "0:\tlearn: 8.8152094\ttotal: 2.37ms\tremaining: 2.37ms\n",
      "1:\tlearn: 8.5611919\ttotal: 6.05ms\tremaining: 0us\n",
      "0:\tlearn: 12.3863817\ttotal: 3.13ms\tremaining: 3.13ms\n",
      "1:\tlearn: 12.1543262\ttotal: 5.39ms\tremaining: 0us\n",
      "0:\tlearn: 12.9266829\ttotal: 2.62ms\tremaining: 2.62ms\n",
      "1:\tlearn: 12.6463359\ttotal: 4.51ms\tremaining: 0us\n",
      "0:\tlearn: 12.7932126\ttotal: 1.93ms\tremaining: 1.93ms\n",
      "1:\tlearn: 12.4319636\ttotal: 4.71ms\tremaining: 0us\n",
      "0:\tlearn: 11.8151950\ttotal: 2.1ms\tremaining: 2.1ms\n",
      "1:\tlearn: 11.5638692\ttotal: 3.9ms\tremaining: 0us\n",
      "0:\tlearn: 9.3647442\ttotal: 1.85ms\tremaining: 1.85ms\n",
      "1:\tlearn: 9.1364311\ttotal: 3.63ms\tremaining: 0us\n",
      "0:\tlearn: 9.3808209\ttotal: 1.93ms\tremaining: 1.93ms\n",
      "1:\tlearn: 9.1136041\ttotal: 3.7ms\tremaining: 0us\n",
      "0:\tlearn: 9.3528571\ttotal: 3.58ms\tremaining: 3.58ms\n",
      "1:\tlearn: 9.1128664\ttotal: 7.28ms\tremaining: 0us\n",
      "0:\tlearn: 9.1389711\ttotal: 1.91ms\tremaining: 1.91ms\n",
      "1:\tlearn: 8.8780912\ttotal: 3.81ms\tremaining: 0us\n",
      "0:\tlearn: 8.3598711\ttotal: 1.85ms\tremaining: 1.85ms\n",
      "1:\tlearn: 8.1168834\ttotal: 3.58ms\tremaining: 0us\n",
      "10.003343077938533\n"
     ]
    }
   ],
   "source": [
    "scorer = make_scorer(sMAPE,greater_is_better=True)\n",
    "cv_rougher = cross_val_score(cat, test_target_features, test_target_rougher, cv=5, scoring=scorer).mean()\n",
    "cv_final = cross_val_score(cat, test_target_features, test_target_final, cv=5, scoring=scorer).mean()\n",
    "result = final_sMAPE(cv_rougher, cv_final)\n",
    "print(result)"
   ]
  },
  {
   "cell_type": "markdown",
   "id": "3c552cec",
   "metadata": {},
   "source": [
    "Лучший результат показывает Linear_model.Lasso."
   ]
  },
  {
   "cell_type": "markdown",
   "id": "26d1d803",
   "metadata": {},
   "source": [
    "Проверим на константной модели."
   ]
  },
  {
   "cell_type": "code",
   "execution_count": 50,
   "id": "11a9799f",
   "metadata": {},
   "outputs": [],
   "source": [
    "rougher_dummy = DummyRegressor(strategy=\"median\")\n",
    "final_dummy= DummyRegressor(strategy=\"median\")"
   ]
  },
  {
   "cell_type": "code",
   "execution_count": 51,
   "id": "6ec33fdd",
   "metadata": {},
   "outputs": [],
   "source": [
    "rougher_dummy.fit(gold_recovery_train, train_target_rougher)\n",
    "final_dummy.fit(gold_recovery_train, train_target_final)\n",
    "predict_rougher = rougher_dummy.predict(test_target_rougher)\n",
    "predict_final = final_dummy.predict(test_target_final)"
   ]
  },
  {
   "cell_type": "code",
   "execution_count": 52,
   "id": "366f93b2",
   "metadata": {},
   "outputs": [
    {
     "data": {
      "text/plain": [
       "9.441911631456728"
      ]
     },
     "execution_count": 52,
     "metadata": {},
     "output_type": "execute_result"
    }
   ],
   "source": [
    "final_sMAPE(sMAPE(test_target_rougher,predict_rougher),sMAPE(test_target_final,predict_final))"
   ]
  },
  {
   "cell_type": "markdown",
   "id": "ed0423bb",
   "metadata": {},
   "source": [
    "Ошибка на тестовой выборке для модели Linear_model.Lasso меньше, чем у константной модели"
   ]
  },
  {
   "cell_type": "markdown",
   "id": "7687a9dc",
   "metadata": {},
   "source": [
    "- Эффективность обогащения на обучающей выборке для признака rougher.output.recovery. расчитана правильно. \n",
    "- Проанализированы концентрации металлов (Au, Ag, Pb) на всех стадиях очистки. Концентрация золота и свинца после каждого этапа очистки растет. Концентрация серебра падает.\n",
    "- Рассмотрены распределения гранул сырья на входе технологического процесса для обучающей и тестовой выборок.\n",
    "- При исследовании суммарных концентраций веществ на разных стадиях очистки подтвердилось наличие аномальных данных. Все объекты с суммарной концентрацией меньше 20 были удалены из тренировочной выборки.\n",
    "- Удалены признаки недоступные с тестовой выборке.\n",
    "- Данные обучены на моделях CatBoostRegressor, Lasso, RandomForestRegressor, LinearRegression.\n",
    "Лучшее значение sMAPE показала модель Lasso на тестовой выборке: 9.08% <br>\n",
    "Константная модель - 9.44%."
   ]
  }
 ],
 "metadata": {
  "kernelspec": {
   "display_name": "Python 3 (ipykernel)",
   "language": "python",
   "name": "python3"
  },
  "language_info": {
   "codemirror_mode": {
    "name": "ipython",
    "version": 3
   },
   "file_extension": ".py",
   "mimetype": "text/x-python",
   "name": "python",
   "nbconvert_exporter": "python",
   "pygments_lexer": "ipython3",
   "version": "3.9.12"
  },
  "toc": {
   "base_numbering": 1,
   "nav_menu": {},
   "number_sections": true,
   "sideBar": true,
   "skip_h1_title": false,
   "title_cell": "Table of Contents",
   "title_sidebar": "Contents",
   "toc_cell": false,
   "toc_position": {},
   "toc_section_display": true,
   "toc_window_display": false
  }
 },
 "nbformat": 4,
 "nbformat_minor": 5
}
