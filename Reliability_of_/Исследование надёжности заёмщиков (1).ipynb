{
 "cells": [
  {
   "cell_type": "markdown",
   "id": "95333159",
   "metadata": {},
   "source": [
    "# Исследование надёжности заёмщиков #"
   ]
  },
  {
   "cell_type": "markdown",
   "id": "149dff8a",
   "metadata": {},
   "source": [
    "Рассмотрим в этом проекте как влияют различные признаки на факт погашения кредита в срок. "
   ]
  },
  {
   "cell_type": "markdown",
   "id": "72fe388b",
   "metadata": {},
   "source": [
    "Входные данные от банка — статистика о платёжеспособности клиентов."
   ]
  },
  {
   "cell_type": "markdown",
   "id": "df49249e",
   "metadata": {},
   "source": [
    "**Цель исследования** — проверить влияет ли семейное положение и количество детей на вероятность возврата кредита в срок\n"
   ]
  },
  {
   "cell_type": "markdown",
   "id": "b3a33c19",
   "metadata": {},
   "source": [
    "# Обзор данных #"
   ]
  },
  {
   "cell_type": "code",
   "execution_count": 1,
   "id": "0bad62cf",
   "metadata": {},
   "outputs": [],
   "source": [
    "import pandas as pd # импорт библиотеки pandas"
   ]
  },
  {
   "cell_type": "code",
   "execution_count": 2,
   "id": "09daf5d8",
   "metadata": {},
   "outputs": [],
   "source": [
    "try:\n",
    "    df = pd.read_csv('/datasets/data.csv') # чтение файла с данными и сохранение в df\n",
    "except:\n",
    "    df = pd.read_csv('C:\\\\Users\\\\User\\\\Downloads\\\\data_3_sprint.csv')"
   ]
  },
  {
   "cell_type": "code",
   "execution_count": 3,
   "id": "c6b5cfbf",
   "metadata": {},
   "outputs": [
    {
     "data": {
      "text/html": [
       "<div>\n",
       "<style scoped>\n",
       "    .dataframe tbody tr th:only-of-type {\n",
       "        vertical-align: middle;\n",
       "    }\n",
       "\n",
       "    .dataframe tbody tr th {\n",
       "        vertical-align: top;\n",
       "    }\n",
       "\n",
       "    .dataframe thead th {\n",
       "        text-align: right;\n",
       "    }\n",
       "</style>\n",
       "<table border=\"1\" class=\"dataframe\">\n",
       "  <thead>\n",
       "    <tr style=\"text-align: right;\">\n",
       "      <th></th>\n",
       "      <th>children</th>\n",
       "      <th>days_employed</th>\n",
       "      <th>dob_years</th>\n",
       "      <th>education</th>\n",
       "      <th>education_id</th>\n",
       "      <th>family_status</th>\n",
       "      <th>family_status_id</th>\n",
       "      <th>gender</th>\n",
       "      <th>income_type</th>\n",
       "      <th>debt</th>\n",
       "      <th>total_income</th>\n",
       "      <th>purpose</th>\n",
       "    </tr>\n",
       "  </thead>\n",
       "  <tbody>\n",
       "    <tr>\n",
       "      <td>0</td>\n",
       "      <td>1</td>\n",
       "      <td>-8437.673028</td>\n",
       "      <td>42</td>\n",
       "      <td>высшее</td>\n",
       "      <td>0</td>\n",
       "      <td>женат / замужем</td>\n",
       "      <td>0</td>\n",
       "      <td>F</td>\n",
       "      <td>сотрудник</td>\n",
       "      <td>0</td>\n",
       "      <td>253875.639453</td>\n",
       "      <td>покупка жилья</td>\n",
       "    </tr>\n",
       "    <tr>\n",
       "      <td>1</td>\n",
       "      <td>1</td>\n",
       "      <td>-4024.803754</td>\n",
       "      <td>36</td>\n",
       "      <td>среднее</td>\n",
       "      <td>1</td>\n",
       "      <td>женат / замужем</td>\n",
       "      <td>0</td>\n",
       "      <td>F</td>\n",
       "      <td>сотрудник</td>\n",
       "      <td>0</td>\n",
       "      <td>112080.014102</td>\n",
       "      <td>приобретение автомобиля</td>\n",
       "    </tr>\n",
       "    <tr>\n",
       "      <td>2</td>\n",
       "      <td>0</td>\n",
       "      <td>-5623.422610</td>\n",
       "      <td>33</td>\n",
       "      <td>Среднее</td>\n",
       "      <td>1</td>\n",
       "      <td>женат / замужем</td>\n",
       "      <td>0</td>\n",
       "      <td>M</td>\n",
       "      <td>сотрудник</td>\n",
       "      <td>0</td>\n",
       "      <td>145885.952297</td>\n",
       "      <td>покупка жилья</td>\n",
       "    </tr>\n",
       "    <tr>\n",
       "      <td>3</td>\n",
       "      <td>3</td>\n",
       "      <td>-4124.747207</td>\n",
       "      <td>32</td>\n",
       "      <td>среднее</td>\n",
       "      <td>1</td>\n",
       "      <td>женат / замужем</td>\n",
       "      <td>0</td>\n",
       "      <td>M</td>\n",
       "      <td>сотрудник</td>\n",
       "      <td>0</td>\n",
       "      <td>267628.550329</td>\n",
       "      <td>дополнительное образование</td>\n",
       "    </tr>\n",
       "    <tr>\n",
       "      <td>4</td>\n",
       "      <td>0</td>\n",
       "      <td>340266.072047</td>\n",
       "      <td>53</td>\n",
       "      <td>среднее</td>\n",
       "      <td>1</td>\n",
       "      <td>гражданский брак</td>\n",
       "      <td>1</td>\n",
       "      <td>F</td>\n",
       "      <td>пенсионер</td>\n",
       "      <td>0</td>\n",
       "      <td>158616.077870</td>\n",
       "      <td>сыграть свадьбу</td>\n",
       "    </tr>\n",
       "    <tr>\n",
       "      <td>5</td>\n",
       "      <td>0</td>\n",
       "      <td>-926.185831</td>\n",
       "      <td>27</td>\n",
       "      <td>высшее</td>\n",
       "      <td>0</td>\n",
       "      <td>гражданский брак</td>\n",
       "      <td>1</td>\n",
       "      <td>M</td>\n",
       "      <td>компаньон</td>\n",
       "      <td>0</td>\n",
       "      <td>255763.565419</td>\n",
       "      <td>покупка жилья</td>\n",
       "    </tr>\n",
       "    <tr>\n",
       "      <td>6</td>\n",
       "      <td>0</td>\n",
       "      <td>-2879.202052</td>\n",
       "      <td>43</td>\n",
       "      <td>высшее</td>\n",
       "      <td>0</td>\n",
       "      <td>женат / замужем</td>\n",
       "      <td>0</td>\n",
       "      <td>F</td>\n",
       "      <td>компаньон</td>\n",
       "      <td>0</td>\n",
       "      <td>240525.971920</td>\n",
       "      <td>операции с жильем</td>\n",
       "    </tr>\n",
       "    <tr>\n",
       "      <td>7</td>\n",
       "      <td>0</td>\n",
       "      <td>-152.779569</td>\n",
       "      <td>50</td>\n",
       "      <td>СРЕДНЕЕ</td>\n",
       "      <td>1</td>\n",
       "      <td>женат / замужем</td>\n",
       "      <td>0</td>\n",
       "      <td>M</td>\n",
       "      <td>сотрудник</td>\n",
       "      <td>0</td>\n",
       "      <td>135823.934197</td>\n",
       "      <td>образование</td>\n",
       "    </tr>\n",
       "    <tr>\n",
       "      <td>8</td>\n",
       "      <td>2</td>\n",
       "      <td>-6929.865299</td>\n",
       "      <td>35</td>\n",
       "      <td>ВЫСШЕЕ</td>\n",
       "      <td>0</td>\n",
       "      <td>гражданский брак</td>\n",
       "      <td>1</td>\n",
       "      <td>F</td>\n",
       "      <td>сотрудник</td>\n",
       "      <td>0</td>\n",
       "      <td>95856.832424</td>\n",
       "      <td>на проведение свадьбы</td>\n",
       "    </tr>\n",
       "    <tr>\n",
       "      <td>9</td>\n",
       "      <td>0</td>\n",
       "      <td>-2188.756445</td>\n",
       "      <td>41</td>\n",
       "      <td>среднее</td>\n",
       "      <td>1</td>\n",
       "      <td>женат / замужем</td>\n",
       "      <td>0</td>\n",
       "      <td>M</td>\n",
       "      <td>сотрудник</td>\n",
       "      <td>0</td>\n",
       "      <td>144425.938277</td>\n",
       "      <td>покупка жилья для семьи</td>\n",
       "    </tr>\n",
       "  </tbody>\n",
       "</table>\n",
       "</div>"
      ],
      "text/plain": [
       "   children  days_employed  dob_years education  education_id  \\\n",
       "0         1   -8437.673028         42    высшее             0   \n",
       "1         1   -4024.803754         36   среднее             1   \n",
       "2         0   -5623.422610         33   Среднее             1   \n",
       "3         3   -4124.747207         32   среднее             1   \n",
       "4         0  340266.072047         53   среднее             1   \n",
       "5         0    -926.185831         27    высшее             0   \n",
       "6         0   -2879.202052         43    высшее             0   \n",
       "7         0    -152.779569         50   СРЕДНЕЕ             1   \n",
       "8         2   -6929.865299         35    ВЫСШЕЕ             0   \n",
       "9         0   -2188.756445         41   среднее             1   \n",
       "\n",
       "      family_status  family_status_id gender income_type  debt   total_income  \\\n",
       "0   женат / замужем                 0      F   сотрудник     0  253875.639453   \n",
       "1   женат / замужем                 0      F   сотрудник     0  112080.014102   \n",
       "2   женат / замужем                 0      M   сотрудник     0  145885.952297   \n",
       "3   женат / замужем                 0      M   сотрудник     0  267628.550329   \n",
       "4  гражданский брак                 1      F   пенсионер     0  158616.077870   \n",
       "5  гражданский брак                 1      M   компаньон     0  255763.565419   \n",
       "6   женат / замужем                 0      F   компаньон     0  240525.971920   \n",
       "7   женат / замужем                 0      M   сотрудник     0  135823.934197   \n",
       "8  гражданский брак                 1      F   сотрудник     0   95856.832424   \n",
       "9   женат / замужем                 0      M   сотрудник     0  144425.938277   \n",
       "\n",
       "                      purpose  \n",
       "0               покупка жилья  \n",
       "1     приобретение автомобиля  \n",
       "2               покупка жилья  \n",
       "3  дополнительное образование  \n",
       "4             сыграть свадьбу  \n",
       "5               покупка жилья  \n",
       "6           операции с жильем  \n",
       "7                 образование  \n",
       "8       на проведение свадьбы  \n",
       "9     покупка жилья для семьи  "
      ]
     },
     "metadata": {},
     "output_type": "display_data"
    }
   ],
   "source": [
    "display(df.head(10)) # просмотр первых 10 строк таблицы"
   ]
  },
  {
   "cell_type": "code",
   "execution_count": 4,
   "id": "ba0f7733",
   "metadata": {},
   "outputs": [
    {
     "name": "stdout",
     "output_type": "stream",
     "text": [
      "<class 'pandas.core.frame.DataFrame'>\n",
      "RangeIndex: 21525 entries, 0 to 21524\n",
      "Data columns (total 12 columns):\n",
      "children            21525 non-null int64\n",
      "days_employed       19351 non-null float64\n",
      "dob_years           21525 non-null int64\n",
      "education           21525 non-null object\n",
      "education_id        21525 non-null int64\n",
      "family_status       21525 non-null object\n",
      "family_status_id    21525 non-null int64\n",
      "gender              21525 non-null object\n",
      "income_type         21525 non-null object\n",
      "debt                21525 non-null int64\n",
      "total_income        19351 non-null float64\n",
      "purpose             21525 non-null object\n",
      "dtypes: float64(2), int64(5), object(5)\n",
      "memory usage: 2.0+ MB\n"
     ]
    }
   ],
   "source": [
    "df.info() # получение общей информации о данных в таблице df"
   ]
  },
  {
   "cell_type": "markdown",
   "id": "d233c3ac",
   "metadata": {},
   "source": [
    "Итак, в таблице одиннадцать столбцов. В данных присутствует 3 типа данных — `object`, `int64`, `float64`.\n",
    "\n",
    "Согласно документации к данным:\n",
    "\n",
    "* `children` — количество детей в семье;\n",
    "* `days_employed` — общий трудовой стаж в днях;\n",
    "* `dob_years` — возраст клиента в годах;\n",
    "* `education` — уровень образования клиента;\n",
    "* `education_id` — идентификатор уровня образования;\n",
    "* `family_status` — семейное положение;\n",
    "* `family_status_id` — идентификатор семейного положения;\n",
    "* `gender` — пол клиента;\n",
    "* `income_type`— тип занятости;\n",
    "* `debt` — имел ли задолженность по возврату кредитов;\n",
    "* `total_income` — ежемесячный доход;\n",
    "* `purpose` — цель получения кредита.\n",
    "\n",
    "В названиях колонок нет нарушений стиля.\n",
    "\n",
    "Общее количество строк в данных 21525. В столбцах `days_employed` и `total_income` есть пропущенные значения.\n",
    "<br>При предварительном просмотре сразу видны отрицательные значения в колонке days_employed и слишком большие значения, которые не могут быть днями."
   ]
  },
  {
   "cell_type": "markdown",
   "id": "72f4d8c1",
   "metadata": {},
   "source": [
    "### Шаг 2.1 Заполнение пропусков"
   ]
  },
  {
   "cell_type": "code",
   "execution_count": 5,
   "id": "594f4dfa",
   "metadata": {},
   "outputs": [
    {
     "name": "stdout",
     "output_type": "stream",
     "text": [
      "children               0\n",
      "days_employed       2174\n",
      "dob_years              0\n",
      "education              0\n",
      "education_id           0\n",
      "family_status          0\n",
      "family_status_id       0\n",
      "gender                 0\n",
      "income_type            0\n",
      "debt                   0\n",
      "total_income        2174\n",
      "purpose                0\n",
      "dtype: int64\n"
     ]
    }
   ],
   "source": [
    "print(df.isna().sum()) # находим количество пропущенных значений"
   ]
  },
  {
   "cell_type": "code",
   "execution_count": 6,
   "id": "cd81624c",
   "metadata": {},
   "outputs": [
    {
     "data": {
      "text/html": [
       "<div>\n",
       "<style scoped>\n",
       "    .dataframe tbody tr th:only-of-type {\n",
       "        vertical-align: middle;\n",
       "    }\n",
       "\n",
       "    .dataframe tbody tr th {\n",
       "        vertical-align: top;\n",
       "    }\n",
       "\n",
       "    .dataframe thead th {\n",
       "        text-align: right;\n",
       "    }\n",
       "</style>\n",
       "<table border=\"1\" class=\"dataframe\">\n",
       "  <thead>\n",
       "    <tr style=\"text-align: right;\">\n",
       "      <th></th>\n",
       "      <th>children</th>\n",
       "      <th>days_employed</th>\n",
       "      <th>dob_years</th>\n",
       "      <th>education</th>\n",
       "      <th>education_id</th>\n",
       "      <th>family_status</th>\n",
       "      <th>family_status_id</th>\n",
       "      <th>gender</th>\n",
       "      <th>income_type</th>\n",
       "      <th>debt</th>\n",
       "      <th>total_income</th>\n",
       "      <th>purpose</th>\n",
       "    </tr>\n",
       "  </thead>\n",
       "  <tbody>\n",
       "    <tr>\n",
       "      <td>12</td>\n",
       "      <td>0</td>\n",
       "      <td>NaN</td>\n",
       "      <td>65</td>\n",
       "      <td>среднее</td>\n",
       "      <td>1</td>\n",
       "      <td>гражданский брак</td>\n",
       "      <td>1</td>\n",
       "      <td>M</td>\n",
       "      <td>пенсионер</td>\n",
       "      <td>0</td>\n",
       "      <td>NaN</td>\n",
       "      <td>сыграть свадьбу</td>\n",
       "    </tr>\n",
       "    <tr>\n",
       "      <td>26</td>\n",
       "      <td>0</td>\n",
       "      <td>NaN</td>\n",
       "      <td>41</td>\n",
       "      <td>среднее</td>\n",
       "      <td>1</td>\n",
       "      <td>женат / замужем</td>\n",
       "      <td>0</td>\n",
       "      <td>M</td>\n",
       "      <td>госслужащий</td>\n",
       "      <td>0</td>\n",
       "      <td>NaN</td>\n",
       "      <td>образование</td>\n",
       "    </tr>\n",
       "    <tr>\n",
       "      <td>29</td>\n",
       "      <td>0</td>\n",
       "      <td>NaN</td>\n",
       "      <td>63</td>\n",
       "      <td>среднее</td>\n",
       "      <td>1</td>\n",
       "      <td>Не женат / не замужем</td>\n",
       "      <td>4</td>\n",
       "      <td>F</td>\n",
       "      <td>пенсионер</td>\n",
       "      <td>0</td>\n",
       "      <td>NaN</td>\n",
       "      <td>строительство жилой недвижимости</td>\n",
       "    </tr>\n",
       "    <tr>\n",
       "      <td>41</td>\n",
       "      <td>0</td>\n",
       "      <td>NaN</td>\n",
       "      <td>50</td>\n",
       "      <td>среднее</td>\n",
       "      <td>1</td>\n",
       "      <td>женат / замужем</td>\n",
       "      <td>0</td>\n",
       "      <td>F</td>\n",
       "      <td>госслужащий</td>\n",
       "      <td>0</td>\n",
       "      <td>NaN</td>\n",
       "      <td>сделка с подержанным автомобилем</td>\n",
       "    </tr>\n",
       "    <tr>\n",
       "      <td>55</td>\n",
       "      <td>0</td>\n",
       "      <td>NaN</td>\n",
       "      <td>54</td>\n",
       "      <td>среднее</td>\n",
       "      <td>1</td>\n",
       "      <td>гражданский брак</td>\n",
       "      <td>1</td>\n",
       "      <td>F</td>\n",
       "      <td>пенсионер</td>\n",
       "      <td>1</td>\n",
       "      <td>NaN</td>\n",
       "      <td>сыграть свадьбу</td>\n",
       "    </tr>\n",
       "  </tbody>\n",
       "</table>\n",
       "</div>"
      ],
      "text/plain": [
       "    children  days_employed  dob_years education  education_id  \\\n",
       "12         0            NaN         65   среднее             1   \n",
       "26         0            NaN         41   среднее             1   \n",
       "29         0            NaN         63   среднее             1   \n",
       "41         0            NaN         50   среднее             1   \n",
       "55         0            NaN         54   среднее             1   \n",
       "\n",
       "            family_status  family_status_id gender  income_type  debt  \\\n",
       "12       гражданский брак                 1      M    пенсионер     0   \n",
       "26        женат / замужем                 0      M  госслужащий     0   \n",
       "29  Не женат / не замужем                 4      F    пенсионер     0   \n",
       "41        женат / замужем                 0      F  госслужащий     0   \n",
       "55       гражданский брак                 1      F    пенсионер     1   \n",
       "\n",
       "    total_income                           purpose  \n",
       "12           NaN                   сыграть свадьбу  \n",
       "26           NaN                       образование  \n",
       "29           NaN  строительство жилой недвижимости  \n",
       "41           NaN  сделка с подержанным автомобилем  \n",
       "55           NaN                   сыграть свадьбу  "
      ]
     },
     "metadata": {},
     "output_type": "display_data"
    }
   ],
   "source": [
    "display(df[df['days_employed'].isna()].head()) # находим строки с пропущенными значениями и выводим на экран первые пять"
   ]
  },
  {
   "cell_type": "code",
   "execution_count": 7,
   "id": "3747a8a7",
   "metadata": {},
   "outputs": [],
   "source": [
    "days_employed_share = len(df[df['days_employed'].isna()]) / df.shape[0] \n",
    "# находим долю отсутствующих значений в столбце days_employed"
   ]
  },
  {
   "cell_type": "code",
   "execution_count": 8,
   "id": "c06ac552",
   "metadata": {},
   "outputs": [],
   "source": [
    "total_income_share = len(df[df['total_income'].isna()]) / df.shape[0] \n",
    "# находим долю отсутствующих значений в столбце total_income"
   ]
  },
  {
   "cell_type": "code",
   "execution_count": 9,
   "id": "0b68ce13",
   "metadata": {},
   "outputs": [
    {
     "name": "stdout",
     "output_type": "stream",
     "text": [
      "В столбце days_employed значения отсутствуют в: 10.1% случаев.\n",
      "В столбце total_income значения отсутствуют в: 10.1% случаев.\n"
     ]
    }
   ],
   "source": [
    "print('В столбце days_employed значения отсутствуют в: {:.1%} случаев.' .format(days_employed_share))\n",
    "print('В столбце total_income значения отсутствуют в: {:.1%} случаев.' .format(total_income_share))"
   ]
  },
  {
   "cell_type": "markdown",
   "id": "2cfc5af5",
   "metadata": {},
   "source": [
    "Перед тем как работать с пропущенными значениями необходимо избавиться от аномалий в данных. В столбце `days_employed` заменить отрицательные значения положительными. "
   ]
  },
  {
   "cell_type": "code",
   "execution_count": 10,
   "id": "8564cf01",
   "metadata": {},
   "outputs": [],
   "source": [
    "df['days_employed'] = df['days_employed'].abs() # заменяем отрицательные значения столбца days_employed на положительные"
   ]
  },
  {
   "cell_type": "markdown",
   "id": "328f2a10",
   "metadata": {},
   "source": [
    "В столбце days_employed так же есть аномальные значения трудового стажа. Но эти данные в расчетах не пригодятся. "
   ]
  },
  {
   "cell_type": "code",
   "execution_count": 11,
   "id": "9716b5c6",
   "metadata": {},
   "outputs": [
    {
     "name": "stdout",
     "output_type": "stream",
     "text": [
      "Количество человек имеющие стаж больше 800 лет: 3445\n"
     ]
    }
   ],
   "source": [
    "print('Количество человек имеющие стаж больше 800 лет:', df[df['days_employed'] > 300000]['days_employed'].count())"
   ]
  },
  {
   "cell_type": "code",
   "execution_count": 12,
   "id": "326a16a3",
   "metadata": {},
   "outputs": [],
   "source": [
    "df['total_income'] =  df.total_income.fillna(df.groupby('income_type')['total_income'].transform('median')) \n",
    "# замена пропусков в total_income медианным значением по типу занятости "
   ]
  },
  {
   "cell_type": "code",
   "execution_count": 13,
   "id": "8b9ee12a",
   "metadata": {},
   "outputs": [],
   "source": [
    "df['days_employed'] =  df.total_income.fillna(df.groupby('income_type')['days_employed'].transform('median')) \n",
    "# замена пропусков в days_employed медианным значением по типу занятости"
   ]
  },
  {
   "cell_type": "code",
   "execution_count": 20,
   "id": "8759d7b0",
   "metadata": {},
   "outputs": [
    {
     "name": "stdout",
     "output_type": "stream",
     "text": [
      "<class 'pandas.core.frame.DataFrame'>\n",
      "RangeIndex: 21525 entries, 0 to 21524\n",
      "Data columns (total 12 columns):\n",
      "children            21525 non-null int64\n",
      "days_employed       21525 non-null float64\n",
      "dob_years           21525 non-null int64\n",
      "education           21525 non-null object\n",
      "education_id        21525 non-null int64\n",
      "family_status       21525 non-null object\n",
      "family_status_id    21525 non-null int64\n",
      "gender              21525 non-null object\n",
      "income_type         21525 non-null object\n",
      "debt                21525 non-null int64\n",
      "total_income        21525 non-null float64\n",
      "purpose             21525 non-null object\n",
      "dtypes: float64(2), int64(5), object(5)\n",
      "memory usage: 2.0+ MB\n"
     ]
    }
   ],
   "source": [
    "df.info() # проверяем что пропущенных данных не осталось"
   ]
  },
  {
   "cell_type": "markdown",
   "id": "a2d75de5",
   "metadata": {},
   "source": [
    "Ежемесячный доход и общий трудовой стаж в днях количественные переменные. Для заполнения пропусков в количественных переменных используют значения характеризующие состояние выборки. Чтобы найти типичные значения можно применить среднее арифметическое или медиану. В данном случае медиану использовать предпочтительнее, т.к. в данных есть значения сильно отличающиеся от большинства. "
   ]
  },
  {
   "cell_type": "markdown",
   "id": "57608d25",
   "metadata": {},
   "source": [
    "### Шаг 2.2 Проверка данных на аномалии и исправления."
   ]
  },
  {
   "cell_type": "code",
   "execution_count": 21,
   "id": "1d5ba08d",
   "metadata": {},
   "outputs": [
    {
     "data": {
      "text/plain": [
       " 0     14149\n",
       " 1      4818\n",
       " 2      2055\n",
       " 3       330\n",
       " 20       76\n",
       "-1        47\n",
       " 4        41\n",
       " 5         9\n",
       "Name: children, dtype: int64"
      ]
     },
     "execution_count": 21,
     "metadata": {},
     "output_type": "execute_result"
    }
   ],
   "source": [
    "df['children'].value_counts()"
   ]
  },
  {
   "cell_type": "markdown",
   "id": "5061b8c3",
   "metadata": {},
   "source": [
    "Скорее всего в столбце с количеством детей допущены ошибки. Заменяем количество детей с двадцати на два и с минус один на один."
   ]
  },
  {
   "cell_type": "code",
   "execution_count": 22,
   "id": "cb9d6493",
   "metadata": {},
   "outputs": [],
   "source": [
    "df['children'] = df['children'].replace(20, 2)\n",
    "df['children'] = df['children'].replace(-1, 1)"
   ]
  },
  {
   "cell_type": "code",
   "execution_count": 23,
   "id": "6ef4b573",
   "metadata": {},
   "outputs": [
    {
     "data": {
      "text/plain": [
       "F      14236\n",
       "M       7288\n",
       "XNA        1\n",
       "Name: gender, dtype: int64"
      ]
     },
     "execution_count": 23,
     "metadata": {},
     "output_type": "execute_result"
    }
   ],
   "source": [
    "df['gender'].value_counts() # "
   ]
  },
  {
   "cell_type": "markdown",
   "id": "25edfa0b",
   "metadata": {},
   "source": [
    "Скорее всего XNA это пропущенное значение. В расчетах не пригодится. "
   ]
  },
  {
   "cell_type": "markdown",
   "id": "f8b67218",
   "metadata": {},
   "source": [
    "### Шаг 2.3. Изменение типов данных."
   ]
  },
  {
   "cell_type": "code",
   "execution_count": 24,
   "id": "539822c0",
   "metadata": {},
   "outputs": [],
   "source": [
    "df['total_income'] = df['total_income'].astype('int') # замена типа данных на целочисленный"
   ]
  },
  {
   "cell_type": "markdown",
   "id": "b2beb050",
   "metadata": {},
   "source": [
    "### Шаг 2.4. Удаление дубликатов."
   ]
  },
  {
   "cell_type": "code",
   "execution_count": 25,
   "id": "f73dc343",
   "metadata": {},
   "outputs": [
    {
     "name": "stdout",
     "output_type": "stream",
     "text": [
      "54\n"
     ]
    }
   ],
   "source": [
    "print(df.duplicated().sum()) # находим количество дубликатов"
   ]
  },
  {
   "cell_type": "code",
   "execution_count": 26,
   "id": "dca874e9",
   "metadata": {},
   "outputs": [
    {
     "data": {
      "text/html": [
       "<div>\n",
       "<style scoped>\n",
       "    .dataframe tbody tr th:only-of-type {\n",
       "        vertical-align: middle;\n",
       "    }\n",
       "\n",
       "    .dataframe tbody tr th {\n",
       "        vertical-align: top;\n",
       "    }\n",
       "\n",
       "    .dataframe thead th {\n",
       "        text-align: right;\n",
       "    }\n",
       "</style>\n",
       "<table border=\"1\" class=\"dataframe\">\n",
       "  <thead>\n",
       "    <tr style=\"text-align: right;\">\n",
       "      <th></th>\n",
       "      <th>children</th>\n",
       "      <th>days_employed</th>\n",
       "      <th>dob_years</th>\n",
       "      <th>education</th>\n",
       "      <th>education_id</th>\n",
       "      <th>family_status</th>\n",
       "      <th>family_status_id</th>\n",
       "      <th>gender</th>\n",
       "      <th>income_type</th>\n",
       "      <th>debt</th>\n",
       "      <th>total_income</th>\n",
       "      <th>purpose</th>\n",
       "    </tr>\n",
       "  </thead>\n",
       "  <tbody>\n",
       "    <tr>\n",
       "      <td>2849</td>\n",
       "      <td>0</td>\n",
       "      <td>142594.396847</td>\n",
       "      <td>41</td>\n",
       "      <td>среднее</td>\n",
       "      <td>1</td>\n",
       "      <td>женат / замужем</td>\n",
       "      <td>0</td>\n",
       "      <td>F</td>\n",
       "      <td>сотрудник</td>\n",
       "      <td>0</td>\n",
       "      <td>142594</td>\n",
       "      <td>покупка жилья для семьи</td>\n",
       "    </tr>\n",
       "    <tr>\n",
       "      <td>4182</td>\n",
       "      <td>1</td>\n",
       "      <td>142594.396847</td>\n",
       "      <td>34</td>\n",
       "      <td>ВЫСШЕЕ</td>\n",
       "      <td>0</td>\n",
       "      <td>гражданский брак</td>\n",
       "      <td>1</td>\n",
       "      <td>F</td>\n",
       "      <td>сотрудник</td>\n",
       "      <td>0</td>\n",
       "      <td>142594</td>\n",
       "      <td>свадьба</td>\n",
       "    </tr>\n",
       "    <tr>\n",
       "      <td>4851</td>\n",
       "      <td>0</td>\n",
       "      <td>118514.486412</td>\n",
       "      <td>60</td>\n",
       "      <td>среднее</td>\n",
       "      <td>1</td>\n",
       "      <td>гражданский брак</td>\n",
       "      <td>1</td>\n",
       "      <td>F</td>\n",
       "      <td>пенсионер</td>\n",
       "      <td>0</td>\n",
       "      <td>118514</td>\n",
       "      <td>свадьба</td>\n",
       "    </tr>\n",
       "    <tr>\n",
       "      <td>5557</td>\n",
       "      <td>0</td>\n",
       "      <td>118514.486412</td>\n",
       "      <td>58</td>\n",
       "      <td>среднее</td>\n",
       "      <td>1</td>\n",
       "      <td>гражданский брак</td>\n",
       "      <td>1</td>\n",
       "      <td>F</td>\n",
       "      <td>пенсионер</td>\n",
       "      <td>0</td>\n",
       "      <td>118514</td>\n",
       "      <td>сыграть свадьбу</td>\n",
       "    </tr>\n",
       "    <tr>\n",
       "      <td>7808</td>\n",
       "      <td>0</td>\n",
       "      <td>118514.486412</td>\n",
       "      <td>57</td>\n",
       "      <td>среднее</td>\n",
       "      <td>1</td>\n",
       "      <td>гражданский брак</td>\n",
       "      <td>1</td>\n",
       "      <td>F</td>\n",
       "      <td>пенсионер</td>\n",
       "      <td>0</td>\n",
       "      <td>118514</td>\n",
       "      <td>на проведение свадьбы</td>\n",
       "    </tr>\n",
       "  </tbody>\n",
       "</table>\n",
       "</div>"
      ],
      "text/plain": [
       "      children  days_employed  dob_years education  education_id  \\\n",
       "2849         0  142594.396847         41   среднее             1   \n",
       "4182         1  142594.396847         34    ВЫСШЕЕ             0   \n",
       "4851         0  118514.486412         60   среднее             1   \n",
       "5557         0  118514.486412         58   среднее             1   \n",
       "7808         0  118514.486412         57   среднее             1   \n",
       "\n",
       "         family_status  family_status_id gender income_type  debt  \\\n",
       "2849   женат / замужем                 0      F   сотрудник     0   \n",
       "4182  гражданский брак                 1      F   сотрудник     0   \n",
       "4851  гражданский брак                 1      F   пенсионер     0   \n",
       "5557  гражданский брак                 1      F   пенсионер     0   \n",
       "7808  гражданский брак                 1      F   пенсионер     0   \n",
       "\n",
       "      total_income                  purpose  \n",
       "2849        142594  покупка жилья для семьи  \n",
       "4182        142594                  свадьба  \n",
       "4851        118514                  свадьба  \n",
       "5557        118514          сыграть свадьбу  \n",
       "7808        118514    на проведение свадьбы  "
      ]
     },
     "metadata": {},
     "output_type": "display_data"
    }
   ],
   "source": [
    "duplicated_df = df[df.duplicated()].head() # датафрейм с дубликатами\n",
    "display(duplicated_df) "
   ]
  },
  {
   "cell_type": "code",
   "execution_count": 27,
   "id": "96a65547",
   "metadata": {},
   "outputs": [],
   "source": [
    "df = df.drop_duplicates().reset_index() # удаление дубликатов"
   ]
  },
  {
   "cell_type": "code",
   "execution_count": 28,
   "id": "3f719688",
   "metadata": {},
   "outputs": [
    {
     "data": {
      "text/plain": [
       "среднее                13705\n",
       "высшее                  4710\n",
       "СРЕДНЕЕ                  772\n",
       "Среднее                  711\n",
       "неоконченное высшее      668\n",
       "ВЫСШЕЕ                   273\n",
       "Высшее                   268\n",
       "начальное                250\n",
       "Неоконченное высшее       47\n",
       "НЕОКОНЧЕННОЕ ВЫСШЕЕ       29\n",
       "НАЧАЛЬНОЕ                 17\n",
       "Начальное                 15\n",
       "ученая степень             4\n",
       "УЧЕНАЯ СТЕПЕНЬ             1\n",
       "Ученая степень             1\n",
       "Name: education, dtype: int64"
      ]
     },
     "execution_count": 28,
     "metadata": {},
     "output_type": "execute_result"
    }
   ],
   "source": [
    "df['education'].value_counts() # подсчет уникальных значений для поиска неявных дубликатов"
   ]
  },
  {
   "cell_type": "markdown",
   "id": "b9bdd844",
   "metadata": {},
   "source": [
    "Разные названия с одинаковым значением. Приведём к одному регистру."
   ]
  },
  {
   "cell_type": "code",
   "execution_count": 29,
   "id": "f7cf247d",
   "metadata": {},
   "outputs": [],
   "source": [
    "df['education'] = df['education'].str.lower() # приведение в нижний регистр столбца education"
   ]
  },
  {
   "cell_type": "code",
   "execution_count": 30,
   "id": "0b772a39",
   "metadata": {},
   "outputs": [
    {
     "data": {
      "text/plain": [
       "среднее                15188\n",
       "высшее                  5251\n",
       "неоконченное высшее      744\n",
       "начальное                282\n",
       "ученая степень             6\n",
       "Name: education, dtype: int64"
      ]
     },
     "execution_count": 30,
     "metadata": {},
     "output_type": "execute_result"
    }
   ],
   "source": [
    "df['education'].value_counts() # повторная проверка на неявные дубликаты"
   ]
  },
  {
   "cell_type": "code",
   "execution_count": 31,
   "id": "88cfe057",
   "metadata": {},
   "outputs": [
    {
     "data": {
      "text/plain": [
       "1    15188\n",
       "0     5251\n",
       "2      744\n",
       "3      282\n",
       "4        6\n",
       "Name: education_id, dtype: int64"
      ]
     },
     "execution_count": 31,
     "metadata": {},
     "output_type": "execute_result"
    }
   ],
   "source": [
    "df['education_id'].value_counts() # проверка на неявные дубликаты"
   ]
  },
  {
   "cell_type": "code",
   "execution_count": 32,
   "id": "47811c83",
   "metadata": {},
   "outputs": [
    {
     "data": {
      "text/plain": [
       "женат / замужем          12344\n",
       "гражданский брак          4163\n",
       "Не женат / не замужем     2810\n",
       "в разводе                 1195\n",
       "вдовец / вдова             959\n",
       "Name: family_status, dtype: int64"
      ]
     },
     "execution_count": 32,
     "metadata": {},
     "output_type": "execute_result"
    }
   ],
   "source": [
    "df['family_status'].value_counts() # проверка на неявные дубликаты"
   ]
  },
  {
   "cell_type": "code",
   "execution_count": 33,
   "id": "9354df31",
   "metadata": {},
   "outputs": [
    {
     "data": {
      "text/plain": [
       "0    12344\n",
       "1     4163\n",
       "4     2810\n",
       "3     1195\n",
       "2      959\n",
       "Name: family_status_id, dtype: int64"
      ]
     },
     "execution_count": 33,
     "metadata": {},
     "output_type": "execute_result"
    }
   ],
   "source": [
    "df['family_status_id'].value_counts() # проверка на неявные дубликаты"
   ]
  },
  {
   "cell_type": "code",
   "execution_count": 34,
   "id": "94b45585",
   "metadata": {},
   "outputs": [
    {
     "data": {
      "text/plain": [
       "сотрудник          11091\n",
       "компаньон           5080\n",
       "пенсионер           3837\n",
       "госслужащий         1457\n",
       "предприниматель        2\n",
       "безработный            2\n",
       "в декрете              1\n",
       "студент                1\n",
       "Name: income_type, dtype: int64"
      ]
     },
     "execution_count": 34,
     "metadata": {},
     "output_type": "execute_result"
    }
   ],
   "source": [
    "df['income_type'].value_counts() # проверка на неявные дубликаты"
   ]
  },
  {
   "cell_type": "code",
   "execution_count": 35,
   "id": "67654cb1",
   "metadata": {},
   "outputs": [
    {
     "data": {
      "text/plain": [
       "свадьба                                   793\n",
       "на проведение свадьбы                     773\n",
       "сыграть свадьбу                           769\n",
       "операции с недвижимостью                  675\n",
       "покупка коммерческой недвижимости         662\n",
       "операции с жильем                         652\n",
       "покупка жилья для сдачи                   652\n",
       "операции с коммерческой недвижимостью     650\n",
       "покупка жилья                             646\n",
       "жилье                                     646\n",
       "покупка жилья для семьи                   638\n",
       "строительство собственной недвижимости    635\n",
       "недвижимость                              633\n",
       "операции со своей недвижимостью           627\n",
       "строительство жилой недвижимости          625\n",
       "покупка недвижимости                      621\n",
       "покупка своего жилья                      620\n",
       "строительство недвижимости                619\n",
       "ремонт жилью                              607\n",
       "покупка жилой недвижимости                606\n",
       "на покупку своего автомобиля              505\n",
       "заняться высшим образованием              496\n",
       "автомобиль                                494\n",
       "сделка с подержанным автомобилем          486\n",
       "свой автомобиль                           479\n",
       "автомобили                                478\n",
       "на покупку подержанного автомобиля        478\n",
       "на покупку автомобиля                     472\n",
       "приобретение автомобиля                   461\n",
       "дополнительное образование                460\n",
       "сделка с автомобилем                      455\n",
       "высшее образование                        452\n",
       "образование                               447\n",
       "получение дополнительного образования     447\n",
       "получение образования                     442\n",
       "профильное образование                    436\n",
       "получение высшего образования             426\n",
       "заняться образованием                     408\n",
       "Name: purpose, dtype: int64"
      ]
     },
     "execution_count": 35,
     "metadata": {},
     "output_type": "execute_result"
    }
   ],
   "source": [
    "df['purpose'].value_counts() # проверка на неявные дубликаты"
   ]
  },
  {
   "cell_type": "markdown",
   "id": "6534d43b",
   "metadata": {},
   "source": [
    "Много неявных дубликатов с целями. Требуется применить категоризацию."
   ]
  },
  {
   "cell_type": "markdown",
   "id": "49628d1b",
   "metadata": {},
   "source": [
    "Явные дубликаты удалили с помощью метода drop_duplicates(). Этот метод находит явные дубликаты и удаляет их. \n",
    "<br> Неявные дубликаты необходимо искать вручную. Это удобно делать с помощью метода value_counts(). Этот метод выводит на <br>экран повторяющиеся значения с количеством их повторений."
   ]
  },
  {
   "cell_type": "markdown",
   "id": "6cdab135",
   "metadata": {},
   "source": [
    "### Шаг 2.5. Формирование дополнительных датафреймов словарей, декомпозиция исходного датафрейма."
   ]
  },
  {
   "cell_type": "code",
   "execution_count": 36,
   "id": "dd3cc1a8",
   "metadata": {},
   "outputs": [],
   "source": [
    "education_df = df[['education_id','education']] # создание датафрейма с колонками education_id, education"
   ]
  },
  {
   "cell_type": "code",
   "execution_count": 37,
   "id": "eee1e47e",
   "metadata": {},
   "outputs": [],
   "source": [
    "education_df = education_df.drop_duplicates().reset_index() # удаление дубликатов"
   ]
  },
  {
   "cell_type": "code",
   "execution_count": 38,
   "id": "90f7a778",
   "metadata": {},
   "outputs": [
    {
     "data": {
      "text/html": [
       "<div>\n",
       "<style scoped>\n",
       "    .dataframe tbody tr th:only-of-type {\n",
       "        vertical-align: middle;\n",
       "    }\n",
       "\n",
       "    .dataframe tbody tr th {\n",
       "        vertical-align: top;\n",
       "    }\n",
       "\n",
       "    .dataframe thead th {\n",
       "        text-align: right;\n",
       "    }\n",
       "</style>\n",
       "<table border=\"1\" class=\"dataframe\">\n",
       "  <thead>\n",
       "    <tr style=\"text-align: right;\">\n",
       "      <th></th>\n",
       "      <th>index</th>\n",
       "      <th>education_id</th>\n",
       "      <th>education</th>\n",
       "    </tr>\n",
       "  </thead>\n",
       "  <tbody>\n",
       "    <tr>\n",
       "      <td>0</td>\n",
       "      <td>0</td>\n",
       "      <td>0</td>\n",
       "      <td>высшее</td>\n",
       "    </tr>\n",
       "    <tr>\n",
       "      <td>1</td>\n",
       "      <td>1</td>\n",
       "      <td>1</td>\n",
       "      <td>среднее</td>\n",
       "    </tr>\n",
       "    <tr>\n",
       "      <td>2</td>\n",
       "      <td>13</td>\n",
       "      <td>2</td>\n",
       "      <td>неоконченное высшее</td>\n",
       "    </tr>\n",
       "    <tr>\n",
       "      <td>3</td>\n",
       "      <td>31</td>\n",
       "      <td>3</td>\n",
       "      <td>начальное</td>\n",
       "    </tr>\n",
       "    <tr>\n",
       "      <td>4</td>\n",
       "      <td>2962</td>\n",
       "      <td>4</td>\n",
       "      <td>ученая степень</td>\n",
       "    </tr>\n",
       "  </tbody>\n",
       "</table>\n",
       "</div>"
      ],
      "text/plain": [
       "   index  education_id            education\n",
       "0      0             0               высшее\n",
       "1      1             1              среднее\n",
       "2     13             2  неоконченное высшее\n",
       "3     31             3            начальное\n",
       "4   2962             4       ученая степень"
      ]
     },
     "metadata": {},
     "output_type": "display_data"
    }
   ],
   "source": [
    "display(education_df)"
   ]
  },
  {
   "cell_type": "code",
   "execution_count": 39,
   "id": "fa577012",
   "metadata": {},
   "outputs": [],
   "source": [
    "# создание датафрейма с колонками family_status_id, family_status\n",
    "family_status_df = df[['family_status_id', 'family_status']] "
   ]
  },
  {
   "cell_type": "code",
   "execution_count": 40,
   "id": "af8dfbde",
   "metadata": {},
   "outputs": [],
   "source": [
    "family_status_df = family_status_df.drop_duplicates().reset_index() "
   ]
  },
  {
   "cell_type": "code",
   "execution_count": 41,
   "id": "caf4e8f7",
   "metadata": {},
   "outputs": [
    {
     "data": {
      "text/html": [
       "<div>\n",
       "<style scoped>\n",
       "    .dataframe tbody tr th:only-of-type {\n",
       "        vertical-align: middle;\n",
       "    }\n",
       "\n",
       "    .dataframe tbody tr th {\n",
       "        vertical-align: top;\n",
       "    }\n",
       "\n",
       "    .dataframe thead th {\n",
       "        text-align: right;\n",
       "    }\n",
       "</style>\n",
       "<table border=\"1\" class=\"dataframe\">\n",
       "  <thead>\n",
       "    <tr style=\"text-align: right;\">\n",
       "      <th></th>\n",
       "      <th>index</th>\n",
       "      <th>family_status_id</th>\n",
       "      <th>family_status</th>\n",
       "    </tr>\n",
       "  </thead>\n",
       "  <tbody>\n",
       "    <tr>\n",
       "      <td>0</td>\n",
       "      <td>0</td>\n",
       "      <td>0</td>\n",
       "      <td>женат / замужем</td>\n",
       "    </tr>\n",
       "    <tr>\n",
       "      <td>1</td>\n",
       "      <td>4</td>\n",
       "      <td>1</td>\n",
       "      <td>гражданский брак</td>\n",
       "    </tr>\n",
       "    <tr>\n",
       "      <td>2</td>\n",
       "      <td>18</td>\n",
       "      <td>2</td>\n",
       "      <td>вдовец / вдова</td>\n",
       "    </tr>\n",
       "    <tr>\n",
       "      <td>3</td>\n",
       "      <td>19</td>\n",
       "      <td>3</td>\n",
       "      <td>в разводе</td>\n",
       "    </tr>\n",
       "    <tr>\n",
       "      <td>4</td>\n",
       "      <td>24</td>\n",
       "      <td>4</td>\n",
       "      <td>Не женат / не замужем</td>\n",
       "    </tr>\n",
       "  </tbody>\n",
       "</table>\n",
       "</div>"
      ],
      "text/plain": [
       "   index  family_status_id          family_status\n",
       "0      0                 0        женат / замужем\n",
       "1      4                 1       гражданский брак\n",
       "2     18                 2         вдовец / вдова\n",
       "3     19                 3              в разводе\n",
       "4     24                 4  Не женат / не замужем"
      ]
     },
     "metadata": {},
     "output_type": "display_data"
    }
   ],
   "source": [
    "display(family_status_df)"
   ]
  },
  {
   "cell_type": "code",
   "execution_count": 42,
   "id": "2d4c3f0d",
   "metadata": {},
   "outputs": [
    {
     "data": {
      "text/html": [
       "<div>\n",
       "<style scoped>\n",
       "    .dataframe tbody tr th:only-of-type {\n",
       "        vertical-align: middle;\n",
       "    }\n",
       "\n",
       "    .dataframe tbody tr th {\n",
       "        vertical-align: top;\n",
       "    }\n",
       "\n",
       "    .dataframe thead th {\n",
       "        text-align: right;\n",
       "    }\n",
       "</style>\n",
       "<table border=\"1\" class=\"dataframe\">\n",
       "  <thead>\n",
       "    <tr style=\"text-align: right;\">\n",
       "      <th></th>\n",
       "      <th>index</th>\n",
       "      <th>children</th>\n",
       "      <th>days_employed</th>\n",
       "      <th>dob_years</th>\n",
       "      <th>education_id</th>\n",
       "      <th>family_status_id</th>\n",
       "      <th>gender</th>\n",
       "      <th>income_type</th>\n",
       "      <th>debt</th>\n",
       "      <th>total_income</th>\n",
       "      <th>purpose</th>\n",
       "    </tr>\n",
       "  </thead>\n",
       "  <tbody>\n",
       "    <tr>\n",
       "      <td>0</td>\n",
       "      <td>0</td>\n",
       "      <td>1</td>\n",
       "      <td>253875.639453</td>\n",
       "      <td>42</td>\n",
       "      <td>0</td>\n",
       "      <td>0</td>\n",
       "      <td>F</td>\n",
       "      <td>сотрудник</td>\n",
       "      <td>0</td>\n",
       "      <td>253875</td>\n",
       "      <td>покупка жилья</td>\n",
       "    </tr>\n",
       "    <tr>\n",
       "      <td>1</td>\n",
       "      <td>1</td>\n",
       "      <td>1</td>\n",
       "      <td>112080.014102</td>\n",
       "      <td>36</td>\n",
       "      <td>1</td>\n",
       "      <td>0</td>\n",
       "      <td>F</td>\n",
       "      <td>сотрудник</td>\n",
       "      <td>0</td>\n",
       "      <td>112080</td>\n",
       "      <td>приобретение автомобиля</td>\n",
       "    </tr>\n",
       "    <tr>\n",
       "      <td>2</td>\n",
       "      <td>2</td>\n",
       "      <td>0</td>\n",
       "      <td>145885.952297</td>\n",
       "      <td>33</td>\n",
       "      <td>1</td>\n",
       "      <td>0</td>\n",
       "      <td>M</td>\n",
       "      <td>сотрудник</td>\n",
       "      <td>0</td>\n",
       "      <td>145885</td>\n",
       "      <td>покупка жилья</td>\n",
       "    </tr>\n",
       "    <tr>\n",
       "      <td>3</td>\n",
       "      <td>3</td>\n",
       "      <td>3</td>\n",
       "      <td>267628.550329</td>\n",
       "      <td>32</td>\n",
       "      <td>1</td>\n",
       "      <td>0</td>\n",
       "      <td>M</td>\n",
       "      <td>сотрудник</td>\n",
       "      <td>0</td>\n",
       "      <td>267628</td>\n",
       "      <td>дополнительное образование</td>\n",
       "    </tr>\n",
       "    <tr>\n",
       "      <td>4</td>\n",
       "      <td>4</td>\n",
       "      <td>0</td>\n",
       "      <td>158616.077870</td>\n",
       "      <td>53</td>\n",
       "      <td>1</td>\n",
       "      <td>1</td>\n",
       "      <td>F</td>\n",
       "      <td>пенсионер</td>\n",
       "      <td>0</td>\n",
       "      <td>158616</td>\n",
       "      <td>сыграть свадьбу</td>\n",
       "    </tr>\n",
       "    <tr>\n",
       "      <td>...</td>\n",
       "      <td>...</td>\n",
       "      <td>...</td>\n",
       "      <td>...</td>\n",
       "      <td>...</td>\n",
       "      <td>...</td>\n",
       "      <td>...</td>\n",
       "      <td>...</td>\n",
       "      <td>...</td>\n",
       "      <td>...</td>\n",
       "      <td>...</td>\n",
       "      <td>...</td>\n",
       "    </tr>\n",
       "    <tr>\n",
       "      <td>21466</td>\n",
       "      <td>21520</td>\n",
       "      <td>1</td>\n",
       "      <td>224791.862382</td>\n",
       "      <td>43</td>\n",
       "      <td>1</td>\n",
       "      <td>1</td>\n",
       "      <td>F</td>\n",
       "      <td>компаньон</td>\n",
       "      <td>0</td>\n",
       "      <td>224791</td>\n",
       "      <td>операции с жильем</td>\n",
       "    </tr>\n",
       "    <tr>\n",
       "      <td>21467</td>\n",
       "      <td>21521</td>\n",
       "      <td>0</td>\n",
       "      <td>155999.806512</td>\n",
       "      <td>67</td>\n",
       "      <td>1</td>\n",
       "      <td>0</td>\n",
       "      <td>F</td>\n",
       "      <td>пенсионер</td>\n",
       "      <td>0</td>\n",
       "      <td>155999</td>\n",
       "      <td>сделка с автомобилем</td>\n",
       "    </tr>\n",
       "    <tr>\n",
       "      <td>21468</td>\n",
       "      <td>21522</td>\n",
       "      <td>1</td>\n",
       "      <td>89672.561153</td>\n",
       "      <td>38</td>\n",
       "      <td>1</td>\n",
       "      <td>1</td>\n",
       "      <td>M</td>\n",
       "      <td>сотрудник</td>\n",
       "      <td>1</td>\n",
       "      <td>89672</td>\n",
       "      <td>недвижимость</td>\n",
       "    </tr>\n",
       "    <tr>\n",
       "      <td>21469</td>\n",
       "      <td>21523</td>\n",
       "      <td>3</td>\n",
       "      <td>244093.050500</td>\n",
       "      <td>38</td>\n",
       "      <td>1</td>\n",
       "      <td>0</td>\n",
       "      <td>M</td>\n",
       "      <td>сотрудник</td>\n",
       "      <td>1</td>\n",
       "      <td>244093</td>\n",
       "      <td>на покупку своего автомобиля</td>\n",
       "    </tr>\n",
       "    <tr>\n",
       "      <td>21470</td>\n",
       "      <td>21524</td>\n",
       "      <td>2</td>\n",
       "      <td>82047.418899</td>\n",
       "      <td>40</td>\n",
       "      <td>1</td>\n",
       "      <td>0</td>\n",
       "      <td>F</td>\n",
       "      <td>сотрудник</td>\n",
       "      <td>0</td>\n",
       "      <td>82047</td>\n",
       "      <td>на покупку автомобиля</td>\n",
       "    </tr>\n",
       "  </tbody>\n",
       "</table>\n",
       "<p>21471 rows × 11 columns</p>\n",
       "</div>"
      ],
      "text/plain": [
       "       index  children  days_employed  dob_years  education_id  \\\n",
       "0          0         1  253875.639453         42             0   \n",
       "1          1         1  112080.014102         36             1   \n",
       "2          2         0  145885.952297         33             1   \n",
       "3          3         3  267628.550329         32             1   \n",
       "4          4         0  158616.077870         53             1   \n",
       "...      ...       ...            ...        ...           ...   \n",
       "21466  21520         1  224791.862382         43             1   \n",
       "21467  21521         0  155999.806512         67             1   \n",
       "21468  21522         1   89672.561153         38             1   \n",
       "21469  21523         3  244093.050500         38             1   \n",
       "21470  21524         2   82047.418899         40             1   \n",
       "\n",
       "       family_status_id gender income_type  debt  total_income  \\\n",
       "0                     0      F   сотрудник     0        253875   \n",
       "1                     0      F   сотрудник     0        112080   \n",
       "2                     0      M   сотрудник     0        145885   \n",
       "3                     0      M   сотрудник     0        267628   \n",
       "4                     1      F   пенсионер     0        158616   \n",
       "...                 ...    ...         ...   ...           ...   \n",
       "21466                 1      F   компаньон     0        224791   \n",
       "21467                 0      F   пенсионер     0        155999   \n",
       "21468                 1      M   сотрудник     1         89672   \n",
       "21469                 0      M   сотрудник     1        244093   \n",
       "21470                 0      F   сотрудник     0         82047   \n",
       "\n",
       "                            purpose  \n",
       "0                     покупка жилья  \n",
       "1           приобретение автомобиля  \n",
       "2                     покупка жилья  \n",
       "3        дополнительное образование  \n",
       "4                   сыграть свадьбу  \n",
       "...                             ...  \n",
       "21466             операции с жильем  \n",
       "21467          сделка с автомобилем  \n",
       "21468                  недвижимость  \n",
       "21469  на покупку своего автомобиля  \n",
       "21470         на покупку автомобиля  \n",
       "\n",
       "[21471 rows x 11 columns]"
      ]
     },
     "execution_count": 42,
     "metadata": {},
     "output_type": "execute_result"
    }
   ],
   "source": [
    "df.drop(['family_status', 'education'], axis=1) # удаление столбцов family_status и education"
   ]
  },
  {
   "cell_type": "markdown",
   "id": "8b2ee099",
   "metadata": {},
   "source": [
    "### Шаг 2.6. Категоризация дохода."
   ]
  },
  {
   "cell_type": "code",
   "execution_count": 43,
   "id": "a6843e08",
   "metadata": {},
   "outputs": [
    {
     "data": {
      "text/html": [
       "<div>\n",
       "<style scoped>\n",
       "    .dataframe tbody tr th:only-of-type {\n",
       "        vertical-align: middle;\n",
       "    }\n",
       "\n",
       "    .dataframe tbody tr th {\n",
       "        vertical-align: top;\n",
       "    }\n",
       "\n",
       "    .dataframe thead th {\n",
       "        text-align: right;\n",
       "    }\n",
       "</style>\n",
       "<table border=\"1\" class=\"dataframe\">\n",
       "  <thead>\n",
       "    <tr style=\"text-align: right;\">\n",
       "      <th></th>\n",
       "      <th>index</th>\n",
       "      <th>children</th>\n",
       "      <th>days_employed</th>\n",
       "      <th>dob_years</th>\n",
       "      <th>education</th>\n",
       "      <th>education_id</th>\n",
       "      <th>family_status</th>\n",
       "      <th>family_status_id</th>\n",
       "      <th>gender</th>\n",
       "      <th>income_type</th>\n",
       "      <th>debt</th>\n",
       "      <th>total_income</th>\n",
       "      <th>purpose</th>\n",
       "      <th>total_income_category</th>\n",
       "    </tr>\n",
       "  </thead>\n",
       "  <tbody>\n",
       "    <tr>\n",
       "      <td>0</td>\n",
       "      <td>0</td>\n",
       "      <td>1</td>\n",
       "      <td>253875.639453</td>\n",
       "      <td>42</td>\n",
       "      <td>высшее</td>\n",
       "      <td>0</td>\n",
       "      <td>женат / замужем</td>\n",
       "      <td>0</td>\n",
       "      <td>F</td>\n",
       "      <td>сотрудник</td>\n",
       "      <td>0</td>\n",
       "      <td>253875</td>\n",
       "      <td>покупка жилья</td>\n",
       "      <td>B</td>\n",
       "    </tr>\n",
       "    <tr>\n",
       "      <td>1</td>\n",
       "      <td>1</td>\n",
       "      <td>1</td>\n",
       "      <td>112080.014102</td>\n",
       "      <td>36</td>\n",
       "      <td>среднее</td>\n",
       "      <td>1</td>\n",
       "      <td>женат / замужем</td>\n",
       "      <td>0</td>\n",
       "      <td>F</td>\n",
       "      <td>сотрудник</td>\n",
       "      <td>0</td>\n",
       "      <td>112080</td>\n",
       "      <td>приобретение автомобиля</td>\n",
       "      <td>C</td>\n",
       "    </tr>\n",
       "    <tr>\n",
       "      <td>2</td>\n",
       "      <td>2</td>\n",
       "      <td>0</td>\n",
       "      <td>145885.952297</td>\n",
       "      <td>33</td>\n",
       "      <td>среднее</td>\n",
       "      <td>1</td>\n",
       "      <td>женат / замужем</td>\n",
       "      <td>0</td>\n",
       "      <td>M</td>\n",
       "      <td>сотрудник</td>\n",
       "      <td>0</td>\n",
       "      <td>145885</td>\n",
       "      <td>покупка жилья</td>\n",
       "      <td>C</td>\n",
       "    </tr>\n",
       "    <tr>\n",
       "      <td>3</td>\n",
       "      <td>3</td>\n",
       "      <td>3</td>\n",
       "      <td>267628.550329</td>\n",
       "      <td>32</td>\n",
       "      <td>среднее</td>\n",
       "      <td>1</td>\n",
       "      <td>женат / замужем</td>\n",
       "      <td>0</td>\n",
       "      <td>M</td>\n",
       "      <td>сотрудник</td>\n",
       "      <td>0</td>\n",
       "      <td>267628</td>\n",
       "      <td>дополнительное образование</td>\n",
       "      <td>B</td>\n",
       "    </tr>\n",
       "    <tr>\n",
       "      <td>4</td>\n",
       "      <td>4</td>\n",
       "      <td>0</td>\n",
       "      <td>158616.077870</td>\n",
       "      <td>53</td>\n",
       "      <td>среднее</td>\n",
       "      <td>1</td>\n",
       "      <td>гражданский брак</td>\n",
       "      <td>1</td>\n",
       "      <td>F</td>\n",
       "      <td>пенсионер</td>\n",
       "      <td>0</td>\n",
       "      <td>158616</td>\n",
       "      <td>сыграть свадьбу</td>\n",
       "      <td>C</td>\n",
       "    </tr>\n",
       "    <tr>\n",
       "      <td>5</td>\n",
       "      <td>5</td>\n",
       "      <td>0</td>\n",
       "      <td>255763.565419</td>\n",
       "      <td>27</td>\n",
       "      <td>высшее</td>\n",
       "      <td>0</td>\n",
       "      <td>гражданский брак</td>\n",
       "      <td>1</td>\n",
       "      <td>M</td>\n",
       "      <td>компаньон</td>\n",
       "      <td>0</td>\n",
       "      <td>255763</td>\n",
       "      <td>покупка жилья</td>\n",
       "      <td>B</td>\n",
       "    </tr>\n",
       "    <tr>\n",
       "      <td>6</td>\n",
       "      <td>6</td>\n",
       "      <td>0</td>\n",
       "      <td>240525.971920</td>\n",
       "      <td>43</td>\n",
       "      <td>высшее</td>\n",
       "      <td>0</td>\n",
       "      <td>женат / замужем</td>\n",
       "      <td>0</td>\n",
       "      <td>F</td>\n",
       "      <td>компаньон</td>\n",
       "      <td>0</td>\n",
       "      <td>240525</td>\n",
       "      <td>операции с жильем</td>\n",
       "      <td>B</td>\n",
       "    </tr>\n",
       "    <tr>\n",
       "      <td>7</td>\n",
       "      <td>7</td>\n",
       "      <td>0</td>\n",
       "      <td>135823.934197</td>\n",
       "      <td>50</td>\n",
       "      <td>среднее</td>\n",
       "      <td>1</td>\n",
       "      <td>женат / замужем</td>\n",
       "      <td>0</td>\n",
       "      <td>M</td>\n",
       "      <td>сотрудник</td>\n",
       "      <td>0</td>\n",
       "      <td>135823</td>\n",
       "      <td>образование</td>\n",
       "      <td>C</td>\n",
       "    </tr>\n",
       "    <tr>\n",
       "      <td>8</td>\n",
       "      <td>8</td>\n",
       "      <td>2</td>\n",
       "      <td>95856.832424</td>\n",
       "      <td>35</td>\n",
       "      <td>высшее</td>\n",
       "      <td>0</td>\n",
       "      <td>гражданский брак</td>\n",
       "      <td>1</td>\n",
       "      <td>F</td>\n",
       "      <td>сотрудник</td>\n",
       "      <td>0</td>\n",
       "      <td>95856</td>\n",
       "      <td>на проведение свадьбы</td>\n",
       "      <td>C</td>\n",
       "    </tr>\n",
       "    <tr>\n",
       "      <td>9</td>\n",
       "      <td>9</td>\n",
       "      <td>0</td>\n",
       "      <td>144425.938277</td>\n",
       "      <td>41</td>\n",
       "      <td>среднее</td>\n",
       "      <td>1</td>\n",
       "      <td>женат / замужем</td>\n",
       "      <td>0</td>\n",
       "      <td>M</td>\n",
       "      <td>сотрудник</td>\n",
       "      <td>0</td>\n",
       "      <td>144425</td>\n",
       "      <td>покупка жилья для семьи</td>\n",
       "      <td>C</td>\n",
       "    </tr>\n",
       "  </tbody>\n",
       "</table>\n",
       "</div>"
      ],
      "text/plain": [
       "   index  children  days_employed  dob_years education  education_id  \\\n",
       "0      0         1  253875.639453         42    высшее             0   \n",
       "1      1         1  112080.014102         36   среднее             1   \n",
       "2      2         0  145885.952297         33   среднее             1   \n",
       "3      3         3  267628.550329         32   среднее             1   \n",
       "4      4         0  158616.077870         53   среднее             1   \n",
       "5      5         0  255763.565419         27    высшее             0   \n",
       "6      6         0  240525.971920         43    высшее             0   \n",
       "7      7         0  135823.934197         50   среднее             1   \n",
       "8      8         2   95856.832424         35    высшее             0   \n",
       "9      9         0  144425.938277         41   среднее             1   \n",
       "\n",
       "      family_status  family_status_id gender income_type  debt  total_income  \\\n",
       "0   женат / замужем                 0      F   сотрудник     0        253875   \n",
       "1   женат / замужем                 0      F   сотрудник     0        112080   \n",
       "2   женат / замужем                 0      M   сотрудник     0        145885   \n",
       "3   женат / замужем                 0      M   сотрудник     0        267628   \n",
       "4  гражданский брак                 1      F   пенсионер     0        158616   \n",
       "5  гражданский брак                 1      M   компаньон     0        255763   \n",
       "6   женат / замужем                 0      F   компаньон     0        240525   \n",
       "7   женат / замужем                 0      M   сотрудник     0        135823   \n",
       "8  гражданский брак                 1      F   сотрудник     0         95856   \n",
       "9   женат / замужем                 0      M   сотрудник     0        144425   \n",
       "\n",
       "                      purpose total_income_category  \n",
       "0               покупка жилья                     B  \n",
       "1     приобретение автомобиля                     C  \n",
       "2               покупка жилья                     C  \n",
       "3  дополнительное образование                     B  \n",
       "4             сыграть свадьбу                     C  \n",
       "5               покупка жилья                     B  \n",
       "6           операции с жильем                     B  \n",
       "7                 образование                     C  \n",
       "8       на проведение свадьбы                     C  \n",
       "9     покупка жилья для семьи                     C  "
      ]
     },
     "metadata": {},
     "output_type": "display_data"
    }
   ],
   "source": [
    "def total_income_category(row):                      # создание функции для создания нового столбца total_income_category\n",
    "    total_income = row['total_income']\n",
    "    if 0 <= total_income <= 30000:\n",
    "        return 'E'        \n",
    "    if 30001 <= total_income <= 50000:\n",
    "        return 'D'        \n",
    "    if 50001 <= total_income <= 200000:\n",
    "        return 'C'  \n",
    "    if 200001 <= total_income <= 1000000:\n",
    "        return 'B'  \n",
    "    return 'A'\n",
    "\n",
    "df['total_income_category'] = df.apply(total_income_category, axis=1)\n",
    "display(df.head(10))"
   ]
  },
  {
   "cell_type": "code",
   "execution_count": 44,
   "id": "2d5d0568",
   "metadata": {},
   "outputs": [
    {
     "data": {
      "text/plain": [
       "C    16032\n",
       "B     5042\n",
       "D      350\n",
       "A       25\n",
       "E       22\n",
       "Name: total_income_category, dtype: int64"
      ]
     },
     "execution_count": 44,
     "metadata": {},
     "output_type": "execute_result"
    }
   ],
   "source": [
    "df['total_income_category'].value_counts() # проверяем не осталось ли строк без категории"
   ]
  },
  {
   "cell_type": "markdown",
   "id": "0551b53e",
   "metadata": {},
   "source": [
    "### Шаг 2.7. Категоризация целей кредита."
   ]
  },
  {
   "cell_type": "code",
   "execution_count": 45,
   "id": "574c04a3",
   "metadata": {},
   "outputs": [
    {
     "data": {
      "text/plain": [
       "свадьба                                   793\n",
       "на проведение свадьбы                     773\n",
       "сыграть свадьбу                           769\n",
       "операции с недвижимостью                  675\n",
       "покупка коммерческой недвижимости         662\n",
       "операции с жильем                         652\n",
       "покупка жилья для сдачи                   652\n",
       "операции с коммерческой недвижимостью     650\n",
       "покупка жилья                             646\n",
       "жилье                                     646\n",
       "покупка жилья для семьи                   638\n",
       "строительство собственной недвижимости    635\n",
       "недвижимость                              633\n",
       "операции со своей недвижимостью           627\n",
       "строительство жилой недвижимости          625\n",
       "покупка недвижимости                      621\n",
       "покупка своего жилья                      620\n",
       "строительство недвижимости                619\n",
       "ремонт жилью                              607\n",
       "покупка жилой недвижимости                606\n",
       "на покупку своего автомобиля              505\n",
       "заняться высшим образованием              496\n",
       "автомобиль                                494\n",
       "сделка с подержанным автомобилем          486\n",
       "свой автомобиль                           479\n",
       "автомобили                                478\n",
       "на покупку подержанного автомобиля        478\n",
       "на покупку автомобиля                     472\n",
       "приобретение автомобиля                   461\n",
       "дополнительное образование                460\n",
       "сделка с автомобилем                      455\n",
       "высшее образование                        452\n",
       "образование                               447\n",
       "получение дополнительного образования     447\n",
       "получение образования                     442\n",
       "профильное образование                    436\n",
       "получение высшего образования             426\n",
       "заняться образованием                     408\n",
       "Name: purpose, dtype: int64"
      ]
     },
     "execution_count": 45,
     "metadata": {},
     "output_type": "execute_result"
    }
   ],
   "source": [
    "df['purpose'].value_counts()"
   ]
  },
  {
   "cell_type": "code",
   "execution_count": 46,
   "id": "d93d8645",
   "metadata": {},
   "outputs": [
    {
     "data": {
      "text/html": [
       "<div>\n",
       "<style scoped>\n",
       "    .dataframe tbody tr th:only-of-type {\n",
       "        vertical-align: middle;\n",
       "    }\n",
       "\n",
       "    .dataframe tbody tr th {\n",
       "        vertical-align: top;\n",
       "    }\n",
       "\n",
       "    .dataframe thead th {\n",
       "        text-align: right;\n",
       "    }\n",
       "</style>\n",
       "<table border=\"1\" class=\"dataframe\">\n",
       "  <thead>\n",
       "    <tr style=\"text-align: right;\">\n",
       "      <th></th>\n",
       "      <th>index</th>\n",
       "      <th>children</th>\n",
       "      <th>days_employed</th>\n",
       "      <th>dob_years</th>\n",
       "      <th>education</th>\n",
       "      <th>education_id</th>\n",
       "      <th>family_status</th>\n",
       "      <th>family_status_id</th>\n",
       "      <th>gender</th>\n",
       "      <th>income_type</th>\n",
       "      <th>debt</th>\n",
       "      <th>total_income</th>\n",
       "      <th>purpose</th>\n",
       "      <th>total_income_category</th>\n",
       "      <th>purpose_category</th>\n",
       "    </tr>\n",
       "  </thead>\n",
       "  <tbody>\n",
       "    <tr>\n",
       "      <td>0</td>\n",
       "      <td>0</td>\n",
       "      <td>1</td>\n",
       "      <td>253875.639453</td>\n",
       "      <td>42</td>\n",
       "      <td>высшее</td>\n",
       "      <td>0</td>\n",
       "      <td>женат / замужем</td>\n",
       "      <td>0</td>\n",
       "      <td>F</td>\n",
       "      <td>сотрудник</td>\n",
       "      <td>0</td>\n",
       "      <td>253875</td>\n",
       "      <td>покупка жилья</td>\n",
       "      <td>B</td>\n",
       "      <td>Операции с недвижимостью</td>\n",
       "    </tr>\n",
       "    <tr>\n",
       "      <td>1</td>\n",
       "      <td>1</td>\n",
       "      <td>1</td>\n",
       "      <td>112080.014102</td>\n",
       "      <td>36</td>\n",
       "      <td>среднее</td>\n",
       "      <td>1</td>\n",
       "      <td>женат / замужем</td>\n",
       "      <td>0</td>\n",
       "      <td>F</td>\n",
       "      <td>сотрудник</td>\n",
       "      <td>0</td>\n",
       "      <td>112080</td>\n",
       "      <td>приобретение автомобиля</td>\n",
       "      <td>C</td>\n",
       "      <td>Операции с автомобилем</td>\n",
       "    </tr>\n",
       "    <tr>\n",
       "      <td>2</td>\n",
       "      <td>2</td>\n",
       "      <td>0</td>\n",
       "      <td>145885.952297</td>\n",
       "      <td>33</td>\n",
       "      <td>среднее</td>\n",
       "      <td>1</td>\n",
       "      <td>женат / замужем</td>\n",
       "      <td>0</td>\n",
       "      <td>M</td>\n",
       "      <td>сотрудник</td>\n",
       "      <td>0</td>\n",
       "      <td>145885</td>\n",
       "      <td>покупка жилья</td>\n",
       "      <td>C</td>\n",
       "      <td>Операции с недвижимостью</td>\n",
       "    </tr>\n",
       "    <tr>\n",
       "      <td>3</td>\n",
       "      <td>3</td>\n",
       "      <td>3</td>\n",
       "      <td>267628.550329</td>\n",
       "      <td>32</td>\n",
       "      <td>среднее</td>\n",
       "      <td>1</td>\n",
       "      <td>женат / замужем</td>\n",
       "      <td>0</td>\n",
       "      <td>M</td>\n",
       "      <td>сотрудник</td>\n",
       "      <td>0</td>\n",
       "      <td>267628</td>\n",
       "      <td>дополнительное образование</td>\n",
       "      <td>B</td>\n",
       "      <td>Получение образования</td>\n",
       "    </tr>\n",
       "    <tr>\n",
       "      <td>4</td>\n",
       "      <td>4</td>\n",
       "      <td>0</td>\n",
       "      <td>158616.077870</td>\n",
       "      <td>53</td>\n",
       "      <td>среднее</td>\n",
       "      <td>1</td>\n",
       "      <td>гражданский брак</td>\n",
       "      <td>1</td>\n",
       "      <td>F</td>\n",
       "      <td>пенсионер</td>\n",
       "      <td>0</td>\n",
       "      <td>158616</td>\n",
       "      <td>сыграть свадьбу</td>\n",
       "      <td>C</td>\n",
       "      <td>Проведение свадьбы</td>\n",
       "    </tr>\n",
       "    <tr>\n",
       "      <td>5</td>\n",
       "      <td>5</td>\n",
       "      <td>0</td>\n",
       "      <td>255763.565419</td>\n",
       "      <td>27</td>\n",
       "      <td>высшее</td>\n",
       "      <td>0</td>\n",
       "      <td>гражданский брак</td>\n",
       "      <td>1</td>\n",
       "      <td>M</td>\n",
       "      <td>компаньон</td>\n",
       "      <td>0</td>\n",
       "      <td>255763</td>\n",
       "      <td>покупка жилья</td>\n",
       "      <td>B</td>\n",
       "      <td>Операции с недвижимостью</td>\n",
       "    </tr>\n",
       "    <tr>\n",
       "      <td>6</td>\n",
       "      <td>6</td>\n",
       "      <td>0</td>\n",
       "      <td>240525.971920</td>\n",
       "      <td>43</td>\n",
       "      <td>высшее</td>\n",
       "      <td>0</td>\n",
       "      <td>женат / замужем</td>\n",
       "      <td>0</td>\n",
       "      <td>F</td>\n",
       "      <td>компаньон</td>\n",
       "      <td>0</td>\n",
       "      <td>240525</td>\n",
       "      <td>операции с жильем</td>\n",
       "      <td>B</td>\n",
       "      <td>Операции с недвижимостью</td>\n",
       "    </tr>\n",
       "    <tr>\n",
       "      <td>7</td>\n",
       "      <td>7</td>\n",
       "      <td>0</td>\n",
       "      <td>135823.934197</td>\n",
       "      <td>50</td>\n",
       "      <td>среднее</td>\n",
       "      <td>1</td>\n",
       "      <td>женат / замужем</td>\n",
       "      <td>0</td>\n",
       "      <td>M</td>\n",
       "      <td>сотрудник</td>\n",
       "      <td>0</td>\n",
       "      <td>135823</td>\n",
       "      <td>образование</td>\n",
       "      <td>C</td>\n",
       "      <td>Получение образования</td>\n",
       "    </tr>\n",
       "    <tr>\n",
       "      <td>8</td>\n",
       "      <td>8</td>\n",
       "      <td>2</td>\n",
       "      <td>95856.832424</td>\n",
       "      <td>35</td>\n",
       "      <td>высшее</td>\n",
       "      <td>0</td>\n",
       "      <td>гражданский брак</td>\n",
       "      <td>1</td>\n",
       "      <td>F</td>\n",
       "      <td>сотрудник</td>\n",
       "      <td>0</td>\n",
       "      <td>95856</td>\n",
       "      <td>на проведение свадьбы</td>\n",
       "      <td>C</td>\n",
       "      <td>Проведение свадьбы</td>\n",
       "    </tr>\n",
       "    <tr>\n",
       "      <td>9</td>\n",
       "      <td>9</td>\n",
       "      <td>0</td>\n",
       "      <td>144425.938277</td>\n",
       "      <td>41</td>\n",
       "      <td>среднее</td>\n",
       "      <td>1</td>\n",
       "      <td>женат / замужем</td>\n",
       "      <td>0</td>\n",
       "      <td>M</td>\n",
       "      <td>сотрудник</td>\n",
       "      <td>0</td>\n",
       "      <td>144425</td>\n",
       "      <td>покупка жилья для семьи</td>\n",
       "      <td>C</td>\n",
       "      <td>Операции с недвижимостью</td>\n",
       "    </tr>\n",
       "  </tbody>\n",
       "</table>\n",
       "</div>"
      ],
      "text/plain": [
       "   index  children  days_employed  dob_years education  education_id  \\\n",
       "0      0         1  253875.639453         42    высшее             0   \n",
       "1      1         1  112080.014102         36   среднее             1   \n",
       "2      2         0  145885.952297         33   среднее             1   \n",
       "3      3         3  267628.550329         32   среднее             1   \n",
       "4      4         0  158616.077870         53   среднее             1   \n",
       "5      5         0  255763.565419         27    высшее             0   \n",
       "6      6         0  240525.971920         43    высшее             0   \n",
       "7      7         0  135823.934197         50   среднее             1   \n",
       "8      8         2   95856.832424         35    высшее             0   \n",
       "9      9         0  144425.938277         41   среднее             1   \n",
       "\n",
       "      family_status  family_status_id gender income_type  debt  total_income  \\\n",
       "0   женат / замужем                 0      F   сотрудник     0        253875   \n",
       "1   женат / замужем                 0      F   сотрудник     0        112080   \n",
       "2   женат / замужем                 0      M   сотрудник     0        145885   \n",
       "3   женат / замужем                 0      M   сотрудник     0        267628   \n",
       "4  гражданский брак                 1      F   пенсионер     0        158616   \n",
       "5  гражданский брак                 1      M   компаньон     0        255763   \n",
       "6   женат / замужем                 0      F   компаньон     0        240525   \n",
       "7   женат / замужем                 0      M   сотрудник     0        135823   \n",
       "8  гражданский брак                 1      F   сотрудник     0         95856   \n",
       "9   женат / замужем                 0      M   сотрудник     0        144425   \n",
       "\n",
       "                      purpose total_income_category          purpose_category  \n",
       "0               покупка жилья                     B  Операции с недвижимостью  \n",
       "1     приобретение автомобиля                     C    Операции с автомобилем  \n",
       "2               покупка жилья                     C  Операции с недвижимостью  \n",
       "3  дополнительное образование                     B     Получение образования  \n",
       "4             сыграть свадьбу                     C        Проведение свадьбы  \n",
       "5               покупка жилья                     B  Операции с недвижимостью  \n",
       "6           операции с жильем                     B  Операции с недвижимостью  \n",
       "7                 образование                     C     Получение образования  \n",
       "8       на проведение свадьбы                     C        Проведение свадьбы  \n",
       "9     покупка жилья для семьи                     C  Операции с недвижимостью  "
      ]
     },
     "metadata": {},
     "output_type": "display_data"
    }
   ],
   "source": [
    "def purpose_category(row):    # создание функции для создания нового столбца purpose_category\n",
    "    purpose = row['purpose']\n",
    "    if 'автом' in purpose:\n",
    "        return 'Операции с автомобилем'        \n",
    "    if 'недвиж' in purpose:\n",
    "        return 'Операции с недвижимостью'\n",
    "    if 'жиль' in purpose:\n",
    "        return 'Операции с недвижимостью'\n",
    "    if 'свадьб' in purpose:\n",
    "        return 'Проведение свадьбы'  \n",
    "    if 'образов' in purpose:\n",
    "        return 'Получение образования'  \n",
    "    \n",
    "df['purpose_category'] = df.apply(purpose_category, axis=1)\n",
    "display(df.head(10))"
   ]
  },
  {
   "cell_type": "code",
   "execution_count": 47,
   "id": "9ef795e7",
   "metadata": {},
   "outputs": [
    {
     "data": {
      "text/plain": [
       "Операции с недвижимостью    10814\n",
       "Операции с автомобилем       4308\n",
       "Получение образования        4014\n",
       "Проведение свадьбы           2335\n",
       "Name: purpose_category, dtype: int64"
      ]
     },
     "execution_count": 47,
     "metadata": {},
     "output_type": "execute_result"
    }
   ],
   "source": [
    "df['purpose_category'].value_counts() # проверяем не осталось ли строк без категории"
   ]
  },
  {
   "cell_type": "markdown",
   "id": "ea463dd5",
   "metadata": {},
   "source": [
    "### Шаг 3. Рассмотрим какие признаки могут влиять на возврат кредита в срок"
   ]
  },
  {
   "cell_type": "markdown",
   "id": "2e8ebea2",
   "metadata": {},
   "source": [
    "#### Вопрос 1. Есть ли зависимость между количеством детей и возвратом кредита в срок?"
   ]
  },
  {
   "cell_type": "code",
   "execution_count": 48,
   "id": "9da26d4b",
   "metadata": {},
   "outputs": [
    {
     "name": "stdout",
     "output_type": "stream",
     "text": [
      "children        0       1       2      3     4    5\n",
      "debt                                               \n",
      "0         13044.0  4411.0  1926.0  303.0  37.0  9.0\n",
      "1          1063.0   445.0   202.0   27.0   4.0  NaN\n"
     ]
    }
   ],
   "source": [
    "df_pivot_children = df.pivot_table(index=['debt'], columns='children', values = 'family_status_id', aggfunc='count')\n",
    "print(df_pivot_children)"
   ]
  },
  {
   "cell_type": "code",
   "execution_count": 49,
   "id": "88c36e69",
   "metadata": {},
   "outputs": [
    {
     "name": "stdout",
     "output_type": "stream",
     "text": [
      "7.54% Нет детей\n",
      "9.16% 1 Ребенок\n",
      "9.49% 2 Ребенка\n",
      "8.18% 3 Ребенка\n",
      "9.76% 4 Ребенка\n"
     ]
    }
   ],
   "source": [
    "ch0 = df_pivot_children[0][1] / (df_pivot_children[0][0] + df_pivot_children[0][1])\n",
    "ch1 = df_pivot_children[1][1] / (df_pivot_children[1][0] + df_pivot_children[1][1])\n",
    "ch2 = df_pivot_children[2][1] / (df_pivot_children[2][0] + df_pivot_children[2][1])\n",
    "ch3 = df_pivot_children[3][1] / (df_pivot_children[3][0] + df_pivot_children[3][1])\n",
    "ch4 = df_pivot_children[4][1] / (df_pivot_children[4][0] + df_pivot_children[4][1])\n",
    "\n",
    "print(\"{0:.2f}% Нет детей\".format(ch0*100))\n",
    "print(\"{0:.2f}% 1 Ребенок\".format(ch1*100))\n",
    "print(\"{0:.2f}% 2 Ребенка\".format(ch2*100))\n",
    "print(\"{0:.2f}% 3 Ребенка\".format(ch3*100))\n",
    "print(\"{0:.2f}% 4 Ребенка\".format(ch4*100))"
   ]
  },
  {
   "cell_type": "markdown",
   "id": "9d46b640",
   "metadata": {},
   "source": [
    "С увеличением количества детей растет вероятность невыплаты кредита в срок. Хотя люди с тремя детьми выплачивают кредит в срок чаще, чем люди с одним ребенком, но все равно реже, чем люди без детей."
   ]
  },
  {
   "cell_type": "markdown",
   "id": "d03cb19d",
   "metadata": {},
   "source": [
    "#### Вопрос 2. Есть ли зависимость между семейным положением и возвратом кредита в срок?"
   ]
  },
  {
   "cell_type": "code",
   "execution_count": 50,
   "id": "6ef4016c",
   "metadata": {},
   "outputs": [
    {
     "name": "stdout",
     "output_type": "stream",
     "text": [
      "debt                       0    1\n",
      "family_status                    \n",
      "Не женат / не замужем   2536  274\n",
      "в разводе               1110   85\n",
      "вдовец / вдова           896   63\n",
      "гражданский брак        3775  388\n",
      "женат / замужем        11413  931\n"
     ]
    }
   ],
   "source": [
    "df_family_status = df.pivot_table(index=['family_status'], columns='debt', values='family_status_id', aggfunc='count')\n",
    "print(df_family_status)"
   ]
  },
  {
   "cell_type": "code",
   "execution_count": 51,
   "id": "02e460a6",
   "metadata": {},
   "outputs": [
    {
     "name": "stdout",
     "output_type": "stream",
     "text": [
      "9.75% Не женат / не замужем\n",
      "9.32% гражданский брак\n",
      "7.54% женат / замужем\n",
      "7.11% в разводе\n",
      "6.57% вдовец / вдова\n"
     ]
    }
   ],
   "source": [
    "no_family = df_family_status[1][0] / (df_family_status[0][0] + df_family_status[1][0])\n",
    "divorce = df_family_status[1][1] / (df_family_status[0][1] + df_family_status[1][1])\n",
    "widower = df_family_status[1][2] / (df_family_status[0][2] + df_family_status[1][2])\n",
    "partner = df_family_status[1][3] / (df_family_status[0][3] + df_family_status[1][3])\n",
    "family = df_family_status[1][4] / (df_family_status[0][4] + df_family_status[1][4])\n",
    "print(\"{0:.2f}% Не женат / не замужем\".format(no_family*100))\n",
    "print(\"{0:.2f}% гражданский брак\".format(partner*100))\n",
    "print(\"{0:.2f}% женат / замужем\".format(family*100))\n",
    "print(\"{0:.2f}% в разводе\".format(divorce*100))\n",
    "print(\"{0:.2f}% вдовец / вдова\".format(widower*100))"
   ]
  },
  {
   "cell_type": "markdown",
   "id": "b5df93f9",
   "metadata": {},
   "source": [
    "Есть зависимость между семейным положением и возвратом кредита в срок. Люди не в браке или в гражданском браке реже выплачивают кредит в срок. "
   ]
  },
  {
   "cell_type": "markdown",
   "id": "1c30a9a5",
   "metadata": {},
   "source": [
    "#### Вопрос 3. Есть ли зависимость между уровнем дохода и возвратом кредита в срок?"
   ]
  },
  {
   "cell_type": "code",
   "execution_count": 52,
   "id": "8a3c504f",
   "metadata": {},
   "outputs": [
    {
     "name": "stdout",
     "output_type": "stream",
     "text": [
      "debt                       0     1\n",
      "total_income_category             \n",
      "A                         23     2\n",
      "B                       4686   356\n",
      "C                      14672  1360\n",
      "D                        329    21\n",
      "E                         20     2\n"
     ]
    }
   ],
   "source": [
    "df_pivot_total_income = df.pivot_table(index=['total_income_category'], columns='debt', values='index', aggfunc='count')\n",
    "print(df_pivot_total_income) "
   ]
  },
  {
   "cell_type": "code",
   "execution_count": 53,
   "id": "9c1c31f8",
   "metadata": {},
   "outputs": [
    {
     "name": "stdout",
     "output_type": "stream",
     "text": [
      "У 9.09% заработок до 30000\n",
      "У 8.48% заработок больше 50001 и меньше 200000\n",
      "У 8.00% заработок больше 1000000\n",
      "У 7.06% заработок больше 200001 и меньше 1000000\n",
      "У 6.00% заработок больше 30001 и меньше 50000\n"
     ]
    }
   ],
   "source": [
    "a_category = df_pivot_total_income[1][0] / (df_pivot_total_income[0][0] + df_pivot_total_income[1][0])\n",
    "b_category = df_pivot_total_income[1][1] / (df_pivot_total_income[0][1] + df_pivot_total_income[1][1])\n",
    "c_category = df_pivot_total_income[1][2] / (df_pivot_total_income[0][2] + df_pivot_total_income[1][2])\n",
    "d_category = df_pivot_total_income[1][3] / (df_pivot_total_income[0][3] + df_pivot_total_income[1][3])\n",
    "e_category = df_pivot_total_income[1][4] / (df_pivot_total_income[0][4] + df_pivot_total_income[1][4])\n",
    "print(\"У {0:.2f}% заработок до 30000\".format(e_category*100))\n",
    "print(\"У {0:.2f}% заработок больше 50001 и меньше 200000\".format(c_category*100))\n",
    "print(\"У {0:.2f}% заработок больше 1000000\".format(a_category*100))\n",
    "print(\"У {0:.2f}% заработок больше 200001 и меньше 1000000\".format(b_category*100))\n",
    "print(\"У {0:.2f}% заработок больше 30001 и меньше 50000\".format(d_category*100))"
   ]
  },
  {
   "cell_type": "markdown",
   "id": "8aff810c",
   "metadata": {},
   "source": [
    "Люди с наименьшим доходом реже выплачивают кредит в срок. В целом явной зависимости скоре нет. Однако люди с заработком больше 30001 и меньше 50000 чаще выплачивают кредит в срок, а люди с заработком до 30000 реже выплачивают кредит в срок."
   ]
  },
  {
   "cell_type": "markdown",
   "id": "39374966",
   "metadata": {},
   "source": [
    "#### Вопрос 4. Как разные цели кредита влияют на его возврат в срок?"
   ]
  },
  {
   "cell_type": "code",
   "execution_count": 54,
   "id": "8dc55498",
   "metadata": {},
   "outputs": [
    {
     "name": "stdout",
     "output_type": "stream",
     "text": [
      "debt                          0    1\n",
      "purpose_category                    \n",
      "Операции с автомобилем     3905  403\n",
      "Операции с недвижимостью  10032  782\n",
      "Получение образования      3644  370\n",
      "Проведение свадьбы         2149  186\n"
     ]
    }
   ],
   "source": [
    "df_pivot_purpose = df.pivot_table(index=['purpose_category'], columns='debt', values='index', aggfunc='count')\n",
    "print(df_pivot_purpose) "
   ]
  },
  {
   "cell_type": "code",
   "execution_count": 55,
   "id": "18896ea2",
   "metadata": {},
   "outputs": [
    {
     "name": "stdout",
     "output_type": "stream",
     "text": [
      "9.35% автомобиль\n",
      "7.23% недвижимость\n",
      "9.22% образование\n",
      "7.97% свадьба\n"
     ]
    }
   ],
   "source": [
    "car = df_pivot_purpose[1][0] / (df_pivot_purpose[0][0] + df_pivot_purpose[1][0])\n",
    "estate = df_pivot_purpose[1][1] / (df_pivot_purpose[0][1] + df_pivot_purpose[1][1])\n",
    "education = df_pivot_purpose[1][2] / (df_pivot_purpose[0][2] + df_pivot_purpose[1][2])\n",
    "wedding = df_pivot_purpose[1][3] / (df_pivot_purpose[0][3] + df_pivot_purpose[1][3])\n",
    "print(\"{0:.2f}% автомобиль\".format(car*100))\n",
    "print(\"{0:.2f}% недвижимость\".format(estate*100))\n",
    "print(\"{0:.2f}% образование\".format(education*100))\n",
    "print(\"{0:.2f}% свадьба\".format(wedding*100))"
   ]
  },
  {
   "cell_type": "markdown",
   "id": "cebdfc57",
   "metadata": {},
   "source": [
    "Чаще в срок платят кредит на свадьбу и недвижимсть. Просрочка чаще по кредитам на образование и покупку автомобиля. Возможно из-за того, что к покупке недвижимости люди подходят серьезнее, потому что срок и сумма кредита обычно намного больше, чем на другие цели."
   ]
  },
  {
   "cell_type": "markdown",
   "id": "1036151b",
   "metadata": {},
   "source": [
    "## Общий вывод:"
   ]
  },
  {
   "cell_type": "markdown",
   "id": "1ac7ea07",
   "metadata": {},
   "source": [
    "После проведенного исследования можно сказать, что семейное положение и количество детей влияют на возврат кредита в срок. \n",
    "С увеличением количества детей растет вероятность невыплаты кредита в срок. Также люди не бывавшие в браке реже выплачивают кредит в срок.\n",
    "<br>Более добросовестными заемщиками являются вдовцы или разведенные люди. И люди без детей."
   ]
  }
 ],
 "metadata": {
  "ExecuteTimeLog": [
   {
    "duration": 1414,
    "start_time": "2022-02-12T19:18:56.352Z"
   },
   {
    "duration": 175,
    "start_time": "2022-02-12T19:18:57.768Z"
   },
   {
    "duration": 91,
    "start_time": "2022-02-12T19:18:57.947Z"
   },
   {
    "duration": 22,
    "start_time": "2022-02-12T19:18:58.040Z"
   },
   {
    "duration": 81,
    "start_time": "2022-02-12T19:18:58.065Z"
   },
   {
    "duration": 79,
    "start_time": "2022-02-12T19:18:58.148Z"
   },
   {
    "duration": 8,
    "start_time": "2022-02-12T19:18:58.241Z"
   },
   {
    "duration": 7,
    "start_time": "2022-02-12T19:18:58.252Z"
   },
   {
    "duration": 73,
    "start_time": "2022-02-12T19:18:58.264Z"
   },
   {
    "duration": 5,
    "start_time": "2022-02-12T19:18:58.345Z"
   },
   {
    "duration": 10,
    "start_time": "2022-02-12T19:18:58.353Z"
   },
   {
    "duration": 74,
    "start_time": "2022-02-12T19:18:58.366Z"
   },
   {
    "duration": 13,
    "start_time": "2022-02-12T19:18:58.442Z"
   },
   {
    "duration": 7,
    "start_time": "2022-02-12T19:18:58.457Z"
   },
   {
    "duration": 62,
    "start_time": "2022-02-12T19:18:58.467Z"
   },
   {
    "duration": 23,
    "start_time": "2022-02-12T19:18:58.532Z"
   },
   {
    "duration": 8,
    "start_time": "2022-02-12T19:18:58.558Z"
   },
   {
    "duration": 27,
    "start_time": "2022-02-12T19:18:58.631Z"
   },
   {
    "duration": 67,
    "start_time": "2022-02-12T19:18:58.660Z"
   },
   {
    "duration": 17,
    "start_time": "2022-02-12T19:18:58.729Z"
   },
   {
    "duration": 13,
    "start_time": "2022-02-12T19:18:58.750Z"
   },
   {
    "duration": 67,
    "start_time": "2022-02-12T19:18:58.766Z"
   },
   {
    "duration": 86,
    "start_time": "2022-02-12T19:18:58.837Z"
   },
   {
    "duration": 102,
    "start_time": "2022-02-12T19:18:58.926Z"
   },
   {
    "duration": 37,
    "start_time": "2022-02-12T19:18:59.031Z"
   },
   {
    "duration": 63,
    "start_time": "2022-02-12T19:18:59.070Z"
   },
   {
    "duration": 19,
    "start_time": "2022-02-12T19:18:59.140Z"
   },
   {
    "duration": 95,
    "start_time": "2022-02-12T19:18:59.162Z"
   },
   {
    "duration": 8,
    "start_time": "2022-02-12T19:18:59.260Z"
   },
   {
    "duration": 19,
    "start_time": "2022-02-12T19:18:59.325Z"
   },
   {
    "duration": 9,
    "start_time": "2022-02-12T19:18:59.347Z"
   },
   {
    "duration": 80,
    "start_time": "2022-02-12T19:18:59.358Z"
   },
   {
    "duration": 18,
    "start_time": "2022-02-12T19:18:59.442Z"
   },
   {
    "duration": 6,
    "start_time": "2022-02-12T19:18:59.463Z"
   },
   {
    "duration": 18,
    "start_time": "2022-02-12T19:18:59.531Z"
   },
   {
    "duration": 11,
    "start_time": "2022-02-12T19:18:59.551Z"
   },
   {
    "duration": 71,
    "start_time": "2022-02-12T19:18:59.565Z"
   },
   {
    "duration": 20,
    "start_time": "2022-02-12T19:18:59.641Z"
   },
   {
    "duration": 70,
    "start_time": "2022-02-12T19:18:59.664Z"
   },
   {
    "duration": 31,
    "start_time": "2022-02-12T19:18:59.739Z"
   },
   {
    "duration": 1027,
    "start_time": "2022-02-12T19:18:59.826Z"
   },
   {
    "duration": 69,
    "start_time": "2022-02-12T19:19:00.856Z"
   },
   {
    "duration": 15,
    "start_time": "2022-02-12T19:19:00.928Z"
   },
   {
    "duration": 1080,
    "start_time": "2022-02-12T19:19:00.946Z"
   },
   {
    "duration": 19,
    "start_time": "2022-02-12T19:19:02.029Z"
   },
   {
    "duration": 112,
    "start_time": "2022-02-12T19:19:02.052Z"
   },
   {
    "duration": 68,
    "start_time": "2022-02-12T19:19:02.167Z"
   },
   {
    "duration": 91,
    "start_time": "2022-02-12T19:19:02.240Z"
   },
   {
    "duration": 12,
    "start_time": "2022-02-12T19:19:02.336Z"
   },
   {
    "duration": 94,
    "start_time": "2022-02-12T19:19:02.353Z"
   },
   {
    "duration": 11,
    "start_time": "2022-02-12T19:19:02.450Z"
   },
   {
    "duration": 100,
    "start_time": "2022-02-12T19:19:02.528Z"
   },
   {
    "duration": 19,
    "start_time": "2022-02-12T19:19:02.632Z"
   },
   {
    "duration": 87,
    "start_time": "2022-02-13T18:24:29.443Z"
   },
   {
    "duration": 734,
    "start_time": "2022-02-13T18:34:55.118Z"
   },
   {
    "duration": 47,
    "start_time": "2022-02-13T18:34:55.854Z"
   },
   {
    "duration": 16,
    "start_time": "2022-02-13T18:34:55.903Z"
   },
   {
    "duration": 14,
    "start_time": "2022-02-13T18:34:55.920Z"
   },
   {
    "duration": 8,
    "start_time": "2022-02-13T18:34:55.936Z"
   },
   {
    "duration": 11,
    "start_time": "2022-02-13T18:34:55.946Z"
   },
   {
    "duration": 4,
    "start_time": "2022-02-13T18:34:55.959Z"
   },
   {
    "duration": 4,
    "start_time": "2022-02-13T18:34:55.966Z"
   },
   {
    "duration": 4,
    "start_time": "2022-02-13T18:34:55.972Z"
   },
   {
    "duration": 5,
    "start_time": "2022-02-13T18:34:55.978Z"
   },
   {
    "duration": 43,
    "start_time": "2022-02-13T18:34:55.984Z"
   },
   {
    "duration": 6,
    "start_time": "2022-02-13T18:34:56.029Z"
   },
   {
    "duration": 7,
    "start_time": "2022-02-13T18:34:56.037Z"
   },
   {
    "duration": 2,
    "start_time": "2022-02-13T18:34:56.045Z"
   },
   {
    "duration": 5,
    "start_time": "2022-02-13T18:34:56.049Z"
   },
   {
    "duration": 5,
    "start_time": "2022-02-13T18:34:56.055Z"
   },
   {
    "duration": 5,
    "start_time": "2022-02-13T18:34:56.061Z"
   },
   {
    "duration": 4,
    "start_time": "2022-02-13T18:34:56.067Z"
   },
   {
    "duration": 4,
    "start_time": "2022-02-13T18:34:56.073Z"
   },
   {
    "duration": 15,
    "start_time": "2022-02-13T18:34:56.079Z"
   },
   {
    "duration": 32,
    "start_time": "2022-02-13T18:34:56.096Z"
   },
   {
    "duration": 4,
    "start_time": "2022-02-13T18:34:56.130Z"
   },
   {
    "duration": 7,
    "start_time": "2022-02-13T18:34:56.137Z"
   },
   {
    "duration": 5,
    "start_time": "2022-02-13T18:34:56.146Z"
   },
   {
    "duration": 19,
    "start_time": "2022-02-13T18:34:56.153Z"
   },
   {
    "duration": 20,
    "start_time": "2022-02-13T18:34:56.174Z"
   },
   {
    "duration": 44,
    "start_time": "2022-02-13T18:34:56.196Z"
   },
   {
    "duration": 6,
    "start_time": "2022-02-13T18:34:56.242Z"
   },
   {
    "duration": 12,
    "start_time": "2022-02-13T18:34:56.249Z"
   },
   {
    "duration": 16,
    "start_time": "2022-02-13T18:34:56.262Z"
   },
   {
    "duration": 7,
    "start_time": "2022-02-13T18:34:56.280Z"
   },
   {
    "duration": 7,
    "start_time": "2022-02-13T18:34:56.288Z"
   },
   {
    "duration": 8,
    "start_time": "2022-02-13T18:34:56.296Z"
   },
   {
    "duration": 6,
    "start_time": "2022-02-13T18:34:56.327Z"
   },
   {
    "duration": 8,
    "start_time": "2022-02-13T18:34:56.335Z"
   },
   {
    "duration": 6,
    "start_time": "2022-02-13T18:34:56.344Z"
   },
   {
    "duration": 8,
    "start_time": "2022-02-13T18:34:56.351Z"
   },
   {
    "duration": 6,
    "start_time": "2022-02-13T18:34:56.360Z"
   },
   {
    "duration": 5,
    "start_time": "2022-02-13T18:34:56.367Z"
   },
   {
    "duration": 9,
    "start_time": "2022-02-13T18:34:56.374Z"
   },
   {
    "duration": 7,
    "start_time": "2022-02-13T18:34:56.384Z"
   },
   {
    "duration": 49,
    "start_time": "2022-02-13T18:34:56.392Z"
   },
   {
    "duration": 226,
    "start_time": "2022-02-13T18:34:56.443Z"
   },
   {
    "duration": 6,
    "start_time": "2022-02-13T18:34:56.670Z"
   },
   {
    "duration": 19,
    "start_time": "2022-02-13T18:34:56.677Z"
   },
   {
    "duration": 230,
    "start_time": "2022-02-13T18:34:56.698Z"
   },
   {
    "duration": 6,
    "start_time": "2022-02-13T18:34:56.929Z"
   },
   {
    "duration": 19,
    "start_time": "2022-02-13T18:34:56.936Z"
   },
   {
    "duration": 7,
    "start_time": "2022-02-13T18:34:56.956Z"
   },
   {
    "duration": 17,
    "start_time": "2022-02-13T18:34:56.965Z"
   },
   {
    "duration": 5,
    "start_time": "2022-02-13T18:34:56.984Z"
   },
   {
    "duration": 43,
    "start_time": "2022-02-13T18:34:56.991Z"
   },
   {
    "duration": 5,
    "start_time": "2022-02-13T18:34:57.036Z"
   },
   {
    "duration": 15,
    "start_time": "2022-02-13T18:34:57.043Z"
   },
   {
    "duration": 5,
    "start_time": "2022-02-13T18:34:57.060Z"
   },
   {
    "duration": 12,
    "start_time": "2022-02-13T18:36:58.341Z"
   }
  ],
  "kernelspec": {
   "display_name": "Python 3 (ipykernel)",
   "language": "python",
   "name": "python3"
  },
  "language_info": {
   "codemirror_mode": {
    "name": "ipython",
    "version": 3
   },
   "file_extension": ".py",
   "mimetype": "text/x-python",
   "name": "python",
   "nbconvert_exporter": "python",
   "pygments_lexer": "ipython3",
   "version": "3.9.12"
  },
  "toc": {
   "base_numbering": 1,
   "nav_menu": {},
   "number_sections": true,
   "sideBar": true,
   "skip_h1_title": true,
   "title_cell": "Table of Contents",
   "title_sidebar": "Contents",
   "toc_cell": false,
   "toc_position": {},
   "toc_section_display": true,
   "toc_window_display": false
  }
 },
 "nbformat": 4,
 "nbformat_minor": 5
}
