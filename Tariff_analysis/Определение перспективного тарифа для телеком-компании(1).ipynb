{
 "cells": [
  {
   "cell_type": "markdown",
   "id": "b3f9f536",
   "metadata": {},
   "source": [
    "# Определение перспективного тарифа для телеком-компании"
   ]
  },
  {
   "cell_type": "markdown",
   "id": "a39ae383",
   "metadata": {},
   "source": [
    "**Цель исследования** — проанализировать поведение клиентов и сделать вывод — какой тариф лучше для компании."
   ]
  },
  {
   "cell_type": "markdown",
   "id": "fdb476bf",
   "metadata": {},
   "source": [
    "# Описание данных "
   ]
  },
  {
   "cell_type": "markdown",
   "id": "91680a3b",
   "metadata": {},
   "source": [
    "Согласно документации к данным:<br><br>\n",
    "Таблица users (информация о пользователях):\n",
    "* `user_id` — уникальный идентификатор пользователя\n",
    "* `first_name` — имя пользователя\n",
    "* `last_name` — фамилия пользователя\n",
    "* `age` — возраст пользователя (годы)\n",
    "* `reg_date` — дата подключения тарифа (день, месяц, год)\n",
    "* `churn_date` — дата прекращения пользования тарифом (если значение пропущено, то тариф ещё действовал на момент выгрузки данных)\n",
    "* `city` — город проживания пользователя\n",
    "* `tariff` — название тарифного плана <br><br>\n",
    "Таблица calls (информация о звонках):\n",
    "* `id` — уникальный номер звонка\n",
    "* `call_date` — дата звонка\n",
    "* `duration` — длительность звонка в минутах\n",
    "* `user_id` — идентификатор пользователя, сделавшего звонок<br><br>\n",
    "Таблица messages (информация о сообщениях):\n",
    "* `id` — уникальный номер сообщения\n",
    "* `message_date` — дата сообщения\n",
    "* `user_id` — идентификатор пользователя, отправившего сообщение<br><br>\n",
    "Таблица internet (информация об интернет-сессиях):\n",
    "* `id` — уникальный номер сессии\n",
    "* `mb_used` — объём потраченного за сессию интернет-трафика (в мегабайтах)\n",
    "* `session_date` — дата интернет-сессии\n",
    "* `user_id` — идентификатор пользователя<br><br>\n",
    "Таблица tariffs (информация о тарифах):\n",
    "* `tariff_name` — название тарифа\n",
    "* `rub_monthly_fee` — ежемесячная абонентская плата в рублях\n",
    "* `minutes_included` — количество минут разговора в месяц, включённых в абонентскую плату\n",
    "* `messages_included` — количество сообщений в месяц, включённых в абонентскую плату\n",
    "* `mb_per_month_included` — объём интернет-трафика, включённого в абонентскую плату (в мегабайтах)\n",
    "* `rub_per_minute` — стоимость минуты разговора сверх тарифного пакета (например, если в тарифе 100 минут разговора в месяц, то со 101 минуты будет взиматься плата)\n",
    "* `rub_per_message` — стоимость отправки сообщения сверх тарифного пакета\n",
    "* `rub_per_gb` — стоимость дополнительного гигабайта интернет-трафика сверх тарифного пакета (1 гигабайт = 1024 мегабайта)"
   ]
  },
  {
   "cell_type": "markdown",
   "id": "4605e2e8",
   "metadata": {},
   "source": [
    "# Обзор данных #"
   ]
  },
  {
   "cell_type": "code",
   "execution_count": 51,
   "id": "773bfcf3",
   "metadata": {},
   "outputs": [],
   "source": [
    "import pandas as pd\n",
    "import numpy as np\n",
    "from scipy import stats as st\n",
    "import seaborn as sns\n",
    "from math import ceil\n",
    "from matplotlib import pyplot as plt"
   ]
  },
  {
   "cell_type": "code",
   "execution_count": 52,
   "id": "fda0461e",
   "metadata": {},
   "outputs": [],
   "source": [
    "try:\n",
    "    calls = pd.read_csv('/datasets/calls.csv', parse_dates=['call_date']) # чтение файла с данными и сохранение в calls\n",
    "except:\n",
    "    calls = pd.read_csv('C:\\\\Users\\\\User\\\\Downloads\\\\calls.csv', parse_dates=['call_date'])"
   ]
  },
  {
   "cell_type": "code",
   "execution_count": 53,
   "id": "e0af967f",
   "metadata": {},
   "outputs": [
    {
     "name": "stdout",
     "output_type": "stream",
     "text": [
      "<class 'pandas.core.frame.DataFrame'>\n",
      "RangeIndex: 202607 entries, 0 to 202606\n",
      "Data columns (total 4 columns):\n",
      " #   Column     Non-Null Count   Dtype         \n",
      "---  ------     --------------   -----         \n",
      " 0   id         202607 non-null  object        \n",
      " 1   call_date  202607 non-null  datetime64[ns]\n",
      " 2   duration   202607 non-null  float64       \n",
      " 3   user_id    202607 non-null  int64         \n",
      "dtypes: datetime64[ns](1), float64(1), int64(1), object(1)\n",
      "memory usage: 6.2+ MB\n"
     ]
    }
   ],
   "source": [
    "calls.info()"
   ]
  },
  {
   "cell_type": "code",
   "execution_count": 54,
   "id": "205926ea",
   "metadata": {},
   "outputs": [
    {
     "data": {
      "text/html": [
       "<div>\n",
       "<style scoped>\n",
       "    .dataframe tbody tr th:only-of-type {\n",
       "        vertical-align: middle;\n",
       "    }\n",
       "\n",
       "    .dataframe tbody tr th {\n",
       "        vertical-align: top;\n",
       "    }\n",
       "\n",
       "    .dataframe thead th {\n",
       "        text-align: right;\n",
       "    }\n",
       "</style>\n",
       "<table border=\"1\" class=\"dataframe\">\n",
       "  <thead>\n",
       "    <tr style=\"text-align: right;\">\n",
       "      <th></th>\n",
       "      <th>id</th>\n",
       "      <th>call_date</th>\n",
       "      <th>duration</th>\n",
       "      <th>user_id</th>\n",
       "    </tr>\n",
       "  </thead>\n",
       "  <tbody>\n",
       "    <tr>\n",
       "      <th>0</th>\n",
       "      <td>1000_0</td>\n",
       "      <td>2018-07-25</td>\n",
       "      <td>0.00</td>\n",
       "      <td>1000</td>\n",
       "    </tr>\n",
       "    <tr>\n",
       "      <th>1</th>\n",
       "      <td>1000_1</td>\n",
       "      <td>2018-08-17</td>\n",
       "      <td>0.00</td>\n",
       "      <td>1000</td>\n",
       "    </tr>\n",
       "    <tr>\n",
       "      <th>2</th>\n",
       "      <td>1000_2</td>\n",
       "      <td>2018-06-11</td>\n",
       "      <td>2.85</td>\n",
       "      <td>1000</td>\n",
       "    </tr>\n",
       "  </tbody>\n",
       "</table>\n",
       "</div>"
      ],
      "text/plain": [
       "       id  call_date  duration  user_id\n",
       "0  1000_0 2018-07-25      0.00     1000\n",
       "1  1000_1 2018-08-17      0.00     1000\n",
       "2  1000_2 2018-06-11      2.85     1000"
      ]
     },
     "metadata": {},
     "output_type": "display_data"
    }
   ],
   "source": [
    "display(calls.head(3))"
   ]
  },
  {
   "cell_type": "markdown",
   "id": "959a6664",
   "metadata": {},
   "source": [
    "В таблице calls 202607 строк. Нулевых значений нет. В столбце call_date меняем тип данных на дату."
   ]
  },
  {
   "cell_type": "code",
   "execution_count": 55,
   "id": "3d9b3435",
   "metadata": {},
   "outputs": [],
   "source": [
    "try:\n",
    "    internet = pd.read_csv('/datasets/internet.csv', parse_dates=['session_date']) \n",
    "    # чтение файла с данными и сохранение в internet\n",
    "except:\n",
    "    internet = pd.read_csv('C:\\\\Users\\\\User\\\\Downloads\\\\internet.csv', parse_dates=['session_date'])"
   ]
  },
  {
   "cell_type": "code",
   "execution_count": 56,
   "id": "f2d4b4e2",
   "metadata": {
    "scrolled": true
   },
   "outputs": [
    {
     "name": "stdout",
     "output_type": "stream",
     "text": [
      "<class 'pandas.core.frame.DataFrame'>\n",
      "RangeIndex: 149396 entries, 0 to 149395\n",
      "Data columns (total 5 columns):\n",
      " #   Column        Non-Null Count   Dtype         \n",
      "---  ------        --------------   -----         \n",
      " 0   Unnamed: 0    149396 non-null  int64         \n",
      " 1   id            149396 non-null  object        \n",
      " 2   mb_used       149396 non-null  float64       \n",
      " 3   session_date  149396 non-null  datetime64[ns]\n",
      " 4   user_id       149396 non-null  int64         \n",
      "dtypes: datetime64[ns](1), float64(1), int64(2), object(1)\n",
      "memory usage: 5.7+ MB\n"
     ]
    }
   ],
   "source": [
    "internet.info()"
   ]
  },
  {
   "cell_type": "code",
   "execution_count": 57,
   "id": "294c14c0",
   "metadata": {},
   "outputs": [
    {
     "data": {
      "text/html": [
       "<div>\n",
       "<style scoped>\n",
       "    .dataframe tbody tr th:only-of-type {\n",
       "        vertical-align: middle;\n",
       "    }\n",
       "\n",
       "    .dataframe tbody tr th {\n",
       "        vertical-align: top;\n",
       "    }\n",
       "\n",
       "    .dataframe thead th {\n",
       "        text-align: right;\n",
       "    }\n",
       "</style>\n",
       "<table border=\"1\" class=\"dataframe\">\n",
       "  <thead>\n",
       "    <tr style=\"text-align: right;\">\n",
       "      <th></th>\n",
       "      <th>Unnamed: 0</th>\n",
       "      <th>id</th>\n",
       "      <th>mb_used</th>\n",
       "      <th>session_date</th>\n",
       "      <th>user_id</th>\n",
       "    </tr>\n",
       "  </thead>\n",
       "  <tbody>\n",
       "    <tr>\n",
       "      <th>0</th>\n",
       "      <td>0</td>\n",
       "      <td>1000_0</td>\n",
       "      <td>112.95</td>\n",
       "      <td>2018-11-25</td>\n",
       "      <td>1000</td>\n",
       "    </tr>\n",
       "    <tr>\n",
       "      <th>1</th>\n",
       "      <td>1</td>\n",
       "      <td>1000_1</td>\n",
       "      <td>1052.81</td>\n",
       "      <td>2018-09-07</td>\n",
       "      <td>1000</td>\n",
       "    </tr>\n",
       "    <tr>\n",
       "      <th>2</th>\n",
       "      <td>2</td>\n",
       "      <td>1000_2</td>\n",
       "      <td>1197.26</td>\n",
       "      <td>2018-06-25</td>\n",
       "      <td>1000</td>\n",
       "    </tr>\n",
       "  </tbody>\n",
       "</table>\n",
       "</div>"
      ],
      "text/plain": [
       "   Unnamed: 0      id  mb_used session_date  user_id\n",
       "0           0  1000_0   112.95   2018-11-25     1000\n",
       "1           1  1000_1  1052.81   2018-09-07     1000\n",
       "2           2  1000_2  1197.26   2018-06-25     1000"
      ]
     },
     "execution_count": 57,
     "metadata": {},
     "output_type": "execute_result"
    }
   ],
   "source": [
    "internet.head(3)"
   ]
  },
  {
   "cell_type": "markdown",
   "id": "de2c0184",
   "metadata": {},
   "source": [
    "В таблице 149396 строк, нулевых значений нет. Необходимо удалить столбец Unnamed: 0. Он не заявлен в документации. "
   ]
  },
  {
   "cell_type": "code",
   "execution_count": 58,
   "id": "2cd6c896",
   "metadata": {},
   "outputs": [],
   "source": [
    "try:\n",
    "    messages = pd.read_csv('/datasets/messages.csv',parse_dates=['message_date']) \n",
    "    # чтение файла с данными и сохранение в messages\n",
    "except:\n",
    "    messages = pd.read_csv('C:\\\\Users\\\\User\\\\Downloads\\\\messages.csv', parse_dates=['message_date'])"
   ]
  },
  {
   "cell_type": "code",
   "execution_count": 59,
   "id": "4747d3c4",
   "metadata": {},
   "outputs": [
    {
     "name": "stdout",
     "output_type": "stream",
     "text": [
      "<class 'pandas.core.frame.DataFrame'>\n",
      "RangeIndex: 123036 entries, 0 to 123035\n",
      "Data columns (total 3 columns):\n",
      " #   Column        Non-Null Count   Dtype         \n",
      "---  ------        --------------   -----         \n",
      " 0   id            123036 non-null  object        \n",
      " 1   message_date  123036 non-null  datetime64[ns]\n",
      " 2   user_id       123036 non-null  int64         \n",
      "dtypes: datetime64[ns](1), int64(1), object(1)\n",
      "memory usage: 2.8+ MB\n"
     ]
    }
   ],
   "source": [
    "messages.info()"
   ]
  },
  {
   "cell_type": "code",
   "execution_count": 60,
   "id": "e2c918e7",
   "metadata": {},
   "outputs": [
    {
     "data": {
      "text/html": [
       "<div>\n",
       "<style scoped>\n",
       "    .dataframe tbody tr th:only-of-type {\n",
       "        vertical-align: middle;\n",
       "    }\n",
       "\n",
       "    .dataframe tbody tr th {\n",
       "        vertical-align: top;\n",
       "    }\n",
       "\n",
       "    .dataframe thead th {\n",
       "        text-align: right;\n",
       "    }\n",
       "</style>\n",
       "<table border=\"1\" class=\"dataframe\">\n",
       "  <thead>\n",
       "    <tr style=\"text-align: right;\">\n",
       "      <th></th>\n",
       "      <th>id</th>\n",
       "      <th>message_date</th>\n",
       "      <th>user_id</th>\n",
       "    </tr>\n",
       "  </thead>\n",
       "  <tbody>\n",
       "    <tr>\n",
       "      <th>0</th>\n",
       "      <td>1000_0</td>\n",
       "      <td>2018-06-27</td>\n",
       "      <td>1000</td>\n",
       "    </tr>\n",
       "    <tr>\n",
       "      <th>1</th>\n",
       "      <td>1000_1</td>\n",
       "      <td>2018-10-08</td>\n",
       "      <td>1000</td>\n",
       "    </tr>\n",
       "    <tr>\n",
       "      <th>2</th>\n",
       "      <td>1000_2</td>\n",
       "      <td>2018-08-04</td>\n",
       "      <td>1000</td>\n",
       "    </tr>\n",
       "  </tbody>\n",
       "</table>\n",
       "</div>"
      ],
      "text/plain": [
       "       id message_date  user_id\n",
       "0  1000_0   2018-06-27     1000\n",
       "1  1000_1   2018-10-08     1000\n",
       "2  1000_2   2018-08-04     1000"
      ]
     },
     "execution_count": 60,
     "metadata": {},
     "output_type": "execute_result"
    }
   ],
   "source": [
    "messages.head(3)"
   ]
  },
  {
   "cell_type": "markdown",
   "id": "ce32b012",
   "metadata": {},
   "source": [
    "В таблице 123036 строк, нулевых значений нет. При чтении сразу переводим столбец message_date в даты."
   ]
  },
  {
   "cell_type": "code",
   "execution_count": 61,
   "id": "d60031c5",
   "metadata": {},
   "outputs": [],
   "source": [
    "try:\n",
    "    tariffs = pd.read_csv('/datasets/tariffs.csv') # чтение файла с данными и сохранение в tariffs\n",
    "except:\n",
    "    tariffs = pd.read_csv('C:\\\\Users\\\\User\\\\Downloads\\\\tariffs.csv')"
   ]
  },
  {
   "cell_type": "code",
   "execution_count": 62,
   "id": "d2437d40",
   "metadata": {},
   "outputs": [
    {
     "name": "stdout",
     "output_type": "stream",
     "text": [
      "<class 'pandas.core.frame.DataFrame'>\n",
      "RangeIndex: 2 entries, 0 to 1\n",
      "Data columns (total 8 columns):\n",
      " #   Column                 Non-Null Count  Dtype \n",
      "---  ------                 --------------  ----- \n",
      " 0   messages_included      2 non-null      int64 \n",
      " 1   mb_per_month_included  2 non-null      int64 \n",
      " 2   minutes_included       2 non-null      int64 \n",
      " 3   rub_monthly_fee        2 non-null      int64 \n",
      " 4   rub_per_gb             2 non-null      int64 \n",
      " 5   rub_per_message        2 non-null      int64 \n",
      " 6   rub_per_minute         2 non-null      int64 \n",
      " 7   tariff_name            2 non-null      object\n",
      "dtypes: int64(7), object(1)\n",
      "memory usage: 256.0+ bytes\n"
     ]
    }
   ],
   "source": [
    "tariffs.info()"
   ]
  },
  {
   "cell_type": "code",
   "execution_count": 63,
   "id": "b5797c22",
   "metadata": {},
   "outputs": [],
   "source": [
    "try:\n",
    "    users = pd.read_csv('/datasets/users.csv', parse_dates=['reg_date','churn_date']) \n",
    "    # чтение файла с данными и сохранение в users\n",
    "except:\n",
    "    users = pd.read_csv('C:\\\\Users\\\\User\\\\Downloads\\\\users.csv', parse_dates=['reg_date','churn_date'])"
   ]
  },
  {
   "cell_type": "code",
   "execution_count": 64,
   "id": "d9ec9537",
   "metadata": {},
   "outputs": [
    {
     "name": "stdout",
     "output_type": "stream",
     "text": [
      "<class 'pandas.core.frame.DataFrame'>\n",
      "RangeIndex: 500 entries, 0 to 499\n",
      "Data columns (total 8 columns):\n",
      " #   Column      Non-Null Count  Dtype         \n",
      "---  ------      --------------  -----         \n",
      " 0   user_id     500 non-null    int64         \n",
      " 1   age         500 non-null    int64         \n",
      " 2   churn_date  38 non-null     datetime64[ns]\n",
      " 3   city        500 non-null    object        \n",
      " 4   first_name  500 non-null    object        \n",
      " 5   last_name   500 non-null    object        \n",
      " 6   reg_date    500 non-null    datetime64[ns]\n",
      " 7   tariff      500 non-null    object        \n",
      "dtypes: datetime64[ns](2), int64(2), object(4)\n",
      "memory usage: 31.4+ KB\n"
     ]
    }
   ],
   "source": [
    "users.info()"
   ]
  },
  {
   "cell_type": "code",
   "execution_count": 65,
   "id": "5e27e06a",
   "metadata": {},
   "outputs": [
    {
     "data": {
      "text/html": [
       "<div>\n",
       "<style scoped>\n",
       "    .dataframe tbody tr th:only-of-type {\n",
       "        vertical-align: middle;\n",
       "    }\n",
       "\n",
       "    .dataframe tbody tr th {\n",
       "        vertical-align: top;\n",
       "    }\n",
       "\n",
       "    .dataframe thead th {\n",
       "        text-align: right;\n",
       "    }\n",
       "</style>\n",
       "<table border=\"1\" class=\"dataframe\">\n",
       "  <thead>\n",
       "    <tr style=\"text-align: right;\">\n",
       "      <th></th>\n",
       "      <th>user_id</th>\n",
       "      <th>age</th>\n",
       "      <th>churn_date</th>\n",
       "      <th>city</th>\n",
       "      <th>first_name</th>\n",
       "      <th>last_name</th>\n",
       "      <th>reg_date</th>\n",
       "      <th>tariff</th>\n",
       "    </tr>\n",
       "  </thead>\n",
       "  <tbody>\n",
       "    <tr>\n",
       "      <th>0</th>\n",
       "      <td>1000</td>\n",
       "      <td>52</td>\n",
       "      <td>NaT</td>\n",
       "      <td>Краснодар</td>\n",
       "      <td>Рафаил</td>\n",
       "      <td>Верещагин</td>\n",
       "      <td>2018-05-25</td>\n",
       "      <td>ultra</td>\n",
       "    </tr>\n",
       "    <tr>\n",
       "      <th>1</th>\n",
       "      <td>1001</td>\n",
       "      <td>41</td>\n",
       "      <td>NaT</td>\n",
       "      <td>Москва</td>\n",
       "      <td>Иван</td>\n",
       "      <td>Ежов</td>\n",
       "      <td>2018-11-01</td>\n",
       "      <td>smart</td>\n",
       "    </tr>\n",
       "    <tr>\n",
       "      <th>2</th>\n",
       "      <td>1002</td>\n",
       "      <td>59</td>\n",
       "      <td>NaT</td>\n",
       "      <td>Стерлитамак</td>\n",
       "      <td>Евгений</td>\n",
       "      <td>Абрамович</td>\n",
       "      <td>2018-06-17</td>\n",
       "      <td>smart</td>\n",
       "    </tr>\n",
       "  </tbody>\n",
       "</table>\n",
       "</div>"
      ],
      "text/plain": [
       "   user_id  age churn_date         city first_name  last_name   reg_date  \\\n",
       "0     1000   52        NaT    Краснодар     Рафаил  Верещагин 2018-05-25   \n",
       "1     1001   41        NaT       Москва       Иван       Ежов 2018-11-01   \n",
       "2     1002   59        NaT  Стерлитамак    Евгений  Абрамович 2018-06-17   \n",
       "\n",
       "  tariff  \n",
       "0  ultra  \n",
       "1  smart  \n",
       "2  smart  "
      ]
     },
     "execution_count": 65,
     "metadata": {},
     "output_type": "execute_result"
    }
   ],
   "source": [
    "users.head(3)"
   ]
  },
  {
   "cell_type": "markdown",
   "id": "b8cbee26",
   "metadata": {},
   "source": [
    "Есть пропуски в столбце churn_date - это дата прекращения пользования тарифом. (если значение пропущено, то тариф ещё действовал на момент выгрузки данных)"
   ]
  },
  {
   "cell_type": "markdown",
   "id": "07131266",
   "metadata": {},
   "source": [
    "## Предобработка данных"
   ]
  },
  {
   "cell_type": "code",
   "execution_count": 66,
   "id": "45bc34f1",
   "metadata": {},
   "outputs": [],
   "source": [
    "internet = internet.drop(columns=['Unnamed: 0']) # удаляем столбец"
   ]
  },
  {
   "cell_type": "code",
   "execution_count": 67,
   "id": "f82afe8c",
   "metadata": {},
   "outputs": [],
   "source": [
    "# Добавляем столбец month для расчета количества сделанных звонков и израсходованных минут разговора по месяцам.\n",
    "calls['month'] = calls['call_date'].dt.month "
   ]
  },
  {
   "cell_type": "code",
   "execution_count": 68,
   "id": "4250b972",
   "metadata": {},
   "outputs": [],
   "source": [
    "# Добавляем столбец month для расчета количества отправленных сообщений по месяцам.\n",
    "messages['month'] = messages['message_date'].dt.month "
   ]
  },
  {
   "cell_type": "code",
   "execution_count": 69,
   "id": "e0305ce7",
   "metadata": {},
   "outputs": [],
   "source": [
    "# Добавляем столбец month для расчета объема израсходованного интернет-трафика по месяцам.\n",
    "internet['month'] = internet['session_date'].dt.month "
   ]
  },
  {
   "cell_type": "markdown",
   "id": "b7bbedec",
   "metadata": {},
   "source": [
    "Расчет длительности и количества звонков каждого пользователя по месяцам."
   ]
  },
  {
   "cell_type": "code",
   "execution_count": 70,
   "id": "3438723b",
   "metadata": {},
   "outputs": [],
   "source": [
    "calls['duration'] = np.ceil(calls['duration']) # округление продолжительности звонка в большую сторону"
   ]
  },
  {
   "cell_type": "code",
   "execution_count": 71,
   "id": "ddd93a33",
   "metadata": {},
   "outputs": [
    {
     "data": {
      "text/html": [
       "<div>\n",
       "<style scoped>\n",
       "    .dataframe tbody tr th:only-of-type {\n",
       "        vertical-align: middle;\n",
       "    }\n",
       "\n",
       "    .dataframe tbody tr th {\n",
       "        vertical-align: top;\n",
       "    }\n",
       "\n",
       "    .dataframe thead th {\n",
       "        text-align: right;\n",
       "    }\n",
       "</style>\n",
       "<table border=\"1\" class=\"dataframe\">\n",
       "  <thead>\n",
       "    <tr style=\"text-align: right;\">\n",
       "      <th></th>\n",
       "      <th></th>\n",
       "      <th>calls_count</th>\n",
       "      <th>calls_duration</th>\n",
       "    </tr>\n",
       "    <tr>\n",
       "      <th>user_id</th>\n",
       "      <th>month</th>\n",
       "      <th></th>\n",
       "      <th></th>\n",
       "    </tr>\n",
       "  </thead>\n",
       "  <tbody>\n",
       "    <tr>\n",
       "      <th rowspan=\"5\" valign=\"top\">1000</th>\n",
       "      <th>5</th>\n",
       "      <td>22</td>\n",
       "      <td>159.0</td>\n",
       "    </tr>\n",
       "    <tr>\n",
       "      <th>6</th>\n",
       "      <td>43</td>\n",
       "      <td>172.0</td>\n",
       "    </tr>\n",
       "    <tr>\n",
       "      <th>7</th>\n",
       "      <td>47</td>\n",
       "      <td>340.0</td>\n",
       "    </tr>\n",
       "    <tr>\n",
       "      <th>8</th>\n",
       "      <td>52</td>\n",
       "      <td>408.0</td>\n",
       "    </tr>\n",
       "    <tr>\n",
       "      <th>9</th>\n",
       "      <td>58</td>\n",
       "      <td>466.0</td>\n",
       "    </tr>\n",
       "    <tr>\n",
       "      <th>...</th>\n",
       "      <th>...</th>\n",
       "      <td>...</td>\n",
       "      <td>...</td>\n",
       "    </tr>\n",
       "    <tr>\n",
       "      <th>1498</th>\n",
       "      <th>10</th>\n",
       "      <td>41</td>\n",
       "      <td>247.0</td>\n",
       "    </tr>\n",
       "    <tr>\n",
       "      <th rowspan=\"4\" valign=\"top\">1499</th>\n",
       "      <th>9</th>\n",
       "      <td>9</td>\n",
       "      <td>70.0</td>\n",
       "    </tr>\n",
       "    <tr>\n",
       "      <th>10</th>\n",
       "      <td>68</td>\n",
       "      <td>449.0</td>\n",
       "    </tr>\n",
       "    <tr>\n",
       "      <th>11</th>\n",
       "      <td>74</td>\n",
       "      <td>612.0</td>\n",
       "    </tr>\n",
       "    <tr>\n",
       "      <th>12</th>\n",
       "      <td>69</td>\n",
       "      <td>492.0</td>\n",
       "    </tr>\n",
       "  </tbody>\n",
       "</table>\n",
       "<p>3174 rows × 2 columns</p>\n",
       "</div>"
      ],
      "text/plain": [
       "               calls_count  calls_duration\n",
       "user_id month                             \n",
       "1000    5               22           159.0\n",
       "        6               43           172.0\n",
       "        7               47           340.0\n",
       "        8               52           408.0\n",
       "        9               58           466.0\n",
       "...                    ...             ...\n",
       "1498    10              41           247.0\n",
       "1499    9                9            70.0\n",
       "        10              68           449.0\n",
       "        11              74           612.0\n",
       "        12              69           492.0\n",
       "\n",
       "[3174 rows x 2 columns]"
      ]
     },
     "execution_count": 71,
     "metadata": {},
     "output_type": "execute_result"
    }
   ],
   "source": [
    "# сводная таблица с длительностью и количеством звонков\n",
    "calls_per_month = calls.pivot_table(index=['user_id', 'month'], values='duration', aggfunc=['count', 'sum']) \n",
    "calls_per_month.columns=['calls_count', 'calls_duration'] # переименовываем столбцы\n",
    "calls_per_month"
   ]
  },
  {
   "cell_type": "markdown",
   "id": "d518a98e",
   "metadata": {},
   "source": [
    "Расчет использованных мегабайт по каждому пользователю помесячно."
   ]
  },
  {
   "cell_type": "code",
   "execution_count": 72,
   "id": "bd262229",
   "metadata": {},
   "outputs": [
    {
     "data": {
      "text/html": [
       "<div>\n",
       "<style scoped>\n",
       "    .dataframe tbody tr th:only-of-type {\n",
       "        vertical-align: middle;\n",
       "    }\n",
       "\n",
       "    .dataframe tbody tr th {\n",
       "        vertical-align: top;\n",
       "    }\n",
       "\n",
       "    .dataframe thead th {\n",
       "        text-align: right;\n",
       "    }\n",
       "</style>\n",
       "<table border=\"1\" class=\"dataframe\">\n",
       "  <thead>\n",
       "    <tr style=\"text-align: right;\">\n",
       "      <th></th>\n",
       "      <th></th>\n",
       "      <th>mb_used_sum</th>\n",
       "    </tr>\n",
       "    <tr>\n",
       "      <th>user_id</th>\n",
       "      <th>month</th>\n",
       "      <th></th>\n",
       "    </tr>\n",
       "  </thead>\n",
       "  <tbody>\n",
       "    <tr>\n",
       "      <th rowspan=\"5\" valign=\"top\">1000</th>\n",
       "      <th>5</th>\n",
       "      <td>2254.0</td>\n",
       "    </tr>\n",
       "    <tr>\n",
       "      <th>6</th>\n",
       "      <td>23234.0</td>\n",
       "    </tr>\n",
       "    <tr>\n",
       "      <th>7</th>\n",
       "      <td>14004.0</td>\n",
       "    </tr>\n",
       "    <tr>\n",
       "      <th>8</th>\n",
       "      <td>14056.0</td>\n",
       "    </tr>\n",
       "    <tr>\n",
       "      <th>9</th>\n",
       "      <td>14569.0</td>\n",
       "    </tr>\n",
       "    <tr>\n",
       "      <th>...</th>\n",
       "      <th>...</th>\n",
       "      <td>...</td>\n",
       "    </tr>\n",
       "    <tr>\n",
       "      <th>1498</th>\n",
       "      <th>10</th>\n",
       "      <td>20580.0</td>\n",
       "    </tr>\n",
       "    <tr>\n",
       "      <th rowspan=\"4\" valign=\"top\">1499</th>\n",
       "      <th>9</th>\n",
       "      <td>1846.0</td>\n",
       "    </tr>\n",
       "    <tr>\n",
       "      <th>10</th>\n",
       "      <td>17789.0</td>\n",
       "    </tr>\n",
       "    <tr>\n",
       "      <th>11</th>\n",
       "      <td>17964.0</td>\n",
       "    </tr>\n",
       "    <tr>\n",
       "      <th>12</th>\n",
       "      <td>13056.0</td>\n",
       "    </tr>\n",
       "  </tbody>\n",
       "</table>\n",
       "<p>3203 rows × 1 columns</p>\n",
       "</div>"
      ],
      "text/plain": [
       "               mb_used_sum\n",
       "user_id month             \n",
       "1000    5           2254.0\n",
       "        6          23234.0\n",
       "        7          14004.0\n",
       "        8          14056.0\n",
       "        9          14569.0\n",
       "...                    ...\n",
       "1498    10         20580.0\n",
       "1499    9           1846.0\n",
       "        10         17789.0\n",
       "        11         17964.0\n",
       "        12         13056.0\n",
       "\n",
       "[3203 rows x 1 columns]"
      ]
     },
     "execution_count": 72,
     "metadata": {},
     "output_type": "execute_result"
    }
   ],
   "source": [
    "# сводная таблица с количеством использованным мб помесяцам\n",
    "mb_used_per_month = internet.pivot_table(index=['user_id', 'month'], values='mb_used', aggfunc='sum') \n",
    "mb_used_per_month.columns=['mb_used_sum']    # переименовываем столбцы\n",
    "mb_used_per_month['mb_used_sum'] = np.ceil(mb_used_per_month['mb_used_sum']) # округление использованного трафика \n",
    "                                                                                      # в большую сторону\n",
    "mb_used_per_month"
   ]
  },
  {
   "cell_type": "markdown",
   "id": "6b6f95a9",
   "metadata": {},
   "source": [
    "Расчет количества сообщений по каждому пользователю помесячно."
   ]
  },
  {
   "cell_type": "code",
   "execution_count": 73,
   "id": "f7b16e43",
   "metadata": {},
   "outputs": [
    {
     "data": {
      "text/html": [
       "<div>\n",
       "<style scoped>\n",
       "    .dataframe tbody tr th:only-of-type {\n",
       "        vertical-align: middle;\n",
       "    }\n",
       "\n",
       "    .dataframe tbody tr th {\n",
       "        vertical-align: top;\n",
       "    }\n",
       "\n",
       "    .dataframe thead th {\n",
       "        text-align: right;\n",
       "    }\n",
       "</style>\n",
       "<table border=\"1\" class=\"dataframe\">\n",
       "  <thead>\n",
       "    <tr style=\"text-align: right;\">\n",
       "      <th></th>\n",
       "      <th></th>\n",
       "      <th>messages_count</th>\n",
       "    </tr>\n",
       "    <tr>\n",
       "      <th>user_id</th>\n",
       "      <th>month</th>\n",
       "      <th></th>\n",
       "    </tr>\n",
       "  </thead>\n",
       "  <tbody>\n",
       "    <tr>\n",
       "      <th rowspan=\"5\" valign=\"top\">1000</th>\n",
       "      <th>5</th>\n",
       "      <td>22</td>\n",
       "    </tr>\n",
       "    <tr>\n",
       "      <th>6</th>\n",
       "      <td>60</td>\n",
       "    </tr>\n",
       "    <tr>\n",
       "      <th>7</th>\n",
       "      <td>75</td>\n",
       "    </tr>\n",
       "    <tr>\n",
       "      <th>8</th>\n",
       "      <td>81</td>\n",
       "    </tr>\n",
       "    <tr>\n",
       "      <th>9</th>\n",
       "      <td>57</td>\n",
       "    </tr>\n",
       "    <tr>\n",
       "      <th>...</th>\n",
       "      <th>...</th>\n",
       "      <td>...</td>\n",
       "    </tr>\n",
       "    <tr>\n",
       "      <th>1498</th>\n",
       "      <th>10</th>\n",
       "      <td>42</td>\n",
       "    </tr>\n",
       "    <tr>\n",
       "      <th rowspan=\"4\" valign=\"top\">1499</th>\n",
       "      <th>9</th>\n",
       "      <td>11</td>\n",
       "    </tr>\n",
       "    <tr>\n",
       "      <th>10</th>\n",
       "      <td>48</td>\n",
       "    </tr>\n",
       "    <tr>\n",
       "      <th>11</th>\n",
       "      <td>59</td>\n",
       "    </tr>\n",
       "    <tr>\n",
       "      <th>12</th>\n",
       "      <td>66</td>\n",
       "    </tr>\n",
       "  </tbody>\n",
       "</table>\n",
       "<p>2717 rows × 1 columns</p>\n",
       "</div>"
      ],
      "text/plain": [
       "               messages_count\n",
       "user_id month                \n",
       "1000    5                  22\n",
       "        6                  60\n",
       "        7                  75\n",
       "        8                  81\n",
       "        9                  57\n",
       "...                       ...\n",
       "1498    10                 42\n",
       "1499    9                  11\n",
       "        10                 48\n",
       "        11                 59\n",
       "        12                 66\n",
       "\n",
       "[2717 rows x 1 columns]"
      ]
     },
     "execution_count": 73,
     "metadata": {},
     "output_type": "execute_result"
    }
   ],
   "source": [
    "messages_per_month = messages.pivot_table(index=['user_id', 'month'], values='message_date', aggfunc='count')\n",
    "messages_per_month.columns=['messages_count']\n",
    "messages_per_month"
   ]
  },
  {
   "cell_type": "markdown",
   "id": "9e7dd7ac",
   "metadata": {},
   "source": [
    "Для вычисления помесячной выручки соединим в одну таблицу предыдущие расчеты."
   ]
  },
  {
   "cell_type": "code",
   "execution_count": 74,
   "id": "9b1936cf",
   "metadata": {},
   "outputs": [
    {
     "data": {
      "text/html": [
       "<div>\n",
       "<style scoped>\n",
       "    .dataframe tbody tr th:only-of-type {\n",
       "        vertical-align: middle;\n",
       "    }\n",
       "\n",
       "    .dataframe tbody tr th {\n",
       "        vertical-align: top;\n",
       "    }\n",
       "\n",
       "    .dataframe thead th {\n",
       "        text-align: right;\n",
       "    }\n",
       "</style>\n",
       "<table border=\"1\" class=\"dataframe\">\n",
       "  <thead>\n",
       "    <tr style=\"text-align: right;\">\n",
       "      <th></th>\n",
       "      <th></th>\n",
       "      <th>calls_count</th>\n",
       "      <th>calls_duration</th>\n",
       "      <th>mb_used_sum</th>\n",
       "      <th>messages_count</th>\n",
       "    </tr>\n",
       "    <tr>\n",
       "      <th>user_id</th>\n",
       "      <th>month</th>\n",
       "      <th></th>\n",
       "      <th></th>\n",
       "      <th></th>\n",
       "      <th></th>\n",
       "    </tr>\n",
       "  </thead>\n",
       "  <tbody>\n",
       "    <tr>\n",
       "      <th rowspan=\"5\" valign=\"top\">1000</th>\n",
       "      <th>5</th>\n",
       "      <td>22.0</td>\n",
       "      <td>159.0</td>\n",
       "      <td>2254.0</td>\n",
       "      <td>22.0</td>\n",
       "    </tr>\n",
       "    <tr>\n",
       "      <th>6</th>\n",
       "      <td>43.0</td>\n",
       "      <td>172.0</td>\n",
       "      <td>23234.0</td>\n",
       "      <td>60.0</td>\n",
       "    </tr>\n",
       "    <tr>\n",
       "      <th>7</th>\n",
       "      <td>47.0</td>\n",
       "      <td>340.0</td>\n",
       "      <td>14004.0</td>\n",
       "      <td>75.0</td>\n",
       "    </tr>\n",
       "    <tr>\n",
       "      <th>8</th>\n",
       "      <td>52.0</td>\n",
       "      <td>408.0</td>\n",
       "      <td>14056.0</td>\n",
       "      <td>81.0</td>\n",
       "    </tr>\n",
       "    <tr>\n",
       "      <th>9</th>\n",
       "      <td>58.0</td>\n",
       "      <td>466.0</td>\n",
       "      <td>14569.0</td>\n",
       "      <td>57.0</td>\n",
       "    </tr>\n",
       "    <tr>\n",
       "      <th>...</th>\n",
       "      <th>...</th>\n",
       "      <td>...</td>\n",
       "      <td>...</td>\n",
       "      <td>...</td>\n",
       "      <td>...</td>\n",
       "    </tr>\n",
       "    <tr>\n",
       "      <th>1498</th>\n",
       "      <th>10</th>\n",
       "      <td>41.0</td>\n",
       "      <td>247.0</td>\n",
       "      <td>20580.0</td>\n",
       "      <td>42.0</td>\n",
       "    </tr>\n",
       "    <tr>\n",
       "      <th rowspan=\"4\" valign=\"top\">1499</th>\n",
       "      <th>9</th>\n",
       "      <td>9.0</td>\n",
       "      <td>70.0</td>\n",
       "      <td>1846.0</td>\n",
       "      <td>11.0</td>\n",
       "    </tr>\n",
       "    <tr>\n",
       "      <th>10</th>\n",
       "      <td>68.0</td>\n",
       "      <td>449.0</td>\n",
       "      <td>17789.0</td>\n",
       "      <td>48.0</td>\n",
       "    </tr>\n",
       "    <tr>\n",
       "      <th>11</th>\n",
       "      <td>74.0</td>\n",
       "      <td>612.0</td>\n",
       "      <td>17964.0</td>\n",
       "      <td>59.0</td>\n",
       "    </tr>\n",
       "    <tr>\n",
       "      <th>12</th>\n",
       "      <td>69.0</td>\n",
       "      <td>492.0</td>\n",
       "      <td>13056.0</td>\n",
       "      <td>66.0</td>\n",
       "    </tr>\n",
       "  </tbody>\n",
       "</table>\n",
       "<p>3174 rows × 4 columns</p>\n",
       "</div>"
      ],
      "text/plain": [
       "               calls_count  calls_duration  mb_used_sum  messages_count\n",
       "user_id month                                                          \n",
       "1000    5             22.0           159.0       2254.0            22.0\n",
       "        6             43.0           172.0      23234.0            60.0\n",
       "        7             47.0           340.0      14004.0            75.0\n",
       "        8             52.0           408.0      14056.0            81.0\n",
       "        9             58.0           466.0      14569.0            57.0\n",
       "...                    ...             ...          ...             ...\n",
       "1498    10            41.0           247.0      20580.0            42.0\n",
       "1499    9              9.0            70.0       1846.0            11.0\n",
       "        10            68.0           449.0      17789.0            48.0\n",
       "        11            74.0           612.0      17964.0            59.0\n",
       "        12            69.0           492.0      13056.0            66.0\n",
       "\n",
       "[3174 rows x 4 columns]"
      ]
     },
     "execution_count": 74,
     "metadata": {},
     "output_type": "execute_result"
    }
   ],
   "source": [
    "users_pivot = calls_per_month.join([mb_used_per_month, messages_per_month])\n",
    "users_pivot"
   ]
  },
  {
   "cell_type": "markdown",
   "id": "3f642fc5",
   "metadata": {},
   "source": [
    "Добавим в таблицу название тарифа."
   ]
  },
  {
   "cell_type": "code",
   "execution_count": 75,
   "id": "d5fd1687",
   "metadata": {},
   "outputs": [],
   "source": [
    "users_pivot = users_pivot.join(users.loc[:,['user_id', 'tariff']].set_index('user_id'))"
   ]
  },
  {
   "cell_type": "code",
   "execution_count": 76,
   "id": "ee75135e",
   "metadata": {},
   "outputs": [
    {
     "data": {
      "text/html": [
       "<div>\n",
       "<style scoped>\n",
       "    .dataframe tbody tr th:only-of-type {\n",
       "        vertical-align: middle;\n",
       "    }\n",
       "\n",
       "    .dataframe tbody tr th {\n",
       "        vertical-align: top;\n",
       "    }\n",
       "\n",
       "    .dataframe thead th {\n",
       "        text-align: right;\n",
       "    }\n",
       "</style>\n",
       "<table border=\"1\" class=\"dataframe\">\n",
       "  <thead>\n",
       "    <tr style=\"text-align: right;\">\n",
       "      <th></th>\n",
       "      <th></th>\n",
       "      <th>calls_count</th>\n",
       "      <th>calls_duration</th>\n",
       "      <th>mb_used_sum</th>\n",
       "      <th>messages_count</th>\n",
       "      <th>tariff</th>\n",
       "    </tr>\n",
       "    <tr>\n",
       "      <th>user_id</th>\n",
       "      <th>month</th>\n",
       "      <th></th>\n",
       "      <th></th>\n",
       "      <th></th>\n",
       "      <th></th>\n",
       "      <th></th>\n",
       "    </tr>\n",
       "  </thead>\n",
       "  <tbody>\n",
       "    <tr>\n",
       "      <th rowspan=\"5\" valign=\"top\">1000</th>\n",
       "      <th>5</th>\n",
       "      <td>22.0</td>\n",
       "      <td>159.0</td>\n",
       "      <td>2254.0</td>\n",
       "      <td>22.0</td>\n",
       "      <td>ultra</td>\n",
       "    </tr>\n",
       "    <tr>\n",
       "      <th>6</th>\n",
       "      <td>43.0</td>\n",
       "      <td>172.0</td>\n",
       "      <td>23234.0</td>\n",
       "      <td>60.0</td>\n",
       "      <td>ultra</td>\n",
       "    </tr>\n",
       "    <tr>\n",
       "      <th>7</th>\n",
       "      <td>47.0</td>\n",
       "      <td>340.0</td>\n",
       "      <td>14004.0</td>\n",
       "      <td>75.0</td>\n",
       "      <td>ultra</td>\n",
       "    </tr>\n",
       "    <tr>\n",
       "      <th>8</th>\n",
       "      <td>52.0</td>\n",
       "      <td>408.0</td>\n",
       "      <td>14056.0</td>\n",
       "      <td>81.0</td>\n",
       "      <td>ultra</td>\n",
       "    </tr>\n",
       "    <tr>\n",
       "      <th>9</th>\n",
       "      <td>58.0</td>\n",
       "      <td>466.0</td>\n",
       "      <td>14569.0</td>\n",
       "      <td>57.0</td>\n",
       "      <td>ultra</td>\n",
       "    </tr>\n",
       "    <tr>\n",
       "      <th>...</th>\n",
       "      <th>...</th>\n",
       "      <td>...</td>\n",
       "      <td>...</td>\n",
       "      <td>...</td>\n",
       "      <td>...</td>\n",
       "      <td>...</td>\n",
       "    </tr>\n",
       "    <tr>\n",
       "      <th>1498</th>\n",
       "      <th>10</th>\n",
       "      <td>41.0</td>\n",
       "      <td>247.0</td>\n",
       "      <td>20580.0</td>\n",
       "      <td>42.0</td>\n",
       "      <td>smart</td>\n",
       "    </tr>\n",
       "    <tr>\n",
       "      <th rowspan=\"4\" valign=\"top\">1499</th>\n",
       "      <th>9</th>\n",
       "      <td>9.0</td>\n",
       "      <td>70.0</td>\n",
       "      <td>1846.0</td>\n",
       "      <td>11.0</td>\n",
       "      <td>smart</td>\n",
       "    </tr>\n",
       "    <tr>\n",
       "      <th>10</th>\n",
       "      <td>68.0</td>\n",
       "      <td>449.0</td>\n",
       "      <td>17789.0</td>\n",
       "      <td>48.0</td>\n",
       "      <td>smart</td>\n",
       "    </tr>\n",
       "    <tr>\n",
       "      <th>11</th>\n",
       "      <td>74.0</td>\n",
       "      <td>612.0</td>\n",
       "      <td>17964.0</td>\n",
       "      <td>59.0</td>\n",
       "      <td>smart</td>\n",
       "    </tr>\n",
       "    <tr>\n",
       "      <th>12</th>\n",
       "      <td>69.0</td>\n",
       "      <td>492.0</td>\n",
       "      <td>13056.0</td>\n",
       "      <td>66.0</td>\n",
       "      <td>smart</td>\n",
       "    </tr>\n",
       "  </tbody>\n",
       "</table>\n",
       "<p>3174 rows × 5 columns</p>\n",
       "</div>"
      ],
      "text/plain": [
       "               calls_count  calls_duration  mb_used_sum  messages_count tariff\n",
       "user_id month                                                                 \n",
       "1000    5             22.0           159.0       2254.0            22.0  ultra\n",
       "        6             43.0           172.0      23234.0            60.0  ultra\n",
       "        7             47.0           340.0      14004.0            75.0  ultra\n",
       "        8             52.0           408.0      14056.0            81.0  ultra\n",
       "        9             58.0           466.0      14569.0            57.0  ultra\n",
       "...                    ...             ...          ...             ...    ...\n",
       "1498    10            41.0           247.0      20580.0            42.0  smart\n",
       "1499    9              9.0            70.0       1846.0            11.0  smart\n",
       "        10            68.0           449.0      17789.0            48.0  smart\n",
       "        11            74.0           612.0      17964.0            59.0  smart\n",
       "        12            69.0           492.0      13056.0            66.0  smart\n",
       "\n",
       "[3174 rows x 5 columns]"
      ]
     },
     "execution_count": 76,
     "metadata": {},
     "output_type": "execute_result"
    }
   ],
   "source": [
    "users_pivot"
   ]
  },
  {
   "cell_type": "code",
   "execution_count": 77,
   "id": "d0cdaa40",
   "metadata": {},
   "outputs": [
    {
     "data": {
      "text/html": [
       "<div>\n",
       "<style scoped>\n",
       "    .dataframe tbody tr th:only-of-type {\n",
       "        vertical-align: middle;\n",
       "    }\n",
       "\n",
       "    .dataframe tbody tr th {\n",
       "        vertical-align: top;\n",
       "    }\n",
       "\n",
       "    .dataframe thead th {\n",
       "        text-align: right;\n",
       "    }\n",
       "</style>\n",
       "<table border=\"1\" class=\"dataframe\">\n",
       "  <thead>\n",
       "    <tr style=\"text-align: right;\">\n",
       "      <th></th>\n",
       "      <th>user_id</th>\n",
       "      <th>age</th>\n",
       "      <th>churn_date</th>\n",
       "      <th>city</th>\n",
       "      <th>first_name</th>\n",
       "      <th>last_name</th>\n",
       "      <th>reg_date</th>\n",
       "      <th>tariff</th>\n",
       "    </tr>\n",
       "  </thead>\n",
       "  <tbody>\n",
       "    <tr>\n",
       "      <th>0</th>\n",
       "      <td>1000</td>\n",
       "      <td>52</td>\n",
       "      <td>NaT</td>\n",
       "      <td>Краснодар</td>\n",
       "      <td>Рафаил</td>\n",
       "      <td>Верещагин</td>\n",
       "      <td>2018-05-25</td>\n",
       "      <td>ultra</td>\n",
       "    </tr>\n",
       "    <tr>\n",
       "      <th>1</th>\n",
       "      <td>1001</td>\n",
       "      <td>41</td>\n",
       "      <td>NaT</td>\n",
       "      <td>Москва</td>\n",
       "      <td>Иван</td>\n",
       "      <td>Ежов</td>\n",
       "      <td>2018-11-01</td>\n",
       "      <td>smart</td>\n",
       "    </tr>\n",
       "    <tr>\n",
       "      <th>2</th>\n",
       "      <td>1002</td>\n",
       "      <td>59</td>\n",
       "      <td>NaT</td>\n",
       "      <td>Стерлитамак</td>\n",
       "      <td>Евгений</td>\n",
       "      <td>Абрамович</td>\n",
       "      <td>2018-06-17</td>\n",
       "      <td>smart</td>\n",
       "    </tr>\n",
       "    <tr>\n",
       "      <th>3</th>\n",
       "      <td>1003</td>\n",
       "      <td>23</td>\n",
       "      <td>NaT</td>\n",
       "      <td>Москва</td>\n",
       "      <td>Белла</td>\n",
       "      <td>Белякова</td>\n",
       "      <td>2018-08-17</td>\n",
       "      <td>ultra</td>\n",
       "    </tr>\n",
       "    <tr>\n",
       "      <th>4</th>\n",
       "      <td>1004</td>\n",
       "      <td>68</td>\n",
       "      <td>NaT</td>\n",
       "      <td>Новокузнецк</td>\n",
       "      <td>Татьяна</td>\n",
       "      <td>Авдеенко</td>\n",
       "      <td>2018-05-14</td>\n",
       "      <td>ultra</td>\n",
       "    </tr>\n",
       "    <tr>\n",
       "      <th>...</th>\n",
       "      <td>...</td>\n",
       "      <td>...</td>\n",
       "      <td>...</td>\n",
       "      <td>...</td>\n",
       "      <td>...</td>\n",
       "      <td>...</td>\n",
       "      <td>...</td>\n",
       "      <td>...</td>\n",
       "    </tr>\n",
       "    <tr>\n",
       "      <th>495</th>\n",
       "      <td>1495</td>\n",
       "      <td>65</td>\n",
       "      <td>NaT</td>\n",
       "      <td>Иркутск</td>\n",
       "      <td>Авксентий</td>\n",
       "      <td>Фокин</td>\n",
       "      <td>2018-08-28</td>\n",
       "      <td>ultra</td>\n",
       "    </tr>\n",
       "    <tr>\n",
       "      <th>496</th>\n",
       "      <td>1496</td>\n",
       "      <td>36</td>\n",
       "      <td>NaT</td>\n",
       "      <td>Вологда</td>\n",
       "      <td>Трифон</td>\n",
       "      <td>Блохин</td>\n",
       "      <td>2018-01-27</td>\n",
       "      <td>smart</td>\n",
       "    </tr>\n",
       "    <tr>\n",
       "      <th>497</th>\n",
       "      <td>1497</td>\n",
       "      <td>32</td>\n",
       "      <td>NaT</td>\n",
       "      <td>Челябинск</td>\n",
       "      <td>Каролина</td>\n",
       "      <td>Агеева</td>\n",
       "      <td>2018-10-09</td>\n",
       "      <td>smart</td>\n",
       "    </tr>\n",
       "    <tr>\n",
       "      <th>498</th>\n",
       "      <td>1498</td>\n",
       "      <td>68</td>\n",
       "      <td>2018-10-25</td>\n",
       "      <td>Владикавказ</td>\n",
       "      <td>Всеволод</td>\n",
       "      <td>Акимчин</td>\n",
       "      <td>2018-07-19</td>\n",
       "      <td>smart</td>\n",
       "    </tr>\n",
       "    <tr>\n",
       "      <th>499</th>\n",
       "      <td>1499</td>\n",
       "      <td>35</td>\n",
       "      <td>NaT</td>\n",
       "      <td>Пермь</td>\n",
       "      <td>Гектор</td>\n",
       "      <td>Корнилов</td>\n",
       "      <td>2018-09-27</td>\n",
       "      <td>smart</td>\n",
       "    </tr>\n",
       "  </tbody>\n",
       "</table>\n",
       "<p>500 rows × 8 columns</p>\n",
       "</div>"
      ],
      "text/plain": [
       "     user_id  age churn_date         city first_name  last_name   reg_date  \\\n",
       "0       1000   52        NaT    Краснодар     Рафаил  Верещагин 2018-05-25   \n",
       "1       1001   41        NaT       Москва       Иван       Ежов 2018-11-01   \n",
       "2       1002   59        NaT  Стерлитамак    Евгений  Абрамович 2018-06-17   \n",
       "3       1003   23        NaT       Москва      Белла   Белякова 2018-08-17   \n",
       "4       1004   68        NaT  Новокузнецк    Татьяна   Авдеенко 2018-05-14   \n",
       "..       ...  ...        ...          ...        ...        ...        ...   \n",
       "495     1495   65        NaT      Иркутск  Авксентий      Фокин 2018-08-28   \n",
       "496     1496   36        NaT      Вологда     Трифон     Блохин 2018-01-27   \n",
       "497     1497   32        NaT    Челябинск   Каролина     Агеева 2018-10-09   \n",
       "498     1498   68 2018-10-25  Владикавказ   Всеволод    Акимчин 2018-07-19   \n",
       "499     1499   35        NaT        Пермь     Гектор   Корнилов 2018-09-27   \n",
       "\n",
       "    tariff  \n",
       "0    ultra  \n",
       "1    smart  \n",
       "2    smart  \n",
       "3    ultra  \n",
       "4    ultra  \n",
       "..     ...  \n",
       "495  ultra  \n",
       "496  smart  \n",
       "497  smart  \n",
       "498  smart  \n",
       "499  smart  \n",
       "\n",
       "[500 rows x 8 columns]"
      ]
     },
     "execution_count": 77,
     "metadata": {},
     "output_type": "execute_result"
    }
   ],
   "source": [
    "users"
   ]
  },
  {
   "cell_type": "code",
   "execution_count": 78,
   "id": "09d1ef7e",
   "metadata": {},
   "outputs": [
    {
     "data": {
      "text/plain": [
       "calls_count         0\n",
       "calls_duration      0\n",
       "mb_used_sum        11\n",
       "messages_count    496\n",
       "tariff              0\n",
       "dtype: int64"
      ]
     },
     "execution_count": 78,
     "metadata": {},
     "output_type": "execute_result"
    }
   ],
   "source": [
    "users_pivot.isnull().sum() # проверим количество пропущенных значений в users_pivot"
   ]
  },
  {
   "cell_type": "markdown",
   "id": "ae49c91c",
   "metadata": {},
   "source": [
    "Считаем, что пропущенные значения означают, что пользователь не ипользовал услуги, поэтому заменяем их на нули."
   ]
  },
  {
   "cell_type": "code",
   "execution_count": 79,
   "id": "a1bc7e6d",
   "metadata": {},
   "outputs": [
    {
     "data": {
      "text/plain": [
       "calls_count       0\n",
       "calls_duration    0\n",
       "mb_used_sum       0\n",
       "messages_count    0\n",
       "tariff            0\n",
       "dtype: int64"
      ]
     },
     "execution_count": 79,
     "metadata": {},
     "output_type": "execute_result"
    }
   ],
   "source": [
    "users_pivot.fillna(0, inplace=True)\n",
    "users_pivot.isnull().sum() # заменяем пропуски на нули"
   ]
  },
  {
   "cell_type": "markdown",
   "id": "7aac4ac9",
   "metadata": {},
   "source": [
    "Добавляем в таблицу название города."
   ]
  },
  {
   "cell_type": "code",
   "execution_count": 80,
   "id": "74db00cf",
   "metadata": {},
   "outputs": [],
   "source": [
    "users_pivot = users_pivot.join(users.loc[:,['user_id', 'city']].set_index('user_id'), how='outer')"
   ]
  },
  {
   "cell_type": "markdown",
   "id": "12aac715",
   "metadata": {},
   "source": [
    "Создаем функцию для расчета помесячной выручки с каждого пользователя."
   ]
  },
  {
   "cell_type": "code",
   "execution_count": 81,
   "id": "4024df70",
   "metadata": {},
   "outputs": [],
   "source": [
    "def total_income_per_month_calculation(row):\n",
    "    calls_count = row['calls_count'] \n",
    "    calls_duration = row['calls_duration']\n",
    "    mb_used_sum = row['mb_used_sum']\n",
    "    messages_count = row['messages_count']\n",
    "    tariff = row['tariff']\n",
    "    \n",
    "    # переменные стоимости и лимитов для каждого из тарифов.\n",
    "    megabytes_included = int(tariffs.loc[tariffs.loc[:,'tariff_name'] == tariff]['mb_per_month_included'])  \n",
    "    messages_included = int(tariffs.loc[tariffs.loc[:,'tariff_name'] == tariff]['messages_included'])\n",
    "    minutes_included = int(tariffs.loc[tariffs.loc[:,'tariff_name'] == tariff]['minutes_included'])\n",
    "    monthly_fee = int(tariffs.loc[tariffs.loc[:,'tariff_name'] == tariff]['rub_monthly_fee'])\n",
    "    price_for_gb = int(tariffs.loc[tariffs.loc[:,'tariff_name'] == tariff]['rub_per_gb'])\n",
    "    price_for_message = int(tariffs.loc[tariffs.loc[:,'tariff_name'] == tariff]['rub_per_message'])\n",
    "    price_for_minute = int(tariffs.loc[tariffs.loc[:,'tariff_name'] == tariff]['rub_per_minute'])\n",
    "    \n",
    "    over_mb = 0                # переменные перерасхода для трафика, сообщений и звонков.\n",
    "    over_messages = 0               \n",
    "    over_calls = 0             \n",
    " \n",
    "    if mb_used_sum > megabytes_included:\n",
    "        over_mb = ceil((mb_used_sum - megabytes_included) / 1024) * price_for_gb # сверх тарифа использованный трафик \n",
    "                                                  # считается в гб, поэтому делимна 1024 и округляем в большую сторону\n",
    "    \n",
    "    if calls_duration > minutes_included:\n",
    "        over_calls = (calls_duration - minutes_included) * price_for_minute\n",
    "        \n",
    "    if messages_count > messages_included:\n",
    "        over_messages = (messages_count - messages_included) * price_for_message \n",
    "            \n",
    "    return over_mb + over_messages + over_calls + monthly_fee # суммарная выручка с пользователя"
   ]
  },
  {
   "cell_type": "code",
   "execution_count": 82,
   "id": "87ea54ce",
   "metadata": {},
   "outputs": [],
   "source": [
    "users_pivot['total_income'] = users_pivot.apply(total_income_per_month_calculation, axis = 1) # добавляем столбец с выручкой"
   ]
  },
  {
   "cell_type": "code",
   "execution_count": 83,
   "id": "eb5944e6",
   "metadata": {},
   "outputs": [
    {
     "data": {
      "text/html": [
       "<div>\n",
       "<style scoped>\n",
       "    .dataframe tbody tr th:only-of-type {\n",
       "        vertical-align: middle;\n",
       "    }\n",
       "\n",
       "    .dataframe tbody tr th {\n",
       "        vertical-align: top;\n",
       "    }\n",
       "\n",
       "    .dataframe thead th {\n",
       "        text-align: right;\n",
       "    }\n",
       "</style>\n",
       "<table border=\"1\" class=\"dataframe\">\n",
       "  <thead>\n",
       "    <tr style=\"text-align: right;\">\n",
       "      <th></th>\n",
       "      <th></th>\n",
       "      <th>calls_count</th>\n",
       "      <th>calls_duration</th>\n",
       "      <th>mb_used_sum</th>\n",
       "      <th>messages_count</th>\n",
       "      <th>tariff</th>\n",
       "      <th>city</th>\n",
       "      <th>total_income</th>\n",
       "    </tr>\n",
       "    <tr>\n",
       "      <th>user_id</th>\n",
       "      <th>month</th>\n",
       "      <th></th>\n",
       "      <th></th>\n",
       "      <th></th>\n",
       "      <th></th>\n",
       "      <th></th>\n",
       "      <th></th>\n",
       "      <th></th>\n",
       "    </tr>\n",
       "  </thead>\n",
       "  <tbody>\n",
       "    <tr>\n",
       "      <th rowspan=\"5\" valign=\"top\">1000</th>\n",
       "      <th>5</th>\n",
       "      <td>22.0</td>\n",
       "      <td>159.0</td>\n",
       "      <td>2254.0</td>\n",
       "      <td>22.0</td>\n",
       "      <td>ultra</td>\n",
       "      <td>Краснодар</td>\n",
       "      <td>1950.0</td>\n",
       "    </tr>\n",
       "    <tr>\n",
       "      <th>6</th>\n",
       "      <td>43.0</td>\n",
       "      <td>172.0</td>\n",
       "      <td>23234.0</td>\n",
       "      <td>60.0</td>\n",
       "      <td>ultra</td>\n",
       "      <td>Краснодар</td>\n",
       "      <td>1950.0</td>\n",
       "    </tr>\n",
       "    <tr>\n",
       "      <th>7</th>\n",
       "      <td>47.0</td>\n",
       "      <td>340.0</td>\n",
       "      <td>14004.0</td>\n",
       "      <td>75.0</td>\n",
       "      <td>ultra</td>\n",
       "      <td>Краснодар</td>\n",
       "      <td>1950.0</td>\n",
       "    </tr>\n",
       "    <tr>\n",
       "      <th>8</th>\n",
       "      <td>52.0</td>\n",
       "      <td>408.0</td>\n",
       "      <td>14056.0</td>\n",
       "      <td>81.0</td>\n",
       "      <td>ultra</td>\n",
       "      <td>Краснодар</td>\n",
       "      <td>1950.0</td>\n",
       "    </tr>\n",
       "    <tr>\n",
       "      <th>9</th>\n",
       "      <td>58.0</td>\n",
       "      <td>466.0</td>\n",
       "      <td>14569.0</td>\n",
       "      <td>57.0</td>\n",
       "      <td>ultra</td>\n",
       "      <td>Краснодар</td>\n",
       "      <td>1950.0</td>\n",
       "    </tr>\n",
       "  </tbody>\n",
       "</table>\n",
       "</div>"
      ],
      "text/plain": [
       "               calls_count  calls_duration  mb_used_sum  messages_count  \\\n",
       "user_id month                                                             \n",
       "1000    5             22.0           159.0       2254.0            22.0   \n",
       "        6             43.0           172.0      23234.0            60.0   \n",
       "        7             47.0           340.0      14004.0            75.0   \n",
       "        8             52.0           408.0      14056.0            81.0   \n",
       "        9             58.0           466.0      14569.0            57.0   \n",
       "\n",
       "              tariff       city  total_income  \n",
       "user_id month                                  \n",
       "1000    5      ultra  Краснодар        1950.0  \n",
       "        6      ultra  Краснодар        1950.0  \n",
       "        7      ultra  Краснодар        1950.0  \n",
       "        8      ultra  Краснодар        1950.0  \n",
       "        9      ultra  Краснодар        1950.0  "
      ]
     },
     "execution_count": 83,
     "metadata": {},
     "output_type": "execute_result"
    }
   ],
   "source": [
    "users_pivot.head(5)"
   ]
  },
  {
   "cell_type": "markdown",
   "id": "9ff68260",
   "metadata": {},
   "source": [
    "# Анализ данных"
   ]
  },
  {
   "cell_type": "code",
   "execution_count": 84,
   "id": "8e4b3377",
   "metadata": {},
   "outputs": [
    {
     "data": {
      "text/html": [
       "<div>\n",
       "<style scoped>\n",
       "    .dataframe tbody tr th:only-of-type {\n",
       "        vertical-align: middle;\n",
       "    }\n",
       "\n",
       "    .dataframe tbody tr th {\n",
       "        vertical-align: top;\n",
       "    }\n",
       "\n",
       "    .dataframe thead tr th {\n",
       "        text-align: left;\n",
       "    }\n",
       "\n",
       "    .dataframe thead tr:last-of-type th {\n",
       "        text-align: right;\n",
       "    }\n",
       "</style>\n",
       "<table border=\"1\" class=\"dataframe\">\n",
       "  <thead>\n",
       "    <tr>\n",
       "      <th></th>\n",
       "      <th colspan=\"4\" halign=\"left\">calls_duration</th>\n",
       "      <th colspan=\"4\" halign=\"left\">mb_used_sum</th>\n",
       "      <th colspan=\"4\" halign=\"left\">messages_count</th>\n",
       "    </tr>\n",
       "    <tr>\n",
       "      <th></th>\n",
       "      <th>mean</th>\n",
       "      <th>median</th>\n",
       "      <th>std</th>\n",
       "      <th>var</th>\n",
       "      <th>mean</th>\n",
       "      <th>median</th>\n",
       "      <th>std</th>\n",
       "      <th>var</th>\n",
       "      <th>mean</th>\n",
       "      <th>median</th>\n",
       "      <th>std</th>\n",
       "      <th>var</th>\n",
       "    </tr>\n",
       "    <tr>\n",
       "      <th>tariff</th>\n",
       "      <th></th>\n",
       "      <th></th>\n",
       "      <th></th>\n",
       "      <th></th>\n",
       "      <th></th>\n",
       "      <th></th>\n",
       "      <th></th>\n",
       "      <th></th>\n",
       "      <th></th>\n",
       "      <th></th>\n",
       "      <th></th>\n",
       "      <th></th>\n",
       "    </tr>\n",
       "  </thead>\n",
       "  <tbody>\n",
       "    <tr>\n",
       "      <th>smart</th>\n",
       "      <td>419.1</td>\n",
       "      <td>423.0</td>\n",
       "      <td>189.3</td>\n",
       "      <td>35844.2</td>\n",
       "      <td>16209.9</td>\n",
       "      <td>16505.0</td>\n",
       "      <td>5876.3</td>\n",
       "      <td>34530462.8</td>\n",
       "      <td>33.4</td>\n",
       "      <td>28.0</td>\n",
       "      <td>28.3</td>\n",
       "      <td>798.6</td>\n",
       "    </tr>\n",
       "    <tr>\n",
       "      <th>ultra</th>\n",
       "      <td>545.5</td>\n",
       "      <td>528.0</td>\n",
       "      <td>306.9</td>\n",
       "      <td>94203.4</td>\n",
       "      <td>19463.0</td>\n",
       "      <td>19353.0</td>\n",
       "      <td>10126.9</td>\n",
       "      <td>102553105.3</td>\n",
       "      <td>49.0</td>\n",
       "      <td>39.0</td>\n",
       "      <td>46.9</td>\n",
       "      <td>2198.7</td>\n",
       "    </tr>\n",
       "  </tbody>\n",
       "</table>\n",
       "</div>"
      ],
      "text/plain": [
       "       calls_duration                        mb_used_sum                    \\\n",
       "                 mean median    std      var        mean   median      std   \n",
       "tariff                                                                       \n",
       "smart           419.1  423.0  189.3  35844.2     16209.9  16505.0   5876.3   \n",
       "ultra           545.5  528.0  306.9  94203.4     19463.0  19353.0  10126.9   \n",
       "\n",
       "                    messages_count                       \n",
       "                var           mean median   std     var  \n",
       "tariff                                                   \n",
       "smart    34530462.8           33.4   28.0  28.3   798.6  \n",
       "ultra   102553105.3           49.0   39.0  46.9  2198.7  "
      ]
     },
     "execution_count": 84,
     "metadata": {},
     "output_type": "execute_result"
    }
   ],
   "source": [
    "users_pivot_stat = users_pivot.pivot_table(index=['tariff'], values=['calls_duration', 'mb_used_sum', 'messages_count'], \n",
    "                    aggfunc={'calls_duration': [np.mean, np.median, np.var, np.std], \n",
    "                             'mb_used_sum': [np.mean, np.median, np.var, np.std], \n",
    "                             'messages_count': [np.mean, np.median, np.var, np.std]})\n",
    "users_pivot_stat.applymap(\"{:.1f}\".format) "
   ]
  },
  {
   "cell_type": "markdown",
   "id": "49ffe872",
   "metadata": {},
   "source": [
    "В среднем пользователь тарифа \"Смарт\" проговаривает 419 минут, использует 16209 мб интернет трафика и отправляет 33 смс.\n",
    "В среднем пользователь тарифа \"Ультра\" проговаривает 545 минут, использует 19353 мб интернет трафика и отправляет 49 смс."
   ]
  },
  {
   "cell_type": "code",
   "execution_count": 85,
   "id": "f0335a9f",
   "metadata": {},
   "outputs": [
    {
     "data": {
      "image/png": "[encoded data removed]",
      "text/plain": [
       "<Figure size 360x360 with 1 Axes>"
      ]
     },
     "metadata": {
      "needs_background": "light"
     },
     "output_type": "display_data"
    },
    {
     "data": {
      "image/png": "[encoded data removed]",
      "text/plain": [
       "<Figure size 360x360 with 1 Axes>"
      ]
     },
     "metadata": {
      "needs_background": "light"
     },
     "output_type": "display_data"
    },
    {
     "data": {
      "image/png": "[encoded data removed]",
      "text/plain": [
       "<Figure size 360x360 with 1 Axes>"
      ]
     },
     "metadata": {
      "needs_background": "light"
     },
     "output_type": "display_data"
    }
   ],
   "source": [
    "for column in ['calls_duration', 'mb_used_sum', 'messages_count']:\n",
    "    sns.catplot(x='tariff', y=column, data=users_pivot, kind='box')\n",
    "    plt.title(column)"
   ]
  },
  {
   "cell_type": "code",
   "execution_count": 86,
   "id": "566f2c79",
   "metadata": {},
   "outputs": [
    {
     "data": {
      "image/png": "[encoded data removed]",
      "text/plain": [
       "<Figure size 432x288 with 1 Axes>"
      ]
     },
     "metadata": {
      "needs_background": "light"
     },
     "output_type": "display_data"
    }
   ],
   "source": [
    "for tariff in ['ultra', 'smart']:   \n",
    "    users_pivot.query('tariff == @tariff')['calls_duration'].hist(bins=40, range = (0, 1500), alpha=0.3)\n",
    "plt.axvline(x=tariffs['minutes_included'][0], ymin=0, ymax=1)\n",
    "plt.legend(['limit_smart', 'ultra', 'smart'])\n",
    "plt.ylabel('Количество пользователей')\n",
    "plt.xlabel('Продолжительность звонков, мин')\n",
    "plt.title('Гистограмма продолжительности звонков');"
   ]
  },
  {
   "cell_type": "markdown",
   "id": "56af4325",
   "metadata": {},
   "source": [
    "Достаточно большое количество пользователей тарифа \"Смарт\" превышают лимит включенных в тариф минут, но пик использования как раз приходится на количество минут до пятиста.<br>\n",
    "Пользователи тарифа \"Ультра\" не выходят за лимит включенных в тариф минут."
   ]
  },
  {
   "cell_type": "code",
   "execution_count": 87,
   "id": "c738efbd",
   "metadata": {},
   "outputs": [
    {
     "data": {
      "image/png": "[encoded data removed]",
      "text/plain": [
       "<Figure size 432x288 with 1 Axes>"
      ]
     },
     "metadata": {
      "needs_background": "light"
     },
     "output_type": "display_data"
    }
   ],
   "source": [
    "for tariff in ['ultra', 'smart']:\n",
    "    users_pivot.query('tariff == @tariff')['mb_used_sum'].hist(bins=30, range = (0, 50000), alpha=0.3)\n",
    "plt.axvline(x=tariffs['mb_per_month_included'][0], ymin=0, ymax=1, color = 'orange')  \n",
    "plt.axvline(x=tariffs['mb_per_month_included'][1], ymin=0, ymax=1) \n",
    "plt.legend(['limit_smart', 'limit_ultra', 'ultra', 'smart'])\n",
    "plt.ylabel('Количество пользователей')\n",
    "plt.xlabel('Количество использованных мегабайт')\n",
    "plt.title('Использование интернет трафика');"
   ]
  },
  {
   "cell_type": "markdown",
   "id": "b717e097",
   "metadata": {},
   "source": [
    "Пользователи тарифа \"Смарт\" чаще пользователей тарифа \"Ультра\" выходят из лимита включенных в тариф мегабайт. Чаще всего используют примерно от 15000 до 20000 мегабайт."
   ]
  },
  {
   "cell_type": "code",
   "execution_count": 88,
   "id": "752d4988",
   "metadata": {},
   "outputs": [
    {
     "data": {
      "image/png": "[encoded data removed]",
      "text/plain": [
       "<Figure size 432x288 with 1 Axes>"
      ]
     },
     "metadata": {
      "needs_background": "light"
     },
     "output_type": "display_data"
    }
   ],
   "source": [
    "for tariff in ['ultra', 'smart']:\n",
    "    users_pivot.query('tariff == @tariff')['messages_count'].hist(bins=20, range = (0, 250), alpha=0.3)\n",
    "plt.axvline(x=tariffs['messages_included'][0], ymin=0, ymax=1, color = 'orange')\n",
    "plt.legend(['limit_smart', 'ultra', 'smart'])\n",
    "plt.ylabel('Количество пользователей')\n",
    "plt.xlabel('Количество использованных СМС сообщений')\n",
    "plt.title('Использование смс сообщений');"
   ]
  },
  {
   "cell_type": "markdown",
   "id": "c4366261",
   "metadata": {},
   "source": [
    "Большая часть пользователей не отправляет сообщения. Пользователи тарифа \"Ультра\" за лимит не выходят. Некоторым пользователям тарифа \"Смарт\" приходятся доплачивать сверх тарифа за сообщения."
   ]
  },
  {
   "cell_type": "markdown",
   "id": "1aee2b44",
   "metadata": {},
   "source": [
    "##### Вывод"
   ]
  },
  {
   "cell_type": "markdown",
   "id": "f11c8157",
   "metadata": {},
   "source": [
    "Пользователи тарифа \"Смарт\" часто превышают лимиты по количеству минут и по лимиту мегабайт.\n",
    "Пользователи тарифов \"Смарт\" и \"Ультра\" чаще всего не используют сообщения.\n",
    "Пользователи тарифа \"Ультра\" практически не превышают лимитов, кроме мегабайт интернета.\n",
    "Пользователи тарифа \"Ультра\" не используют весь лимит по сообщениям и минутам."
   ]
  },
  {
   "cell_type": "markdown",
   "id": "60902c67",
   "metadata": {},
   "source": [
    "##### Проверка гипотез"
   ]
  },
  {
   "cell_type": "markdown",
   "id": "4b944f71",
   "metadata": {},
   "source": [
    "###### Cредняя выручка пользователей тарифов «Ультра» и «Смарт» различаются."
   ]
  },
  {
   "cell_type": "markdown",
   "id": "035ad5d2",
   "metadata": {},
   "source": [
    "Для проверки этой гипотезы сначала сформулируем нулевую гипотезу:<br>\n",
    "H₀ - средняя выручка пользователей тарифа \"Смарт\" равна выручке пользователей тарифа \"Ультра\".<br>\n",
    "Критический уровень статистической значимости = 0.05"
   ]
  },
  {
   "cell_type": "code",
   "execution_count": 89,
   "id": "16ba7e6c",
   "metadata": {},
   "outputs": [
    {
     "name": "stdout",
     "output_type": "stream",
     "text": [
      "p-значение: 3.155173205867294e-245\n",
      "Отвергаем нулевую гипотезу\n"
     ]
    }
   ],
   "source": [
    "ultra = users_pivot.query('tariff == \"ultra\"')['total_income']\n",
    "smart = users_pivot.query('tariff == \"smart\"')['total_income']\n",
    "\n",
    "alpha = .05\n",
    "\n",
    "results = st.ttest_ind(\n",
    "    ultra, \n",
    "    smart, \n",
    "    equal_var=False)\n",
    "\n",
    "print('p-значение:', results.pvalue)\n",
    "\n",
    "if (results.pvalue < alpha):\n",
    "    print(\"Отвергаем нулевую гипотезу\")\n",
    "else:\n",
    "    print(\"Не получилось отвергнуть нулевую гипотезу\")"
   ]
  },
  {
   "cell_type": "markdown",
   "id": "655c166d",
   "metadata": {},
   "source": [
    "Гипотеза не подтверждена. Можно сказать, что средняя выручка пользователей тарифов  \"Смарт\" и \"Ультра\" различаются."
   ]
  },
  {
   "cell_type": "code",
   "execution_count": 90,
   "id": "ff789b74",
   "metadata": {},
   "outputs": [
    {
     "name": "stdout",
     "output_type": "stream",
     "text": [
      "Выручка пользователей тарифа \"Ультра\": 2070.9779179810726\n",
      "Выручка пользователей тарифа \"Смарт\": 1290.8911381016644\n"
     ]
    }
   ],
   "source": [
    "print('Выручка пользователей тарифа \"Ультра\":',users_pivot.query('tariff == \"ultra\"')['total_income'].mean())\n",
    "print('Выручка пользователей тарифа \"Смарт\":',users_pivot.query('tariff == \"smart\"')['total_income'].mean())"
   ]
  },
  {
   "cell_type": "markdown",
   "id": "ef28c2a4",
   "metadata": {},
   "source": [
    "###### Средняя выручка пользователей из Москвы отличается от выручки пользователей из других регионов."
   ]
  },
  {
   "cell_type": "markdown",
   "id": "ad009608",
   "metadata": {},
   "source": [
    "H₀ - средняя выручка пользователей из Москвы равна выручке пользователей из других городов.<br>\n",
    "Критический уровень статистической значимости = 0.05"
   ]
  },
  {
   "cell_type": "code",
   "execution_count": 91,
   "id": "0524f507",
   "metadata": {},
   "outputs": [
    {
     "name": "stdout",
     "output_type": "stream",
     "text": [
      "p-значение: 1.0\n",
      "Не получилось отвергнуть нулевую гипотезу\n"
     ]
    }
   ],
   "source": [
    "moscow = users_pivot.query('city == \"Москва\"')['total_income'] # пользователи из Москвы\n",
    "others = moscow = users_pivot.query('city != \"Москва\"')['total_income'] # пользователи из других городов\n",
    "alpha = .05\n",
    "\n",
    "results = st.ttest_ind(\n",
    "    moscow, \n",
    "    others, \n",
    "    equal_var=True)\n",
    "\n",
    "print('p-значение:', results.pvalue)\n",
    "\n",
    "if (results.pvalue < alpha):\n",
    "    print(\"Отвергаем нулевую гипотезу\")\n",
    "else:\n",
    "    print(\"Не получилось отвергнуть нулевую гипотезу\")"
   ]
  },
  {
   "cell_type": "markdown",
   "id": "9236253d",
   "metadata": {},
   "source": [
    "Подтверждаем нулевую гипотезу. Получается, что средняя выручка пользователей из Москвы не отличается от средней выручки пользователей из других городов.<br> Посчитаем среднее, чтобы проверить."
   ]
  },
  {
   "cell_type": "code",
   "execution_count": 92,
   "id": "b653152f",
   "metadata": {},
   "outputs": [
    {
     "name": "stdout",
     "output_type": "stream",
     "text": [
      "Выручка пользователей из Москвы: 1546.0524590163934\n",
      "Выручка пользователей из других городов: 1519.5237909516381\n"
     ]
    }
   ],
   "source": [
    "print('Выручка пользователей из Москвы:',users_pivot.query('city == \"Москва\"')['total_income'].mean())\n",
    "print('Выручка пользователей из других городов:',users_pivot.query('city != \"Москва\"')['total_income'].mean())"
   ]
  },
  {
   "cell_type": "code",
   "execution_count": 93,
   "id": "350da067",
   "metadata": {},
   "outputs": [
    {
     "data": {
      "text/plain": [
       "tariff\n",
       "smart    2869651.0\n",
       "ultra    1969500.0\n",
       "Name: total_income, dtype: float64"
      ]
     },
     "execution_count": 93,
     "metadata": {},
     "output_type": "execute_result"
    }
   ],
   "source": [
    "users_pivot.groupby('tariff')['total_income'].sum() # суммарная выручка по каждому тарифу"
   ]
  },
  {
   "cell_type": "code",
   "execution_count": 94,
   "id": "42ef5bb8",
   "metadata": {},
   "outputs": [
    {
     "data": {
      "text/plain": [
       "tariff\n",
       "smart    351\n",
       "ultra    149\n",
       "Name: user_id, dtype: int64"
      ]
     },
     "execution_count": 94,
     "metadata": {},
     "output_type": "execute_result"
    }
   ],
   "source": [
    "users.groupby('tariff')['user_id'].count() # количество пользователей тарифа smart и ultra"
   ]
  },
  {
   "cell_type": "markdown",
   "id": "ae600244",
   "metadata": {},
   "source": [
    "Суммарная выручка по тарифу smart больше, чем по тарифу ultra на 909651 руб. Количество пользователей тарифа smart тоже больше."
   ]
  },
  {
   "cell_type": "markdown",
   "id": "64652dee",
   "metadata": {},
   "source": [
    "# Вывод"
   ]
  },
  {
   "cell_type": "markdown",
   "id": "c3c33b01",
   "metadata": {},
   "source": [
    "Пользователи тарифа \"Смарт\" чаще выходят за пределы лимитов включенных в тариф минут, мегабайт и смс. Пользователи тарифа  \"Смарт\" в среднем тратят меньше, чем пользователи тарифа \"Ультра\". Средняя выручка пользователей тарифа \"Ультра\" составляет 2070 рублей. Средняя выручка пользователей тарифа \"Смарт\" составляет 1290 рублей. Однако пользователей тарифа \"Смарт\" больше и суммарно они приносят больше выручки. "
   ]
  }
 ],
 "metadata": {
  "ExecuteTimeLog": [
   {
    "duration": 1428,
    "start_time": "2022-03-22T15:49:30.621Z"
   },
   {
    "duration": 265,
    "start_time": "2022-03-22T15:49:32.051Z"
   },
   {
    "duration": 21,
    "start_time": "2022-03-22T15:49:32.318Z"
   },
   {
    "duration": 49,
    "start_time": "2022-03-22T15:49:32.341Z"
   },
   {
    "duration": 436,
    "start_time": "2022-03-22T15:49:32.391Z"
   },
   {
    "duration": 18,
    "start_time": "2022-03-22T15:49:32.829Z"
   },
   {
    "duration": 23,
    "start_time": "2022-03-22T15:49:32.848Z"
   },
   {
    "duration": 185,
    "start_time": "2022-03-22T15:49:32.873Z"
   },
   {
    "duration": 15,
    "start_time": "2022-03-22T15:49:33.060Z"
   },
   {
    "duration": 42,
    "start_time": "2022-03-22T15:49:33.077Z"
   },
   {
    "duration": 63,
    "start_time": "2022-03-22T15:49:33.121Z"
   },
   {
    "duration": 16,
    "start_time": "2022-03-22T15:49:33.186Z"
   },
   {
    "duration": 72,
    "start_time": "2022-03-22T15:49:33.204Z"
   },
   {
    "duration": 11,
    "start_time": "2022-03-22T15:49:33.278Z"
   },
   {
    "duration": 40,
    "start_time": "2022-03-22T15:49:33.291Z"
   },
   {
    "duration": 36,
    "start_time": "2022-03-22T15:49:33.333Z"
   },
   {
    "duration": 48,
    "start_time": "2022-03-22T15:49:33.370Z"
   },
   {
    "duration": 15,
    "start_time": "2022-03-22T15:49:33.420Z"
   },
   {
    "duration": 48,
    "start_time": "2022-03-22T15:49:33.437Z"
   },
   {
    "duration": 63,
    "start_time": "2022-03-22T15:49:33.486Z"
   },
   {
    "duration": 30,
    "start_time": "2022-03-22T15:49:33.551Z"
   },
   {
    "duration": 24,
    "start_time": "2022-03-22T15:49:33.583Z"
   },
   {
    "duration": 54,
    "start_time": "2022-03-22T15:49:33.609Z"
   },
   {
    "duration": 7,
    "start_time": "2022-03-22T15:49:33.665Z"
   },
   {
    "duration": 51,
    "start_time": "2022-03-22T15:49:33.674Z"
   },
   {
    "duration": 14,
    "start_time": "2022-03-22T15:49:33.727Z"
   },
   {
    "duration": 30,
    "start_time": "2022-03-22T15:49:33.743Z"
   },
   {
    "duration": 16,
    "start_time": "2022-03-22T15:49:33.776Z"
   },
   {
    "duration": 31,
    "start_time": "2022-03-22T15:49:33.794Z"
   },
   {
    "duration": 32,
    "start_time": "2022-03-22T15:49:33.827Z"
   },
   {
    "duration": 8311,
    "start_time": "2022-03-22T15:49:33.861Z"
   },
   {
    "duration": 13,
    "start_time": "2022-03-22T15:49:42.174Z"
   },
   {
    "duration": 32,
    "start_time": "2022-03-22T15:49:42.190Z"
   },
   {
    "duration": 841,
    "start_time": "2022-03-22T15:49:42.238Z"
   },
   {
    "duration": 278,
    "start_time": "2022-03-22T15:49:43.081Z"
   },
   {
    "duration": 289,
    "start_time": "2022-03-22T15:49:43.361Z"
   },
   {
    "duration": 189,
    "start_time": "2022-03-22T15:49:43.652Z"
   },
   {
    "duration": 10,
    "start_time": "2022-03-22T15:49:43.842Z"
   },
   {
    "duration": 10,
    "start_time": "2022-03-22T15:49:43.854Z"
   },
   {
    "duration": 30,
    "start_time": "2022-03-22T15:49:43.865Z"
   },
   {
    "duration": 23,
    "start_time": "2022-03-22T15:49:43.897Z"
   },
   {
    "duration": 8,
    "start_time": "2022-03-22T16:00:57.219Z"
   },
   {
    "duration": 5,
    "start_time": "2022-03-22T16:01:12.146Z"
   },
   {
    "duration": 162,
    "start_time": "2022-03-22T16:04:40.934Z"
   },
   {
    "duration": 178,
    "start_time": "2022-03-22T16:05:56.401Z"
   },
   {
    "duration": 1323,
    "start_time": "2022-03-26T09:32:26.391Z"
   },
   {
    "duration": 184,
    "start_time": "2022-03-26T09:32:27.716Z"
   },
   {
    "duration": 21,
    "start_time": "2022-03-26T09:32:27.901Z"
   },
   {
    "duration": 15,
    "start_time": "2022-03-26T09:32:27.924Z"
   },
   {
    "duration": 148,
    "start_time": "2022-03-26T09:32:27.941Z"
   },
   {
    "duration": 20,
    "start_time": "2022-03-26T09:32:28.090Z"
   },
   {
    "duration": 7,
    "start_time": "2022-03-26T09:32:28.111Z"
   },
   {
    "duration": 107,
    "start_time": "2022-03-26T09:32:28.120Z"
   },
   {
    "duration": 15,
    "start_time": "2022-03-26T09:32:28.229Z"
   },
   {
    "duration": 15,
    "start_time": "2022-03-26T09:32:28.248Z"
   },
   {
    "duration": 25,
    "start_time": "2022-03-26T09:32:28.265Z"
   },
   {
    "duration": 23,
    "start_time": "2022-03-26T09:32:28.292Z"
   },
   {
    "duration": 54,
    "start_time": "2022-03-26T09:32:28.317Z"
   },
   {
    "duration": 9,
    "start_time": "2022-03-26T09:32:28.373Z"
   },
   {
    "duration": 24,
    "start_time": "2022-03-26T09:32:28.384Z"
   },
   {
    "duration": 28,
    "start_time": "2022-03-26T09:32:28.410Z"
   },
   {
    "duration": 35,
    "start_time": "2022-03-26T09:32:28.439Z"
   },
   {
    "duration": 21,
    "start_time": "2022-03-26T09:32:28.475Z"
   },
   {
    "duration": 29,
    "start_time": "2022-03-26T09:32:28.498Z"
   },
   {
    "duration": 7,
    "start_time": "2022-03-26T09:32:28.529Z"
   },
   {
    "duration": 77,
    "start_time": "2022-03-26T09:32:28.537Z"
   },
   {
    "duration": 3,
    "start_time": "2022-03-26T09:32:28.616Z"
   },
   {
    "duration": 55,
    "start_time": "2022-03-26T09:32:28.621Z"
   },
   {
    "duration": 23,
    "start_time": "2022-03-26T09:32:28.677Z"
   },
   {
    "duration": 37,
    "start_time": "2022-03-26T09:32:28.701Z"
   },
   {
    "duration": 6,
    "start_time": "2022-03-26T09:32:28.739Z"
   },
   {
    "duration": 34,
    "start_time": "2022-03-26T09:32:28.746Z"
   },
   {
    "duration": 31,
    "start_time": "2022-03-26T09:32:28.783Z"
   },
   {
    "duration": 17,
    "start_time": "2022-03-26T09:32:28.816Z"
   },
   {
    "duration": 27,
    "start_time": "2022-03-26T09:32:28.835Z"
   },
   {
    "duration": 29,
    "start_time": "2022-03-26T09:32:28.863Z"
   },
   {
    "duration": 13,
    "start_time": "2022-03-26T09:32:28.893Z"
   },
   {
    "duration": 8129,
    "start_time": "2022-03-26T09:32:28.907Z"
   },
   {
    "duration": 11,
    "start_time": "2022-03-26T09:32:37.038Z"
   },
   {
    "duration": 31,
    "start_time": "2022-03-26T09:32:37.050Z"
   },
   {
    "duration": 805,
    "start_time": "2022-03-26T09:32:37.101Z"
   },
   {
    "duration": 368,
    "start_time": "2022-03-26T09:32:37.908Z"
   },
   {
    "duration": 420,
    "start_time": "2022-03-26T09:32:38.278Z"
   },
   {
    "duration": 327,
    "start_time": "2022-03-26T09:32:38.700Z"
   },
   {
    "duration": 10,
    "start_time": "2022-03-26T09:32:39.029Z"
   },
   {
    "duration": 20,
    "start_time": "2022-03-26T09:32:39.040Z"
   },
   {
    "duration": 19,
    "start_time": "2022-03-26T09:32:39.061Z"
   },
   {
    "duration": 20,
    "start_time": "2022-03-26T09:32:39.082Z"
   },
   {
    "duration": 23,
    "start_time": "2022-03-26T09:32:39.104Z"
   },
   {
    "duration": 17,
    "start_time": "2022-03-26T09:32:39.129Z"
   }
  ],
  "kernelspec": {
   "display_name": "Python 3 (ipykernel)",
   "language": "python",
   "name": "python3"
  },
  "language_info": {
   "codemirror_mode": {
    "name": "ipython",
    "version": 3
   },
   "file_extension": ".py",
   "mimetype": "text/x-python",
   "name": "python",
   "nbconvert_exporter": "python",
   "pygments_lexer": "ipython3",
   "version": "3.9.12"
  },
  "toc": {
   "base_numbering": 1,
   "nav_menu": {},
   "number_sections": true,
   "sideBar": true,
   "skip_h1_title": true,
   "title_cell": "Table of Contents",
   "title_sidebar": "Contents",
   "toc_cell": false,
   "toc_position": {},
   "toc_section_display": true,
   "toc_window_display": false
  }
 },
 "nbformat": 4,
 "nbformat_minor": 5
}
